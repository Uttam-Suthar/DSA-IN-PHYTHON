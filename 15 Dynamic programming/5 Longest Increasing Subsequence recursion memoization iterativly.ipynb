{
 "cells": [
  {
   "cell_type": "code",
   "execution_count": 4,
   "id": "39e33b20",
   "metadata": {},
   "outputs": [
    {
     "name": "stdout",
     "output_type": "stream",
     "text": [
      "7\n",
      "6 3 1 2 7 0 9\n",
      "4\n"
     ]
    }
   ],
   "source": [
    "# Recursive:\n",
    "def lis(li, i, n):\n",
    "    if i == n:\n",
    "        return 0, 0\n",
    "    \n",
    "    including_max = 1\n",
    "    for j in range(i+1, n):\n",
    "        if li[j] >= li[i]:\n",
    "            further_including_max = lis(li, j, n)[0]\n",
    "            including_max = max(including_max, 1 + further_including_max)    \n",
    "    excluding_max = lis(li, i+1, n)[1]\n",
    "    overallMax = max(including_max, excluding_max)\n",
    "    \n",
    "    return including_max, overallMax\n",
    "    \n",
    "n = int(input())\n",
    "li = [int(ele) for ele in input().split()]\n",
    "ans = lis(li, 0, n)[1]\n",
    "print(ans)"
   ]
  },
  {
   "cell_type": "markdown",
   "id": "3cef5685",
   "metadata": {},
   "source": [
    "# memoization "
   ]
  },
  {
   "cell_type": "code",
   "execution_count": 5,
   "id": "07ed7c25",
   "metadata": {},
   "outputs": [
    {
     "name": "stdout",
     "output_type": "stream",
     "text": [
      "7\n",
      "6 3 1 2 7 0 9\n",
      "4\n"
     ]
    }
   ],
   "source": [
    "# [6,3,1,2,0,7,9]\n",
    "# 7 will store lisincluding7 and overallMax\n",
    "# dp is storing including ith element lis and overall max lis starting from ith element\n",
    "\n",
    "def lis(arr, i, n, dp):\n",
    "    if i == n:\n",
    "        return 0, 0\n",
    "    including_max = 1\n",
    "    for j in range(i+1, n):\n",
    "        if arr[j] > arr[i]:\n",
    "            if dp[j] == -1:\n",
    "                ans = lis(arr,j,n,dp)\n",
    "                dp[j] = ans\n",
    "                further_including_max = ans[0]\n",
    "            else:\n",
    "                further_including_max = dp[j][0]\n",
    "            including_max = max(including_max, 1+further_including_max)\n",
    "            \n",
    "    if dp[i+1] == -1:\n",
    "        ans = lis(arr, i+1, n, dp)\n",
    "        dp[i+1] = ans\n",
    "        excluding_max = ans[1]\n",
    "    else:\n",
    "        excluding_max = dp[i+1][1]\n",
    "        \n",
    "    overallMax = max(including_max, excluding_max)\n",
    "    return including_max, overallMax\n",
    "\n",
    "n = int(input())\n",
    "arr = list(int(x) for x in input().split())\n",
    "dp = [-1 for i in range(n+1)]\n",
    "print(lis(arr, 0, n, dp)[1])"
   ]
  },
  {
   "cell_type": "markdown",
   "id": "a0b74f04",
   "metadata": {},
   "source": [
    "# Iterative:"
   ]
  },
  {
   "cell_type": "code",
   "execution_count": 6,
   "id": "d3b9053e",
   "metadata": {},
   "outputs": [
    {
     "name": "stdout",
     "output_type": "stream",
     "text": [
      "7\n",
      "6 3 1 2 7 0 9\n",
      "4\n"
     ]
    }
   ],
   "source": [
    "\n",
    "# Time Complexity = O(N^2) Space compleity = O(N)\n",
    "\n",
    "def lisI(li, n):\n",
    "    dp = [[0 for j in range(2)] for i in range(n+1)]\n",
    "    \n",
    "    for i in range(n-1,-1,-1):\n",
    "        including_max = 1\n",
    "        for j in range(i+1, n):\n",
    "            if arr[j] > arr[i]:\n",
    "                including_max = max(including_max, 1+dp[j][0])\n",
    "        dp[i][0] = including_max\n",
    "        excluding_max = dp[i+1][1]\n",
    "        overallMax = max(including_max, excluding_max)\n",
    "        dp[i][1] = overallMax\n",
    "        \n",
    "    return dp[0][1]\n",
    "\n",
    "n = int(input())\n",
    "arr = list(int(ele) for ele in input().split())\n",
    "\n",
    "print(lisI(arr, n))                \n",
    "    "
   ]
  },
  {
   "cell_type": "code",
   "execution_count": 10,
   "id": "1995862a",
   "metadata": {},
   "outputs": [
    {
     "name": "stdout",
     "output_type": "stream",
     "text": [
      "7\n",
      "6 3 1 2 7 0 9\n",
      "4\n"
     ]
    }
   ],
   "source": [
    "def lis(arr): \n",
    "#     n=len(arr)\n",
    "    storage = [None for i in range(n)]\n",
    "    storage[0] = 1\n",
    "\n",
    "    ans = 1\n",
    "\n",
    "    for i in range(1 , n):\n",
    "        max = 1\n",
    "        for j in range(i - 1 , -1 , -1):\n",
    "            if (arr[j] < arr[i]):\n",
    "                op = storage[j] + 1\n",
    "\n",
    "                if (op > max):\n",
    "                    max = op          \n",
    "        \n",
    "\n",
    "        storage[i] = max\n",
    "\n",
    "        if (max > ans):\n",
    "            ans = max\n",
    "    \n",
    "    return ans\n",
    "\n",
    "\n",
    "n = int(input())\n",
    "arr = list(int(ele) for ele in input().split())\n",
    "\n",
    "print(lis(arr))    "
   ]
  }
 ],
 "metadata": {
  "kernelspec": {
   "display_name": "Python 3 (ipykernel)",
   "language": "python",
   "name": "python3"
  },
  "language_info": {
   "codemirror_mode": {
    "name": "ipython",
    "version": 3
   },
   "file_extension": ".py",
   "mimetype": "text/x-python",
   "name": "python",
   "nbconvert_exporter": "python",
   "pygments_lexer": "ipython3",
   "version": "3.10.9"
  }
 },
 "nbformat": 4,
 "nbformat_minor": 5
}
