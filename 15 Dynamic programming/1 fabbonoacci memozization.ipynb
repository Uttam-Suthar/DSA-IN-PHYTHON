{
 "cells": [
  {
   "cell_type": "code",
   "execution_count": 2,
   "id": "9cc731a4",
   "metadata": {},
   "outputs": [
    {
     "name": "stdout",
     "output_type": "stream",
     "text": [
      "7\n",
      "13\n"
     ]
    }
   ],
   "source": [
    "# 1 optimamum substructure\n",
    "def fibb(n):\n",
    "    if n==0 or n==1:\n",
    "        return n\n",
    "    ans1=fibb(n-1)\n",
    "    ans2=fibb(n-2)\n",
    "    \n",
    "    output = ans1+ans2\n",
    "    return output\n",
    "\n",
    "n=int(input())\n",
    "ans=fibb(n)\n",
    "print(ans)"
   ]
  },
  {
   "cell_type": "code",
   "execution_count": 1,
   "id": "608d4bf1",
   "metadata": {},
   "outputs": [
    {
     "name": "stdout",
     "output_type": "stream",
     "text": [
      "5\n",
      "5\n"
     ]
    }
   ],
   "source": [
    "# 2 overlapping subproblem\n",
    "def fibb(n,dp):\n",
    "    if n==0 or n==1:\n",
    "        return n\n",
    "    if dp[n-1]==-1:\n",
    "        ans1=fibb(n-1,dp)\n",
    "        dp[n-1]=ans1\n",
    "    else:\n",
    "        ans1=dp[n-1]\n",
    "    if dp[n-2]==-1:\n",
    "        ans2=fibb(n-2,dp)\n",
    "        dp[n-2]=ans2\n",
    "    else:\n",
    "        ans2=dp[n-2]    \n",
    "        \n",
    "    \n",
    "    output = ans1+ans2\n",
    "    return output\n",
    "\n",
    "n=int(input())\n",
    "dp=[-1 for i in range(n+1)]\n",
    "ans=fibb(n,dp)\n",
    "print(ans)"
   ]
  }
 ],
 "metadata": {
  "kernelspec": {
   "display_name": "Python 3 (ipykernel)",
   "language": "python",
   "name": "python3"
  },
  "language_info": {
   "codemirror_mode": {
    "name": "ipython",
    "version": 3
   },
   "file_extension": ".py",
   "mimetype": "text/x-python",
   "name": "python",
   "nbconvert_exporter": "python",
   "pygments_lexer": "ipython3",
   "version": "3.10.9"
  }
 },
 "nbformat": 4,
 "nbformat_minor": 5
}
