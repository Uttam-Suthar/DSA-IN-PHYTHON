{
 "cells": [
  {
   "cell_type": "code",
   "execution_count": 70,
   "id": "0dfb1dcf",
   "metadata": {},
   "outputs": [
    {
     "name": "stdout",
     "output_type": "stream",
     "text": [
      "6\n",
      "2\n"
     ]
    }
   ],
   "source": [
    "# by recursion\n",
    "import sys\n",
    "def minstep0To1(n):\n",
    "    if n==1:\n",
    "        return 0\n",
    "    ans1= sys.maxsize\n",
    "    if n%3==0:\n",
    "        ans1=minstep0To1(n//3)\n",
    "    ans2= sys.maxsize\n",
    "    if n%2==0:\n",
    "        ans2=minstep0To1(n//2)\n",
    "        \n",
    "    ans3= sys.maxsize\n",
    "    ans3=minstep0To1(n-1)\n",
    "    \n",
    "    ans = 1+ min(ans1,ans2,ans3)\n",
    "    return ans\n",
    "\n",
    "n= int(input())\n",
    "\n",
    "ans=minstep0To1(n)\n",
    "print(ans)\n",
    "    "
   ]
  },
  {
   "cell_type": "code",
   "execution_count": 13,
   "id": "6373cf9e",
   "metadata": {},
   "outputs": [
    {
     "name": "stdout",
     "output_type": "stream",
     "text": [
      "36\n",
      "4\n"
     ]
    }
   ],
   "source": [
    "# memosization\n",
    "\n",
    "def minstep0To1(n,dp):\n",
    "    if n==1:\n",
    "        return 0\n",
    "    ans1= sys.maxsize\n",
    "    if n%3==0:\n",
    "        if dp[n//3]==-1:\n",
    "            ans1=minstep0To1(n//3,dp)\n",
    "            dp[n//3]=ans1\n",
    "        else:\n",
    "            ans1=dp[n//3]\n",
    "    ans2= sys.maxsize\n",
    "    if n%2==0:\n",
    "        if dp[n//2]==-1:\n",
    "            ans2=minstep0To1(n//2,dp)\n",
    "            dp[n//2]=ans2\n",
    "        else:\n",
    "            ans2=dp[n//2]\n",
    "    \n",
    "    ans3= sys.maxsize\n",
    "    if dp[n-1]==-1:\n",
    "        ans3=minstep0To1(n-1,dp)\n",
    "        dp[n-1]=ans3\n",
    "    else:\n",
    "        ans3=dp[n-1]\n",
    "    \n",
    "    ans = 1+ min(ans1,ans2,ans3)\n",
    "    return ans\n",
    "\n",
    "n= int(input())\n",
    "dp = [-1 for i in range(n+1)]\n",
    "ans=minstep0To1(n,dp)\n",
    "print(ans)"
   ]
  },
  {
   "cell_type": "code",
   "execution_count": 65,
   "id": "d4772898",
   "metadata": {},
   "outputs": [
    {
     "name": "stdout",
     "output_type": "stream",
     "text": [
      "10\n",
      "2\n"
     ]
    }
   ],
   "source": [
    "def minstep0To1I(n):\n",
    "    dp=[0 for i in range(n+1)]\n",
    "    dp[0]=0\n",
    "    dp[1]=1\n",
    "    i=2\n",
    "    while i<=n:\n",
    "        dp[i]=dp[i-1]+ 1\n",
    "        if i%2==0:\n",
    "            x=i//2\n",
    "            dp[i]=min(dp[i],dp[x//2]+ 1)\n",
    "        if i%3==0:\n",
    "            y=i//2\n",
    "            dp[i]=min(dp[i],dp[y//3]+ 1)\n",
    "        i +=1\n",
    "    return dp[n]\n",
    "\n",
    "n=int(input())\n",
    "ans1=minstep0To1I(n)\n",
    "\n",
    "print(ans1)"
   ]
  },
  {
   "cell_type": "code",
   "execution_count": 71,
   "id": "a7d416bd",
   "metadata": {},
   "outputs": [
    {
     "name": "stdout",
     "output_type": "stream",
     "text": [
      "36\n",
      "4\n"
     ]
    }
   ],
   "source": [
    "# iterative\n",
    "import sys\n",
    "\n",
    "def minSteps(n):\n",
    "    dp = [-1 for i in range(n+1)]\n",
    "    dp[1] = 0\n",
    "    dp[0] = 0\n",
    "    for i in range(2, n+1):\n",
    "        \n",
    "        if dp[i] == -1:\n",
    "            ans1 = dp[i-1]\n",
    "        \n",
    "        if i%2 == 0:\n",
    "            x = i//2\n",
    "            if dp[i//2] == -1:\n",
    "                ans2 = 1 + dp[x//2]\n",
    "            else:\n",
    "                ans2 = dp[i//2]\n",
    "        else:\n",
    "            ans2 = sys.maxsize\n",
    "            \n",
    "        if i%3 == 0:\n",
    "            y = i//3\n",
    "            if dp[i//3] == -1:\n",
    "                ans2 = 1 + dp[y//3]\n",
    "            else:\n",
    "                ans2 = dp[i//3]      \n",
    "        else:\n",
    "            ans3 = sys.maxsize\n",
    "            \n",
    "        ans = 1+min(ans1,ans2,ans3)\n",
    "        dp[i] = ans\n",
    "    return dp[n]\n",
    "\n",
    "n = int(input())        \n",
    "print(minSteps(n))"
   ]
  },
  {
   "cell_type": "code",
   "execution_count": null,
   "id": "0e0d27ad",
   "metadata": {},
   "outputs": [],
   "source": []
  },
  {
   "cell_type": "code",
   "execution_count": 68,
   "id": "a5498353",
   "metadata": {},
   "outputs": [
    {
     "name": "stdout",
     "output_type": "stream",
     "text": [
      "20\n",
      "4\n"
     ]
    }
   ],
   "source": [
    "from sys import stdin\n",
    "from sys import maxsize as MAX_VALUE\n",
    "\n",
    "\n",
    "\n",
    "def countMinStepsToOne(n) :\n",
    "\tif n == 1 :\n",
    "\t\treturn 0\n",
    "\n",
    "\tminSteps = [0] * (n + 1)\n",
    "\t\n",
    "\tminSteps[1] = 0\n",
    "\n",
    "\tfor currStep in range(2, (n + 1)) :\n",
    "\n",
    "\t\tsubtractOne = MAX_VALUE\n",
    "\t\tdivideByTwo = MAX_VALUE\n",
    "\t\tdivideByThree = MAX_VALUE\n",
    "\n",
    "\t\tsubtractOne = minSteps[currStep - 1]\n",
    "\n",
    "\t\tif currStep % 2 == 0 :\n",
    "\t\t\tdivideByTwo = minSteps[currStep // 2]\n",
    "\n",
    "\t\tif currStep % 3 == 0 :\n",
    "\t\t\tdivideByThree = minSteps[currStep // 3]\n",
    "\n",
    "\t\tminSteps[currStep] = 1 + min(subtractOne, divideByTwo, divideByThree)\n",
    "\n",
    "\treturn minSteps[n]\n",
    "\n",
    "\n",
    "\n",
    "#main\n",
    "n = int(input())        \n",
    "print(countMinStepsToOne(n))"
   ]
  }
 ],
 "metadata": {
  "kernelspec": {
   "display_name": "Python 3 (ipykernel)",
   "language": "python",
   "name": "python3"
  },
  "language_info": {
   "codemirror_mode": {
    "name": "ipython",
    "version": 3
   },
   "file_extension": ".py",
   "mimetype": "text/x-python",
   "name": "python",
   "nbconvert_exporter": "python",
   "pygments_lexer": "ipython3",
   "version": "3.10.9"
  }
 },
 "nbformat": 4,
 "nbformat_minor": 5
}
