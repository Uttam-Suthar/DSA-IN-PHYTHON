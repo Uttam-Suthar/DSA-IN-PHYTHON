{
 "cells": [
  {
   "cell_type": "code",
   "execution_count": 8,
   "id": "aacb6fdc",
   "metadata": {},
   "outputs": [
    {
     "data": {
      "text/plain": [
       "6.4031242374328485"
      ]
     },
     "execution_count": 8,
     "metadata": {},
     "output_type": "execute_result"
    }
   ],
   "source": [
    "import sys,math\n",
    "n=41\n",
    "math.sqrt(n)"
   ]
  },
  {
   "cell_type": "code",
   "execution_count": 25,
   "id": "d0589bb7",
   "metadata": {},
   "outputs": [
    {
     "name": "stdout",
     "output_type": "stream",
     "text": [
      "28\n",
      "4\n"
     ]
    }
   ],
   "source": [
    "# recursion\n",
    "import sys,math\n",
    "def minsquar(n):\n",
    "    if n==0:\n",
    "        return 0\n",
    "    ans= sys.maxsize\n",
    "#         ans= 10000000000000\n",
    "#     print(ans)\n",
    "    root= int(math.sqrt(n))\n",
    "    for i in range(1,root+1):\n",
    "        currans=1+minsquar(n-i**2)\n",
    "#         print(currans)\n",
    "        ans=min(ans,currans)\n",
    "#         print(ans)\n",
    "    return ans\n",
    "\n",
    "n=int(input())\n",
    "print(minsquar(n))"
   ]
  },
  {
   "cell_type": "code",
   "execution_count": 37,
   "id": "8d5f0611",
   "metadata": {},
   "outputs": [
    {
     "name": "stdout",
     "output_type": "stream",
     "text": [
      "1000\n",
      "2\n"
     ]
    }
   ],
   "source": [
    "# \n",
    "#Memoization:\n",
    "import sys,math\n",
    "def minsquar(n,dp):\n",
    "    if n==0:\n",
    "        return 0\n",
    "    ans= sys.maxsize\n",
    "#         ans= 10000000000000\n",
    "#     print(ans)\n",
    "    root= int(math.sqrt(n))\n",
    "    for i in range(1,root+1):\n",
    "        newcheckvalue= n-i**2\n",
    "        if dp[newcheckvalue]==-1:\n",
    "            currans=1+minsquar(n-i**2,dp)\n",
    "            dp[newcheckvalue]=currans\n",
    "        else:\n",
    "            currans=dp[newcheckvalue]\n",
    "        ans=min(ans,currans) \n",
    "            \n",
    "    # or\n",
    "#         if dp[newcheckvalue]==-1:\n",
    "# #             currans=1+minsquar(n-i**2,dp)\n",
    "# #             dp[newcheckvalue]=currans\n",
    "#                           # or\n",
    "#             smallans=minsquar(newcheckvalue,dp)\n",
    "#             dp[newcheckvalue]=smallans\n",
    "#             currans=1+smallans\n",
    "#         else:\n",
    "#             currans=1+dp[newcheckvalue]\n",
    "#         print(currans)\n",
    "#         ans=min(ans,currans)\n",
    "#         print(ans)\n",
    "    return ans\n",
    "\n",
    "n=int(input())\n",
    "dp=[-1 for i in range(n+1)]\n",
    "print(minsquar(n,dp))"
   ]
  },
  {
   "cell_type": "code",
   "execution_count": 38,
   "id": "6819faa0",
   "metadata": {},
   "outputs": [
    {
     "name": "stdout",
     "output_type": "stream",
     "text": [
      "1000\n",
      "2\n"
     ]
    }
   ],
   "source": [
    "# Iterative solution:\n",
    "\n",
    "import sys, math\n",
    "def minSquaresI(n):\n",
    "    dp = [-1 for x in range(n+1)]\n",
    "    dp[0] = 0\n",
    "        \n",
    "    for i in range(1,n+1):\n",
    "        ans = sys.maxsize\n",
    "        root = int(math.sqrt(i))\n",
    "        for j in range(1, root+1):\n",
    "            currAns = 1 + dp[i - (j*j)]\n",
    "             # currAns = 1 + dp[i - (j**2)]\n",
    "            ans = min(ans, currAns)            \n",
    "        dp[i] = ans\n",
    "        \n",
    "    return dp[n]\n",
    "\n",
    "n = int(input())\n",
    "print(minSquaresI(n))"
   ]
  }
 ],
 "metadata": {
  "kernelspec": {
   "display_name": "Python 3 (ipykernel)",
   "language": "python",
   "name": "python3"
  },
  "language_info": {
   "codemirror_mode": {
    "name": "ipython",
    "version": 3
   },
   "file_extension": ".py",
   "mimetype": "text/x-python",
   "name": "python",
   "nbconvert_exporter": "python",
   "pygments_lexer": "ipython3",
   "version": "3.10.9"
  }
 },
 "nbformat": 4,
 "nbformat_minor": 5
}
