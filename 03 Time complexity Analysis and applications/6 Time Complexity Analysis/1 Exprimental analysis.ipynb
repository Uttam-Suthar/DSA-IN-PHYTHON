{
 "cells": [
  {
   "cell_type": "code",
   "execution_count": 103,
   "id": "7ff0946c",
   "metadata": {},
   "outputs": [],
   "source": [
    "def merge(a1,a2,a):\n",
    "    i=0\n",
    "    j=0\n",
    "    k=0\n",
    "    while i<len(a1) and j<len(a2):\n",
    "        if a1[i]<a2[j]:\n",
    "            a[k]=a1[i]\n",
    "            k=k+1\n",
    "            i=i+1\n",
    "            \n",
    "        else:\n",
    "            a[k]=a2[j]\n",
    "            k=k+1\n",
    "            j=j+1\n",
    "            \n",
    "    while i<len(a1):\n",
    "        a[k]=a1[i]\n",
    "        k=k+1\n",
    "        i=i+1\n",
    "        \n",
    "    while  j<len(a2):\n",
    "        a[k]=a2[j]\n",
    "        k=k+1\n",
    "        j=j+1"
   ]
  },
  {
   "cell_type": "code",
   "execution_count": 104,
   "id": "21760a41",
   "metadata": {},
   "outputs": [],
   "source": [
    "def mergeSort(a):\n",
    "    # base case\n",
    "    if len(a)==0 or len(a)==1:\n",
    "        return\n",
    "    mid=len(a)//2\n",
    "    a1=a[0:mid]\n",
    "    a2=a[mid:]\n",
    "    \n",
    "    mergeSort(a1)\n",
    "    mergeSort(a2)\n",
    "    \n",
    "    merge(a1,a2,a)\n",
    "    "
   ]
  },
  {
   "cell_type": "code",
   "execution_count": 105,
   "id": "cbe64883",
   "metadata": {},
   "outputs": [],
   "source": [
    "def selectionsort(a):\n",
    "    length= len(a)\n",
    "    for i in range(length):\n",
    "        minindex=i\n",
    "        for j in range(i+1,length):\n",
    "            if a[j]<a[minindex]:\n",
    "                minindex=j\n",
    "        a[i],a[minindex]=a[minindex],a[i]   \n"
   ]
  },
  {
   "cell_type": "code",
   "execution_count": 106,
   "id": "9603c340",
   "metadata": {},
   "outputs": [],
   "source": [
    "def creat_reverse_arr(n):\n",
    "    a=[]\n",
    "    for i in range(n,0,-1):\n",
    "        a.append(i)\n",
    "    return a    \n",
    "        "
   ]
  },
  {
   "cell_type": "code",
   "execution_count": 107,
   "id": "f491ac04",
   "metadata": {},
   "outputs": [],
   "source": [
    "import time\n"
   ]
  },
  {
   "cell_type": "code",
   "execution_count": 118,
   "id": "22163e62",
   "metadata": {},
   "outputs": [],
   "source": [
    "n=10000\n"
   ]
  },
  {
   "cell_type": "code",
   "execution_count": 28,
   "id": "5303eb67",
   "metadata": {},
   "outputs": [
    {
     "name": "stdout",
     "output_type": "stream",
     "text": [
      "[10, 9, 8, 7, 6, 5, 4, 3, 2, 1]\n"
     ]
    },
    {
     "data": {
      "text/plain": [
       "[1, 2, 3, 4, 5, 6, 7, 8, 9, 10]"
      ]
     },
     "execution_count": 28,
     "metadata": {},
     "output_type": "execute_result"
    }
   ],
   "source": [
    "# a=creat_reverse_arr(n)\n",
    "# print(a)\n",
    "# mergeSort(a)\n",
    "# a"
   ]
  },
  {
   "cell_type": "code",
   "execution_count": 119,
   "id": "80e3b2c5",
   "metadata": {},
   "outputs": [
    {
     "name": "stdout",
     "output_type": "stream",
     "text": [
      "10000 0.09894251823425293\n"
     ]
    }
   ],
   "source": [
    "a=creat_reverse_arr(n)\n",
    "start=time.time()\n",
    "mergeSort(a)\n",
    "end=time.time()\n",
    "print(n ,end-start)\n"
   ]
  },
  {
   "cell_type": "code",
   "execution_count": 120,
   "id": "722f0a9b",
   "metadata": {},
   "outputs": [
    {
     "name": "stdout",
     "output_type": "stream",
     "text": [
      "10000 7.230875253677368\n"
     ]
    }
   ],
   "source": [
    "a=creat_reverse_arr(n)\n",
    "start=time.time()\n",
    "selectionsort(a)\n",
    "end=time.time()\n",
    "print(n ,end-start)\n"
   ]
  }
 ],
 "metadata": {
  "kernelspec": {
   "display_name": "Python 3 (ipykernel)",
   "language": "python",
   "name": "python3"
  },
  "language_info": {
   "codemirror_mode": {
    "name": "ipython",
    "version": 3
   },
   "file_extension": ".py",
   "mimetype": "text/x-python",
   "name": "python",
   "nbconvert_exporter": "python",
   "pygments_lexer": "ipython3",
   "version": "3.10.9"
  }
 },
 "nbformat": 4,
 "nbformat_minor": 5
}
