{
 "cells": [
  {
   "cell_type": "code",
   "execution_count": 50,
   "id": "ec6719d8",
   "metadata": {},
   "outputs": [
    {
     "name": "stdout",
     "output_type": "stream",
     "text": [
      "2 3 4 "
     ]
    }
   ],
   "source": [
    "arr1=[2, 6, 8, 5, 4, 3]\n",
    "arr2=[2, 3, 4, 7] \n",
    "# arr1=[10,10]\n",
    "# arr2=[10]\n",
    "\n",
    "arr1.sort()\n",
    "arr2.sort()\n",
    "for i in range(len(arr1)):\n",
    "    for j in range(len(arr2)):\n",
    "        if arr1[i]<arr2[j]:\n",
    "            i=i+1\n",
    "            \n",
    "        elif arr2[j]<arr1[i]:\n",
    "            j=j+1\n",
    "            \n",
    "        else:\n",
    "            arr2[j]=-100000\n",
    "            print(arr1[i],end=' ')\n",
    "            i=i+1\n",
    "            j=j+1\n",
    "            break\n",
    "          "
   ]
  },
  {
   "cell_type": "code",
   "execution_count": 52,
   "id": "26f85432",
   "metadata": {},
   "outputs": [
    {
     "name": "stdout",
     "output_type": "stream",
     "text": [
      "2 3 4 "
     ]
    }
   ],
   "source": [
    "# optimem solution \n",
    "# pointer approce\n",
    "arr1=[2, 6, 8, 5, 4, 3]\n",
    "arr2=[2, 3, 4, 7] \n",
    "arr1.sort()\n",
    "arr2.sort()\n",
    "i,j=0,0\n",
    "n=len(arr1)\n",
    "m= len(arr2)\n",
    "while i<n and j<m:\n",
    "    \n",
    "    if arr1[i]==arr2[j]:\n",
    "        print(arr1[i],end=\" \")\n",
    "        i+=1\n",
    "        j+=1\n",
    "    elif arr1[i]<arr2[j]:\n",
    "        i+=1\n",
    "    else:\n",
    "        j+=1\n"
   ]
  }
 ],
 "metadata": {
  "kernelspec": {
   "display_name": "Python 3 (ipykernel)",
   "language": "python",
   "name": "python3"
  },
  "language_info": {
   "codemirror_mode": {
    "name": "ipython",
    "version": 3
   },
   "file_extension": ".py",
   "mimetype": "text/x-python",
   "name": "python",
   "nbconvert_exporter": "python",
   "pygments_lexer": "ipython3",
   "version": "3.10.9"
  }
 },
 "nbformat": 4,
 "nbformat_minor": 5
}
