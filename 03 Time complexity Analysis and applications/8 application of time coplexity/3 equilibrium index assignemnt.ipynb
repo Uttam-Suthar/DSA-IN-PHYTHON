{
 "cells": [
  {
   "cell_type": "code",
   "execution_count": null,
   "id": "b5b141e0",
   "metadata": {},
   "outputs": [],
   "source": []
  },
  {
   "cell_type": "code",
   "execution_count": 15,
   "id": "6fbcb6a7",
   "metadata": {},
   "outputs": [
    {
     "name": "stdout",
     "output_type": "stream",
     "text": [
      "4\n"
     ]
    }
   ],
   "source": [
    "def findIndex(arr,n):\n",
    "    totalsum=0\n",
    "    i=0\n",
    "    while i<n:\n",
    "        totalsum=totalsum+arr[i]\n",
    "        i=i+1\n",
    "#     print(totalsum) \n",
    "    leftsum=0\n",
    "    index=0\n",
    "    while index<n:\n",
    "        rightsum=totalsum-leftsum-arr[index]\n",
    "        if rightsum==leftsum:\n",
    "            return index\n",
    "        leftsum=leftsum+arr[index]\n",
    "        index=index+1\n",
    "    return -1   \n",
    "arr=[1,3,4,2,2,5,4,1]\n",
    "n= len(arr)\n",
    "print(findIndex(arr,n))"
   ]
  },
  {
   "cell_type": "code",
   "execution_count": null,
   "id": "3a151355",
   "metadata": {},
   "outputs": [],
   "source": []
  },
  {
   "cell_type": "code",
   "execution_count": 14,
   "id": "558ba1fe",
   "metadata": {},
   "outputs": [
    {
     "name": "stdout",
     "output_type": "stream",
     "text": [
      "4\n"
     ]
    }
   ],
   "source": [
    "def findIndex(arr,n):\n",
    "    totalsum=0\n",
    "    i=0\n",
    "    while i<n:\n",
    "        totalsum=totalsum+arr[i]\n",
    "        i=i+1\n",
    "#     print(totalsum) \n",
    "    leftsum=0\n",
    "    index=0\n",
    "    while index<n:\n",
    "        nrightsum=totalsum-leftsum-arr[index]\n",
    "        if nrightsum==leftsum:\n",
    "            return index\n",
    "        nleftsum=leftsum+arr[index]\n",
    "        leftsum=nleftsum\n",
    "        index=index+1\n",
    "    return -1   \n",
    "arr=[1,3,4,2,2,5,4,1]\n",
    "n= len(arr)\n",
    "print(findIndex(arr,n))\n"
   ]
  }
 ],
 "metadata": {
  "kernelspec": {
   "display_name": "Python 3 (ipykernel)",
   "language": "python",
   "name": "python3"
  },
  "language_info": {
   "codemirror_mode": {
    "name": "ipython",
    "version": 3
   },
   "file_extension": ".py",
   "mimetype": "text/x-python",
   "name": "python",
   "nbconvert_exporter": "python",
   "pygments_lexer": "ipython3",
   "version": "3.10.9"
  }
 },
 "nbformat": 4,
 "nbformat_minor": 5
}
