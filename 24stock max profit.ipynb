{
 "cells": [
  {
   "cell_type": "code",
   "execution_count": 16,
   "id": "a8a7eee5",
   "metadata": {},
   "outputs": [
    {
     "name": "stdout",
     "output_type": "stream",
     "text": [
      "5\n"
     ]
    }
   ],
   "source": [
    "def maxProfit(li):\n",
    "    n=len(li)\n",
    "    buy=li[0]\n",
    "    maxprofit=0\n",
    "    \n",
    "    for i in range(1,n):\n",
    "        \n",
    "        if buy>li[i]:\n",
    "            buy=li[i]\n",
    "        elif li[i] - buy > maxprofit:\n",
    "            maxprofit = li[i] - buy\n",
    "            \n",
    "    return maxprofit\n",
    "            \n",
    "li = [7,1,5,3,6,4]\n",
    "# li = [7,6,4,3,1]\n",
    "print(maxProfit(li))\n",
    "\n"
   ]
  }
 ],
 "metadata": {
  "kernelspec": {
   "display_name": "Python 3 (ipykernel)",
   "language": "python",
   "name": "python3"
  },
  "language_info": {
   "codemirror_mode": {
    "name": "ipython",
    "version": 3
   },
   "file_extension": ".py",
   "mimetype": "text/x-python",
   "name": "python",
   "nbconvert_exporter": "python",
   "pygments_lexer": "ipython3",
   "version": "3.10.9"
  }
 },
 "nbformat": 4,
 "nbformat_minor": 5
}
