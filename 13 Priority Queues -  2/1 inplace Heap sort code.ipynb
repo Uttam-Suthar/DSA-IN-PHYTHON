{
 "cells": [
  {
   "cell_type": "code",
   "execution_count": 29,
   "id": "4eabfe7d",
   "metadata": {},
   "outputs": [
    {
     "name": "stdout",
     "output_type": "stream",
     "text": [
      "4 7 6 3 9 11 10\n",
      "11 10 9 7 6 4 3 \n",
      "3 4 6 7 9 10 11 "
     ]
    }
   ],
   "source": [
    "def down_heapify(arr,i,n):\n",
    "    parentIndex = i\n",
    "    leftChildIndex = 2*parentIndex + 1\n",
    "    rightChildIndex = 2*parentIndex + 2\n",
    "    \n",
    "    while leftChildIndex < n:\n",
    "        minIndex = parentIndex\n",
    "        if arr[minIndex] >arr[leftChildIndex]:\n",
    "            minIndex = leftChildIndex\n",
    "        if rightChildIndex < n and arr[minIndex] > arr[rightChildIndex]:\n",
    "            minIndex = rightChildIndex\n",
    "            \n",
    "        if minIndex == parentIndex:\n",
    "            return\n",
    "        arr[minIndex],arr[parentIndex] = arr[parentIndex],arr[minIndex]\n",
    "        parentIndex = minIndex\n",
    "        leftChildIndex = 2*parentIndex+1\n",
    "        rightChildIndex = 2*parentIndex+2\n",
    "        \n",
    "\n",
    "            \n",
    "def heapSort(arr):\n",
    "    # build the heap\n",
    "    n=len(arr)\n",
    "    for i in range(n//2-1,-1,-1):\n",
    "        down_heapify(arr,i,n)\n",
    "    \n",
    "    # remove n elemnt from heap and put them at correct possition\n",
    "    for i in range(n-1,0,-1):\n",
    "        arr[0],arr[i]=arr[i],arr[0]\n",
    "        down_heapify(arr,0,i)\n",
    "        \n",
    "    return \n",
    "        \n",
    "    \n",
    "        \n",
    "        \n",
    "arr = [int(ele) for ele in input().split()]\n",
    "heapSort(arr)\n",
    "for ele in arr:\n",
    "    print(ele,end=\" \")\n",
    "print()\n",
    "for ele in arr[::-1]:\n",
    "    print(ele,end=\" \")"
   ]
  }
 ],
 "metadata": {
  "kernelspec": {
   "display_name": "Python 3 (ipykernel)",
   "language": "python",
   "name": "python3"
  },
  "language_info": {
   "codemirror_mode": {
    "name": "ipython",
    "version": 3
   },
   "file_extension": ".py",
   "mimetype": "text/x-python",
   "name": "python",
   "nbconvert_exporter": "python",
   "pygments_lexer": "ipython3",
   "version": "3.10.9"
  }
 },
 "nbformat": 4,
 "nbformat_minor": 5
}
