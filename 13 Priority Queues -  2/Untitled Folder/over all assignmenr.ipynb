{
 "cells": [
  {
   "cell_type": "markdown",
   "id": "eba2ed03",
   "metadata": {},
   "source": [
    "# Check Max-Heap\n"
   ]
  },
  {
   "cell_type": "code",
   "execution_count": 2,
   "id": "98658618",
   "metadata": {},
   "outputs": [
    {
     "name": "stdout",
     "output_type": "stream",
     "text": [
      "8\n",
      "42 20 18 6 14 11 9 4\n",
      "true\n"
     ]
    }
   ],
   "source": [
    "def checkMaxHeap(lst):\n",
    "    #############################\n",
    "    # PLEASE ADD YOUR CODE HERE #\n",
    "    #############################\n",
    "    # pass\n",
    "    n=len(lst)\n",
    "    for i in range(n):\n",
    "        left=2*i+1\n",
    "        right=2*i+2\n",
    "        if left<n and lst[left]>lst[i]:\n",
    "            return False\n",
    "        if right<n and lst[right]>lst[i]:\n",
    "            return False\n",
    "        \n",
    "    return True\n",
    "\n",
    "# Main Code\n",
    "n=int(input())\n",
    "lst=list(int(i) for i in input().strip().split(' '))\n",
    "print('true') if checkMaxHeap(lst) else print('false')"
   ]
  },
  {
   "cell_type": "markdown",
   "id": "b6bfd84f",
   "metadata": {},
   "source": [
    "# Kth largest element\n"
   ]
  },
  {
   "cell_type": "code",
   "execution_count": 1,
   "id": "607a31be",
   "metadata": {},
   "outputs": [
    {
     "name": "stdout",
     "output_type": "stream",
     "text": [
      "8\n",
      "2 6 10 11 13 4 1 20\n",
      "4\n",
      "10\n"
     ]
    }
   ],
   "source": [
    "import heapq\n",
    "def kthLargest(lst, k):\n",
    "    ######################\n",
    "    #PLEASE ADD CODE HERE#\n",
    "    ######################\n",
    "    heap=lst[:k]\n",
    "    heapq.heapify(heap)\n",
    "    n=len(lst)\n",
    "    for i in range(k,n):\n",
    "        if heap[0]<lst[i]:\n",
    "            heapq.heapreplace(heap,lst[i])\n",
    "    return heap[0]\n",
    "\n",
    "#     minHeap = []\n",
    "#     heapq.heapify(minHeap) \n",
    "#     n = len(lst)\n",
    "#     for i in range(0,k):\n",
    "#         heapq.heappush(minHeap,lst[i])# Add first k elements to min heap\n",
    "#     for i in range(k,n):\n",
    "#         if lst[i]>minHeap[0]:\n",
    "#             heapq.heappop(minHeap)\n",
    "#             heapq.heappush(minHeap, lst[i])\n",
    "#     return minHeap[0]\n",
    "\n",
    "# Main\n",
    "n=int(input())\n",
    "lst=list(int(i) for i in input().strip().split(' '))\n",
    "k=int(input())\n",
    "ans=kthLargest(lst, k)\n",
    "print(ans)"
   ]
  },
  {
   "cell_type": "code",
   "execution_count": null,
   "id": "77c81b9e",
   "metadata": {},
   "outputs": [],
   "source": []
  },
  {
   "cell_type": "markdown",
   "id": "789dfdb4",
   "metadata": {},
   "source": [
    "# Buy the ticket"
   ]
  },
  {
   "cell_type": "code",
   "execution_count": 6,
   "id": "d2e482f5",
   "metadata": {},
   "outputs": [
    {
     "name": "stdout",
     "output_type": "stream",
     "text": [
      "5\n",
      "3\n",
      "4\n"
     ]
    }
   ],
   "source": [
    "from sys import stdin\n",
    "import sys\n",
    "import heapq as heap\n",
    "\n",
    "class LinkedListNode :\n",
    "    def __init__(self, data) :\n",
    "        self.data = data\n",
    "        self.next = None\n",
    "        \n",
    "class Queue :\n",
    "    def __init__(self) :\n",
    "        self.head = None \n",
    "        self.tail = None\n",
    "        self.size = 0\n",
    "        \n",
    "    def enqueue(self, data) :\n",
    "        newNode = LinkedListNode(data)\n",
    "        if self.head is None :\n",
    "            self.head = self.tail = newNode\n",
    "        else :\n",
    "            self.tail.next = newNode\n",
    "            self.tail = newNode\n",
    "        self.size += 1\n",
    "        return\n",
    "        \n",
    "    def dequeue(self) :\n",
    "        if self.head is None :\n",
    "            return None\n",
    "        data = self.head.data\n",
    "        self.head = self.head.next\n",
    "        self.size -= 1\n",
    "        return data\n",
    "    \n",
    "    def getSize(self) :\n",
    "        return self.size\n",
    "    \n",
    "    def isEmpty(self) :\n",
    "        if self.head is None :\n",
    "            return True\n",
    "        return False\n",
    "    \n",
    "    def peek(self) :\n",
    "        if self.head is None :\n",
    "            return None\n",
    "        return self.head.data\n",
    "    \n",
    "def buyTicket(arr, n, k) : \n",
    "    ######################\n",
    "    #PLEASE ADD CODE HERE#\n",
    "    ######################\n",
    "    q = Queue()\n",
    "    #Max priority queue\n",
    "    maxHeap = []\n",
    "    heap.heapify(maxHeap)\n",
    "    for element in arr :\n",
    "        q.enqueue(element)\n",
    "        heap.heappush(maxHeap,-1*element)# Add first k elements to max heap by negating elements\n",
    "    count = 0\n",
    "    while len(maxHeap) != 0 :\n",
    "        if q.peek() == -1*maxHeap[0] :\n",
    "            if k == 0 :\n",
    "                return count + 1\n",
    "            else :\n",
    "                count += 1\n",
    "                q.dequeue()\n",
    "                heap.heappop(maxHeap)\n",
    "                k -= 1\n",
    "        else :\n",
    "            q.enqueue(q.peek())\n",
    "            q.dequeue()\n",
    "            if k == 0 :\n",
    "                k = q.getSize() - 1\n",
    "            else :\n",
    "                k -= 1\n",
    "    return count\n",
    "\n",
    "# #taking input using fast I/O\n",
    "# def takeInput() :\n",
    "#     n = int(stdin.readline().strip())\n",
    "#     if n == 0 :\n",
    "#         return n, list(), int(stdin.readline().strip())\n",
    "#     arr = list(map(int, stdin.readline().strip().split(\" \")))\n",
    "#     k = int(stdin.readline().strip())\n",
    "#     return n, arr, k\n",
    "\n",
    "# #main\n",
    "# sys.setrecursionlimit(10**6)\n",
    "# n, arr, k = takeInput()\n",
    "n=int(input())\n",
    "n=5\n",
    "k=3\n",
    "arr=[2, 3, 2, 2, 4]\n",
    "\n",
    "# n=3\n",
    "# arr=[3 9 4]   \n",
    "# K=2   # o/p is time take for grap tokan  2\n",
    "\n",
    "# n=3\n",
    "# arr=[3 9 4]   \n",
    "# K=2   # o/p is time take for grap tokan  2\n",
    "\n",
    "# n=5\n",
    "# arr=[2 2 2 2 4]\n",
    "# k=3  # output  is 5\n",
    "\n",
    "# n=5\n",
    "# arr=[2 3 2 2 4]\n",
    "# k=3   # op is 4\n",
    "k=int(input())\n",
    "print(buyTicket(arr, n, k))"
   ]
  },
  {
   "cell_type": "code",
   "execution_count": null,
   "id": "f14f902d",
   "metadata": {},
   "outputs": [],
   "source": []
  },
  {
   "cell_type": "code",
   "execution_count": null,
   "id": "7f80bde8",
   "metadata": {},
   "outputs": [],
   "source": []
  }
 ],
 "metadata": {
  "kernelspec": {
   "display_name": "Python 3 (ipykernel)",
   "language": "python",
   "name": "python3"
  },
  "language_info": {
   "codemirror_mode": {
    "name": "ipython",
    "version": 3
   },
   "file_extension": ".py",
   "mimetype": "text/x-python",
   "name": "python",
   "nbconvert_exporter": "python",
   "pygments_lexer": "ipython3",
   "version": "3.10.9"
  }
 },
 "nbformat": 4,
 "nbformat_minor": 5
}
