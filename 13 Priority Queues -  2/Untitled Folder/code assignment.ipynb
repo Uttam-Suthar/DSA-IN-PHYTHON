{
 "cells": [
  {
   "cell_type": "markdown",
   "id": "a31cc2da",
   "metadata": {},
   "source": [
    "# Inplace Heap Sort\n"
   ]
  },
  {
   "cell_type": "code",
   "execution_count": 1,
   "id": "92318686",
   "metadata": {},
   "outputs": [
    {
     "name": "stdout",
     "output_type": "stream",
     "text": [
      "6\n",
      "2 6 8 5 4 3\n",
      "8 6 5 4 3 2 "
     ]
    }
   ],
   "source": [
    "def down_heapify(arr,i,n):\n",
    "    \n",
    "    parentIndex = i\n",
    "    leftChildIndex = 2*parentIndex + 1\n",
    "    rightChildIndex = 2*parentIndex + 2\n",
    "    \n",
    "    while leftChildIndex < n:\n",
    "        minIndex = parentIndex\n",
    "        if arr[minIndex] < arr[leftChildIndex]:\n",
    "            minIndex = leftChildIndex\n",
    "        if rightChildIndex < n and arr[minIndex] < arr[rightChildIndex]:\n",
    "            minIndex = rightChildIndex\n",
    "            \n",
    "        if minIndex == parentIndex:\n",
    "            return\n",
    "        arr[minIndex],arr[parentIndex] = arr[parentIndex],arr[minIndex]\n",
    "        parentIndex = minIndex\n",
    "        leftChildIndex = 2*parentIndex+1\n",
    "        rightChildIndex = 2*parentIndex+2\n",
    "        \n",
    "        \n",
    "def heapSort(arr):\n",
    "    n = len(arr)\n",
    "    for i in range(n//2-1,-1,-1):\n",
    "        down_heapify(arr,i,n)\n",
    "    \n",
    "    for i in range(n-1,0,-1):\n",
    "        arr[i],arr[0] = arr[0],arr[i]\n",
    "        down_heapify(arr,0,i)\n",
    "        \n",
    "    return\n",
    "\n",
    "n = input()\n",
    "arr = [int(ele) for ele in input().split()]\n",
    "heapSort(arr)\n",
    "for ele in arr[::-1]:\n",
    "    print(ele,end=' ')"
   ]
  },
  {
   "cell_type": "markdown",
   "id": "69bfb926",
   "metadata": {},
   "source": [
    "# K Smallest Elements\n"
   ]
  },
  {
   "cell_type": "code",
   "execution_count": 2,
   "id": "4a93f799",
   "metadata": {},
   "outputs": [
    {
     "name": "stdout",
     "output_type": "stream",
     "text": [
      "5 2 "
     ]
    }
   ],
   "source": [
    "import heapq\n",
    "def kSmallest(arr,k):\n",
    "    heap=arr[:k]\n",
    "    heapq._heapify_max(heap)\n",
    "    n=len(arr)\n",
    "    for i in range(k,n):\n",
    "        if heap[0]>arr[i]:\n",
    "            heapq._heapreplace_max(heap,arr[i])\n",
    "    return heap\n",
    "\n",
    "\n",
    "    # maxHeap = []\n",
    "    # heapq.heapify(maxHeap) \n",
    "    # n = len(lst)\n",
    "    # for i in range(0,k):\n",
    "    #     heapq.heappush(maxHeap,-1*lst[i])# Add first k elements to max heap by negating elements\n",
    "    # for i in range(k,n):\n",
    "    #     if -1*lst[i]>maxHeap[0]:\n",
    "    #         heapq.heappop(maxHeap)\n",
    "    #         heapq.heappush(maxHeap, -1*lst[i])\n",
    "    # multiplied_list = [element * -1 for element in maxHeap]\n",
    "    # return multiplied_list\n",
    "\n",
    "\n",
    "arr=[10,6,7,2,3,8,9,11,1]\n",
    "arr=[5, 2, 8, 9]\n",
    "\n",
    "element=kSmallest(arr,2)\n",
    "for ele in element:\n",
    "    print(ele,end=\" \")"
   ]
  },
  {
   "cell_type": "markdown",
   "id": "e658e492",
   "metadata": {},
   "source": [
    "# K Largest Elements"
   ]
  },
  {
   "cell_type": "code",
   "execution_count": 17,
   "id": "9dfe24c0",
   "metadata": {},
   "outputs": [
    {
     "name": "stdout",
     "output_type": "stream",
     "text": [
      "12 16 20 25 "
     ]
    }
   ],
   "source": [
    "import heapq\n",
    "def kLargest(lst, k):\n",
    "    #############################\n",
    "    # PLEASE ADD YOUR CODE HERE #\n",
    "    #############################\n",
    "    # pass\n",
    "    heap=lst[:k]\n",
    "    heapq.heapify(heap)\n",
    "    n=len(lst)\n",
    "    for i in range(k,n):\n",
    "        if heap[0]<lst[i]:\n",
    "            heapq.heapreplace(heap,lst[i])\n",
    "    return heap\n",
    "\n",
    "# def peekValue(heap) :\n",
    "#     peekValue = heapq.heappop(heap)\n",
    "#     heapq.heappush(heap, peekValue)\n",
    "    \n",
    "#     return peekValue\n",
    "\n",
    "# def isEmpty(heap) :\n",
    "#     if len(heap) != 0 :\n",
    "#         return False\n",
    "    \n",
    "#     return True\n",
    "\n",
    "# def kLargest(li, k) :\n",
    "#     heap = []\n",
    "#     for i in range(k) :\n",
    "#         heapq.heappush(heap, li[i])\n",
    "    \n",
    "    \n",
    "#     for i in range(k, len(li)) :\n",
    "#         if li[i] > peekValue(heap) :\n",
    "#             heapq.heappop(heap)\n",
    "#             heapq.heappush(heap, li[i])\n",
    "            \n",
    "#     ans = []\n",
    "    \n",
    "#     while not isEmpty(heap) :\n",
    "#         ans.append(heapq.heappop(heap))\n",
    "        \n",
    "#     return ans\n",
    "\n",
    "# arr=[10,6,7,2,3,8,9,11,1]\n",
    "arr=[2, 12, 9, 16, 10, 5, 3, 20, 25, 11, 1, 8, 6 ]\n",
    "\n",
    "element=kLargest(arr,4)\n",
    "for ele in element:\n",
    "    print(ele,end=\" \")"
   ]
  },
  {
   "cell_type": "code",
   "execution_count": null,
   "id": "aafdd688",
   "metadata": {},
   "outputs": [],
   "source": []
  }
 ],
 "metadata": {
  "kernelspec": {
   "display_name": "Python 3 (ipykernel)",
   "language": "python",
   "name": "python3"
  },
  "language_info": {
   "codemirror_mode": {
    "name": "ipython",
    "version": 3
   },
   "file_extension": ".py",
   "mimetype": "text/x-python",
   "name": "python",
   "nbconvert_exporter": "python",
   "pygments_lexer": "ipython3",
   "version": "3.10.9"
  }
 },
 "nbformat": 4,
 "nbformat_minor": 5
}
