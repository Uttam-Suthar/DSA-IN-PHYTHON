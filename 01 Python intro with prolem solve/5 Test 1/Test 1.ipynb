{
 "cells": [
  {
   "cell_type": "code",
   "execution_count": 4,
   "id": "de0b3c29",
   "metadata": {},
   "outputs": [
    {
     "name": "stdout",
     "output_type": "stream",
     "text": [
      "5\n",
      "5432*\n",
      "543*1\n",
      "54*21\n",
      "5*321\n",
      "*4321\n"
     ]
    }
   ],
   "source": [
    "n= int(input()) \n",
    "i=1  \n",
    "while(i<=n):\n",
    "    j=n \n",
    "    while (j>=1):\n",
    "        if j!=i:  \n",
    "            print(j, end='')  \n",
    "        else:  \n",
    "            print('*', end='')  \n",
    "        j=j-1  \n",
    "    print(\"\")  \n",
    "    i=i+1"
   ]
  },
  {
   "cell_type": "code",
   "execution_count": 2,
   "id": "7a9650af",
   "metadata": {},
   "outputs": [
    {
     "name": "stdout",
     "output_type": "stream",
     "text": [
      "5\n",
      "*0000*0000*\n",
      "0*000*000*0\n",
      "00*00*00*00\n",
      "000*0*0*000\n",
      "0000***0000\n"
     ]
    }
   ],
   "source": [
    "n= int(input())\n",
    "i=1\n",
    "while i<=n:\n",
    "    j=1\n",
    "    while j<=n:\n",
    "        if i==j:\n",
    "            print(\"*\",end=\"\")\n",
    "        else:\n",
    "            print(\"0\",end=\"\")\n",
    "        j=j+1\n",
    "    print(\"*\",end=\"\")\n",
    "    j=j-1\n",
    "    while j>=1:\n",
    "        if i==j:\n",
    "            print(\"*\",end=\"\")\n",
    "        else:\n",
    "            print(\"0\",end=\"\")\n",
    "        j=j-1\n",
    "    print()\n",
    "    i=i+1"
   ]
  },
  {
   "cell_type": "code",
   "execution_count": 1,
   "id": "abcea3a4",
   "metadata": {},
   "outputs": [
    {
     "name": "stdout",
     "output_type": "stream",
     "text": [
      "371\n",
      "true\n"
     ]
    }
   ],
   "source": [
    "def checkArmstron(num):\n",
    "    times=0\n",
    "    temp=num\n",
    "    while temp>0:\n",
    "        times=times+1\n",
    "        temp= temp//10\n",
    "    temp=num\n",
    "    sum=0\n",
    "    for num in range(1,temp+1):\n",
    "        reminder=temp%10\n",
    "        sum=sum+(reminder**times)\n",
    "        temp= temp//10\n",
    "\n",
    "    if num==sum:\n",
    "        return True\n",
    "    else:\n",
    "        return False\n",
    "\n",
    "\n",
    "num = int(input())\n",
    "\n",
    "if checkArmstron(num):\n",
    "    print(\"true\")\n",
    "else:\n",
    "    print(\"false\")    \n",
    "    "
   ]
  }
 ],
 "metadata": {
  "kernelspec": {
   "display_name": "Python 3 (ipykernel)",
   "language": "python",
   "name": "python3"
  },
  "language_info": {
   "codemirror_mode": {
    "name": "ipython",
    "version": 3
   },
   "file_extension": ".py",
   "mimetype": "text/x-python",
   "name": "python",
   "nbconvert_exporter": "python",
   "pygments_lexer": "ipython3",
   "version": "3.10.9"
  }
 },
 "nbformat": 4,
 "nbformat_minor": 5
}
