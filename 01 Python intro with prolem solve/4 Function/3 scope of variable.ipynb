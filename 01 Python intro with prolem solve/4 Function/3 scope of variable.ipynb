{
 "cells": [
  {
   "cell_type": "code",
   "execution_count": 3,
   "id": "a523bf10",
   "metadata": {},
   "outputs": [
    {
     "name": "stdout",
     "output_type": "stream",
     "text": [
      "10\n"
     ]
    },
    {
     "ename": "NameError",
     "evalue": "name 'b1' is not defined",
     "output_type": "error",
     "traceback": [
      "\u001b[1;31m---------------------------------------------------------------------------\u001b[0m",
      "\u001b[1;31mNameError\u001b[0m                                 Traceback (most recent call last)",
      "Cell \u001b[1;32mIn[3], line 7\u001b[0m\n\u001b[0;32m      5\u001b[0m \u001b[38;5;28mprint\u001b[39m(a1)\n\u001b[0;32m      6\u001b[0m f1()\n\u001b[1;32m----> 7\u001b[0m \u001b[38;5;28mprint\u001b[39m(\u001b[43mb1\u001b[49m)\n",
      "\u001b[1;31mNameError\u001b[0m: name 'b1' is not defined"
     ]
    }
   ],
   "source": [
    "a1=10 # globle variable\n",
    "\n",
    "def f1():\n",
    "    b1=20 # local varibla \n",
    "print(a1)\n",
    "print(b1)  # cant print a local varible outside the function print(b1)\n"
   ]
  },
  {
   "cell_type": "code",
   "execution_count": 4,
   "id": "1801f57c",
   "metadata": {},
   "outputs": [
    {
     "name": "stdout",
     "output_type": "stream",
     "text": [
      "10\n"
     ]
    },
    {
     "ename": "NameError",
     "evalue": "name 'b1' is not defined",
     "output_type": "error",
     "traceback": [
      "\u001b[1;31m---------------------------------------------------------------------------\u001b[0m",
      "\u001b[1;31mNameError\u001b[0m                                 Traceback (most recent call last)",
      "Cell \u001b[1;32mIn[4], line 7\u001b[0m\n\u001b[0;32m      5\u001b[0m \u001b[38;5;28mprint\u001b[39m(a1)\n\u001b[0;32m      6\u001b[0m f1()\n\u001b[1;32m----> 7\u001b[0m \u001b[38;5;28mprint\u001b[39m(\u001b[43mb1\u001b[49m)\n",
      "\u001b[1;31mNameError\u001b[0m: name 'b1' is not defined"
     ]
    }
   ],
   "source": [
    "a1=10 # globle variable\n",
    "\n",
    "def f1():\n",
    "    b1=20 # local varibla \n",
    "print(a1)\n",
    "f1()\n",
    "print(b1)  # cant print a local varible outside the function print(b1)"
   ]
  },
  {
   "cell_type": "code",
   "execution_count": 10,
   "id": "1661af61",
   "metadata": {},
   "outputs": [
    {
     "name": "stdout",
     "output_type": "stream",
     "text": [
      "20\n",
      "10\n"
     ]
    }
   ],
   "source": [
    "a2=10 # globle variable\n",
    "\n",
    "def f2():\n",
    "    b2=20 # local varibla \n",
    "    print(b2)\n",
    "f2()    \n",
    "print(a2)\n"
   ]
  },
  {
   "cell_type": "code",
   "execution_count": 11,
   "id": "a7b4c507",
   "metadata": {},
   "outputs": [
    {
     "name": "stdout",
     "output_type": "stream",
     "text": [
      "10\n",
      "20\n"
     ]
    }
   ],
   "source": [
    "a2=10 # globle variable\n",
    "\n",
    "def f2():\n",
    "    b2=20 # local varibla \n",
    "    print(b2)   \n",
    "print(a2)\n",
    "f2()"
   ]
  },
  {
   "cell_type": "code",
   "execution_count": 12,
   "id": "5167fec1",
   "metadata": {},
   "outputs": [
    {
     "name": "stdout",
     "output_type": "stream",
     "text": [
      "12\n",
      "15\n",
      "12\n"
     ]
    }
   ],
   "source": [
    "a2=12 # globle variable\n",
    "\n",
    "def f2():\n",
    "    b2=15# local varibla \n",
    "    print(b2)\n",
    "    print(a2)\n",
    "    \n",
    "print(a2)\n",
    "f2()"
   ]
  },
  {
   "cell_type": "code",
   "execution_count": null,
   "id": "b8a6e472",
   "metadata": {},
   "outputs": [],
   "source": [
    "a2=12 # globle variable\n",
    "\n",
    "def f2():\n",
    "    b2=15# local varibla \n",
    "    print(b2)\n",
    "    print(a2)\n",
    "    \n",
    "print(a2)\n",
    "f2()"
   ]
  },
  {
   "cell_type": "code",
   "execution_count": 18,
   "id": "e025f2da",
   "metadata": {},
   "outputs": [
    {
     "name": "stdout",
     "output_type": "stream",
     "text": [
      "12\n",
      "15\n",
      "12\n"
     ]
    }
   ],
   "source": [
    " \n",
    "\n",
    "def f3():\n",
    "    b3=15    # local varible\n",
    "    print(b3)\n",
    "    print(a3) \n",
    "    \n",
    "#     print(c3)\n",
    "    \n",
    "a3= 12  # globle varible \n",
    "print(a3)\n",
    "f3()\n",
    "c3=10\n",
    "    "
   ]
  },
  {
   "cell_type": "code",
   "execution_count": 21,
   "id": "1ccee37e",
   "metadata": {},
   "outputs": [
    {
     "name": "stdout",
     "output_type": "stream",
     "text": [
      "10\n",
      "7\n",
      "10\n"
     ]
    }
   ],
   "source": [
    "# you can accese the globle variabla defind befor the function calling\n",
    "\n",
    "def f4():\n",
    "    b4=7   # local variable\n",
    "    print(b4)\n",
    "    print(a4)              # print(a4 acces the globle variable)\n",
    "#     print(c3)\n",
    "\n",
    "a4=10         # globle variable\n",
    "print(a4)\n",
    "f4()\n",
    "c3=4"
   ]
  },
  {
   "cell_type": "code",
   "execution_count": 48,
   "id": "b468a4cf",
   "metadata": {},
   "outputs": [
    {
     "name": "stdout",
     "output_type": "stream",
     "text": [
      "13\n",
      "2917241848432\n",
      "12\n",
      "2917241848400\n",
      "13\n",
      "2917241848432\n"
     ]
    }
   ],
   "source": [
    "a5=13\n",
    "def f5():\n",
    "    a5=12\n",
    "    print(a5)\n",
    "    print(id(a5))\n",
    "    \n",
    "print(a5)\n",
    "print(id(a5))\n",
    "f5()\n",
    "print(a5)           # python assume the you want to chech the local varible  so print 13\n",
    "\n",
    "print(id(a5))    \n",
    "    "
   ]
  },
  {
   "cell_type": "code",
   "execution_count": 49,
   "id": "4b023ea4",
   "metadata": {},
   "outputs": [
    {
     "name": "stdout",
     "output_type": "stream",
     "text": [
      "13\n",
      "2917241848432\n",
      "12\n",
      "2917241848400\n",
      "12\n",
      "2917241848400\n"
     ]
    }
   ],
   "source": [
    "a5=13\n",
    "def f5():\n",
    "    global a5\n",
    "    a5=12\n",
    "    print(a5)\n",
    "    print(id(a5))\n",
    "    \n",
    "print(a5)\n",
    "print(id(a5))\n",
    "f5()\n",
    "print(a5)           # python assume the you want to chech the local varible  so print 12\n",
    "\n",
    "print(id(a5))"
   ]
  },
  {
   "cell_type": "code",
   "execution_count": 50,
   "id": "11cfdfdc",
   "metadata": {},
   "outputs": [
    {
     "name": "stdout",
     "output_type": "stream",
     "text": [
      "10\n"
     ]
    }
   ],
   "source": [
    "def f():\n",
    "    b=10\n",
    "    return b\n",
    "x= f()\n",
    "print(x)"
   ]
  },
  {
   "cell_type": "code",
   "execution_count": 54,
   "id": "387c3342",
   "metadata": {},
   "outputs": [
    {
     "name": "stdout",
     "output_type": "stream",
     "text": [
      "10\n"
     ]
    }
   ],
   "source": [
    "def f(a):\n",
    "    b=a\n",
    "    return b\n",
    "x= f(10)\n",
    "print(x)"
   ]
  }
 ],
 "metadata": {
  "kernelspec": {
   "display_name": "Python 3 (ipykernel)",
   "language": "python",
   "name": "python3"
  },
  "language_info": {
   "codemirror_mode": {
    "name": "ipython",
    "version": 3
   },
   "file_extension": ".py",
   "mimetype": "text/x-python",
   "name": "python",
   "nbconvert_exporter": "python",
   "pygments_lexer": "ipython3",
   "version": "3.10.9"
  }
 },
 "nbformat": 4,
 "nbformat_minor": 5
}
