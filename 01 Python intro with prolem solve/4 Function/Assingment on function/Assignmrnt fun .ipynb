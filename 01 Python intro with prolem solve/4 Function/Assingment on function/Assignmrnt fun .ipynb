{
 "cells": [
  {
   "cell_type": "markdown",
   "id": "39665464",
   "metadata": {},
   "source": [
    "Fahrenhit to celsine"
   ]
  },
  {
   "cell_type": "code",
   "execution_count": 12,
   "id": "d73a2699",
   "metadata": {},
   "outputs": [
    {
     "name": "stdout",
     "output_type": "stream",
     "text": [
      "0\n",
      "100\n",
      "20\n",
      "0 -17\n",
      "20 -6\n",
      "40 4\n",
      "60 15\n",
      "80 26\n",
      "100 37\n"
     ]
    }
   ],
   "source": [
    "\n",
    "\n",
    "def printTable(start,end,step):\n",
    "#Implement Your Code Here\n",
    "    # s=start\n",
    "    for i in range(start,end+1,step):\n",
    "        c=(i-32)*5/9\n",
    "        print(i ,int(c))\n",
    "   \n",
    "s = int(input())\n",
    "e = int(input())\n",
    "step = int(input())\n",
    "printTable(s,e,step)"
   ]
  },
  {
   "cell_type": "code",
   "execution_count": 21,
   "id": "6e240a5b",
   "metadata": {},
   "outputs": [
    {
     "name": "stdout",
     "output_type": "stream",
     "text": [
      "0\n",
      "100\n",
      "20\n",
      "0 -17\n",
      "20 -6\n",
      "40 4\n",
      "60 15\n",
      "80 26\n",
      "100 37\n"
     ]
    }
   ],
   "source": [
    "def printTable(start,end,step):\n",
    "#Implement Your Code Here\n",
    "    s=start\n",
    "    for s in range(start,end+1,step):\n",
    "        c=(s-32)*5/9\n",
    "        print(s ,int(c))\n",
    "   \n",
    "s = int(input())\n",
    "e = int(input())\n",
    "step = int(input())\n",
    "printTable(s,e,step)\n"
   ]
  },
  {
   "cell_type": "markdown",
   "id": "c8d30c6d",
   "metadata": {},
   "source": [
    "fabonacci member true of false"
   ]
  },
  {
   "cell_type": "code",
   "execution_count": 80,
   "id": "1e37d31d",
   "metadata": {},
   "outputs": [
    {
     "name": "stdout",
     "output_type": "stream",
     "text": [
      "2\n",
      "true\n"
     ]
    }
   ],
   "source": [
    "def checkMember(n):\n",
    "    if n==0 or n==1:\n",
    "        return True   \n",
    "    a=0\n",
    "    b=1\n",
    "    while b<n:\n",
    "        c=a+b\n",
    "        a=b\n",
    "        b=c\n",
    "    if b==n:\n",
    "        return True\n",
    "    else:\n",
    "        return False\n",
    "        \n",
    "n=int(input())\n",
    "\n",
    "if(checkMember(n)):\n",
    "    print(\"true\")\n",
    "else:\n",
    "    print(\"false\")"
   ]
  },
  {
   "cell_type": "code",
   "execution_count": 70,
   "id": "ec6cc5ce",
   "metadata": {},
   "outputs": [
    {
     "name": "stdout",
     "output_type": "stream",
     "text": [
      "0\n",
      "true\n"
     ]
    }
   ],
   "source": [
    "def checkMember(n):\n",
    "    \n",
    "    if n==0 or n==1:\n",
    "        True\n",
    "    a=0\n",
    "    b=1\n",
    "        \n",
    "    for i in range(a,n+1):\n",
    "        c=a+b\n",
    "        a=b\n",
    "        b=c\n",
    "        \n",
    "        if(c==n or n==0):\n",
    "            return True\n",
    "        else:\n",
    "            \n",
    "            False\n",
    "           \n",
    "n=int(input())\n",
    "\n",
    "if(checkMember(n)):\n",
    "    print(\"true\")\n",
    "else:\n",
    "    print(\"false\")"
   ]
  },
  {
   "cell_type": "markdown",
   "id": "88488ef9",
   "metadata": {},
   "source": [
    "Palindrom number"
   ]
  },
  {
   "cell_type": "code",
   "execution_count": 96,
   "id": "9629d808",
   "metadata": {},
   "outputs": [
    {
     "name": "stdout",
     "output_type": "stream",
     "text": [
      "121\n",
      "true\n"
     ]
    }
   ],
   "source": [
    "def checkpalindrom(num):\n",
    "    temp = num\n",
    "    rev=0\n",
    "    \n",
    "    while num>0:\n",
    "        rem=num%10\n",
    "        rev=rev*10+rem\n",
    "        num=num//10\n",
    "    if rev==temp:\n",
    "        return 1\n",
    "    else:\n",
    "        return 0\n",
    "num = int(input())\n",
    "ispalindrom = checkpalindrom(num)\n",
    "if ispalindrom:\n",
    "    print(\"true\")\n",
    "else:\n",
    "    print(\"false\")\n",
    "    "
   ]
  },
  {
   "cell_type": "code",
   "execution_count": null,
   "id": "935b725e",
   "metadata": {},
   "outputs": [],
   "source": []
  },
  {
   "cell_type": "code",
   "execution_count": 92,
   "id": "68ab32ac",
   "metadata": {},
   "outputs": [
    {
     "name": "stdout",
     "output_type": "stream",
     "text": [
      "121\n",
      "true\n"
     ]
    }
   ],
   "source": [
    "def checkPalindrome(num):\n",
    "#Implement Your Code Here\n",
    "    temp=num\n",
    "    rev=0\n",
    "    while temp>0:\n",
    "        rev=(rev*10)+temp%10\n",
    "        temp=temp//10\n",
    "    if rev==num:\n",
    "        return True\n",
    "    else:\n",
    "        return True\n",
    "\n",
    "num = int(input())\n",
    "isPalindrome = checkPalindrome(num)\n",
    "if(isPalindrome):\n",
    "\tprint('true')\n",
    "else:\n",
    "\tprint('false')"
   ]
  },
  {
   "cell_type": "code",
   "execution_count": null,
   "id": "d4048128",
   "metadata": {},
   "outputs": [],
   "source": [
    "check arm strom num"
   ]
  },
  {
   "cell_type": "code",
   "execution_count": 106,
   "id": "a163fcb1",
   "metadata": {},
   "outputs": [
    {
     "name": "stdout",
     "output_type": "stream",
     "text": [
      "371\n",
      "true\n"
     ]
    }
   ],
   "source": [
    "Num = int(input())\n",
    "\n",
    "Sum = 0\n",
    "Times = 0\n",
    "           \n",
    "Temp = Num\n",
    "while Temp > 0:\n",
    "    Times = Times + 1\n",
    "    Temp = Temp // 10\n",
    "\n",
    "Temp = Num\n",
    "for n in range(1, Temp + 1):\n",
    "    Reminder = Temp % 10\n",
    "    Sum = Sum + (Reminder ** Times)\n",
    "    Temp //= 10\n",
    "\n",
    "if Num == Sum:\n",
    "    print('true')\n",
    "else:\n",
    "    print('false')"
   ]
  },
  {
   "cell_type": "code",
   "execution_count": null,
   "id": "5b5edb6e",
   "metadata": {},
   "outputs": [],
   "source": []
  }
 ],
 "metadata": {
  "kernelspec": {
   "display_name": "Python 3 (ipykernel)",
   "language": "python",
   "name": "python3"
  },
  "language_info": {
   "codemirror_mode": {
    "name": "ipython",
    "version": 3
   },
   "file_extension": ".py",
   "mimetype": "text/x-python",
   "name": "python",
   "nbconvert_exporter": "python",
   "pygments_lexer": "ipython3",
   "version": "3.10.9"
  }
 },
 "nbformat": 4,
 "nbformat_minor": 5
}
