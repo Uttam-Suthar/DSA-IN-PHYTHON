{
 "cells": [
  {
   "cell_type": "code",
   "execution_count": 61,
   "id": "825b7a4a",
   "metadata": {},
   "outputs": [
    {
     "data": {
      "text/plain": [
       "False"
      ]
     },
     "execution_count": 61,
     "metadata": {},
     "output_type": "execute_result"
    }
   ],
   "source": [
    "def isPrime(n):\n",
    "    for d in range(2,n):\n",
    "        if n%d==0:\n",
    "            break\n",
    "        else:\n",
    "            return True\n",
    "    return False\n",
    "\n",
    "isPrime(10)        "
   ]
  },
  {
   "cell_type": "code",
   "execution_count": 59,
   "id": "879bcbba",
   "metadata": {},
   "outputs": [
    {
     "name": "stdout",
     "output_type": "stream",
     "text": [
      "3\n",
      "5\n",
      "7\n",
      "9\n"
     ]
    }
   ],
   "source": [
    "def isprime(n):\n",
    "    for d in range(2,n):\n",
    "        if(n%d==0):\n",
    "            break\n",
    "        else:\n",
    "            return True\n",
    "    return False \n",
    "def primeFrom_2_N(n):\n",
    "    for k in range(2,n+1):\n",
    "        #check the k is prime if k is prime then return the value k\n",
    "        is_k_prime= isprime(k)\n",
    "        if(is_k_prime):\n",
    "            print(k)\n",
    "primeFrom_2_N(10)"
   ]
  },
  {
   "cell_type": "code",
   "execution_count": 12,
   "id": "372cd044",
   "metadata": {},
   "outputs": [
    {
     "name": "stdout",
     "output_type": "stream",
     "text": [
      "3\n",
      "5\n",
      "7\n",
      "9\n"
     ]
    }
   ],
   "source": [
    "def primeFrom_2_N(n):\n",
    "    for k in range(2,n+1):\n",
    "        #check the k is prime if k is prime then return the value k\n",
    "        \n",
    "        def isprime(n):\n",
    "            for d in range(2,n):\n",
    "                if(n%d==0):\n",
    "                    break\n",
    "                else:\n",
    "                    return True\n",
    "            return False\n",
    "        is_k_prime= isprime(k)\n",
    "        if(is_k_prime):\n",
    "            print(k)\n",
    "    \n",
    "\n",
    "primeFrom_2_N(10)"
   ]
  },
  {
   "cell_type": "code",
   "execution_count": 52,
   "id": "d438537f",
   "metadata": {},
   "outputs": [
    {
     "data": {
      "text/plain": [
       "10"
      ]
     },
     "execution_count": 52,
     "metadata": {},
     "output_type": "execute_result"
    }
   ],
   "source": [
    "def fact(a):\n",
    "    a_fact=1\n",
    "    for i in range(1,a+1):\n",
    "        a_fact=a_fact*i\n",
    "    return a_fact  \n",
    "\n",
    "def ncr(n , r):\n",
    "    n_fact=fact(n)\n",
    "    r_fact=fact(r)\n",
    "    n_r_fact=fact(n-r)\n",
    "    ans = n_fact//(r_fact*n_r_fact)\n",
    "    return ans\n",
    "\n",
    "ncr(5,2)\n"
   ]
  }
 ],
 "metadata": {
  "kernelspec": {
   "display_name": "Python 3 (ipykernel)",
   "language": "python",
   "name": "python3"
  },
  "language_info": {
   "codemirror_mode": {
    "name": "ipython",
    "version": 3
   },
   "file_extension": ".py",
   "mimetype": "text/x-python",
   "name": "python",
   "nbconvert_exporter": "python",
   "pygments_lexer": "ipython3",
   "version": "3.10.9"
  }
 },
 "nbformat": 4,
 "nbformat_minor": 5
}
