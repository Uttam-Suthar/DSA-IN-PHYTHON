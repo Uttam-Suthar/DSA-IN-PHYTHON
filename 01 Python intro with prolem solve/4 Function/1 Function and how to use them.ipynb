{
 "cells": [
  {
   "cell_type": "code",
   "execution_count": 1,
   "id": "d04f8954",
   "metadata": {},
   "outputs": [
    {
     "name": "stdout",
     "output_type": "stream",
     "text": [
      "4\n",
      "2\n",
      "6\n"
     ]
    }
   ],
   "source": [
    "n=int(input())\n",
    "r=int(input())\n",
    "\n",
    "n_fact=1\n",
    "for i in range(1,n+1):\n",
    "    n_fact=n_fact*i\n",
    "r_fact=1\n",
    "for i in range(1,r+1):\n",
    "    r_fact=r_fact*i\n",
    "n_r_fact=1\n",
    "for i in range(1,n-r+1):\n",
    "    n_r_fact=n_r_fact*i\n",
    "ans= n_fact//(r_fact*n_r_fact) \n",
    "print(ans)\n",
    "            "
   ]
  },
  {
   "cell_type": "code",
   "execution_count": 54,
   "id": "89e5b134",
   "metadata": {},
   "outputs": [],
   "source": [
    "def fact(a):\n",
    "    a_fact=1\n",
    "    for i in range(1,a+1):\n",
    "        a_fact=a_fact*i\n",
    "    return a_fact    \n",
    "# a=fact(6)\n",
    "# a\n",
    "\n",
    "    "
   ]
  },
  {
   "cell_type": "code",
   "execution_count": 50,
   "id": "253c39c5",
   "metadata": {},
   "outputs": [
    {
     "data": {
      "text/plain": [
       "24"
      ]
     },
     "execution_count": 50,
     "metadata": {},
     "output_type": "execute_result"
    }
   ],
   "source": [
    "a=fact(4)\n",
    "a\n",
    "\n"
   ]
  },
  {
   "cell_type": "code",
   "execution_count": 55,
   "id": "49143bc0",
   "metadata": {},
   "outputs": [
    {
     "name": "stdout",
     "output_type": "stream",
     "text": [
      "4\n",
      "2\n",
      "6\n"
     ]
    }
   ],
   "source": [
    "n=int(input())\n",
    "r=int(input())\n",
    "\n",
    "n_fact=fact(n)\n",
    "r_fact=fact(r)\n",
    "n_r_fact=fact(n-r)\n",
    "ans= n_fact//(r_fact*n_r_fact) \n",
    "print(ans)"
   ]
  },
  {
   "cell_type": "code",
   "execution_count": 56,
   "id": "9f1e9d64",
   "metadata": {},
   "outputs": [
    {
     "name": "stdout",
     "output_type": "stream",
     "text": [
      "5\n",
      "2\n",
      "10\n"
     ]
    }
   ],
   "source": [
    "def fact(a):\n",
    "    a_fact=1\n",
    "    for i in range(1,a+1):\n",
    "        a_fact=a_fact*i\n",
    "    return a_fact\n",
    "n=int(input())\n",
    "r=int(input())\n",
    "\n",
    "n_fact=fact(n)\n",
    "r_fact=fact(r)\n",
    "n_r_fact=fact(n-r)\n",
    "ans= n_fact//(r_fact*n_r_fact) \n",
    "print(ans)\n"
   ]
  }
 ],
 "metadata": {
  "kernelspec": {
   "display_name": "Python 3 (ipykernel)",
   "language": "python",
   "name": "python3"
  },
  "language_info": {
   "codemirror_mode": {
    "name": "ipython",
    "version": 3
   },
   "file_extension": ".py",
   "mimetype": "text/x-python",
   "name": "python",
   "nbconvert_exporter": "python",
   "pygments_lexer": "ipython3",
   "version": "3.10.9"
  }
 },
 "nbformat": 4,
 "nbformat_minor": 5
}
