{
 "cells": [
  {
   "cell_type": "code",
   "execution_count": 1,
   "id": "771f58be",
   "metadata": {},
   "outputs": [
    {
     "name": "stdout",
     "output_type": "stream",
     "text": [
      "(6, 7)\n"
     ]
    }
   ],
   "source": [
    "a = 5,6,7\n",
    "print(a[1:])"
   ]
  },
  {
   "cell_type": "code",
   "execution_count": 2,
   "id": "439a8c50",
   "metadata": {},
   "outputs": [
    {
     "ename": "TypeError",
     "evalue": "'tuple' object does not support item assignment",
     "output_type": "error",
     "traceback": [
      "\u001b[1;31m---------------------------------------------------------------------------\u001b[0m",
      "\u001b[1;31mTypeError\u001b[0m                                 Traceback (most recent call last)",
      "Cell \u001b[1;32mIn[2], line 2\u001b[0m\n\u001b[0;32m      1\u001b[0m a \u001b[38;5;241m=\u001b[39m \u001b[38;5;241m5\u001b[39m,\u001b[38;5;241m6\u001b[39m,\u001b[38;5;241m7\u001b[39m\n\u001b[1;32m----> 2\u001b[0m a[\u001b[38;5;241m2\u001b[39m] \u001b[38;5;241m=\u001b[39m \u001b[38;5;241m9\u001b[39m \n\u001b[0;32m      3\u001b[0m \u001b[38;5;28mprint\u001b[39m(a)\n",
      "\u001b[1;31mTypeError\u001b[0m: 'tuple' object does not support item assignment"
     ]
    }
   ],
   "source": [
    "a = 5,6,7\n",
    "a[2] = 9 \n",
    "print(a)"
   ]
  },
  {
   "cell_type": "code",
   "execution_count": 3,
   "id": "dbd52cef",
   "metadata": {},
   "outputs": [
    {
     "name": "stdout",
     "output_type": "stream",
     "text": [
      "(1, 2)\n"
     ]
    }
   ],
   "source": [
    "a = 1,2\n",
    "b = (4,5)\n",
    "d = (a,b)\n",
    "print(d[0])\n"
   ]
  },
  {
   "cell_type": "code",
   "execution_count": 4,
   "id": "f37364ef",
   "metadata": {},
   "outputs": [
    {
     "name": "stdout",
     "output_type": "stream",
     "text": [
      "4\n"
     ]
    }
   ],
   "source": [
    "a = 1,2\n",
    "b = (4,5)\n",
    "d = a+b\n",
    "print(d[2])"
   ]
  },
  {
   "cell_type": "code",
   "execution_count": 6,
   "id": "8fe13c5a",
   "metadata": {},
   "outputs": [
    {
     "name": "stdout",
     "output_type": "stream",
     "text": [
      "ab\n"
     ]
    }
   ],
   "source": [
    "a = ('ab','abc','def')\n",
    "print(min(a))"
   ]
  },
  {
   "cell_type": "code",
   "execution_count": 7,
   "id": "dc0964a2",
   "metadata": {},
   "outputs": [
    {
     "name": "stdout",
     "output_type": "stream",
     "text": [
      "120\n"
     ]
    }
   ],
   "source": [
    "def multiply(a,b,c,*more):\n",
    "    value = a*b*c\n",
    "    for i in more:\n",
    "        value = value * i\n",
    "    return value\n",
    "V = multiply(1,2,3,4,5)\n",
    "print(V)"
   ]
  },
  {
   "cell_type": "code",
   "execution_count": 8,
   "id": "3b1d8bde",
   "metadata": {},
   "outputs": [
    {
     "name": "stdout",
     "output_type": "stream",
     "text": [
      "(9, 24)\n"
     ]
    }
   ],
   "source": [
    "def sum_multiply(a,b,*more):\n",
    "    sum_value = a+b\n",
    "    m_value = a*b\n",
    "    for i in more:\n",
    "        sum_value += i\n",
    "        m_value*=i\n",
    "    return sum_value,m_value\n",
    "s_m = sum_multiply(2,3,4)\n",
    "print(s_m)"
   ]
  },
  {
   "cell_type": "code",
   "execution_count": 10,
   "id": "ce9b5f78",
   "metadata": {},
   "outputs": [
    {
     "ename": "KeyError",
     "evalue": "0",
     "output_type": "error",
     "traceback": [
      "\u001b[1;31m---------------------------------------------------------------------------\u001b[0m",
      "\u001b[1;31mKeyError\u001b[0m                                  Traceback (most recent call last)",
      "Cell \u001b[1;32mIn[10], line 2\u001b[0m\n\u001b[0;32m      1\u001b[0m d \u001b[38;5;241m=\u001b[39m {\u001b[38;5;241m1\u001b[39m:\u001b[38;5;241m2\u001b[39m, \u001b[38;5;124m\"\u001b[39m\u001b[38;5;124mabc\u001b[39m\u001b[38;5;124m\"\u001b[39m:\u001b[38;5;241m5\u001b[39m, \u001b[38;5;124m\"\u001b[39m\u001b[38;5;124mdef\u001b[39m\u001b[38;5;124m\"\u001b[39m:\u001b[38;5;241m7\u001b[39m}\n\u001b[1;32m----> 2\u001b[0m \u001b[38;5;28mprint\u001b[39m(\u001b[43md\u001b[49m\u001b[43m[\u001b[49m\u001b[38;5;241;43m0\u001b[39;49m\u001b[43m]\u001b[49m)\n",
      "\u001b[1;31mKeyError\u001b[0m: 0"
     ]
    }
   ],
   "source": [
    "d = {1:2, \"abc\":5, \"def\":7}\n",
    "print(d[0])"
   ]
  },
  {
   "cell_type": "code",
   "execution_count": 12,
   "id": "31e9ec71",
   "metadata": {},
   "outputs": [
    {
     "name": "stdout",
     "output_type": "stream",
     "text": [
      "5\n"
     ]
    }
   ],
   "source": [
    "d = {1:2, 'abc':5, 'def':7}\n",
    "print(d.get(0,5))"
   ]
  },
  {
   "cell_type": "code",
   "execution_count": 14,
   "id": "7fa63e6a",
   "metadata": {},
   "outputs": [
    {
     "name": "stdout",
     "output_type": "stream",
     "text": [
      "Not Present\n"
     ]
    }
   ],
   "source": [
    "d = {1:2, \"abc\":5, \"def\":7}\n",
    "if 2 in d:\n",
    "    print('Present')\n",
    "else:\n",
    "    print('Not Present')"
   ]
  },
  {
   "cell_type": "code",
   "execution_count": 2,
   "id": "d02eca26",
   "metadata": {},
   "outputs": [
    {
     "name": "stdout",
     "output_type": "stream",
     "text": [
      "7\n"
     ]
    }
   ],
   "source": [
    "a = {1:2,'list':[1,2],3:5}\n",
    "b = {4:5,3:7}\n",
    "a.update(b)\n",
    "print(a[3])"
   ]
  },
  {
   "cell_type": "code",
   "execution_count": 5,
   "id": "df12920f",
   "metadata": {},
   "outputs": [
    {
     "name": "stdout",
     "output_type": "stream",
     "text": [
      "[3, 5]\n"
     ]
    }
   ],
   "source": [
    "a = {1:2,'list':[1,2],3:5}\n",
    "a.pop('list')\n",
    "a['list'] = [3,5]\n",
    "print(a['list'])"
   ]
  },
  {
   "cell_type": "code",
   "execution_count": 9,
   "id": "c274cf11",
   "metadata": {},
   "outputs": [
    {
     "name": "stdout",
     "output_type": "stream",
     "text": [
      "5 {1, 2, 3, 4, 5}\n",
      "5\n"
     ]
    }
   ],
   "source": [
    "s = {1,2,3,5,4,2,3,1}\n",
    "print(len(s),end= \" \")\n",
    "s.add(4)\n",
    "s.add(3)\n",
    "print(s)\n",
    "print(len(s))"
   ]
  },
  {
   "cell_type": "code",
   "execution_count": 10,
   "id": "79a627bd",
   "metadata": {},
   "outputs": [
    {
     "ename": "AttributeError",
     "evalue": "'dict' object has no attribute 'add'",
     "output_type": "error",
     "traceback": [
      "\u001b[1;31m---------------------------------------------------------------------------\u001b[0m",
      "\u001b[1;31mAttributeError\u001b[0m                            Traceback (most recent call last)",
      "Cell \u001b[1;32mIn[10], line 2\u001b[0m\n\u001b[0;32m      1\u001b[0m s \u001b[38;5;241m=\u001b[39m {}\n\u001b[1;32m----> 2\u001b[0m \u001b[43ms\u001b[49m\u001b[38;5;241;43m.\u001b[39;49m\u001b[43madd\u001b[49m(\u001b[38;5;241m4\u001b[39m)\n\u001b[0;32m      3\u001b[0m s\u001b[38;5;241m.\u001b[39madd(\u001b[38;5;241m4\u001b[39m)\n\u001b[0;32m      4\u001b[0m \u001b[38;5;28mprint\u001b[39m(\u001b[38;5;28mlen\u001b[39m(s))\n",
      "\u001b[1;31mAttributeError\u001b[0m: 'dict' object has no attribute 'add'"
     ]
    }
   ],
   "source": [
    "s = {}\n",
    "s.add(4)\n",
    "s.add(4)\n",
    "print(len(s))"
   ]
  }
 ],
 "metadata": {
  "kernelspec": {
   "display_name": "Python 3 (ipykernel)",
   "language": "python",
   "name": "python3"
  },
  "language_info": {
   "codemirror_mode": {
    "name": "ipython",
    "version": 3
   },
   "file_extension": ".py",
   "mimetype": "text/x-python",
   "name": "python",
   "nbconvert_exporter": "python",
   "pygments_lexer": "ipython3",
   "version": "3.10.9"
  }
 },
 "nbformat": 4,
 "nbformat_minor": 5
}
