{
 "cells": [
  {
   "cell_type": "code",
   "execution_count": 1,
   "id": "eb6fce17",
   "metadata": {},
   "outputs": [
    {
     "name": "stdout",
     "output_type": "stream",
     "text": [
      "1\n",
      "2\n",
      "3\n",
      "4\n",
      "5\n",
      "6\n",
      "7\n",
      "8\n",
      "9\n",
      "10\n",
      "11\n",
      "12\n"
     ]
    }
   ],
   "source": [
    "li=[1,2,3,4],[5,6,7,8],[9,10,11,12]\n",
    "n=3\n",
    "m=4\n",
    "for i in range(n):\n",
    "    for j in range(m):\n",
    "        print(li[i][j])\n",
    "        "
   ]
  },
  {
   "cell_type": "code",
   "execution_count": 8,
   "id": "de66c31f",
   "metadata": {},
   "outputs": [
    {
     "name": "stdout",
     "output_type": "stream",
     "text": [
      "1 2 3 4 \n",
      "5 6 7 8 \n",
      "9 10 11 12 \n"
     ]
    }
   ],
   "source": [
    "li=[1,2,3,4],[5,6,7,8],[9,10,11,12]\n",
    "n=3\n",
    "m=4\n",
    "for i in range(n):\n",
    "    for j in range(m):\n",
    "        print(li[i][j],end=\" \")\n",
    "    print()\n",
    "        "
   ]
  },
  {
   "cell_type": "markdown",
   "id": "725563f2",
   "metadata": {},
   "source": [
    "in jogge list"
   ]
  },
  {
   "cell_type": "code",
   "execution_count": 9,
   "id": "c72a0ca8",
   "metadata": {},
   "outputs": [
    {
     "name": "stdout",
     "output_type": "stream",
     "text": [
      "1 2 3 4 \n",
      "5 6 \n",
      "9 10 11 12 \n"
     ]
    }
   ],
   "source": [
    "li=[1,2,3,4],[5,6],[9,10,11,12]\n",
    "n=3\n",
    "for row in li:\n",
    "    for ele in row:\n",
    "        print(ele,end=\" \")\n",
    "    print()    "
   ]
  },
  {
   "cell_type": "markdown",
   "id": "38868c3a",
   "metadata": {},
   "source": [
    "join function"
   ]
  },
  {
   "cell_type": "code",
   "execution_count": 11,
   "id": "f0e3e83a",
   "metadata": {},
   "outputs": [
    {
     "data": {
      "text/plain": [
       "'1ab2ab3ab4'"
      ]
     },
     "execution_count": 11,
     "metadata": {},
     "output_type": "execute_result"
    }
   ],
   "source": [
    "\"ab\".join(['1',\"2\",\"3\",\"4\"])"
   ]
  },
  {
   "cell_type": "code",
   "execution_count": 12,
   "id": "312bf4c4",
   "metadata": {},
   "outputs": [
    {
     "data": {
      "text/plain": [
       "'aabbabcabd'"
      ]
     },
     "execution_count": 12,
     "metadata": {},
     "output_type": "execute_result"
    }
   ],
   "source": [
    "\"ab\".join(\"abcd\")"
   ]
  },
  {
   "cell_type": "code",
   "execution_count": 19,
   "id": "9191958b",
   "metadata": {},
   "outputs": [
    {
     "data": {
      "text/plain": [
       "2147483648"
      ]
     },
     "execution_count": 19,
     "metadata": {},
     "output_type": "execute_result"
    }
   ],
   "source": [
    "2**31"
   ]
  },
  {
   "cell_type": "code",
   "execution_count": 17,
   "id": "5ffdfa01",
   "metadata": {},
   "outputs": [
    {
     "name": "stdout",
     "output_type": "stream",
     "text": [
      "1 2 3 4\n",
      "5 6\n",
      "9 10 11 12\n"
     ]
    }
   ],
   "source": [
    "li=[1,2,3,4],[5,6],[9,10,11,12]\n",
    "for row in li:\n",
    "    output= \" \".join(str(ele) for ele in row)\n",
    "    print(output)"
   ]
  }
 ],
 "metadata": {
  "kernelspec": {
   "display_name": "Python 3 (ipykernel)",
   "language": "python",
   "name": "python3"
  },
  "language_info": {
   "codemirror_mode": {
    "name": "ipython",
    "version": 3
   },
   "file_extension": ".py",
   "mimetype": "text/x-python",
   "name": "python",
   "nbconvert_exporter": "python",
   "pygments_lexer": "ipython3",
   "version": "3.10.9"
  }
 },
 "nbformat": 4,
 "nbformat_minor": 5
}
