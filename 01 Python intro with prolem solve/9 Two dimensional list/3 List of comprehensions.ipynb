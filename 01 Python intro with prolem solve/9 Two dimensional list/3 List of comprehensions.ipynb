{
 "cells": [
  {
   "cell_type": "code",
   "execution_count": 16,
   "id": "7f53c62a",
   "metadata": {},
   "outputs": [
    {
     "name": "stdout",
     "output_type": "stream",
     "text": [
      "[1, 4, 9, 16]\n"
     ]
    }
   ],
   "source": [
    "li=[1,2,3,4]\n",
    "newli=[]\n",
    "for ele in li:\n",
    "    newli.append(ele**2)\n",
    "print(newli)        "
   ]
  },
  {
   "cell_type": "code",
   "execution_count": 17,
   "id": "b652382d",
   "metadata": {},
   "outputs": [
    {
     "name": "stdout",
     "output_type": "stream",
     "text": [
      "[4, 16]\n"
     ]
    }
   ],
   "source": [
    "li=[1,2,3,4]\n",
    "newli=[]\n",
    "for ele in li:\n",
    "    if ele%2==0:\n",
    "        newli.append(ele**2)\n",
    "print(newli) "
   ]
  },
  {
   "cell_type": "code",
   "execution_count": 20,
   "id": "d5503b4c",
   "metadata": {},
   "outputs": [
    {
     "name": "stdout",
     "output_type": "stream",
     "text": [
      "[1, 4, 9, 16]\n"
     ]
    }
   ],
   "source": [
    "li=[1,2,3,4]\n",
    "newli=[ele**2 for ele in li]\n",
    "print(newli)"
   ]
  },
  {
   "cell_type": "code",
   "execution_count": 21,
   "id": "290371cf",
   "metadata": {},
   "outputs": [
    {
     "name": "stdout",
     "output_type": "stream",
     "text": [
      "[4, 16]\n"
     ]
    }
   ],
   "source": [
    "newli= [ele**2 for ele in li if ele%2==0]\n",
    "print(newli)"
   ]
  },
  {
   "cell_type": "code",
   "execution_count": 23,
   "id": "80d81daf",
   "metadata": {},
   "outputs": [
    {
     "name": "stdout",
     "output_type": "stream",
     "text": [
      "[6, 12]\n"
     ]
    }
   ],
   "source": [
    "li=[1,2,3,4,5,6,7,8,9,12]\n",
    "newli=[]\n",
    "for ele in li:\n",
    "    if ele%2==0:\n",
    "        if ele%3==0:\n",
    "            newli.append(ele)\n",
    "print(newli)            "
   ]
  },
  {
   "cell_type": "code",
   "execution_count": 24,
   "id": "b2bb01d2",
   "metadata": {},
   "outputs": [
    {
     "name": "stdout",
     "output_type": "stream",
     "text": [
      "[6, 12]\n"
     ]
    }
   ],
   "source": [
    "newli= [ele for ele in li if ele%2==0 if ele%3==0]\n",
    "print(newli)"
   ]
  },
  {
   "cell_type": "code",
   "execution_count": 26,
   "id": "202ff424",
   "metadata": {},
   "outputs": [
    {
     "name": "stdout",
     "output_type": "stream",
     "text": [
      "[2, 4]\n"
     ]
    }
   ],
   "source": [
    "li=[1,2,3,4,5]\n",
    "li1=[2,4,6,7]\n",
    "newli=[]\n",
    "for ele in li:\n",
    "    for ele1 in li1:\n",
    "        if ele ==ele1:\n",
    "            newli.append(ele)\n",
    "print(newli)            "
   ]
  },
  {
   "cell_type": "code",
   "execution_count": 27,
   "id": "b7933026",
   "metadata": {},
   "outputs": [
    {
     "name": "stdout",
     "output_type": "stream",
     "text": [
      "[2, 4]\n"
     ]
    }
   ],
   "source": [
    "newli=[ele for ele in li for ele1 in li1 if ele==ele1]\n",
    "print(newli)"
   ]
  },
  {
   "cell_type": "code",
   "execution_count": 35,
   "id": "bda784c3",
   "metadata": {},
   "outputs": [
    {
     "name": "stdout",
     "output_type": "stream",
     "text": [
      "[1, 4, 3, 16, 5, 36]\n"
     ]
    }
   ],
   "source": [
    "li=[1,2,3,4,5,6]\n",
    "newli=[ele**2  if ele%2==0 else ele for ele in li]\n",
    "print(newli)"
   ]
  },
  {
   "cell_type": "code",
   "execution_count": 37,
   "id": "20a7f298",
   "metadata": {},
   "outputs": [
    {
     "name": "stdout",
     "output_type": "stream",
     "text": [
      "[4, 16, 36]\n"
     ]
    }
   ],
   "source": [
    "newli=[ele**2 for ele in li if ele%2==0]\n",
    "print(newli)"
   ]
  },
  {
   "cell_type": "code",
   "execution_count": 38,
   "id": "6aefce4c",
   "metadata": {},
   "outputs": [
    {
     "name": "stdout",
     "output_type": "stream",
     "text": [
      "[0, 9, 36, 81]\n"
     ]
    }
   ],
   "source": [
    "li=[0,1,2,3,4,5,6,7,8,9]\n",
    "li = [ele**2 for ele in range(10) if ele%3 ==0]\n",
    "print(li)"
   ]
  },
  {
   "cell_type": "code",
   "execution_count": 40,
   "id": "35f62418",
   "metadata": {},
   "outputs": [
    {
     "name": "stdout",
     "output_type": "stream",
     "text": [
      "[[0, 0, 0, 0], [0, 1, 2, 3], [0, 2, 4, 6]]\n"
     ]
    }
   ],
   "source": [
    "# li=[0,1,2]\n",
    "# li2=[0,1,2,3]\n",
    "li = [[ i*j for j in range(4)] for i in range(3)]\n",
    "print(li)"
   ]
  }
 ],
 "metadata": {
  "kernelspec": {
   "display_name": "Python 3 (ipykernel)",
   "language": "python",
   "name": "python3"
  },
  "language_info": {
   "codemirror_mode": {
    "name": "ipython",
    "version": 3
   },
   "file_extension": ".py",
   "mimetype": "text/x-python",
   "name": "python",
   "nbconvert_exporter": "python",
   "pygments_lexer": "ipython3",
   "version": "3.10.9"
  }
 },
 "nbformat": 4,
 "nbformat_minor": 5
}
