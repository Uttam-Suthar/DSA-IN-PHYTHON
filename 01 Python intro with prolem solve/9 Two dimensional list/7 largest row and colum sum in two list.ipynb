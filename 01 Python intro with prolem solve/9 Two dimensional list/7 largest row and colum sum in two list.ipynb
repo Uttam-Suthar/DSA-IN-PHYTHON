{
 "cells": [
  {
   "cell_type": "markdown",
   "id": "74bc1ed4",
   "metadata": {},
   "source": [
    "# lasgest colum sum in 2d liat"
   ]
  },
  {
   "cell_type": "code",
   "execution_count": 42,
   "id": "16a48b9a",
   "metadata": {},
   "outputs": [
    {
     "name": "stdout",
     "output_type": "stream",
     "text": [
      "(25, 3)\n"
     ]
    }
   ],
   "source": [
    "def findLargestColumsum(li):\n",
    "    n=len(li)\n",
    "    m=len(li[0])\n",
    "    maxsum=-1\n",
    "    maxindex=-1\n",
    "    for j in range(m):\n",
    "        sum=0\n",
    "        for i in range(n):\n",
    "            sum=sum+li[i][j]\n",
    "        if sum>maxsum:\n",
    "            maxsum=sum\n",
    "            maxindex=j\n",
    "    return maxsum,maxindex\n",
    "\n",
    "arr=[[1,2,3,4],[8,7,6,5],[13,14,15,16]]\n",
    "a=findLargestColumsum(arr)\n",
    "print(a)\n",
    "    "
   ]
  },
  {
   "cell_type": "code",
   "execution_count": 56,
   "id": "aab0448c",
   "metadata": {},
   "outputs": [
    {
     "name": "stdout",
     "output_type": "stream",
     "text": [
      "row 24 2\n",
      "(24, 2)\n"
     ]
    }
   ],
   "source": [
    "def findLargestColumsum(li):\n",
    "    n=len(li)\n",
    "    m=len(li[0])\n",
    "    maxsum=-1\n",
    "    maxindex=-1\n",
    "    flag =False\n",
    "    for j in range(m):\n",
    "        sum=0\n",
    "        for i in range(n):\n",
    "            sum=sum+li[i][j]\n",
    "        if sum>maxsum:\n",
    "            maxsum=sum\n",
    "            maxindex=j\n",
    "            flag= True\n",
    "    if flag:\n",
    "        print(\"row\" , str(maxsum) +' '+ str(maxindex))\n",
    "    return maxsum,maxindex\n",
    "\n",
    "arr=[[1,2,3,4],[8,7,6,5],[13,14,15,1]]\n",
    "a=findLargestColumsum(arr)\n",
    "print(a)\n",
    "    "
   ]
  },
  {
   "cell_type": "code",
   "execution_count": null,
   "id": "29e16203",
   "metadata": {},
   "outputs": [],
   "source": []
  },
  {
   "cell_type": "markdown",
   "id": "ba5e3a76",
   "metadata": {},
   "source": [
    "# lasgest sum row and colum"
   ]
  },
  {
   "cell_type": "code",
   "execution_count": 50,
   "id": "5c935e71",
   "metadata": {},
   "outputs": [
    {
     "name": "stdout",
     "output_type": "stream",
     "text": [
      "column 2 25\n"
     ]
    }
   ],
   "source": [
    "\n",
    "def findLargest(arr, nRows, mCols):\n",
    "\n",
    "    max_sum = -2147483648\n",
    "    max_index = 0\n",
    "    isRow = True\n",
    "    \n",
    "    for i in range(nRows):\n",
    "        Sum = 0\n",
    "        for j in range(mCols):\n",
    "            Sum += arr[i][j]\n",
    "        \n",
    "        if Sum > max_sum:\n",
    "            max_index  = i\n",
    "            max_sum = Sum\n",
    "    \n",
    "    for j in range(mCols):\n",
    "        Sum = 0\n",
    "        for i in range(nRows):\n",
    "            Sum += arr[i][j]\n",
    "        \n",
    "        if Sum > max_sum:\n",
    "            max_index  = j\n",
    "            max_sum = Sum\n",
    "            isRow = False\n",
    "    \n",
    "    if isRow:\n",
    "        print('row', max_index + ' '+ str(max_sum))\n",
    "    else:\n",
    "        print('column', str(max_index) + ' '+  str(max_sum))\n",
    "\n",
    "a = findLargest([[3,6,9], [1,4,7], [2,8,9]],3,3)\n",
    "a\n",
    "    \n",
    "# a = findLargest([[], [], []],0,0)\n",
    "a\n",
    "                \n",
    "                \n",
    "             "
   ]
  },
  {
   "cell_type": "code",
   "execution_count": null,
   "id": "cc22ffff",
   "metadata": {},
   "outputs": [],
   "source": [
    "\n"
   ]
  },
  {
   "cell_type": "code",
   "execution_count": null,
   "id": "db40e65f",
   "metadata": {},
   "outputs": [],
   "source": []
  },
  {
   "cell_type": "code",
   "execution_count": null,
   "id": "f20fe70c",
   "metadata": {},
   "outputs": [],
   "source": []
  },
  {
   "cell_type": "code",
   "execution_count": null,
   "id": "d0902c5b",
   "metadata": {},
   "outputs": [],
   "source": []
  }
 ],
 "metadata": {
  "kernelspec": {
   "display_name": "Python 3 (ipykernel)",
   "language": "python",
   "name": "python3"
  },
  "language_info": {
   "codemirror_mode": {
    "name": "ipython",
    "version": 3
   },
   "file_extension": ".py",
   "mimetype": "text/x-python",
   "name": "python",
   "nbconvert_exporter": "python",
   "pygments_lexer": "ipython3",
   "version": "3.10.9"
  }
 },
 "nbformat": 4,
 "nbformat_minor": 5
}
