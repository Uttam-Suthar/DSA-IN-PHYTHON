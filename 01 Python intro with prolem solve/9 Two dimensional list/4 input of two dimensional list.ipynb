{
 "cells": [
  {
   "cell_type": "code",
   "execution_count": 7,
   "id": "4301d912",
   "metadata": {},
   "outputs": [
    {
     "name": "stdout",
     "output_type": "stream",
     "text": [
      "3 4 \n",
      "1 2 3 4\n",
      "2 3 4 5\n",
      " 6 7 8 9\n",
      "[[1, 2, 3, 4], [2, 3, 4, 5], [6, 7, 8, 9]]\n"
     ]
    }
   ],
   "source": [
    "str = input().split()\n",
    "n,m = int(str[0]),int(str[1])\n",
    "li=[[int(j) for j in input().split()] for i in range(n)]\n",
    "\n",
    "\n",
    "\n",
    "print(li)\n",
    "\n"
   ]
  },
  {
   "cell_type": "markdown",
   "id": "3ea7e97e",
   "metadata": {},
   "source": [
    "#  jogge list"
   ]
  },
  {
   "cell_type": "code",
   "execution_count": 11,
   "id": "622884a0",
   "metadata": {},
   "outputs": [
    {
     "name": "stdout",
     "output_type": "stream",
     "text": [
      "4\n",
      "12 3 4\n",
      "2 4 5 \n",
      "34 45 6\n",
      "3 4\n",
      "[[12, 3, 4], [2, 4, 5], [34, 45, 6], [3, 4]]\n"
     ]
    }
   ],
   "source": [
    "n = int(input())\n",
    "li=[[int(j) for j in input().split()] for i in range(n)]\n",
    "\n",
    "print(li)"
   ]
  }
 ],
 "metadata": {
  "kernelspec": {
   "display_name": "Python 3 (ipykernel)",
   "language": "python",
   "name": "python3"
  },
  "language_info": {
   "codemirror_mode": {
    "name": "ipython",
    "version": 3
   },
   "file_extension": ".py",
   "mimetype": "text/x-python",
   "name": "python",
   "nbconvert_exporter": "python",
   "pygments_lexer": "ipython3",
   "version": "3.10.9"
  }
 },
 "nbformat": 4,
 "nbformat_minor": 5
}
