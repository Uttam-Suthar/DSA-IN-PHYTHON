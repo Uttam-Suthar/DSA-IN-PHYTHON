{
 "cells": [
  {
   "cell_type": "markdown",
   "id": "1116fe85",
   "metadata": {},
   "source": [
    "# Row wise sum"
   ]
  },
  {
   "cell_type": "code",
   "execution_count": 14,
   "id": "7772379b",
   "metadata": {},
   "outputs": [
    {
     "name": "stdout",
     "output_type": "stream",
     "text": [
      "3 7 11 15 "
     ]
    }
   ],
   "source": [
    "def rowWiseSum(li,n,m):\n",
    "    for i in range(n):\n",
    "        sum=0\n",
    "        for j in range(m):\n",
    "            sum= sum+ li[i][j]\n",
    "        print(sum,end=\" \")\n",
    "li=[[1,2],[3,4],[5,6],[7,8]]\n",
    "n=4\n",
    "m=2\n",
    "\n",
    "a= rowWiseSum(li,n,m)\n",
    "print(a)\n",
    "        \n"
   ]
  },
  {
   "cell_type": "code",
   "execution_count": 13,
   "id": "2f12a66b",
   "metadata": {},
   "outputs": [
    {
     "name": "stdout",
     "output_type": "stream",
     "text": [
      "3 7 11 15 "
     ]
    }
   ],
   "source": [
    "li=[[1,2],[3,4],[5,6],[7,8]]\n",
    "n=4\n",
    "m=2\n",
    "for i in range(n):\n",
    "    sum=0\n",
    "    for j in range(m):\n",
    "        sum= sum+ li[i][j]\n",
    "    print(sum,end=\" \")\n"
   ]
  },
  {
   "cell_type": "markdown",
   "id": "29bfb3b7",
   "metadata": {},
   "source": [
    "# Lasgest Row and colum"
   ]
  },
  {
   "cell_type": "code",
   "execution_count": 1,
   "id": "85ea456f",
   "metadata": {},
   "outputs": [
    {
     "name": "stdout",
     "output_type": "stream",
     "text": [
      "column 2 25\n",
      "row 0 -2147483648\n"
     ]
    }
   ],
   "source": [
    "\n",
    "def findLargest(arr, nRows, mCols):\n",
    "\n",
    "    max_sum = -2147483648\n",
    "    max_index = 0\n",
    "    isRow = True\n",
    "    \n",
    "    for i in range(nRows):\n",
    "        Sum = 0\n",
    "        for j in range(mCols):\n",
    "            Sum += arr[i][j]\n",
    "        \n",
    "        if Sum > max_sum:\n",
    "            max_index  = i\n",
    "            max_sum = Sum\n",
    "    \n",
    "    for j in range(mCols):\n",
    "        Sum = 0\n",
    "        for i in range(nRows):\n",
    "            Sum += arr[i][j]\n",
    "        \n",
    "        if Sum > max_sum:\n",
    "            max_index  = j\n",
    "            max_sum = Sum\n",
    "            isRow = False\n",
    "    \n",
    "    if isRow:\n",
    "        print('row', str(max_index)+ ' '+ str(max_sum))\n",
    "    else:\n",
    "        print('column', str(max_index) + ' '+  str(max_sum))\n",
    "\n",
    "a = findLargest([[3,6,9], [1,4,7], [2,8,9]],3,3)\n",
    "a\n",
    "    \n",
    "a = findLargest([[], [], []],0,0)\n",
    "a\n",
    "                \n",
    "                \n",
    "             "
   ]
  },
  {
   "cell_type": "markdown",
   "id": "752f4fd8",
   "metadata": {},
   "source": [
    "#  wave print\n",
    "1 2 3 4 5\n",
    "6 7 8 9 10\n",
    "11 12 13 14 15\n",
    "16 17 18 19 20\n",
    "\n",
    "o/p    1 2 3 4 5 6 7  9 10 11 12 13 14 15 16 17 18 19 20\n"
   ]
  },
  {
   "cell_type": "code",
   "execution_count": 6,
   "id": "d5a1d10c",
   "metadata": {},
   "outputs": [
    {
     "name": "stdout",
     "output_type": "stream",
     "text": [
      "1 6 11 16 17 12 7 2 3 8 13 18 19 14 9 4 5 10 15 20 "
     ]
    }
   ],
   "source": [
    "def wavePrint(li):\n",
    "    n=len(li)\n",
    "    m=len(li[0])\n",
    "    for j in range(m):\n",
    "        if j%2==0:\n",
    "            for i in range(n):\n",
    "                print(li[i][j],end=\" \")\n",
    "        else :\n",
    "            for i in range(n-1,-1,-1):\n",
    "                print(li[i][j],end=\" \")\n",
    "arr=[[1,2,3,4,5],[6,7,8,9,10],[11,12,13,14,15],[16,17,18,19,20]]\n",
    "a=wavePrint(arr)    \n",
    "# print(a)\n"
   ]
  },
  {
   "cell_type": "markdown",
   "id": "e018a824",
   "metadata": {},
   "source": [
    "# spiral Print\n",
    "1  2   3  4 \n",
    "5  6   7  8\n",
    "9  10  11 12\n",
    "13 14  15 16\n",
    "\n",
    "o/p  1 2 3 4 8 12 16 15 14 13 9 5 6 7 11 10"
   ]
  },
  {
   "cell_type": "code",
   "execution_count": 63,
   "id": "f0ea6e43",
   "metadata": {},
   "outputs": [
    {
     "name": "stdout",
     "output_type": "stream",
     "text": [
      "1 2 3 4 8 12 16 15 14 13 9 5 6 7 11 10 None\n"
     ]
    }
   ],
   "source": [
    "def spiralPrint(li):\n",
    "#     n=len(li)\n",
    "#     m=len(li[0])\n",
    "    n=4\n",
    "    m=4\n",
    "   \n",
    "    rs=0   # rowstart\n",
    "    cs=0   # columstart\n",
    "    allelement=m*n\n",
    "    count=0\n",
    "    while count<allelement:\n",
    "#         cs=0\n",
    "        i=cs\n",
    "        while i<m and count<allelement:\n",
    "            print(li[rs][i] ,end=\" \")\n",
    "            i +=1\n",
    "            count=count+1\n",
    "        rs=rs+1    \n",
    "        i=rs\n",
    "        while i<n and count<allelement:\n",
    "            print(li[i][n-1],end=\" \")\n",
    "            i +=1\n",
    "            count +=1\n",
    "        m=m-1\n",
    "        i=m-1\n",
    "        while i>=cs and count<allelement:\n",
    "            print(li[n-1][i],end=\" \")\n",
    "            i -=1\n",
    "            count +=1\n",
    "        n=n-1\n",
    "        i=n-1\n",
    "        while i>=rs and count<allelement:\n",
    "            print(li[i][cs],end=\" \")\n",
    "            i -=1\n",
    "            count +=1\n",
    "#         i=cs+1 \n",
    "        cs=cs+1\n",
    "        \n",
    "            \n",
    "            \n",
    "arr=[[1,2,3,4],[5,6,7,8],[9,10,11,12],[13,14,15,16]]            \n",
    "a=spiralPrint(arr) \n",
    "print(a)\n"
   ]
  },
  {
   "cell_type": "code",
   "execution_count": null,
   "id": "439921d9",
   "metadata": {},
   "outputs": [],
   "source": []
  }
 ],
 "metadata": {
  "kernelspec": {
   "display_name": "Python 3 (ipykernel)",
   "language": "python",
   "name": "python3"
  },
  "language_info": {
   "codemirror_mode": {
    "name": "ipython",
    "version": 3
   },
   "file_extension": ".py",
   "mimetype": "text/x-python",
   "name": "python",
   "nbconvert_exporter": "python",
   "pygments_lexer": "ipython3",
   "version": "3.10.9"
  }
 },
 "nbformat": 4,
 "nbformat_minor": 5
}
