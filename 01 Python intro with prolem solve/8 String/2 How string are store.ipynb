{
 "cells": [
  {
   "cell_type": "code",
   "execution_count": 2,
   "id": "f13ebd9f",
   "metadata": {},
   "outputs": [],
   "source": [
    "s='uttam'\n"
   ]
  },
  {
   "cell_type": "code",
   "execution_count": 3,
   "id": "0bdda55f",
   "metadata": {},
   "outputs": [
    {
     "data": {
      "text/plain": [
       "3006335484720"
      ]
     },
     "execution_count": 3,
     "metadata": {},
     "output_type": "execute_result"
    }
   ],
   "source": [
    "id(s)"
   ]
  },
  {
   "cell_type": "code",
   "execution_count": 4,
   "id": "3a7cad2c",
   "metadata": {},
   "outputs": [],
   "source": [
    "a='uttam'"
   ]
  },
  {
   "cell_type": "code",
   "execution_count": 5,
   "id": "6043d82c",
   "metadata": {},
   "outputs": [
    {
     "data": {
      "text/plain": [
       "3006335484720"
      ]
     },
     "execution_count": 5,
     "metadata": {},
     "output_type": "execute_result"
    }
   ],
   "source": [
    "id(a)"
   ]
  },
  {
   "cell_type": "code",
   "execution_count": 7,
   "id": "fdefdb59",
   "metadata": {},
   "outputs": [
    {
     "data": {
      "text/plain": [
       "3006335484720"
      ]
     },
     "execution_count": 7,
     "metadata": {},
     "output_type": "execute_result"
    }
   ],
   "source": [
    "a='uttam'\n",
    "id(a)"
   ]
  },
  {
   "cell_type": "code",
   "execution_count": 6,
   "id": "2395f7d3",
   "metadata": {},
   "outputs": [
    {
     "data": {
      "text/plain": [
       "3006336434672"
      ]
     },
     "execution_count": 6,
     "metadata": {},
     "output_type": "execute_result"
    }
   ],
   "source": [
    "a='dinesh'\n",
    "id(a)"
   ]
  },
  {
   "cell_type": "markdown",
   "id": "81807457",
   "metadata": {},
   "source": [
    "immutable"
   ]
  },
  {
   "cell_type": "code",
   "execution_count": 8,
   "id": "ec421fda",
   "metadata": {},
   "outputs": [
    {
     "ename": "TypeError",
     "evalue": "'str' object does not support item assignment",
     "output_type": "error",
     "traceback": [
      "\u001b[1;31m---------------------------------------------------------------------------\u001b[0m",
      "\u001b[1;31mTypeError\u001b[0m                                 Traceback (most recent call last)",
      "Cell \u001b[1;32mIn[8], line 2\u001b[0m\n\u001b[0;32m      1\u001b[0m a\u001b[38;5;241m=\u001b[39m\u001b[38;5;124m'\u001b[39m\u001b[38;5;124muttam\u001b[39m\u001b[38;5;124m'\u001b[39m\n\u001b[1;32m----> 2\u001b[0m a[\u001b[38;5;241m0\u001b[39m]\u001b[38;5;241m=\u001b[39m\u001b[38;5;124m'\u001b[39m\u001b[38;5;124ms\u001b[39m\u001b[38;5;124m'\u001b[39m\n",
      "\u001b[1;31mTypeError\u001b[0m: 'str' object does not support item assignment"
     ]
    }
   ],
   "source": [
    "a='uttam'\n",
    "a[0]='s'      # cant change the string change only reference of string"
   ]
  },
  {
   "cell_type": "code",
   "execution_count": null,
   "id": "3f6acb8b",
   "metadata": {},
   "outputs": [],
   "source": []
  }
 ],
 "metadata": {
  "kernelspec": {
   "display_name": "Python 3 (ipykernel)",
   "language": "python",
   "name": "python3"
  },
  "language_info": {
   "codemirror_mode": {
    "name": "ipython",
    "version": 3
   },
   "file_extension": ".py",
   "mimetype": "text/x-python",
   "name": "python",
   "nbconvert_exporter": "python",
   "pygments_lexer": "ipython3",
   "version": "3.10.9"
  }
 },
 "nbformat": 4,
 "nbformat_minor": 5
}
