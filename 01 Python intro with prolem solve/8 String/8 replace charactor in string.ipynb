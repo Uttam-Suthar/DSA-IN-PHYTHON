{
 "cells": [
  {
   "cell_type": "code",
   "execution_count": 10,
   "id": "f0f30db0",
   "metadata": {},
   "outputs": [
    {
     "name": "stdout",
     "output_type": "stream",
     "text": [
      "fdafdavxz\n"
     ]
    }
   ],
   "source": [
    "def replace(str,char1,char2):\n",
    "    newstr=\"\"\n",
    "    for char in str:\n",
    "        if char==char1:\n",
    "            newstr =newstr+char2\n",
    "        else:\n",
    "            newstr += char\n",
    "    return newstr        \n",
    "        \n",
    "str='fsafsavxz'\n",
    "str= replace(str,\"s\",\"d\")\n",
    "print(str)"
   ]
  }
 ],
 "metadata": {
  "kernelspec": {
   "display_name": "Python 3 (ipykernel)",
   "language": "python",
   "name": "python3"
  },
  "language_info": {
   "codemirror_mode": {
    "name": "ipython",
    "version": 3
   },
   "file_extension": ".py",
   "mimetype": "text/x-python",
   "name": "python",
   "nbconvert_exporter": "python",
   "pygments_lexer": "ipython3",
   "version": "3.10.9"
  }
 },
 "nbformat": 4,
 "nbformat_minor": 5
}
