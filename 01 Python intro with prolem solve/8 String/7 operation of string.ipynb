{
 "cells": [
  {
   "cell_type": "code",
   "execution_count": 8,
   "id": "44ce8561",
   "metadata": {},
   "outputs": [
    {
     "name": "stdout",
     "output_type": "stream",
     "text": [
      "['my', 'name', 'is', 'uttam']\n"
     ]
    }
   ],
   "source": [
    "str=\"my name is uttam\"\n",
    "li= str.split(\" \")\n",
    "print(li)"
   ]
  },
  {
   "cell_type": "code",
   "execution_count": 11,
   "id": "a63ce452",
   "metadata": {},
   "outputs": [
    {
     "name": "stdout",
     "output_type": "stream",
     "text": [
      "['my', 'name is uttam']\n"
     ]
    }
   ],
   "source": [
    "str=\"my name is uttam\"\n",
    "li= str.split(\" \",1)\n",
    "print(li)"
   ]
  },
  {
   "cell_type": "code",
   "execution_count": 12,
   "id": "b3171961",
   "metadata": {},
   "outputs": [
    {
     "name": "stdout",
     "output_type": "stream",
     "text": [
      "['my', 'name', 'is uttam']\n"
     ]
    }
   ],
   "source": [
    "str=\"my name is uttam\"\n",
    "li= str.split(\" \",2)\n",
    "print(li)"
   ]
  },
  {
   "cell_type": "markdown",
   "id": "c3dfd076",
   "metadata": {},
   "source": [
    "replace"
   ]
  },
  {
   "cell_type": "code",
   "execution_count": 13,
   "id": "76bf5841",
   "metadata": {},
   "outputs": [
    {
     "name": "stdout",
     "output_type": "stream",
     "text": [
      "my Name is Uttam\n"
     ]
    }
   ],
   "source": [
    "str=\"my Name is Uttam\"\n",
    "str.replace(\"uttam\",\"dinesh\")       # first store then replace\n",
    "print(str)"
   ]
  },
  {
   "cell_type": "code",
   "execution_count": 36,
   "id": "c9095c03",
   "metadata": {},
   "outputs": [
    {
     "name": "stdout",
     "output_type": "stream",
     "text": [
      "my Name is dinesh,Uttam\n"
     ]
    }
   ],
   "source": [
    "str1=\"my Name is Uttam,Uttam\"\n",
    "str2 = str1.replace(\"Uttam\",\"dinesh\",1)       # first store then replace\n",
    "print(str2)"
   ]
  },
  {
   "cell_type": "code",
   "execution_count": 38,
   "id": "7e5fee5a",
   "metadata": {},
   "outputs": [
    {
     "name": "stdout",
     "output_type": "stream",
     "text": [
      "11\n"
     ]
    }
   ],
   "source": [
    "str= \"my name is uttams\"\n",
    "index = str.find(\"utt\")\n",
    "print(index)"
   ]
  },
  {
   "cell_type": "code",
   "execution_count": 45,
   "id": "0b65d769",
   "metadata": {},
   "outputs": [
    {
     "name": "stdout",
     "output_type": "stream",
     "text": [
      "-1\n"
     ]
    }
   ],
   "source": [
    "str= \"my name is uttams\"\n",
    "index = str.find(\"utt\",11,13)\n",
    "print(index)"
   ]
  },
  {
   "cell_type": "code",
   "execution_count": 47,
   "id": "9ecffcb4",
   "metadata": {},
   "outputs": [
    {
     "name": "stdout",
     "output_type": "stream",
     "text": [
      "11\n"
     ]
    }
   ],
   "source": [
    "str= \"my name is uttams\"\n",
    "index = str.find(\"utt\",11,14)\n",
    "\n",
    "print(index)"
   ]
  },
  {
   "cell_type": "code",
   "execution_count": 49,
   "id": "57dc7be2",
   "metadata": {},
   "outputs": [
    {
     "name": "stdout",
     "output_type": "stream",
     "text": [
      "MY NAME IS UTTAM\n",
      "my name is uttam\n"
     ]
    }
   ],
   "source": [
    "str=\"my name is uttam\"\n",
    "a= str.lower()\n",
    "print(str.upper())\n",
    "print(a)"
   ]
  },
  {
   "cell_type": "code",
   "execution_count": 52,
   "id": "341d24c6",
   "metadata": {},
   "outputs": [
    {
     "name": "stdout",
     "output_type": "stream",
     "text": [
      "True\n"
     ]
    }
   ],
   "source": [
    "str=\"my name is uttam\"\n",
    "ans= str.startswith(\"ut\",11,14)\n",
    "print(ans)"
   ]
  },
  {
   "cell_type": "code",
   "execution_count": 53,
   "id": "f903271d",
   "metadata": {},
   "outputs": [
    {
     "name": "stdout",
     "output_type": "stream",
     "text": [
      "False\n"
     ]
    }
   ],
   "source": [
    "str=\"my name is uttam\"\n",
    "ans= str.startswith(\"ut\",10,14)\n",
    "print(ans)"
   ]
  },
  {
   "cell_type": "code",
   "execution_count": 54,
   "id": "28a5759f",
   "metadata": {},
   "outputs": [
    {
     "name": "stdout",
     "output_type": "stream",
     "text": [
      "False\n"
     ]
    }
   ],
   "source": [
    "str=\"my name is uttam\"\n",
    "ans= str.startswith(\"uta\",11,14)\n",
    "print(ans)"
   ]
  }
 ],
 "metadata": {
  "kernelspec": {
   "display_name": "Python 3 (ipykernel)",
   "language": "python",
   "name": "python3"
  },
  "language_info": {
   "codemirror_mode": {
    "name": "ipython",
    "version": 3
   },
   "file_extension": ".py",
   "mimetype": "text/x-python",
   "name": "python",
   "nbconvert_exporter": "python",
   "pygments_lexer": "ipython3",
   "version": "3.10.9"
  }
 },
 "nbformat": 4,
 "nbformat_minor": 5
}
