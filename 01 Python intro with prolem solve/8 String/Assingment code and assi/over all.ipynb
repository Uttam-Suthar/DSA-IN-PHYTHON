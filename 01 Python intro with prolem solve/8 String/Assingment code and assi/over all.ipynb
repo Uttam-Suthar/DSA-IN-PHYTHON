{
 "cells": [
  {
   "cell_type": "markdown",
   "id": "081e2f16",
   "metadata": {},
   "source": [
    "# Permutation\n"
   ]
  },
  {
   "cell_type": "code",
   "execution_count": 7,
   "id": "83c10e86",
   "metadata": {},
   "outputs": [
    {
     "name": "stdout",
     "output_type": "stream",
     "text": [
      "false\n"
     ]
    }
   ],
   "source": [
    "def isPermutation(string1, string2) :\n",
    "    ptr = 0\n",
    "    if len(string1) != len(string2):\n",
    "        return False\n",
    "    arr = [0]*256\n",
    "    for i in range(0,len(string1)):\n",
    "        arr[ord(string1[i])] = arr[ord(string1[i])] + 1 \n",
    "    for i in range(0,len(string2)):\n",
    "        arr[ord(string2[i])] = arr[ord(string2[i])] - 1\n",
    "    for i in range(256):\n",
    "        if arr[i] != 0:\n",
    "            return False\n",
    "    return True\n",
    "\n",
    "\n",
    "string1=\"race\"\n",
    "string2=\"rate\"\n",
    "\n",
    "ans = isPermutation(string1, string2)\n",
    "\n",
    "if ans :\n",
    "    print('true')\n",
    "else :\n",
    "    print('false')"
   ]
  },
  {
   "cell_type": "markdown",
   "id": "a4deec40",
   "metadata": {},
   "source": [
    "# Remove Consecutive Duplicates"
   ]
  },
  {
   "cell_type": "code",
   "execution_count": 10,
   "id": "2a6de4c8",
   "metadata": {},
   "outputs": [
    {
     "name": "stdout",
     "output_type": "stream",
     "text": [
      "a\n"
     ]
    }
   ],
   "source": [
    "def removeConsecutiveDuplicates(string) :\n",
    "\t# Your code goes here\n",
    "\n",
    "    ans = ''\n",
    "    for i in string:\n",
    "        if ans =='' or i != ans[len(ans)-1]:\n",
    "            ans += i\n",
    "    return ans\n",
    "\n",
    "string=\"aaaa\"\n",
    "# string=\"aabbbcc\"\n",
    "ans = removeConsecutiveDuplicates(string)\n",
    "\n",
    "print(ans)"
   ]
  },
  {
   "cell_type": "markdown",
   "id": "3f59f529",
   "metadata": {},
   "source": [
    "# Reverse Each Word"
   ]
  },
  {
   "cell_type": "code",
   "execution_count": 11,
   "id": "c2dc5c32",
   "metadata": {},
   "outputs": [
    {
     "name": "stdout",
     "output_type": "stream",
     "text": [
      "syawlA tnedni ruoy edoc \n"
     ]
    }
   ],
   "source": [
    "def reverseEachWord(string) :\n",
    "\t# Your code goes here\n",
    "\n",
    "    arr = string.split(' ')\n",
    "    ans = ''\n",
    "    for i in range(len(arr)):\n",
    "        temp = arr[i]\n",
    "        temp = temp[::-1]\n",
    "        ans += temp + ' '\n",
    "    return ans\n",
    "string=\"Always indent your code\"\n",
    "ans = reverseEachWord(string)\n",
    "\n",
    "print(ans)"
   ]
  },
  {
   "cell_type": "markdown",
   "id": "d96aa507",
   "metadata": {},
   "source": [
    "# Remove character"
   ]
  },
  {
   "cell_type": "code",
   "execution_count": 12,
   "id": "19d1226b",
   "metadata": {},
   "outputs": [
    {
     "name": "stdout",
     "output_type": "stream",
     "text": [
      "bccb\n"
     ]
    }
   ],
   "source": [
    "def removeAllOccurrencesOfChar(string, ch) :\n",
    "\t# Your code goes here\n",
    "\n",
    "    ans = ''\n",
    "    for i in range(len(string)):\n",
    "        if ord(string[i]) != ord(ch):\n",
    "            ans += string[i]\n",
    "    return ans\n",
    "\n",
    "string=\"aabccbaa\"\n",
    "ch=\"a\"\n",
    "ans = removeAllOccurrencesOfChar(string, ch)\n",
    "\n",
    "print(ans)"
   ]
  },
  {
   "cell_type": "markdown",
   "id": "0fe4266a",
   "metadata": {},
   "source": [
    "# Highest Occuring Character"
   ]
  },
  {
   "cell_type": "code",
   "execution_count": 20,
   "id": "488e7616",
   "metadata": {},
   "outputs": [
    {
     "name": "stdout",
     "output_type": "stream",
     "text": [
      "a\n"
     ]
    }
   ],
   "source": [
    "def highestOccuringChar(string) :\n",
    "\t#Your code goes here\n",
    "\n",
    "\n",
    "    maxFrequency = 0\n",
    "    arr = [0]*256\n",
    "    ans = ''\n",
    "    for i in range(len(string)):\n",
    "        arr[ord(string[i])] += 1\n",
    "        # To find which number is the highest in the array\n",
    "        maxFrequency = max(maxFrequency, arr[ord(string[i])])\n",
    "    \n",
    "    # To map which which char has the highest frequency\n",
    "    for i in range(len(string)):\n",
    "        if arr[ord(string[i])] == maxFrequency:\n",
    "            ans = string[i]\n",
    "            break\n",
    "    return ans\n",
    "\n",
    "\n",
    "string = \"aabcadb\"\n",
    "ans = highestOccuringChar(string)\n",
    "\n",
    "print(ans)"
   ]
  },
  {
   "cell_type": "markdown",
   "id": "05b6a5e8",
   "metadata": {},
   "source": [
    "# Compress the String"
   ]
  },
  {
   "cell_type": "code",
   "execution_count": 22,
   "id": "c1c52b9b",
   "metadata": {},
   "outputs": [
    {
     "name": "stdout",
     "output_type": "stream",
     "text": [
      "a3b2cd2e5\n"
     ]
    }
   ],
   "source": [
    "def getCompressedString(input) :\n",
    "\t# Write your code here.\n",
    "\t# pass\n",
    "\n",
    "    n = len(string)\n",
    "    ans = ''\n",
    "    cur = 1\n",
    "\n",
    "    ans +=string[0]\n",
    "    \n",
    "    for i in range(1,n):\n",
    "        if string[i] == string[i-1]:\n",
    "            cur +=1\n",
    "        else:\n",
    "            if cur > 1:\n",
    "                ans += str(cur)\n",
    "                cur = 1\n",
    "            ans +=string[i]\n",
    "\n",
    "    if cur > 1:\n",
    "        ans += str(cur)\n",
    "    \n",
    "    return(ans)\n",
    "\n",
    "# Main.\n",
    "string = \"aaabbcddeeeee\"\n",
    "ans = getCompressedString(string)\n",
    "print(ans)"
   ]
  }
 ],
 "metadata": {
  "kernelspec": {
   "display_name": "Python 3 (ipykernel)",
   "language": "python",
   "name": "python3"
  },
  "language_info": {
   "codemirror_mode": {
    "name": "ipython",
    "version": 3
   },
   "file_extension": ".py",
   "mimetype": "text/x-python",
   "name": "python",
   "nbconvert_exporter": "python",
   "pygments_lexer": "ipython3",
   "version": "3.10.9"
  }
 },
 "nbformat": 4,
 "nbformat_minor": 5
}
