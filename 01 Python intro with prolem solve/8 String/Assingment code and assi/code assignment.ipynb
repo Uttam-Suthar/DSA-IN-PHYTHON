{
 "cells": [
  {
   "cell_type": "markdown",
   "id": "c00831ce",
   "metadata": {},
   "source": [
    "# palindrome string"
   ]
  },
  {
   "cell_type": "code",
   "execution_count": 12,
   "id": "0fcc7260",
   "metadata": {},
   "outputs": [
    {
     "name": "stdout",
     "output_type": "stream",
     "text": [
      "'aja'\n",
      "true\n"
     ]
    }
   ],
   "source": [
    "def palindrome(string):\n",
    "    temp=string[::-1]\n",
    "    if string== temp:\n",
    "        return 1\n",
    "    else:\n",
    "        return 0\n",
    "    \n",
    "str= input()    \n",
    "palindrome(str)  \n",
    "if palindrome(str):\n",
    "    print('true')\n",
    "else:\n",
    "    print('false')\n",
    "# print(a)    "
   ]
  },
  {
   "cell_type": "code",
   "execution_count": 2,
   "id": "17a01eff",
   "metadata": {},
   "outputs": [
    {
     "name": "stdout",
     "output_type": "stream",
     "text": [
      "'aja'\n",
      "true\n"
     ]
    }
   ],
   "source": [
    "def palindrome(string):\n",
    "    start=0\n",
    "    end=len(string)-1\n",
    "    while start<end:\n",
    "        if string[start] !=string[end]:\n",
    "            return False\n",
    "\n",
    "        else:\n",
    "            start +=1\n",
    "            end -=1\n",
    "    return True\n",
    "            \n",
    "    \n",
    "str= input()    \n",
    "palindrome(str)  \n",
    "if palindrome(str):\n",
    "    print('true')\n",
    "else:\n",
    "    print('false')"
   ]
  },
  {
   "cell_type": "code",
   "execution_count": null,
   "id": "ef0e9a15",
   "metadata": {},
   "outputs": [],
   "source": []
  },
  {
   "cell_type": "code",
   "execution_count": null,
   "id": "018bdff9",
   "metadata": {},
   "outputs": [],
   "source": []
  },
  {
   "cell_type": "code",
   "execution_count": null,
   "id": "f9971593",
   "metadata": {},
   "outputs": [],
   "source": []
  },
  {
   "cell_type": "code",
   "execution_count": null,
   "id": "239d02a2",
   "metadata": {},
   "outputs": [],
   "source": []
  },
  {
   "cell_type": "code",
   "execution_count": null,
   "id": "74abab0e",
   "metadata": {},
   "outputs": [],
   "source": []
  },
  {
   "cell_type": "code",
   "execution_count": null,
   "id": "abe9a0aa",
   "metadata": {},
   "outputs": [],
   "source": []
  }
 ],
 "metadata": {
  "kernelspec": {
   "display_name": "Python 3 (ipykernel)",
   "language": "python",
   "name": "python3"
  },
  "language_info": {
   "codemirror_mode": {
    "name": "ipython",
    "version": 3
   },
   "file_extension": ".py",
   "mimetype": "text/x-python",
   "name": "python",
   "nbconvert_exporter": "python",
   "pygments_lexer": "ipython3",
   "version": "3.10.9"
  }
 },
 "nbformat": 4,
 "nbformat_minor": 5
}
