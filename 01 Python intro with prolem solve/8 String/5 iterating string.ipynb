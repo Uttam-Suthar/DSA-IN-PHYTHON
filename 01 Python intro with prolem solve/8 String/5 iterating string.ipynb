{
 "cells": [
  {
   "cell_type": "code",
   "execution_count": 2,
   "id": "fa344c92",
   "metadata": {},
   "outputs": [
    {
     "name": "stdout",
     "output_type": "stream",
     "text": [
      "3\n"
     ]
    }
   ],
   "source": [
    "str=\"hello world\"\n",
    "count=0\n",
    "for letter in str:\n",
    "    if letter=='l':\n",
    "        count=count+1\n",
    "print(count)        "
   ]
  },
  {
   "cell_type": "code",
   "execution_count": 4,
   "id": "aec2feea",
   "metadata": {},
   "outputs": [
    {
     "name": "stdout",
     "output_type": "stream",
     "text": [
      "3\n"
     ]
    }
   ],
   "source": [
    "str=\"hello world\"\n",
    "count=0\n",
    "for i in range(len(str)):\n",
    "    if str[i]=='l':\n",
    "        count=count+1\n",
    "print(count)"
   ]
  },
  {
   "cell_type": "code",
   "execution_count": 7,
   "id": "3922dc67",
   "metadata": {},
   "outputs": [
    {
     "name": "stdout",
     "output_type": "stream",
     "text": [
      "yes it is a substring\n"
     ]
    }
   ],
   "source": [
    "str=\"hello\"\n",
    "if 'hel' in str:\n",
    "    print(\"yes it is a substring\")\n",
    "else :\n",
    "    print('not substrinh')\n",
    "\n"
   ]
  },
  {
   "cell_type": "code",
   "execution_count": 9,
   "id": "8d9e6a27",
   "metadata": {},
   "outputs": [
    {
     "name": "stdout",
     "output_type": "stream",
     "text": [
      "yes it is not a substring\n"
     ]
    }
   ],
   "source": [
    "str=\"hello\"\n",
    "if 'helo' not in str:\n",
    "    print(\"yes it is not a substring\")\n",
    "else :\n",
    "    print('yes it substring')\n"
   ]
  }
 ],
 "metadata": {
  "kernelspec": {
   "display_name": "Python 3 (ipykernel)",
   "language": "python",
   "name": "python3"
  },
  "language_info": {
   "codemirror_mode": {
    "name": "ipython",
    "version": 3
   },
   "file_extension": ".py",
   "mimetype": "text/x-python",
   "name": "python",
   "nbconvert_exporter": "python",
   "pygments_lexer": "ipython3",
   "version": "3.10.9"
  }
 },
 "nbformat": 4,
 "nbformat_minor": 5
}
