{
 "cells": [
  {
   "cell_type": "code",
   "execution_count": 1,
   "id": "ec015fbb",
   "metadata": {},
   "outputs": [
    {
     "data": {
      "text/plain": [
       "'uttam'"
      ]
     },
     "execution_count": 1,
     "metadata": {},
     "output_type": "execute_result"
    }
   ],
   "source": [
    "s='uttam'\n",
    "s"
   ]
  },
  {
   "cell_type": "code",
   "execution_count": 13,
   "id": "50a08f99",
   "metadata": {},
   "outputs": [
    {
     "name": "stdout",
     "output_type": "stream",
     "text": [
      "u\n"
     ]
    },
    {
     "data": {
      "text/plain": [
       "'m'"
      ]
     },
     "execution_count": 13,
     "metadata": {},
     "output_type": "execute_result"
    }
   ],
   "source": [
    "s=\"uttam\"\n",
    "print(s[0])\n",
    "s[-1]\n"
   ]
  },
  {
   "cell_type": "code",
   "execution_count": 10,
   "id": "8ae91c30",
   "metadata": {},
   "outputs": [
    {
     "data": {
      "text/plain": [
       "'\\n'"
      ]
     },
     "execution_count": 10,
     "metadata": {},
     "output_type": "execute_result"
    }
   ],
   "source": [
    "s='''my\n",
    "Name\n",
    "uttam'''\n",
    "s\n",
    "s[0]\n",
    "s[1]\n",
    "s[2]      # end of the charector"
   ]
  },
  {
   "cell_type": "code",
   "execution_count": null,
   "id": "a495743e",
   "metadata": {},
   "outputs": [],
   "source": []
  },
  {
   "cell_type": "code",
   "execution_count": null,
   "id": "fa2f093d",
   "metadata": {},
   "outputs": [],
   "source": []
  }
 ],
 "metadata": {
  "kernelspec": {
   "display_name": "Python 3 (ipykernel)",
   "language": "python",
   "name": "python3"
  },
  "language_info": {
   "codemirror_mode": {
    "name": "ipython",
    "version": 3
   },
   "file_extension": ".py",
   "mimetype": "text/x-python",
   "name": "python",
   "nbconvert_exporter": "python",
   "pygments_lexer": "ipython3",
   "version": "3.10.9"
  }
 },
 "nbformat": 4,
 "nbformat_minor": 5
}
