{
 "cells": [
  {
   "cell_type": "markdown",
   "id": "f7d62012",
   "metadata": {},
   "source": [
    "# star pattern"
   ]
  },
  {
   "cell_type": "code",
   "execution_count": 2,
   "id": "ccbf7490",
   "metadata": {},
   "outputs": [
    {
     "name": "stdout",
     "output_type": "stream",
     "text": [
      "5\n",
      "    *\n",
      "   ***\n",
      "  *****\n",
      " *******\n",
      "*********\n"
     ]
    }
   ],
   "source": [
    "n = int(input())\n",
    "i=1\n",
    "while i<=n:\n",
    "    space =1\n",
    "    while space<=n-i:\n",
    "        print(\" \",end=\"\")\n",
    "        space=space+1\n",
    "    # increasing seq\n",
    "    j=1\n",
    "    p=1\n",
    "    while j<=i:\n",
    "        print(\"*\",end=\"\")\n",
    "        p=p+1\n",
    "        j=j+1\n",
    "    # decreasing seq\n",
    "    j=i-1\n",
    "    while j>=1:\n",
    "        print(\"*\",end='')\n",
    "        j=j-1\n",
    "    print()\n",
    "    i=i+1"
   ]
  },
  {
   "cell_type": "code",
   "execution_count": 4,
   "id": "8e4c50ce",
   "metadata": {},
   "outputs": [
    {
     "name": "stdout",
     "output_type": "stream",
     "text": [
      "5\n",
      "    *\n",
      "   ***\n",
      "  *****\n",
      " *******\n",
      "*********\n"
     ]
    }
   ],
   "source": [
    "n = int(input())\n",
    "i=1\n",
    "while i<=n:\n",
    "    space =1\n",
    "    while space<=n-i:\n",
    "        print(\" \",end=\"\")\n",
    "        space=space+1\n",
    "    # increasing seq\n",
    "    j=1\n",
    "    while j<=(2*i-1):\n",
    "        print(\"*\",end=\"\")\n",
    "        \n",
    "        j=j+1\n",
    "    print()\n",
    "    i=i+1"
   ]
  },
  {
   "cell_type": "markdown",
   "id": "902e34e1",
   "metadata": {},
   "source": [
    "# Triangle of number pattern"
   ]
  },
  {
   "cell_type": "markdown",
   "id": "d2f8e8de",
   "metadata": {},
   "source": [
    "   1\n",
    "  232 \n",
    " 34543\n",
    "4567654"
   ]
  },
  {
   "cell_type": "code",
   "execution_count": 25,
   "id": "7a5fe840",
   "metadata": {},
   "outputs": [
    {
     "name": "stdout",
     "output_type": "stream",
     "text": [
      "5\n",
      "    1\n",
      "   232\n",
      "  34543\n",
      " 4567654\n",
      "567898765\n"
     ]
    }
   ],
   "source": [
    "n=int(input())\n",
    "i=1\n",
    "while i<=n:\n",
    "    space=1\n",
    "    while space<=n-i:\n",
    "        print(\" \",end=\"\")\n",
    "        space=space+1\n",
    "    #increament seq    \n",
    "    j=1    \n",
    "    while j<=i:\n",
    "        print(i+j-1,end=\"\")\n",
    "        j=j+1\n",
    "    # decreament seq  \n",
    "    j=i-1\n",
    "    while j>=1:\n",
    "        print(i+j-1,end=\"\")\n",
    "        j=j-1\n",
    "    print()\n",
    "    i=i+1\n",
    "    \n"
   ]
  },
  {
   "cell_type": "code",
   "execution_count": 1,
   "id": "c67aeafe",
   "metadata": {},
   "outputs": [
    {
     "name": "stdout",
     "output_type": "stream",
     "text": [
      "5\n",
      "    1\n",
      "   232\n",
      "  34543\n",
      " 4567654\n",
      "567898765\n"
     ]
    }
   ],
   "source": [
    "n=int(input())\n",
    "i=1\n",
    "while i<=n:\n",
    "    space=1\n",
    "    while space<=n-i:\n",
    "        print(\" \",end=\"\")\n",
    "        space=space+1\n",
    "    #increament seq    \n",
    "    j=1    \n",
    "    p=i\n",
    "    while j<=i:\n",
    "        print(p,end=\"\")\n",
    "        j=j+1\n",
    "        p=p+1\n",
    "    # decreament seq  \n",
    "    j=1\n",
    "    p=2*i-2\n",
    "    while j<=i-1:\n",
    "        print(p,end=\"\")\n",
    "        p=p-1\n",
    "        j=j+1\n",
    "    print()\n",
    "    i=i+1\n"
   ]
  },
  {
   "cell_type": "markdown",
   "id": "ed54a7c8",
   "metadata": {},
   "source": [
    "# Diamond od star"
   ]
  },
  {
   "cell_type": "code",
   "execution_count": 2,
   "id": "4093b1dd",
   "metadata": {},
   "outputs": [
    {
     "name": "stdout",
     "output_type": "stream",
     "text": [
      "5\n",
      "  *\n",
      " ***\n",
      "*****\n",
      " ***\n",
      "  *\n"
     ]
    }
   ],
   "source": [
    "n = int(input())\n",
    "n1 = (n+1)//2\n",
    "\n",
    "i = 1\n",
    "while i <= n1:\n",
    "    s= 1\n",
    "    # upper space \n",
    "    while s <= n1 - i:\n",
    "        print(' ', end = '')\n",
    "        s=s+1\n",
    "    \n",
    "    #upeer print  stars\n",
    "    j=1\n",
    "    while j <= 2 * i - 1:\n",
    "        print('*',end = '')\n",
    "        j =j+1   \n",
    "    \n",
    "    print()\n",
    "    i=i+1\n",
    "\n",
    "n2 = n//2\n",
    "i1 = 1\n",
    "while i1<= n2:\n",
    "\n",
    "    #lower spaces\n",
    "    s1 = 1\n",
    "    while s1 <= i1:\n",
    "        print(' ',end = '')\n",
    "        s1=s1+1\n",
    "\n",
    "    #lower print star\n",
    "    j1 = 1\n",
    "    while j1 <= n-(2 * i1 ):\n",
    "        print('*',end = '')\n",
    "        j1=j1+1\n",
    "    \n",
    "    i1=i1+1\n",
    "    print()"
   ]
  }
 ],
 "metadata": {
  "kernelspec": {
   "display_name": "Python 3 (ipykernel)",
   "language": "python",
   "name": "python3"
  },
  "language_info": {
   "codemirror_mode": {
    "name": "ipython",
    "version": 3
   },
   "file_extension": ".py",
   "mimetype": "text/x-python",
   "name": "python",
   "nbconvert_exporter": "python",
   "pygments_lexer": "ipython3",
   "version": "3.10.9"
  }
 },
 "nbformat": 4,
 "nbformat_minor": 5
}
