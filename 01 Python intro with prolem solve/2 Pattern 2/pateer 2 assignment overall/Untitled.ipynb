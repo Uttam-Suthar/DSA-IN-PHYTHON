{
 "cells": [
  {
   "cell_type": "markdown",
   "id": "35632fe5",
   "metadata": {},
   "source": [
    "# Number pattern\n"
   ]
  },
  {
   "cell_type": "markdown",
   "id": "9625cb0c",
   "metadata": {},
   "source": [
    "1        1\n",
    "12      21\n",
    "123    321\n",
    "1234  4321\n",
    "1234554321"
   ]
  },
  {
   "cell_type": "code",
   "execution_count": 1,
   "id": "04265244",
   "metadata": {},
   "outputs": [
    {
     "name": "stdout",
     "output_type": "stream",
     "text": [
      "5\n",
      "1        1\n",
      "12      21\n",
      "123    321\n",
      "1234  4321\n",
      "1234554321\n"
     ]
    }
   ],
   "source": [
    "n=int(input())\n",
    "i=1\n",
    "while i<=n:\n",
    "    j=1\n",
    "    while j<=i:\n",
    "        print(j,end=\"\")\n",
    "        j=j+1\n",
    "    s=1\n",
    "    while s<=2*n-2*i:\n",
    "        print(\" \",end=\"\")\n",
    "        s=s+1\n",
    "    j=i\n",
    "    while j>=1:\n",
    "        print(j,end=\"\")\n",
    "        j=j-1\n",
    "    print()\n",
    "    i=i+1 "
   ]
  },
  {
   "cell_type": "markdown",
   "id": "33b43c0c",
   "metadata": {},
   "source": [
    "# zero and star print"
   ]
  },
  {
   "cell_type": "markdown",
   "id": "c871f031",
   "metadata": {},
   "source": [
    "*0000*0000*\n",
    "0*000*000*0\n",
    "00*00*00*00\n",
    "000*0*0*000\n",
    "0000***0000"
   ]
  },
  {
   "cell_type": "code",
   "execution_count": 13,
   "id": "3d053198",
   "metadata": {},
   "outputs": [
    {
     "name": "stdout",
     "output_type": "stream",
     "text": [
      "5\n",
      "*0000*0000*\n",
      "0*000*000*0\n",
      "00*00*00*00\n",
      "000*0*0*000\n",
      "0000***0000\n"
     ]
    }
   ],
   "source": [
    "n=int(input())\n",
    "i=1\n",
    "\n",
    "while i<=n:\n",
    "    j=1\n",
    "    while j<=n:\n",
    "        if i==j:\n",
    "            print(\"*\",end=\"\")\n",
    "        else:\n",
    "            print(0,end=\"\")\n",
    "        j=j+1  \n",
    "    print(\"*\",end=\"\")    \n",
    "    j=j-1\n",
    "    while j>=1:\n",
    "        if i==j:\n",
    "            print(\"*\",end=\"\")\n",
    "        else:\n",
    "            print(0,end=\"\")\n",
    "        j=j-1\n",
    "    print()\n",
    "    i=i+1\n",
    "        \n",
    "    "
   ]
  },
  {
   "cell_type": "markdown",
   "id": "3e56b751",
   "metadata": {},
   "source": [
    "pyramid number pattern "
   ]
  },
  {
   "cell_type": "code",
   "execution_count": null,
   "id": "5bbf7be1",
   "metadata": {},
   "outputs": [],
   "source": [
    "n =  int(input())\n",
    "i = 1\n",
    "while (i <= n):\n",
    "    s =1\n",
    "    while (s <= n-i):\n",
    "        print(\" \", end='')\n",
    "        s =s+ 1\n",
    "    \n",
    "    j = 1\n",
    "    p = i\n",
    "    while (j <= i):\n",
    "        print(p, end='')\n",
    "        p =p-1\n",
    "        j =j+1 \n",
    "    \n",
    "    k = 1\n",
    "    while (k <= i-1):\n",
    "        print(k+1, end='')\n",
    "        k =k+1\n",
    "    print()\n",
    "    i =i+1"
   ]
  },
  {
   "cell_type": "markdown",
   "id": "ad86dd3e",
   "metadata": {},
   "source": [
    "Arro patern"
   ]
  },
  {
   "cell_type": "code",
   "execution_count": null,
   "id": "0953146e",
   "metadata": {},
   "outputs": [],
   "source": [
    "n = int(input())\n",
    "n1 = (n+1)//2\n",
    "\n",
    "\n",
    "i = 1\n",
    "while (i <= n1):\n",
    "    #upper spaces\n",
    "    j = 1\n",
    "    while (j <= i-1):\n",
    "        print(' ', end =\"\")\n",
    "        j =j+1\n",
    "    \n",
    "    #top half stars\n",
    "    k = 1\n",
    "    while (k <=i):\n",
    "        print('* ', end =\"\")\n",
    "        k=1+k\n",
    "    print()\n",
    "    i =i+1\n",
    "n2 = n//2\n",
    "y = 1\n",
    "while (y <= n2):\n",
    "    #bottom spaces\n",
    "    j = 1\n",
    "    while (j <= n2 -y):\n",
    "        print(' ', end =\"\")\n",
    "        j =j+1\n",
    "    \n",
    "    #bottom stars\n",
    "    k = 1\n",
    "    while (k <=n2 -y+1):\n",
    "        print('* ', end =\"\")\n",
    "        k =k+1\n",
    "    print()\n",
    "    y =y+1"
   ]
  }
 ],
 "metadata": {
  "kernelspec": {
   "display_name": "Python 3 (ipykernel)",
   "language": "python",
   "name": "python3"
  },
  "language_info": {
   "codemirror_mode": {
    "name": "ipython",
    "version": 3
   },
   "file_extension": ".py",
   "mimetype": "text/x-python",
   "name": "python",
   "nbconvert_exporter": "python",
   "pygments_lexer": "ipython3",
   "version": "3.10.9"
  }
 },
 "nbformat": 4,
 "nbformat_minor": 5
}
