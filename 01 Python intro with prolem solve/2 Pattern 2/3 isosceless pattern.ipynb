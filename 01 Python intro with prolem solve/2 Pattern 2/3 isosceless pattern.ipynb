{
 "cells": [
  {
   "cell_type": "markdown",
   "id": "428b8725",
   "metadata": {},
   "source": [
    "# isosceless pattern"
   ]
  },
  {
   "cell_type": "markdown",
   "id": "a30ef7af",
   "metadata": {},
   "source": [
    "    1\n",
    "   121\n",
    "  12321\n",
    " 1234321"
   ]
  },
  {
   "cell_type": "code",
   "execution_count": 4,
   "id": "f29c16d0",
   "metadata": {},
   "outputs": [
    {
     "name": "stdout",
     "output_type": "stream",
     "text": [
      "5\n",
      "    1\n",
      "   121\n",
      "  12321\n",
      " 1234321\n",
      "123454321\n"
     ]
    }
   ],
   "source": [
    "n = int(input())\n",
    "i=1\n",
    "while i<=n:\n",
    "    space =1\n",
    "    while space<=n-i:\n",
    "        print(\" \",end=\"\")\n",
    "        space=space+1\n",
    "    # increasing seq\n",
    "    j=1\n",
    "    p=1\n",
    "    while j<=i:\n",
    "        print(j,end=\"\")\n",
    "        p=p+1\n",
    "        j=j+1\n",
    "    # decreasing seq\n",
    "    j=i-1\n",
    "    while j>=1:\n",
    "        print(j,end='')\n",
    "        j=j-1\n",
    "    print()\n",
    "    i=i+1"
   ]
  },
  {
   "cell_type": "code",
   "execution_count": null,
   "id": "0f39b74c",
   "metadata": {},
   "outputs": [],
   "source": [
    "n=int(input())\n",
    "i=1\n",
    "while i<=n:\n",
    "    space=1\n",
    "    while space<=n-i:\n",
    "        print(\" \",end=\"\")\n",
    "        space=space+1\n",
    "    #increament seq    \n",
    "    j=1    \n",
    "    p=i\n",
    "    while j<=i:\n",
    "        print(p,end=\"\")\n",
    "        j=j+1\n",
    "        p=p+1\n",
    "    # decreament seq  \n",
    "    j=1\n",
    "    p=2*i-2\n",
    "    while j<=i-1:\n",
    "        print(p,end=\"\")\n",
    "        p=p-1\n",
    "        j=j+1\n",
    "    print()\n",
    "    i=i+1\n"
   ]
  }
 ],
 "metadata": {
  "kernelspec": {
   "display_name": "Python 3 (ipykernel)",
   "language": "python",
   "name": "python3"
  },
  "language_info": {
   "codemirror_mode": {
    "name": "ipython",
    "version": 3
   },
   "file_extension": ".py",
   "mimetype": "text/x-python",
   "name": "python",
   "nbconvert_exporter": "python",
   "pygments_lexer": "ipython3",
   "version": "3.10.9"
  }
 },
 "nbformat": 4,
 "nbformat_minor": 5
}
