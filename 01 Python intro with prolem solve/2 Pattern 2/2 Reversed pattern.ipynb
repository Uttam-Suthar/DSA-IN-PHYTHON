{
 "cells": [
  {
   "cell_type": "markdown",
   "id": "c7ee5bfa",
   "metadata": {},
   "source": [
    "# reversed pateern"
   ]
  },
  {
   "cell_type": "markdown",
   "id": "69bfb776",
   "metadata": {},
   "source": [
    "     *\n",
    "    **\n",
    "   ***\n",
    "  **** "
   ]
  },
  {
   "cell_type": "code",
   "execution_count": 1,
   "id": "d6640db9",
   "metadata": {},
   "outputs": [
    {
     "name": "stdout",
     "output_type": "stream",
     "text": [
      "4\n",
      "   *\n",
      "  **\n",
      " ***\n",
      "****\n"
     ]
    }
   ],
   "source": [
    "n=int(input())\n",
    "i=1\n",
    "while i<=n:\n",
    "    space=1\n",
    "    while space<=n-i:\n",
    "        print(\" \",end=\"\")\n",
    "        space= space+1\n",
    "    stars=1\n",
    "    while stars<=i:\n",
    "        print(\"*\",end=\"\")\n",
    "        stars=stars+1\n",
    "    print()\n",
    "    i=i+1"
   ]
  }
 ],
 "metadata": {
  "kernelspec": {
   "display_name": "Python 3 (ipykernel)",
   "language": "python",
   "name": "python3"
  },
  "language_info": {
   "codemirror_mode": {
    "name": "ipython",
    "version": 3
   },
   "file_extension": ".py",
   "mimetype": "text/x-python",
   "name": "python",
   "nbconvert_exporter": "python",
   "pygments_lexer": "ipython3",
   "version": "3.10.9"
  }
 },
 "nbformat": 4,
 "nbformat_minor": 5
}
