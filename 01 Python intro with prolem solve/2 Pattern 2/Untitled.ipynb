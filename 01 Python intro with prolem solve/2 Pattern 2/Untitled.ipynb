{
 "cells": [
  {
   "cell_type": "code",
   "execution_count": 1,
   "id": "1779883f",
   "metadata": {},
   "outputs": [
    {
     "name": "stdout",
     "output_type": "stream",
     "text": [
      "5\n",
      "  *\n",
      " ***\n",
      "*****\n",
      " ***\n",
      "  *\n"
     ]
    }
   ],
   "source": [
    "n = int(input())\n",
    "n1 = (n+1)//2\n",
    "\n",
    "i = 1\n",
    "while i <= n1:\n",
    "    s= 1\n",
    "    # upper space \n",
    "    while s <= n1 - i:\n",
    "        print(' ', end = '')\n",
    "        s=s+1\n",
    "    \n",
    "    #upeer print  stars\n",
    "    j=1\n",
    "    while j <= 2 * i - 1:\n",
    "        print('*',end = '')\n",
    "        j =j+1   \n",
    "    \n",
    "    print()\n",
    "    i=i+1\n",
    "\n",
    "n2 = n//2\n",
    "i1 = 1\n",
    "while i1<= n2:\n",
    "\n",
    "    #lower spaces\n",
    "    s1 = 1\n",
    "    while s1 <= i1:\n",
    "        print(' ',end = '')\n",
    "        s1=s1+1\n",
    "\n",
    "    #lower print star\n",
    "    j1 = 1\n",
    "    while j1 <= n1+n2-(2 * i1 ):\n",
    "        print('*',end = '')\n",
    "        j1=j1+1\n",
    "    \n",
    "    i1=i1+1\n",
    "    print()"
   ]
  }
 ],
 "metadata": {
  "kernelspec": {
   "display_name": "Python 3 (ipykernel)",
   "language": "python",
   "name": "python3"
  },
  "language_info": {
   "codemirror_mode": {
    "name": "ipython",
    "version": 3
   },
   "file_extension": ".py",
   "mimetype": "text/x-python",
   "name": "python",
   "nbconvert_exporter": "python",
   "pygments_lexer": "ipython3",
   "version": "3.10.9"
  }
 },
 "nbformat": 4,
 "nbformat_minor": 5
}
