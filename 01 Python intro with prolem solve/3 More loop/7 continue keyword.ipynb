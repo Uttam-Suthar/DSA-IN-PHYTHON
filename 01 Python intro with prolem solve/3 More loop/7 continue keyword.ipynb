{
 "cells": [
  {
   "cell_type": "code",
   "execution_count": 10,
   "id": "a1ed507e",
   "metadata": {},
   "outputs": [
    {
     "name": "stdout",
     "output_type": "stream",
     "text": [
      "10\n",
      "2\n",
      "4\n",
      "6\n",
      "8\n",
      "10\n"
     ]
    }
   ],
   "source": [
    "n=int(input())\n",
    "for i in range(2,n+1,2):\n",
    "   \n",
    "    print(i)"
   ]
  },
  {
   "cell_type": "code",
   "execution_count": 13,
   "id": "085c10a3",
   "metadata": {},
   "outputs": [
    {
     "name": "stdout",
     "output_type": "stream",
     "text": [
      "10\n"
     ]
    }
   ],
   "source": [
    "n=int(input())\n",
    "for i in range(2,n+1,2):\n",
    "    if i==2:\n",
    "        continue\n",
    "    if i%3==0 :   \n",
    "        \n",
    "        continue\n",
    "    print(i)    \n",
    "else:\n",
    "    print(\"this will be also printed\")"
   ]
  },
  {
   "cell_type": "code",
   "execution_count": 14,
   "id": "0a769341",
   "metadata": {},
   "outputs": [
    {
     "name": "stdout",
     "output_type": "stream",
     "text": [
      "10\n",
      "2\n"
     ]
    },
    {
     "data": {
      "text/plain": [
       "10"
      ]
     },
     "execution_count": 14,
     "metadata": {},
     "output_type": "execute_result"
    }
   ],
   "source": [
    "n=int(input())\n",
    "for i in range(2,n+1,2):\n",
    "    if i==4:\n",
    "        break\n",
    "    if i%3==0 :   \n",
    "        \n",
    "        continue\n",
    "    print(i)    \n",
    "else:\n",
    "    print(\"this will be also printed\")\n",
    "a=10\n",
    "a"
   ]
  },
  {
   "cell_type": "code",
   "execution_count": 18,
   "id": "5698624e",
   "metadata": {},
   "outputs": [
    {
     "name": "stdout",
     "output_type": "stream",
     "text": [
      "14\n",
      "this will be also printed\n",
      "this will be also printed\n",
      "6\n",
      "this will be also printed\n",
      "this will be also printed\n",
      "12\n",
      "this will be also printed\n"
     ]
    }
   ],
   "source": [
    "n=int(input())\n",
    "for i in range(2,n+1,2):\n",
    "    if i%3==0 :\n",
    "        print(i) \n",
    "        continue\n",
    "    else:\n",
    "        print(\"this will be also printed\")"
   ]
  },
  {
   "cell_type": "code",
   "execution_count": 26,
   "id": "8da8267b",
   "metadata": {},
   "outputs": [
    {
     "name": "stdout",
     "output_type": "stream",
     "text": [
      "10\n",
      "2\n",
      "2\n",
      "4\n",
      "4\n",
      "6\n",
      "8\n",
      "8\n",
      "10\n",
      "10\n"
     ]
    }
   ],
   "source": [
    "n=int(input())\n",
    "for i in range(2,n+1,2):\n",
    "    print(i)\n",
    "    if i%3==0:\n",
    "        continue\n",
    "    print(i)\n",
    "        "
   ]
  },
  {
   "cell_type": "code",
   "execution_count": 36,
   "id": "9e6936f9",
   "metadata": {},
   "outputs": [
    {
     "name": "stdout",
     "output_type": "stream",
     "text": [
      "10\n",
      "2\n",
      "4\n"
     ]
    },
    {
     "ename": "KeyboardInterrupt",
     "evalue": "",
     "output_type": "error",
     "traceback": [
      "\u001b[1;31m---------------------------------------------------------------------------\u001b[0m",
      "\u001b[1;31mKeyboardInterrupt\u001b[0m                         Traceback (most recent call last)",
      "Cell \u001b[1;32mIn[36], line 5\u001b[0m\n\u001b[0;32m      3\u001b[0m \u001b[38;5;28;01mwhile\u001b[39;00m i\u001b[38;5;241m<\u001b[39m\u001b[38;5;241m=\u001b[39mn:\n\u001b[0;32m      4\u001b[0m     \u001b[38;5;28;01mif\u001b[39;00m i\u001b[38;5;241m%\u001b[39m\u001b[38;5;241m3\u001b[39m\u001b[38;5;241m==\u001b[39m\u001b[38;5;241m0\u001b[39m:\n\u001b[1;32m----> 5\u001b[0m         \u001b[38;5;28;01mcontinue\u001b[39;00m\n\u001b[0;32m      6\u001b[0m     \u001b[38;5;28mprint\u001b[39m(i)\n\u001b[0;32m      7\u001b[0m     i\u001b[38;5;241m=\u001b[39mi\u001b[38;5;241m+\u001b[39m\u001b[38;5;241m2\u001b[39m\n",
      "\u001b[1;31mKeyboardInterrupt\u001b[0m: "
     ]
    }
   ],
   "source": [
    "n=int(input())\n",
    "i=2\n",
    "while i<=n:\n",
    "    if i%3==0:\n",
    "        continue\n",
    "    print(i)\n",
    "    i=i+2"
   ]
  },
  {
   "cell_type": "code",
   "execution_count": 35,
   "id": "2438ca99",
   "metadata": {},
   "outputs": [
    {
     "name": "stdout",
     "output_type": "stream",
     "text": [
      "10\n",
      "2\n",
      "4\n",
      "8\n",
      "10\n"
     ]
    }
   ],
   "source": [
    "n=int(input())\n",
    "i=2\n",
    "while i<=n:\n",
    "    if i%3==0:\n",
    "        i=i+2\n",
    "        continue\n",
    "    print(i)\n",
    "    i=i+2"
   ]
  }
 ],
 "metadata": {
  "kernelspec": {
   "display_name": "Python 3 (ipykernel)",
   "language": "python",
   "name": "python3"
  },
  "language_info": {
   "codemirror_mode": {
    "name": "ipython",
    "version": 3
   },
   "file_extension": ".py",
   "mimetype": "text/x-python",
   "name": "python",
   "nbconvert_exporter": "python",
   "pygments_lexer": "ipython3",
   "version": "3.10.9"
  }
 },
 "nbformat": 4,
 "nbformat_minor": 5
}
