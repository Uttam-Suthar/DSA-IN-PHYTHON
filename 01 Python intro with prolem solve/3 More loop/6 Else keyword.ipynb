{
 "cells": [
  {
   "cell_type": "code",
   "execution_count": 1,
   "id": "f99f62f4",
   "metadata": {},
   "outputs": [
    {
     "name": "stdout",
     "output_type": "stream",
     "text": [
      "10\n",
      "this will be printed\n"
     ]
    }
   ],
   "source": [
    "i=10\n",
    "while i<=10:\n",
    "    print(i)\n",
    "    i=i+1\n",
    "else :\n",
    "    print(\"this will be printed\")"
   ]
  },
  {
   "cell_type": "code",
   "execution_count": 2,
   "id": "70ef459e",
   "metadata": {},
   "outputs": [
    {
     "name": "stdout",
     "output_type": "stream",
     "text": [
      "1\n",
      "2\n",
      "3\n",
      "4\n",
      "5\n",
      "6\n",
      "7\n",
      "8\n",
      "9\n",
      "this will be also printed\n"
     ]
    }
   ],
   "source": [
    "for i in range(1,10):\n",
    "    print(i)\n",
    "else:\n",
    "    print(\"this will be also printed\")"
   ]
  },
  {
   "cell_type": "code",
   "execution_count": 3,
   "id": "fb4ac5de",
   "metadata": {},
   "outputs": [
    {
     "name": "stdout",
     "output_type": "stream",
     "text": [
      "1\n",
      "2\n",
      "3\n",
      "4\n",
      "5\n",
      "6\n",
      "7\n",
      "8\n",
      "9\n",
      "this will be also printed\n"
     ]
    }
   ],
   "source": [
    "for i in range(1,10):\n",
    "    print(i)\n",
    "\n",
    "print(\"this will be also printed\")"
   ]
  },
  {
   "cell_type": "code",
   "execution_count": 8,
   "id": "4f15f622",
   "metadata": {},
   "outputs": [
    {
     "name": "stdout",
     "output_type": "stream",
     "text": [
      "1\n",
      "2\n",
      "3\n",
      "4\n"
     ]
    }
   ],
   "source": [
    "for i in range(1,10):\n",
    "    if i==5:\n",
    "        break\n",
    "    print(i)\n",
    "else:\n",
    "    print(\"this will be also printed\")"
   ]
  },
  {
   "cell_type": "code",
   "execution_count": 7,
   "id": "b7c3fe9a",
   "metadata": {},
   "outputs": [
    {
     "name": "stdout",
     "output_type": "stream",
     "text": [
      "1\n",
      "2\n",
      "3\n",
      "4\n",
      "6\n",
      "7\n",
      "8\n",
      "9\n",
      "this will be also printed\n"
     ]
    }
   ],
   "source": [
    "for i in range(1,10):\n",
    "    if i==5:\n",
    "        continue\n",
    "    print(i)\n",
    "else:\n",
    "    print(\"this will be also printed\")"
   ]
  },
  {
   "cell_type": "code",
   "execution_count": 13,
   "id": "785cf770",
   "metadata": {},
   "outputs": [
    {
     "name": "stdout",
     "output_type": "stream",
     "text": [
      "5\n",
      "its prime num\n"
     ]
    }
   ],
   "source": [
    "n=int(input())\n",
    "for d in range(2,n,1):\n",
    "    if n%d==0:\n",
    "        break\n",
    "else:\n",
    "    print(\"its prime num\")"
   ]
  },
  {
   "cell_type": "code",
   "execution_count": null,
   "id": "96b050d3",
   "metadata": {},
   "outputs": [],
   "source": []
  }
 ],
 "metadata": {
  "kernelspec": {
   "display_name": "Python 3 (ipykernel)",
   "language": "python",
   "name": "python3"
  },
  "language_info": {
   "codemirror_mode": {
    "name": "ipython",
    "version": 3
   },
   "file_extension": ".py",
   "mimetype": "text/x-python",
   "name": "python",
   "nbconvert_exporter": "python",
   "pygments_lexer": "ipython3",
   "version": "3.10.9"
  }
 },
 "nbformat": 4,
 "nbformat_minor": 5
}
