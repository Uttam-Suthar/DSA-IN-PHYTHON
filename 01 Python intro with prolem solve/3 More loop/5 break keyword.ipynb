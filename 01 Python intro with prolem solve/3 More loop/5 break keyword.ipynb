{
 "cells": [
  {
   "cell_type": "code",
   "execution_count": 3,
   "id": "97e5325f",
   "metadata": {},
   "outputs": [
    {
     "name": "stdout",
     "output_type": "stream",
     "text": [
      "1\n",
      "2\n",
      "3\n",
      "4\n"
     ]
    }
   ],
   "source": [
    "i=1\n",
    "while i<10:\n",
    "    if i==5:\n",
    "        break\n",
    "    print(i)\n",
    "    i=i+1    "
   ]
  },
  {
   "cell_type": "code",
   "execution_count": 41,
   "id": "34ee60ab",
   "metadata": {},
   "outputs": [
    {
     "name": "stdout",
     "output_type": "stream",
     "text": [
      "5\n",
      "prime num\n"
     ]
    }
   ],
   "source": [
    "n=int(input())\n",
    "d=2\n",
    "flag=False\n",
    "while d<n:\n",
    "    if n%d==0:\n",
    "        flag = True\n",
    "        break\n",
    "    d=d+1    \n",
    "if flag:\n",
    "    print(\"this is not prime number\")\n",
    "else:\n",
    "    print(\"prime num\")"
   ]
  },
  {
   "cell_type": "code",
   "execution_count": 42,
   "id": "ea83dc47",
   "metadata": {},
   "outputs": [
    {
     "name": "stdout",
     "output_type": "stream",
     "text": [
      "4\n",
      "not prime\n"
     ]
    }
   ],
   "source": [
    "n=int(input())\n",
    "flag= False\n",
    "for d in range(2,n,1):\n",
    "    if n%d==0:\n",
    "        flag = True\n",
    "        break\n",
    "if flag:\n",
    "    print(\"not prime\")\n",
    "else:\n",
    "    print(\"prime num\")    "
   ]
  },
  {
   "cell_type": "code",
   "execution_count": 49,
   "id": "e5cb6512",
   "metadata": {},
   "outputs": [
    {
     "name": "stdout",
     "output_type": "stream",
     "text": [
      "10\n",
      "1\n",
      "2\n",
      "3\n",
      "5\n",
      "7\n",
      "9\n"
     ]
    }
   ],
   "source": [
    "# all prime no print 2 to n\n",
    "n= int(input())\n",
    "k=1\n",
    "while k<=n:\n",
    "    d=2\n",
    "    flag=False\n",
    "    while d<k:\n",
    "        if k%2==0:\n",
    "            flag =True\n",
    "            break\n",
    "        d=d+1   \n",
    "    if not(flag):\n",
    "        print(k)\n",
    "    k=k+1  "
   ]
  },
  {
   "cell_type": "code",
   "execution_count": null,
   "id": "8168f002",
   "metadata": {},
   "outputs": [],
   "source": []
  }
 ],
 "metadata": {
  "kernelspec": {
   "display_name": "Python 3 (ipykernel)",
   "language": "python",
   "name": "python3"
  },
  "language_info": {
   "codemirror_mode": {
    "name": "ipython",
    "version": 3
   },
   "file_extension": ".py",
   "mimetype": "text/x-python",
   "name": "python",
   "nbconvert_exporter": "python",
   "pygments_lexer": "ipython3",
   "version": "3.10.9"
  }
 },
 "nbformat": 4,
 "nbformat_minor": 5
}
