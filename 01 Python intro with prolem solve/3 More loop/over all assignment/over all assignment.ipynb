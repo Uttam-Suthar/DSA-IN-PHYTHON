{
 "cells": [
  {
   "cell_type": "code",
   "execution_count": 14,
   "id": "921b7233",
   "metadata": {},
   "outputs": [
    {
     "name": "stdout",
     "output_type": "stream",
     "text": [
      "4\n",
      "1111\n",
      "000\n",
      "11\n",
      "0\n"
     ]
    }
   ],
   "source": [
    "n=int(input())\n",
    "for i in range(1,n+1,1):\n",
    "   \n",
    "    for j in range(1,n-i+2,1):\n",
    "        if i%2==0:\n",
    "            print(0,end=\"\")  \n",
    "        else:\n",
    "            print(1,end=\"\")\n",
    "       \n",
    "    print()                "
   ]
  },
  {
   "cell_type": "code",
   "execution_count": 15,
   "id": "aa49bf1f",
   "metadata": {},
   "outputs": [
    {
     "name": "stdout",
     "output_type": "stream",
     "text": [
      "5\n",
      "12345\n",
      " 2345\n",
      "  345\n",
      "   45\n",
      "    5\n",
      "   45\n",
      "  345\n",
      " 2345\n",
      "12345\n"
     ]
    }
   ],
   "source": [
    "n = int(input())\n",
    "n1 = n\n",
    "n2 = n - 1\n",
    "\n",
    "# Top half\n",
    "i = 1\n",
    "while i<=n1:\n",
    "    # top spaces\n",
    "    j = 1\n",
    "    while j<= i -1:\n",
    "        print(' ',end ='')\n",
    "        j +=1\n",
    "    \n",
    "    # top num\n",
    "    k = 1\n",
    "    p = i\n",
    "    while k <=n1 -i+1:\n",
    "        print(p,end='')\n",
    "        k+=1\n",
    "        p +=1\n",
    "    print()\n",
    "    i+=1\n",
    "    \n",
    "y = 1\n",
    "while y<=n2:\n",
    "    # top spaces\n",
    "    j = 1\n",
    "    while j<= n2 -y:\n",
    "        print(' ',end ='')\n",
    "        j +=1\n",
    "    \n",
    "    # top num\n",
    "    k = 1\n",
    "    p = n2 -y +1\n",
    "    while k <=y +1:\n",
    "        print(p,end='')\n",
    "        k+=1\n",
    "        p+=1\n",
    "    \n",
    "    print()\n",
    "    y +=1"
   ]
  },
  {
   "cell_type": "code",
   "execution_count": 19,
   "id": "b59dd8c8",
   "metadata": {},
   "outputs": [
    {
     "name": "stdout",
     "output_type": "stream",
     "text": [
      "6\n",
      "123456\n",
      " 23456\n",
      "  3456\n",
      "   456\n",
      "    56\n",
      "     6\n",
      "    56\n",
      "   456\n",
      "  3456\n",
      " 23456\n",
      "123456\n"
     ]
    }
   ],
   "source": [
    "n= int(input())\n",
    "for i in range(1,n+1,1):\n",
    "    for s in range(1,i,1):\n",
    "        print(\" \",end=\"\")\n",
    "    for j in range(i,n+1,1):\n",
    "        print(j,end=\"\")\n",
    "    print() \n",
    "for i in range(n-1,0,-1):\n",
    "    for s in range(1,i):\n",
    "        print(\" \",end=\"\")\n",
    "    for j in range(i,n+1,1):\n",
    "        print(j,end=\"\")\n",
    "    print()\n"
   ]
  },
  {
   "cell_type": "code",
   "execution_count": 34,
   "id": "0f415af4",
   "metadata": {},
   "outputs": [
    {
     "name": "stdout",
     "output_type": "stream",
     "text": [
      "6\n",
      "***********\n",
      " *********\n",
      "  *******\n",
      "   *****\n",
      "    ***\n",
      "     *\n",
      "    ***\n",
      "   *****\n",
      "  *******\n",
      " *********\n",
      "***********\n"
     ]
    }
   ],
   "source": [
    "n= int(input())\n",
    "for i in range(1,n+1,1):\n",
    "    for s in range(1,i,1):\n",
    "        print(\" \",end=\"\")\n",
    "    for j in range(i,2*n-i+1,1):\n",
    "        print(\"*\",end=\"\")\n",
    "    print() \n",
    "for i in range(n-1,0,-1):\n",
    "    for s in range(1,i):\n",
    "        print(\" \",end=\"\")\n",
    "    for j in range(i,2*n-i+1,1):\n",
    "        print(\"*\",end=\"\")\n",
    "    print()"
   ]
  },
  {
   "cell_type": "code",
   "execution_count": 57,
   "id": "c012c48e",
   "metadata": {},
   "outputs": [
    {
     "name": "stdout",
     "output_type": "stream",
     "text": [
      "6\n",
      "     *\n",
      "    ***\n",
      "   *****\n",
      "  *******\n",
      " *********\n",
      "***********\n",
      " *********\n",
      "  *******\n",
      "   *****\n",
      "    ***\n",
      "     *\n"
     ]
    }
   ],
   "source": [
    "##### 1st pattern \n",
    "n=int(input())\n",
    "row=1\n",
    "while(row<=n):\n",
    "    spa=1\n",
    "    while(spa<=n-row):\n",
    "        print(\" \",end=\"\")\n",
    "        spa=spa+1\n",
    "    col=1\n",
    "    while(col<=row*2-1):\n",
    "        print(\"*\",end=\"\")\n",
    "        col=col+1\n",
    "    print()\n",
    "    row=row+1\n",
    "    \n",
    "if n%2==0:\n",
    "    row=5\n",
    "if n%2==1:\n",
    "    row=4    \n",
    "# row=5\n",
    "\n",
    "while(row>=1):\n",
    "    spa=1\n",
    "    while(spa<=n-row):\n",
    "        print(\" \",end=\"\")\n",
    "        spa=spa+1\n",
    "    col=1\n",
    "    while(col<=2*row-1):\n",
    "        print(\"*\",end=\"\")\n",
    "        col=col+1\n",
    "    print()\n",
    "    row=row-1\n",
    "    "
   ]
  },
  {
   "cell_type": "code",
   "execution_count": 358,
   "id": "ac53cbab",
   "metadata": {},
   "outputs": [
    {
     "name": "stdout",
     "output_type": "stream",
     "text": [
      "5\n",
      "---\n",
      "--\n",
      "-\n",
      "\n",
      "\n",
      "*******\n",
      "*****\n",
      "-***\n",
      "--*\n"
     ]
    }
   ],
   "source": [
    "n= int(input())\n",
    "for i in range(1,n+1,1):\n",
    "    for s in range(1,(n+1)//2-i+2,1):\n",
    "        print(\"-\",end=\"\")\n",
    "# #     for j in range(1,2*i,1):\n",
    "#         print(\"*\",end=\"\")\n",
    "    print() \n",
    "for i in range(n-1,0,-1):\n",
    "    for s in range(1,n//2-i+2,1):\n",
    "        print(\"-\",end=\"\")\n",
    "    for j in range(2*i-1,0,-1):\n",
    "        print(\"*\",end=\"\")\n",
    "    print()"
   ]
  },
  {
   "cell_type": "code",
   "execution_count": 159,
   "id": "65fa347a",
   "metadata": {},
   "outputs": [
    {
     "name": "stdout",
     "output_type": "stream",
     "text": [
      "5\n",
      "  *\n",
      " ***\n",
      "*****\n",
      " ***\n",
      "  *\n"
     ]
    }
   ],
   "source": [
    "n= int(input())\n",
    "n1=(n+1)//2\n",
    "n2=n//2\n",
    "for i in range(1,n1+1,1):\n",
    "    for s in range(1,n1-i+1,1):\n",
    "        print(\" \",end=\"\")\n",
    "    for j in range(1,2*i,1):\n",
    "        print(\"*\",end=\"\")\n",
    "    print() \n",
    "for i in range(n1-1,0,-1):\n",
    "    for s in range(1,n2-i+2,1):\n",
    "        print(\" \",end=\"\")\n",
    "    for j in range(2*i-1,0,-1):\n",
    "        print(\"*\",end=\"\")\n",
    "    print()"
   ]
  },
  {
   "cell_type": "code",
   "execution_count": 290,
   "id": "a58c536b",
   "metadata": {},
   "outputs": [
    {
     "name": "stdout",
     "output_type": "stream",
     "text": [
      "4\n",
      "4444444\n",
      "4333334\n",
      "4322234\n",
      "4321234\n",
      "4322234\n",
      "4333334\n",
      "4444444\n"
     ]
    }
   ],
   "source": [
    "n = int(input()) \n",
    "for i in range(1,n+1): \n",
    "    temp = n \n",
    "    for j in range(1,i): \n",
    "        print(temp,end=\"\") \n",
    "        temp = temp -1 \n",
    "        \n",
    "    \n",
    "    for j in range(1,(2*n) - (2*i) + 2): \n",
    "        print(n-i+1,end=\"\") \n",
    "        \n",
    "    for j in range(1,i): \n",
    "        temp = temp+1 \n",
    "        print(temp,end=\"\") \n",
    "    print() \n",
    "    \n",
    "for i in range(n-1,0,-1): \n",
    "    temp = n \n",
    "    for j in range(1,i): \n",
    "        print(temp,end=\"\") \n",
    "        temp = temp - 1 \n",
    "        \n",
    "    for j in range(1,(2*n) - (2*i) + 2): \n",
    "        print(n-i+1,end=\"\") \n",
    "        \n",
    "    for j in range(1,i): \n",
    "        temp = temp+1 \n",
    "        print(temp,end=\"\") \n",
    "    print()"
   ]
  },
  {
   "cell_type": "code",
   "execution_count": 294,
   "id": "e00ec0fa",
   "metadata": {},
   "outputs": [
    {
     "name": "stdout",
     "output_type": "stream",
     "text": [
      "4\n",
      "4444444\n",
      "4333334\n",
      "4322234\n",
      "4321234\n",
      "4322234\n",
      "4333334\n",
      "4444444\n"
     ]
    }
   ],
   "source": [
    "n=int(input())\n",
    "for i in range(1,n+1,1):\n",
    "    for j in range(n,n-i+1,-1): \n",
    "        print(j,end=\"\") \n",
    "\n",
    "    for j in range(1,2*n-2*i+2,1):\n",
    "        print(n-i+1,end=\"\")\n",
    "    for j in range(n-i+2,n+1,1) :\n",
    "        print(j, end=\"\")\n",
    "    print()    \n",
    "for i in range(n-1,0,-1): \n",
    "    for j in range(n,n-i+1,-1): \n",
    "        print(j,end=\"\") \n",
    "\n",
    "    for j in range(1,2*n-2*i+2,1):\n",
    "        print(n-i+1,end=\"\")\n",
    "    for j in range(n-i+2,n+1,1) :\n",
    "        print(j, end=\"\")\n",
    "    print()    "
   ]
  },
  {
   "cell_type": "code",
   "execution_count": 336,
   "id": "d996a06d",
   "metadata": {},
   "outputs": [
    {
     "name": "stdout",
     "output_type": "stream",
     "text": [
      "5\n",
      "1 2 3 4 5 \n",
      "11 12 13 14 15 \n",
      "21 22 23 24 25 \n",
      "16 17 18 19 20 \n",
      "6 7 8 9 10 \n"
     ]
    }
   ],
   "source": [
    "\n",
    "n = int(input( ))\n",
    "P = 1\n",
    "for i in range(1, n + 1):\n",
    "    for j in range(P, P + n):\n",
    "        print(j, end=\" \")\n",
    "    print()\n",
    "    if i == ((n + 1)//2):\n",
    "        if (n % 2) != 0:\n",
    "            P = n*(n - 2) + 1\n",
    "        else:\n",
    "            P = n * (n - 1) + 1\n",
    "    elif i > ((n + 1) // 2):\n",
    "        P = P - 2 * n\n",
    "    else:\n",
    "        P = P + 2 * n"
   ]
  }
 ],
 "metadata": {
  "kernelspec": {
   "display_name": "Python 3 (ipykernel)",
   "language": "python",
   "name": "python3"
  },
  "language_info": {
   "codemirror_mode": {
    "name": "ipython",
    "version": 3
   },
   "file_extension": ".py",
   "mimetype": "text/x-python",
   "name": "python",
   "nbconvert_exporter": "python",
   "pygments_lexer": "ipython3",
   "version": "3.10.9"
  }
 },
 "nbformat": 4,
 "nbformat_minor": 5
}
