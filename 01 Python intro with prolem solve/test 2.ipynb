{
 "cells": [
  {
   "cell_type": "code",
   "execution_count": 49,
   "id": "8d9376a2",
   "metadata": {},
   "outputs": [
    {
     "name": "stdout",
     "output_type": "stream",
     "text": [
      "17 5 2 "
     ]
    }
   ],
   "source": [
    "def printLeaders(arr,size):\n",
    "\n",
    "    c_max=arr[n-1]\n",
    "    ans = [arr[n-1]]\n",
    "    for i in range (n-2,-1,-1):\n",
    "        #we will store rest other values after comparison\n",
    "        if arr[i]>=c_max:\n",
    "            ans.append(arr[i])\n",
    "            c_max=arr[i]\n",
    "    #we will print in the input sequence that why we will start printing from the end\n",
    "    for i in range (len(ans)-1,-1,-1):\n",
    "        print(ans[i], end=\" \")\n",
    "    \n",
    "\n",
    "\n",
    "# n= int(input())\n",
    "# arr=[int(x) for x in input().split()]\n",
    "# n=len(arr)\n",
    "arr=[16, 17, 4, 3, 5, 2]\n",
    "printLeaders(arr, n)"
   ]
  },
  {
   "cell_type": "code",
   "execution_count": 12,
   "id": "03a76ec8",
   "metadata": {},
   "outputs": [
    {
     "name": "stdout",
     "output_type": "stream",
     "text": [
      "34 2 0 -1 "
     ]
    }
   ],
   "source": [
    "))"
   ]
  },
  {
   "cell_type": "code",
   "execution_count": 16,
   "id": "e0268fca",
   "metadata": {},
   "outputs": [
    {
     "name": "stdout",
     "output_type": "stream",
     "text": [
      "\"GeeksforGeeks A Computer Science portal for Geeks\"\n",
      "Minimum length word:  A\n",
      "Maximum length word:  \"GeeksforGeeks\n"
     ]
    }
   ],
   "source": [
    "def minMaxLengthWords(inp):\n",
    "    length = len(inp)\n",
    "    si = ei = 0\n",
    "    min_length = length\n",
    "    min_start_index = max_length = max_start_index = 0\n",
    "     \n",
    "    # loop to find the length and stating index\n",
    "    # of both longest and shortest words\n",
    "    while ei <= length:\n",
    "        if (ei < length) and (inp[ei] != \" \"):\n",
    "            ei += 1\n",
    "        else:\n",
    "            curr_length = ei - si\n",
    "             \n",
    "            # condition checking for the shortest word\n",
    "            if curr_length < min_length:\n",
    "                min_length = curr_length\n",
    "                min_start_index = si\n",
    "                 \n",
    "            # condition for the longest word\n",
    "            if curr_length > max_length:\n",
    "                max_length = curr_length\n",
    "                max_start_index = si\n",
    "            ei += 1\n",
    "            si = ei\n",
    "             \n",
    "    # extracting the shortest word using\n",
    "    # it's starting index and length    \n",
    "    minWord = inp[min_start_index :\n",
    "                  min_start_index + min_length]\n",
    "     \n",
    "    # extracting the longest word using\n",
    "    # it's starting index and length    \n",
    "    maxWord = inp[max_start_index : max_length]\n",
    "     \n",
    "    # printing the final result\n",
    "    print(\"Minimum length word: \", minWord)\n",
    "    print (\"Maximum length word: \", maxWord)\n",
    "     \n",
    "# Driver Code\n",
    " \n",
    "# Using this string to test our code\n",
    "a=input()\n",
    "# a = \"GeeksforGeeks A Computer Science portal for Geeks\"\n",
    "minMaxLengthWords(a)\n",
    " \n",
    "# This code is contributed by Animesh_Gupta"
   ]
  },
  {
   "cell_type": "markdown",
   "id": "b32d51df",
   "metadata": {},
   "source": [
    "# Leaders in array\n"
   ]
  },
  {
   "cell_type": "code",
   "execution_count": 1,
   "id": "7d000272",
   "metadata": {},
   "outputs": [
    {
     "name": "stdout",
     "output_type": "stream",
     "text": [
      "6\n",
      "3 12 34 2 0 -1\n",
      "34 2 0 -1 "
     ]
    }
   ],
   "source": [
    "n = int(input())\n",
    "arr = [int(ele) for ele in input().split()]\n",
    "\n",
    "curr_max = arr[n-1]\n",
    "ans = [arr[n-1]]\n",
    "for i in range(n-2,-1,-1):\n",
    "    if arr[i] >= curr_max:\n",
    "        ans.append(arr[i])\n",
    "        curr_max = arr[i]\n",
    "for i in range(len(ans)-1, -1,-1):\n",
    "    print(ans[i],end = ' ')\n"
   ]
  },
  {
   "cell_type": "markdown",
   "id": "82515a58",
   "metadata": {},
   "source": [
    "# Minimum Length Word\n"
   ]
  },
  {
   "cell_type": "code",
   "execution_count": 2,
   "id": "cc60020a",
   "metadata": {},
   "outputs": [
    {
     "name": "stdout",
     "output_type": "stream",
     "text": [
      "this is string\n",
      "is\n"
     ]
    }
   ],
   "source": [
    "str = input()\n",
    "min_len = len(str)\n",
    "min_str = str\n",
    "\n",
    "curr_str = ''\n",
    "for char in str:\n",
    "    if char == ' ':\n",
    "        if(len(curr_str)<min_len):\n",
    "            min_len = len(curr_str)\n",
    "            min_str = curr_str\n",
    "        curr_str = ''\n",
    "    else:\n",
    "        curr_str = curr_str +char\n",
    "        \n",
    "if(len(curr_str)< min_len):\n",
    "    min_len = len(curr_str)\n",
    "    min_str = curr_str\n",
    "print(min_str)"
   ]
  },
  {
   "cell_type": "markdown",
   "id": "5b1b6a75",
   "metadata": {},
   "source": [
    "# print2DArray"
   ]
  },
  {
   "cell_type": "code",
   "execution_count": 3,
   "id": "1621492a",
   "metadata": {},
   "outputs": [
    {
     "name": "stdout",
     "output_type": "stream",
     "text": [
      "3 3\n",
      "1 2 3\n",
      "4 5 6\n",
      "7 8 9\n",
      "1 2 3 \n",
      "1 2 3 \n",
      "1 2 3 \n",
      "4 5 6 \n",
      "4 5 6 \n",
      "7 8 9 \n"
     ]
    }
   ],
   "source": [
    "def print2DArray(mat,rows,cols):\n",
    "    k = rows\n",
    "    for i in range(rows):\n",
    "        for l in range(k-1, -1, -1):\n",
    "            for j in range(cols):\n",
    "                print(mat[i][j],end=' ')\n",
    "            print()\n",
    "        k -= 1\n",
    "\n",
    "mat = []\n",
    "li = input().strip().split()\n",
    "rows = int(li[0])\n",
    "cols = int(li[1])\n",
    "\n",
    "for i in range(rows):\n",
    "    row = [int(elem) for elem in list(input().strip().split())]\n",
    "    mat.append(row)\n",
    "# mat = []\n",
    "print2DArray(mat,rows,cols)"
   ]
  },
  {
   "cell_type": "code",
   "execution_count": null,
   "id": "76b2fa6e",
   "metadata": {},
   "outputs": [],
   "source": []
  },
  {
   "cell_type": "code",
   "execution_count": null,
   "id": "4e1711cc",
   "metadata": {},
   "outputs": [],
   "source": []
  },
  {
   "cell_type": "code",
   "execution_count": null,
   "id": "5ad09ec6",
   "metadata": {},
   "outputs": [],
   "source": []
  },
  {
   "cell_type": "code",
   "execution_count": null,
   "id": "828f8dc0",
   "metadata": {},
   "outputs": [],
   "source": []
  },
  {
   "cell_type": "code",
   "execution_count": 47,
   "id": "2a0fa664",
   "metadata": {},
   "outputs": [
    {
     "data": {
      "text/plain": [
       "2"
      ]
     },
     "execution_count": 47,
     "metadata": {},
     "output_type": "execute_result"
    }
   ],
   "source": [
    "arr=[16, 17, 4, 3, 5, 2]\n",
    "arr[len(arr)-1]"
   ]
  }
 ],
 "metadata": {
  "kernelspec": {
   "display_name": "Python 3 (ipykernel)",
   "language": "python",
   "name": "python3"
  },
  "language_info": {
   "codemirror_mode": {
    "name": "ipython",
    "version": 3
   },
   "file_extension": ".py",
   "mimetype": "text/x-python",
   "name": "python",
   "nbconvert_exporter": "python",
   "pygments_lexer": "ipython3",
   "version": "3.10.9"
  }
 },
 "nbformat": 4,
 "nbformat_minor": 5
}
