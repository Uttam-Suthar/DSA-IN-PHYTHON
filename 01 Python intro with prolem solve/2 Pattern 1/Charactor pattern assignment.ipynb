{
 "cells": [
  {
   "cell_type": "markdown",
   "id": "3b0273ba",
   "metadata": {},
   "source": [
    "# charactor pattern"
   ]
  },
  {
   "cell_type": "markdown",
   "id": "2645a1ea",
   "metadata": {},
   "source": [
    "A\n",
    "BC\n",
    "CDE\n",
    "DEFG"
   ]
  },
  {
   "cell_type": "code",
   "execution_count": 3,
   "id": "74474903",
   "metadata": {},
   "outputs": [
    {
     "name": "stdout",
     "output_type": "stream",
     "text": [
      "4\n",
      "A\n",
      "BC\n",
      "CDE\n",
      "DEFG\n"
     ]
    }
   ],
   "source": [
    "n=int(input())\n",
    "i=1\n",
    "while i<=n:\n",
    "    j=1\n",
    "    start_char=chr(ord('A')+i-1)\n",
    "    while j<=i:\n",
    "        #print jth colum\n",
    "        charp=chr(ord(start_char)+j-1)\n",
    "        print(charp,end=\"\")\n",
    "        j=j+1\n",
    "        \n",
    "    print()\n",
    "    i=i+1"
   ]
  },
  {
   "cell_type": "markdown",
   "id": "ffc0360a",
   "metadata": {},
   "source": [
    "# interesting alphabats"
   ]
  },
  {
   "cell_type": "markdown",
   "id": "2cd7e899",
   "metadata": {},
   "source": [
    "E\n",
    "DE\n",
    "CDE            \n",
    "BCDE\n",
    "ABCDE"
   ]
  },
  {
   "cell_type": "code",
   "execution_count": 13,
   "id": "48e4403b",
   "metadata": {},
   "outputs": [
    {
     "name": "stdout",
     "output_type": "stream",
     "text": [
      "5\n",
      "E\n",
      "DE\n",
      "CDE\n",
      "BCDE\n",
      "ABCDE\n"
     ]
    }
   ],
   "source": [
    "n=int(input())\n",
    "i=1\n",
    "while i<=n:\n",
    "    j=1\n",
    "#     start_char=chr(ord('A')+n-1)\n",
    "    start_char=chr(ord('E'))\n",
    "    while j<=i:\n",
    "        #print jth colum\n",
    "#         charp=chr(ord(start_char)+j-i)\n",
    "        charp=chr(ord(start_char)+j-i)\n",
    "        print(charp,end=\"\")\n",
    "        j=j+1\n",
    "        \n",
    "    print()\n",
    "    i=i+1"
   ]
  }
 ],
 "metadata": {
  "kernelspec": {
   "display_name": "Python 3 (ipykernel)",
   "language": "python",
   "name": "python3"
  },
  "language_info": {
   "codemirror_mode": {
    "name": "ipython",
    "version": 3
   },
   "file_extension": ".py",
   "mimetype": "text/x-python",
   "name": "python",
   "nbconvert_exporter": "python",
   "pygments_lexer": "ipython3",
   "version": "3.10.9"
  }
 },
 "nbformat": 4,
 "nbformat_minor": 5
}
