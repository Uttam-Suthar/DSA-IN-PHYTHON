{
 "cells": [
  {
   "cell_type": "markdown",
   "id": "8cffce63",
   "metadata": {},
   "source": [
    "# number pattern1"
   ]
  },
  {
   "cell_type": "code",
   "execution_count": null,
   "id": "795c6645",
   "metadata": {},
   "outputs": [],
   "source": [
    "1\n",
    "11\n",
    "111\n",
    "1111"
   ]
  },
  {
   "cell_type": "code",
   "execution_count": 25,
   "id": "fb0a0e5d",
   "metadata": {},
   "outputs": [
    {
     "name": "stdout",
     "output_type": "stream",
     "text": [
      "5\n",
      "1\n",
      "11\n",
      "111\n",
      "1111\n",
      "11111\n"
     ]
    }
   ],
   "source": [
    "n=int(input())\n",
    "i=1\n",
    "while i<=n:\n",
    "    j=1\n",
    "    while j<=i:\n",
    "        print(\"1\",end=\"\")\n",
    "        j=j+1\n",
    "    print()\n",
    "    i=i+1    \n"
   ]
  },
  {
   "cell_type": "code",
   "execution_count": 3,
   "id": "1172d25f",
   "metadata": {},
   "outputs": [
    {
     "name": "stdout",
     "output_type": "stream",
     "text": [
      "5\n",
      "1\n",
      "11\n",
      "111\n",
      "1111\n",
      "11111\n"
     ]
    }
   ],
   "source": [
    "n=int(input())\n",
    "i=1\n",
    "while i<=n:\n",
    "    print(\"1\"*i)  \n",
    "#     print()\n",
    "    i=i+1  "
   ]
  },
  {
   "cell_type": "markdown",
   "id": "9a2a07db",
   "metadata": {},
   "source": [
    "# number pattern2"
   ]
  },
  {
   "cell_type": "markdown",
   "id": "2029a65a",
   "metadata": {},
   "source": [
    "1\n",
    "11\n",
    "202\n",
    "3003\n",
    "40004"
   ]
  },
  {
   "cell_type": "code",
   "execution_count": 48,
   "id": "dff0181c",
   "metadata": {},
   "outputs": [
    {
     "name": "stdout",
     "output_type": "stream",
     "text": [
      "5\n",
      "1\n",
      "11\n",
      "202\n",
      "3003\n",
      "40004\n"
     ]
    }
   ],
   "source": [
    "n = int(input())\n",
    "i = 1\n",
    "print(\"1\")\n",
    "while (i <=n-1):\n",
    "    j = 1\n",
    "    print(i,end = '')\n",
    "    while (j<= i-1):\n",
    "        print(\"0\",end = '')\n",
    "        j +=1\n",
    "    print(i, end = '')\n",
    "    print()\n",
    "    i +=1"
   ]
  },
  {
   "cell_type": "code",
   "execution_count": 45,
   "id": "75e84728",
   "metadata": {},
   "outputs": [
    {
     "name": "stdout",
     "output_type": "stream",
     "text": [
      "5\n",
      "1\n",
      "11\n",
      "202\n",
      "3003\n",
      "40004\n"
     ]
    }
   ],
   "source": [
    "n = int(input())\n",
    "print('1')\n",
    "i = 1\n",
    "while (i <n):\n",
    "    j = 0\n",
    "    while (j <i+1):\n",
    "        if(j ==0 or j ==i):\n",
    "            print(i,end='')\n",
    "        else:\n",
    "            print(0,end ='')\n",
    "        j += 1\n",
    "    print()\n",
    "    i+=1"
   ]
  },
  {
   "cell_type": "markdown",
   "id": "512b248f",
   "metadata": {},
   "source": [
    "# number pattern3"
   ]
  },
  {
   "cell_type": "code",
   "execution_count": 35,
   "id": "30ce8608",
   "metadata": {},
   "outputs": [
    {
     "name": "stdout",
     "output_type": "stream",
     "text": [
      "5\n",
      "1\n",
      "11\n",
      "121\n",
      "1221\n",
      "12221\n"
     ]
    }
   ],
   "source": [
    "n = int(input())\n",
    "i = 0\n",
    "while (i <n):\n",
    "    j = 0\n",
    "    while (j <i+1):\n",
    "        if(j ==0 or j ==i):\n",
    "            print(1,end='')\n",
    "        else:\n",
    "            print(2,end ='')\n",
    "        j += 1\n",
    "    print()\n",
    "    i+=1"
   ]
  },
  {
   "cell_type": "markdown",
   "id": "1d0b57df",
   "metadata": {},
   "source": [
    "# number pattern"
   ]
  },
  {
   "cell_type": "markdown",
   "id": "0cf5ca87",
   "metadata": {},
   "source": [
    "12345\n",
    "1234\n",
    "123\n",
    "12\n",
    "1"
   ]
  },
  {
   "cell_type": "code",
   "execution_count": 36,
   "id": "0774a828",
   "metadata": {},
   "outputs": [
    {
     "name": "stdout",
     "output_type": "stream",
     "text": [
      "5\n",
      "12345\n",
      "1234\n",
      "123\n",
      "12\n",
      "1\n"
     ]
    }
   ],
   "source": [
    "n = int(input())\n",
    "i = 1\n",
    "while i<=n:\n",
    "    j = 1\n",
    "    while j<=(n-i+1):\n",
    "        print(j,end='') \n",
    "        j +=1\n",
    "    print()\n",
    "    i +=1"
   ]
  },
  {
   "cell_type": "markdown",
   "id": "1a19caae",
   "metadata": {},
   "source": [
    "# Alpha Pattern"
   ]
  },
  {
   "cell_type": "code",
   "execution_count": 2,
   "id": "081fe36e",
   "metadata": {},
   "outputs": [
    {
     "name": "stdout",
     "output_type": "stream",
     "text": [
      "5\n",
      "A\n",
      "BB\n",
      "CCC\n",
      "DDDD\n",
      "EEEEE\n"
     ]
    }
   ],
   "source": [
    "n = int(input())\n",
    "i = 1\n",
    "while (i <=n):\n",
    "    start_char = chr(ord('A') + i -1)\n",
    "    j =1\n",
    "    while (j <=i):\n",
    "        \n",
    "        print(start_char,end='')\n",
    "        j += 1\n",
    "    print()\n",
    "    i += 1"
   ]
  }
 ],
 "metadata": {
  "kernelspec": {
   "display_name": "Python 3 (ipykernel)",
   "language": "python",
   "name": "python3"
  },
  "language_info": {
   "codemirror_mode": {
    "name": "ipython",
    "version": 3
   },
   "file_extension": ".py",
   "mimetype": "text/x-python",
   "name": "python",
   "nbconvert_exporter": "python",
   "pygments_lexer": "ipython3",
   "version": "3.10.9"
  }
 },
 "nbformat": 4,
 "nbformat_minor": 5
}
