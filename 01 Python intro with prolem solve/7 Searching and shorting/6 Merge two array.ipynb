{
 "cells": [
  {
   "cell_type": "code",
   "execution_count": 3,
   "id": "3d88448c",
   "metadata": {},
   "outputs": [
    {
     "name": "stdout",
     "output_type": "stream",
     "text": [
      "[1, 3, 4, 4, 7, 9, 11, 11, 13]\n"
     ]
    }
   ],
   "source": [
    "def mergeTwoArray(a1,a2):\n",
    "    i,j=0,0\n",
    "    len1,len2=len(a1),len(a2)\n",
    "    newArray =[]\n",
    "    while i<len1 and j<len2:\n",
    "        if a1[i]<a2[j]:\n",
    "            newArray.append(a1[i])\n",
    "            i=i+1\n",
    "        else:\n",
    "            newArray.append(a2[j])\n",
    "            j=j+1\n",
    "    while i<len1:\n",
    "        newArray.append(a1[i])\n",
    "        i=i+1\n",
    "    while j<len2:\n",
    "        newArray.append(a2[j])\n",
    "        j=j+1\n",
    "    return newArray\n",
    "a1=[1,3,4,7,11]\n",
    "a2=[4,9,11,13]\n",
    "a=mergeTwoArray(a1,a2)\n",
    "print(a)"
   ]
  },
  {
   "cell_type": "code",
   "execution_count": 4,
   "id": "58b67f02",
   "metadata": {},
   "outputs": [
    {
     "name": "stdout",
     "output_type": "stream",
     "text": [
      "[1, 3, 4, 4, 7, 9, 11, 11, 13]\n"
     ]
    }
   ],
   "source": [
    "def merge(arr1, n, arr2, m) : \n",
    "    #Your code goes here\n",
    "    i=0\n",
    "    j=0\n",
    "    n = len(arr1)\n",
    "    m = len(arr2)\n",
    "    \n",
    "    arr = []\n",
    "    \n",
    "    while((i < n) and (j < m)):\n",
    "        if(arr1[i] < arr2[j]):\n",
    "            arr.append(arr1[i])\n",
    "            i = i + 1\n",
    "        else:\n",
    "            arr.append(arr2[j])\n",
    "            j = j + 1\n",
    "    while(i < n):\n",
    "        arr.append(arr1[i])\n",
    "        i = i + 1\n",
    "        \n",
    "    while(j < m):\n",
    "        arr.append(arr2[j])\n",
    "        j = j + 1\n",
    "    return arr\n",
    "a1=[1,3,4,7,11]\n",
    "a2=[4,9,11,13]\n",
    "a=mergeTwoArray(a1,a2)\n",
    "print(a)"
   ]
  }
 ],
 "metadata": {
  "kernelspec": {
   "display_name": "Python 3 (ipykernel)",
   "language": "python",
   "name": "python3"
  },
  "language_info": {
   "codemirror_mode": {
    "name": "ipython",
    "version": 3
   },
   "file_extension": ".py",
   "mimetype": "text/x-python",
   "name": "python",
   "nbconvert_exporter": "python",
   "pygments_lexer": "ipython3",
   "version": "3.10.9"
  }
 },
 "nbformat": 4,
 "nbformat_minor": 5
}
