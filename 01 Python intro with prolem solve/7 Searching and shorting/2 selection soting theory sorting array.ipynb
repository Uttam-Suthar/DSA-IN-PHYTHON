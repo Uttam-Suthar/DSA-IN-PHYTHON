{
 "cells": [
  {
   "cell_type": "markdown",
   "id": "810090d3",
   "metadata": {},
   "source": [
    "# sorting aray"
   ]
  },
  {
   "cell_type": "code",
   "execution_count": 5,
   "id": "cdc3c831",
   "metadata": {},
   "outputs": [
    {
     "name": "stdout",
     "output_type": "stream",
     "text": [
      "[3, 4, 5, 9, 13]\n"
     ]
    }
   ],
   "source": [
    "def binarySorting(arr):\n",
    "    length= len(arr)\n",
    "    for i in range(length):\n",
    "        minindex=i\n",
    "        for j in range(i+1,length):\n",
    "            if arr[j]<arr[minindex]:\n",
    "                minindex=j\n",
    "        arr[i],arr[minindex]=arr[minindex],arr[i]   \n",
    "    return arr    \n",
    "            \n",
    "\n",
    "\n",
    "arr=[13,4,9,5,3]\n",
    "a=binarySorting(arr)\n",
    "print(a)"
   ]
  },
  {
   "cell_type": "code",
   "execution_count": null,
   "id": "a97f44a0",
   "metadata": {},
   "outputs": [],
   "source": []
  },
  {
   "cell_type": "code",
   "execution_count": null,
   "id": "513e055e",
   "metadata": {},
   "outputs": [],
   "source": []
  }
 ],
 "metadata": {
  "kernelspec": {
   "display_name": "Python 3 (ipykernel)",
   "language": "python",
   "name": "python3"
  },
  "language_info": {
   "codemirror_mode": {
    "name": "ipython",
    "version": 3
   },
   "file_extension": ".py",
   "mimetype": "text/x-python",
   "name": "python",
   "nbconvert_exporter": "python",
   "pygments_lexer": "ipython3",
   "version": "3.10.9"
  }
 },
 "nbformat": 4,
 "nbformat_minor": 5
}
