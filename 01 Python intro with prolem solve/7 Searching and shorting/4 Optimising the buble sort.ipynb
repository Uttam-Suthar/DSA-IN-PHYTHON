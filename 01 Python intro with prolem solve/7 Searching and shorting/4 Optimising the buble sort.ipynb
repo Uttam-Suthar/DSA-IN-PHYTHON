{
 "cells": [
  {
   "cell_type": "code",
   "execution_count": 1,
   "id": "5b399a5a",
   "metadata": {},
   "outputs": [
    {
     "name": "stdout",
     "output_type": "stream",
     "text": [
      "pass i value is 0\n",
      " is pair is  8 5\n",
      " is pair is  8 3\n",
      " is pair is  8 1\n",
      "pass i value is 1\n",
      " is pair is  5 3\n",
      " is pair is  5 1\n",
      "pass i value is 2\n",
      " is pair is  3 1\n",
      "[1, 3, 5, 8]\n"
     ]
    }
   ],
   "source": [
    "def bublesort(arr):\n",
    "    \n",
    "    for i in range(len(arr)-1):\n",
    "        print(\"pass i value is\",i)\n",
    "        for j in range(len(arr)-i-1):\n",
    "            if arr[j]>arr[j+1]:\n",
    "                print(\" is pair is \",arr[j] , arr[j+1])\n",
    "                arr[j],arr[j+1]=arr[j+1],arr[j]\n",
    "\n",
    "    return arr    \n",
    "# arr=[12,3,5,7,90,2,0,65]\n",
    "arr=[8,5,3,1]\n",
    "a=bublesort(arr)\n",
    "print(a)"
   ]
  }
 ],
 "metadata": {
  "kernelspec": {
   "display_name": "Python 3 (ipykernel)",
   "language": "python",
   "name": "python3"
  },
  "language_info": {
   "codemirror_mode": {
    "name": "ipython",
    "version": 3
   },
   "file_extension": ".py",
   "mimetype": "text/x-python",
   "name": "python",
   "nbconvert_exporter": "python",
   "pygments_lexer": "ipython3",
   "version": "3.10.9"
  }
 },
 "nbformat": 4,
 "nbformat_minor": 5
}
