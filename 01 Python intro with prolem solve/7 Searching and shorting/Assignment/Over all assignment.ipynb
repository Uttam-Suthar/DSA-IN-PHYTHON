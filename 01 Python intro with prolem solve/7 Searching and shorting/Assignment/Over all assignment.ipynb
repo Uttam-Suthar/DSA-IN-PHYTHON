{
 "cells": [
  {
   "cell_type": "markdown",
   "id": "adf75b06",
   "metadata": {},
   "source": [
    "# push 0 to end"
   ]
  },
  {
   "cell_type": "code",
   "execution_count": 1,
   "id": "f84c900e",
   "metadata": {},
   "outputs": [
    {
     "name": "stdout",
     "output_type": "stream",
     "text": [
      "[2, 3, 2, 0, 0]\n"
     ]
    }
   ],
   "source": [
    "def pushzeroToEnd(arr):\n",
    "    start=0\n",
    "    \n",
    "    for i in range(len(arr)):\n",
    "        if arr[i] != 0:\n",
    "            temp = arr[i]\n",
    "            arr[i] = arr[start]\n",
    "            arr[start] = temp\n",
    "            start = start+1\n",
    "    return arr       \n",
    "            \n",
    "arr= [2,3,0,2,0]\n",
    "a=pushzeroToEnd(arr)\n",
    "print(a)"
   ]
  },
  {
   "cell_type": "markdown",
   "id": "aa12fa69",
   "metadata": {},
   "source": [
    "# Rotate Array"
   ]
  },
  {
   "cell_type": "code",
   "execution_count": 5,
   "id": "ea55da53",
   "metadata": {},
   "outputs": [
    {
     "name": "stdout",
     "output_type": "stream",
     "text": [
      "[3, 4, 1, 2]\n"
     ]
    }
   ],
   "source": [
    "def rotateArray(arr,d):\n",
    "    newArray=[]\n",
    "    for i in range(d,len(arr)):\n",
    "        newArray.append(arr[i])\n",
    "    for i in range(d):\n",
    "        newArray.append(arr[i])\n",
    "    arr= newArray\n",
    "    return arr\n",
    "        \n",
    "arr=[1,2,3,4]\n",
    "a=rotateArray(arr,2)\n",
    "print(a)"
   ]
  },
  {
   "cell_type": "code",
   "execution_count": 75,
   "id": "5e73bb7f",
   "metadata": {},
   "outputs": [
    {
     "name": "stdout",
     "output_type": "stream",
     "text": [
      "[12, 17, 1, 3, 6, 11]\n"
     ]
    }
   ],
   "source": [
    "def rotateArray(arr,n,d):\n",
    "#     n= len(arr)\n",
    "    newArray=[]\n",
    "    for i in range(d,n):\n",
    "        newArray.append(arr[i])\n",
    "    for i in range(d):\n",
    "        newArray.append(arr[i])\n",
    "    arr= newArray\n",
    "    return arr\n",
    "arr=[1,3,6,11,12,17]\n",
    "a=rotateArray(arr,6,4)\n",
    "print(a)"
   ]
  },
  {
   "cell_type": "code",
   "execution_count": 12,
   "id": "b01d3c81",
   "metadata": {},
   "outputs": [
    {
     "name": "stdout",
     "output_type": "stream",
     "text": [
      "[26, 30, 33, 38, 1, 3, 6, 11, 12, 17, 22]\n"
     ]
    }
   ],
   "source": [
    "\n",
    "def rotate(arr, n, d):\n",
    "    temp = []\n",
    "    for i in range(d,n):\n",
    "        temp.append(arr[i])\n",
    "    for i in range(d):\n",
    "        temp.append(arr[i])\n",
    "    arr = temp\n",
    "    return arr\n",
    "\n",
    "a = rotate([1, 3, 6, 11, 12, 17, 22, 26, 30, 33, 38],11,7)\n",
    "print(a)"
   ]
  },
  {
   "cell_type": "code",
   "execution_count": 11,
   "id": "aa9af059",
   "metadata": {},
   "outputs": [
    {
     "name": "stdout",
     "output_type": "stream",
     "text": [
      "None\n"
     ]
    }
   ],
   "source": [
    "def swapElements(arr , start , end):\n",
    "    arr[ start ] , arr[ end ] =arr[ end ] , arr[ start ]\n",
    "\n",
    "\n",
    "\n",
    "def reverse(arr , start , end):\n",
    "    while(start < end):\n",
    "        swapElements(arr , start , end)\n",
    "        start += 1\n",
    "        end -= 1\n",
    "\n",
    "\n",
    "def rotate(arr, n, d):\n",
    "    #Your code goes here\n",
    "    if n == 0:\n",
    "        return\n",
    "    if d >= n and n != 0:\n",
    "        d = d % n\n",
    "    reverse( arr , 0 , n - 1 )\n",
    "    reverse( arr , 0 , n - d - 1 )\n",
    "    reverse( arr , n - d , n - 1 )\n",
    "\n",
    "\n",
    "\n",
    "arr=[1,3,6,11,12,17]\n",
    "a=rotate(arr,6,4)\n",
    "print(a)    \n",
    "    \n",
    "    "
   ]
  },
  {
   "cell_type": "markdown",
   "id": "1a7b1356",
   "metadata": {},
   "source": [
    "# second lasgest no"
   ]
  },
  {
   "cell_type": "code",
   "execution_count": 77,
   "id": "974a0058",
   "metadata": {},
   "outputs": [
    {
     "name": "stdout",
     "output_type": "stream",
     "text": [
      "5\n"
     ]
    }
   ],
   "source": [
    "\n",
    "def secondLargestElement(arr, n):\n",
    "    L = -2147483648\n",
    "    S = -2147483648\n",
    "    for i in range(n):\n",
    "        if arr[i] > L:\n",
    "            S = L\n",
    "            L = arr[i]\n",
    "        elif arr[i] > S and arr[i]!=L:\n",
    "            S = arr[i]\n",
    "    return S\n",
    "\n",
    "a = secondLargestElement([8,3,4,5,8,1], 6)\n",
    "print(a)"
   ]
  },
  {
   "cell_type": "markdown",
   "id": "51262a51",
   "metadata": {},
   "source": [
    "# check array rotation\n"
   ]
  },
  {
   "cell_type": "code",
   "execution_count": 13,
   "id": "0594da5e",
   "metadata": {},
   "outputs": [
    {
     "name": "stdout",
     "output_type": "stream",
     "text": [
      "4\n"
     ]
    }
   ],
   "source": [
    "def arrayRotateCheck(arr, n):\n",
    "    for i in range(n-1): \n",
    "        if(arr[i] > arr[i+1]):\n",
    "            return (i+1)\n",
    "    return 0\n",
    "a = arrayRotateCheck([4,5,6,7,0,1,2],7)\n",
    "print(a)\n",
    "     "
   ]
  },
  {
   "cell_type": "markdown",
   "id": "1306a97a",
   "metadata": {},
   "source": [
    "# sort 0 1 2"
   ]
  },
  {
   "cell_type": "code",
   "execution_count": 14,
   "id": "fe6a5db0",
   "metadata": {},
   "outputs": [
    {
     "name": "stdout",
     "output_type": "stream",
     "text": [
      "[0, 0, 0, 1, 1, 1, 2, 2]\n"
     ]
    }
   ],
   "source": [
    "def sort012(arr, n):\n",
    "    i = 0\n",
    "    nextZero = 0\n",
    "    nextTwo = n - 1\n",
    "    while(i <= nextTwo):\n",
    "        if arr[i] == 0:\n",
    "            arr[i], arr[nextZero] = arr[nextZero], arr[i]\n",
    "            i += 1\n",
    "            nextZero += 1\n",
    "            \n",
    "        elif arr[i] == 2:\n",
    "            arr[i], arr[nextTwo] = arr[nextTwo], arr[i]\n",
    "            nextTwo -=1\n",
    "        \n",
    "        else:\n",
    "            i += 1\n",
    "    return arr\n",
    "\n",
    "a = sort012([1,0,2,1,0,1,2,0],8)\n",
    "print(a)\n",
    "           "
   ]
  },
  {
   "cell_type": "markdown",
   "id": "a724fb57",
   "metadata": {},
   "source": [
    "# sum of two array\n"
   ]
  },
  {
   "cell_type": "code",
   "execution_count": 18,
   "id": "9ca18f7f",
   "metadata": {},
   "outputs": [
    {
     "name": "stdout",
     "output_type": "stream",
     "text": [
      "[0, 4, 8, 0, 5, 2, 3]\n"
     ]
    }
   ],
   "source": [
    "\n",
    "def sumOfTwoArrays(arr1, n, arr2, m):\n",
    "    i = n - 1 # index for arr1\n",
    "    j = m - 1 # index for arr2\n",
    "    k = max(n,m) # index for the result\n",
    "    carry = 0\n",
    "    a = k+1 # the size of the result array has to be 1 grater than the array which has tha maximum length as we have to account for carry\n",
    "    output = [None]*a\n",
    "    \n",
    "    while i >=0 and j >= 0:\n",
    "        SUM = arr1[i] +arr2[j] +carry\n",
    "        output[k] = SUM % 10\n",
    "        carry = SUM//10\n",
    "        i -= 1\n",
    "        j -= 1\n",
    "        k -= 1\n",
    "        \n",
    "    while i >=0:\n",
    "        SUM = arr1[i] + carry\n",
    "        output[k] = SUM % 10\n",
    "        carry = SUM//10\n",
    "        i -= 1\n",
    "        k -= 1\n",
    "        \n",
    "    while j>=0:\n",
    "        SUM = arr2[j] + carry\n",
    "        output[k] = SUM % 10\n",
    "        carry = SUM//10\n",
    "        j -= 1\n",
    "        k -= 1\n",
    "    \n",
    "    output[0] = carry\n",
    "    \n",
    "    return (output)\n",
    "\n",
    "a = sumOfTwoArrays([2,1,9,6], 4, [4,7,8,3,2,7], 6)\n",
    "print(a)\n",
    "     "
   ]
  }
 ],
 "metadata": {
  "kernelspec": {
   "display_name": "Python 3 (ipykernel)",
   "language": "python",
   "name": "python3"
  },
  "language_info": {
   "codemirror_mode": {
    "name": "ipython",
    "version": 3
   },
   "file_extension": ".py",
   "mimetype": "text/x-python",
   "name": "python",
   "nbconvert_exporter": "python",
   "pygments_lexer": "ipython3",
   "version": "3.10.9"
  }
 },
 "nbformat": 4,
 "nbformat_minor": 5
}
