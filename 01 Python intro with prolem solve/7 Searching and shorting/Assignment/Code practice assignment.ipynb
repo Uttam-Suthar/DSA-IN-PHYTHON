{
 "cells": [
  {
   "cell_type": "markdown",
   "id": "48755400",
   "metadata": {},
   "source": [
    "# binary searche element\n"
   ]
  },
  {
   "cell_type": "code",
   "execution_count": 1,
   "id": "799b210b",
   "metadata": {},
   "outputs": [
    {
     "name": "stdout",
     "output_type": "stream",
     "text": [
      "1\n"
     ]
    }
   ],
   "source": [
    "def binarySearch(arr,n,x):\n",
    "# def binarySearch(arr,n,x,debug= False):\n",
    "    s=0\n",
    "    e=n-1\n",
    "    while s<=e:\n",
    "        m=(s+e)//2\n",
    "#         if debug:\n",
    "#             print(\" s value is s= \",s)\n",
    "#             print(\" e value is e=\",e)\n",
    "#             print(\" m value is m=\",m)\n",
    "        if arr[m]==x:\n",
    "            return m\n",
    "        elif arr[m]<x:\n",
    "            s=m+1\n",
    "        else:\n",
    "            e=m-1\n",
    "    return -1\n",
    "\n",
    "# n=int(input())\n",
    "# list=[int(x) for x in input().split()]\n",
    "# x=int(input())           \n",
    "# a= binarySearch(list,n,x)\n",
    "# print(a)           \n",
    "        \n",
    "# a= binarySearch([1,3,7,9,11,12,45],7,3,debug=True)\n",
    "a= binarySearch([1,3,7,9,11,12,45],7,3)\n",
    "print(a)"
   ]
  },
  {
   "cell_type": "markdown",
   "id": "896c1e2e",
   "metadata": {},
   "source": [
    "# selection sorting\n"
   ]
  },
  {
   "cell_type": "code",
   "execution_count": null,
   "id": "0267f4af",
   "metadata": {},
   "outputs": [],
   "source": [
    "def binarySorting(arr):\n",
    "    length= len(arr)\n",
    "    for i in range(length-1):\n",
    "        minindex=i\n",
    "        for j in range(i+1,length):\n",
    "            if arr[j]<arr[minindex]:\n",
    "                minindex=j\n",
    "        arr[i],arr[minindex]=arr[minindex],arr[i]   \n",
    "    return arr    \n",
    "            \n",
    "\n",
    "\n",
    "arr=[13,4,9,5,3]\n",
    "a=binarySorting(arr)\n",
    "print(a)"
   ]
  },
  {
   "cell_type": "markdown",
   "id": "4ef7fa18",
   "metadata": {},
   "source": [
    "# bubble sorth theory code\n"
   ]
  },
  {
   "cell_type": "code",
   "execution_count": 2,
   "id": "4d7653df",
   "metadata": {},
   "outputs": [
    {
     "name": "stdout",
     "output_type": "stream",
     "text": [
      "pass i value is 0\n",
      " is pair is  8 5\n",
      " is pair is  8 3\n",
      " is pair is  8 1\n",
      "pass i value is 1\n",
      " is pair is  5 3\n",
      " is pair is  5 1\n",
      "pass i value is 2\n",
      " is pair is  3 1\n",
      "pass i value is 3\n",
      "[1, 3, 5, 8]\n"
     ]
    }
   ],
   "source": [
    "def bublesort(arr):\n",
    "    \n",
    "    for i in range(len(arr)):\n",
    "        print(\"pass i value is\",i)\n",
    "        for j in range(len(arr)-i-1):\n",
    "            if arr[j]>arr[j+1]:\n",
    "                print(\" is pair is \",arr[j] , arr[j+1])\n",
    "                arr[j],arr[j+1]=arr[j+1],arr[j]\n",
    "\n",
    "    return arr    \n",
    "# arr=[12,3,5,7,90,2,0,65]\n",
    "arr=[8,5,3,1]\n",
    "a=bublesort(arr)\n",
    "print(a)"
   ]
  },
  {
   "cell_type": "markdown",
   "id": "0165b699",
   "metadata": {},
   "source": [
    "# insertion sort theory"
   ]
  },
  {
   "cell_type": "code",
   "execution_count": 8,
   "id": "d633c1ec",
   "metadata": {},
   "outputs": [
    {
     "name": "stdout",
     "output_type": "stream",
     "text": [
      "[0, 2, 3, 5, 7, 12, 65, 90]\n"
     ]
    }
   ],
   "source": [
    "def insertionSort(arr, n):\n",
    "    for i in range(1,n):\n",
    "        j = i-1 # for comparing with the sorted array\n",
    "        temp = arr[i]\n",
    "        # Shifting elemnts till the condition holds\n",
    "        while(j>=0 and arr[j] > temp):\n",
    "            arr[j+1] = arr[j]\n",
    "            j = j-1\n",
    "        # arr[j+1] is correct position for the ith element\n",
    "        arr[j+1] = temp\n",
    "    return(arr)\n",
    "    \n",
    "a = insertionSort([12,3,5,7,90,2,0,65],8)\n",
    "print(a)"
   ]
  },
  {
   "cell_type": "markdown",
   "id": "5d7c4134",
   "metadata": {},
   "source": [
    "# merge two array\n"
   ]
  },
  {
   "cell_type": "code",
   "execution_count": 10,
   "id": "d46134bf",
   "metadata": {},
   "outputs": [
    {
     "name": "stdout",
     "output_type": "stream",
     "text": [
      "[1, 3, 4, 4, 7, 9, 11, 11, 13]\n"
     ]
    }
   ],
   "source": [
    "def mergeTwoArray(a1,a2):\n",
    "    i,j=0,0\n",
    "    len1,len2=len(a1),len(a2)\n",
    "    newArray =[]\n",
    "    while i<len1 and j<len2:\n",
    "        if a1[i]<a2[j]:\n",
    "            newArray.append(a1[i])\n",
    "            i=i+1\n",
    "        else:\n",
    "            newArray.append(a2[j])\n",
    "            j=j+1\n",
    "    while i<len1:\n",
    "        newArray.append(a1[i])\n",
    "        i=i+1\n",
    "    while j<len2:\n",
    "        newArray.append(a2[j])\n",
    "        j=j+1\n",
    "    return newArray\n",
    "a1=[1,3,4,7,11]\n",
    "a2=[4,9,11,13]\n",
    "a=mergeTwoArray(a1,a2)\n",
    "print(a)"
   ]
  },
  {
   "cell_type": "code",
   "execution_count": null,
   "id": "fee293b6",
   "metadata": {},
   "outputs": [],
   "source": [
    "def merge(arr1, n, arr2, m) : \n",
    "    i=0\n",
    "    j=0\n",
    "    n = len(arr1)\n",
    "    m = len(arr2)\n",
    "    \n",
    "    arr = []\n",
    "    \n",
    "    while((i < n) and (j < m)):\n",
    "        if(arr1[i] < arr2[j]):\n",
    "            arr.append(arr1[i])\n",
    "            i = i + 1\n",
    "        else:\n",
    "            arr.append(arr2[j])\n",
    "            j = j + 1\n",
    "    while(i < n):\n",
    "        arr.append(arr1[i])\n",
    "        i = i + 1\n",
    "        \n",
    "    while(j < m):\n",
    "        arr.append(arr2[j])\n",
    "        j = j + 1\n",
    "    return arr\n",
    "a1=[1,3,4,7,11]\n",
    "a2=[4,9,11,13]\n",
    "a=mergeTwoArray(a1,a2)\n",
    "print(a)"
   ]
  }
 ],
 "metadata": {
  "kernelspec": {
   "display_name": "Python 3 (ipykernel)",
   "language": "python",
   "name": "python3"
  },
  "language_info": {
   "codemirror_mode": {
    "name": "ipython",
    "version": 3
   },
   "file_extension": ".py",
   "mimetype": "text/x-python",
   "name": "python",
   "nbconvert_exporter": "python",
   "pygments_lexer": "ipython3",
   "version": "3.10.9"
  }
 },
 "nbformat": 4,
 "nbformat_minor": 5
}
