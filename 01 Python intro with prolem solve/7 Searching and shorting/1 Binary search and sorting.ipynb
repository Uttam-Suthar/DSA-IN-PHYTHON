{
 "cells": [
  {
   "cell_type": "code",
   "execution_count": 28,
   "id": "02eea4da",
   "metadata": {},
   "outputs": [
    {
     "name": "stdout",
     "output_type": "stream",
     "text": [
      "3\n",
      "None\n"
     ]
    }
   ],
   "source": [
    "def binary(arr,n,x):\n",
    "    isfound=False\n",
    "    for i in range(n):\n",
    "        if arr[i]==x:\n",
    "            print(i)\n",
    "            isfound=True\n",
    "            break\n",
    "    if isfound is False:\n",
    "        print(-1)\n",
    "        \n",
    "# n= int(input())\n",
    "# list= [int(n) for n in input().split()]   \n",
    "\n",
    "# a= binary(list,n,56)\n",
    "# print(a)\n",
    "            \n",
    "arr=binary([12,34,45,56,67,89],6,56)\n",
    "print(arr)"
   ]
  },
  {
   "cell_type": "code",
   "execution_count": 12,
   "id": "c7148025",
   "metadata": {},
   "outputs": [
    {
     "name": "stdout",
     "output_type": "stream",
     "text": [
      " s value is s=  0\n",
      " e value is e= 6\n",
      " m value is m= 3\n",
      " s value is s=  0\n",
      " e value is e= 2\n",
      " m value is m= 1\n",
      "1\n"
     ]
    }
   ],
   "source": [
    "def binarySearch(arr,n,x,debug= False):\n",
    "    s=0\n",
    "    e=n-1\n",
    "    while s<=e:\n",
    "        m=(s+e)//2\n",
    "        if debug:\n",
    "            print(\" s value is s= \",s)\n",
    "            print(\" e value is e=\",e)\n",
    "            print(\" m value is m=\",m)\n",
    "        if arr[m]==x:\n",
    "            return m\n",
    "        elif arr[m]<x:\n",
    "            s=m+1\n",
    "        else:\n",
    "            e=m-1\n",
    "    return -1\n",
    "\n",
    "# n=int(input())\n",
    "# list=[int(x) for x in input().split()]\n",
    "# x=int(input())           \n",
    "# a= binarySearch(list,n,x)\n",
    "# print(a)           \n",
    "        \n",
    "a= binarySearch([1,3,7,9,11,12,45],7,3,debug=True)\n",
    "print(a)"
   ]
  },
  {
   "cell_type": "code",
   "execution_count": 37,
   "id": "e905250f",
   "metadata": {},
   "outputs": [
    {
     "name": "stdout",
     "output_type": "stream",
     "text": [
      "4\n",
      "1 4 5 6\n",
      "4\n",
      "1\n"
     ]
    }
   ],
   "source": [
    "def binarySearch(arr ,n,x) :\n",
    "    #Your code goes here\n",
    "    pass\n",
    "    s=0\n",
    "    e=n-1\n",
    "    while s<=e:\n",
    "        m=(s+e)//2\n",
    "        if arr[m]==x:\n",
    "            return m\n",
    "        elif arr[m]<x:\n",
    "            s=m+1\n",
    "        else:\n",
    "            e=m-1\n",
    "    return -1\n",
    "\n",
    "n=int(input())\n",
    "list=[int(x) for x in input().split()]\n",
    "x=int(input())           \n",
    "a= binarySearch(list,n,x)\n",
    "print(a)"
   ]
  }
 ],
 "metadata": {
  "kernelspec": {
   "display_name": "Python 3 (ipykernel)",
   "language": "python",
   "name": "python3"
  },
  "language_info": {
   "codemirror_mode": {
    "name": "ipython",
    "version": 3
   },
   "file_extension": ".py",
   "mimetype": "text/x-python",
   "name": "python",
   "nbconvert_exporter": "python",
   "pygments_lexer": "ipython3",
   "version": "3.10.9"
  }
 },
 "nbformat": 4,
 "nbformat_minor": 5
}
