{
 "cells": [
  {
   "cell_type": "markdown",
   "id": "ce02a925",
   "metadata": {},
   "source": [
    "how can creat a list"
   ]
  },
  {
   "cell_type": "code",
   "execution_count": null,
   "id": "dcc6176f",
   "metadata": {},
   "outputs": [],
   "source": [
    "li=[]"
   ]
  },
  {
   "cell_type": "markdown",
   "id": "89837f92",
   "metadata": {},
   "source": [
    "# access and change element of the list"
   ]
  },
  {
   "cell_type": "code",
   "execution_count": 5,
   "id": "1d999d02",
   "metadata": {},
   "outputs": [
    {
     "name": "stdout",
     "output_type": "stream",
     "text": [
      "1\n"
     ]
    },
    {
     "data": {
      "text/plain": [
       "2"
      ]
     },
     "execution_count": 5,
     "metadata": {},
     "output_type": "execute_result"
    }
   ],
   "source": [
    "li=[1,2,3]\n",
    "\n",
    "print(li[0])\n",
    "li[1]"
   ]
  },
  {
   "cell_type": "code",
   "execution_count": 6,
   "id": "de8972f3",
   "metadata": {},
   "outputs": [
    {
     "data": {
      "text/plain": [
       "[5, 2, 'uttam', 3.5]"
      ]
     },
     "execution_count": 6,
     "metadata": {},
     "output_type": "execute_result"
    }
   ],
   "source": [
    "li=[1,2,\"uttam\",3.5]\n",
    "\n",
    "li[0]=5\n",
    "li"
   ]
  },
  {
   "cell_type": "code",
   "execution_count": 7,
   "id": "993379f7",
   "metadata": {},
   "outputs": [
    {
     "data": {
      "text/plain": [
       "[5, 2, 'uttam', 'rahul']"
      ]
     },
     "execution_count": 7,
     "metadata": {},
     "output_type": "execute_result"
    }
   ],
   "source": [
    "li=[1,2,\"uttam\",3.5]\n",
    "\n",
    "li[0]=5\n",
    "li[3]=\"rahul\"\n",
    "li"
   ]
  },
  {
   "cell_type": "code",
   "execution_count": 8,
   "id": "6166032a",
   "metadata": {},
   "outputs": [
    {
     "data": {
      "text/plain": [
       "[5, 2, 'uttam', 'rahul']"
      ]
     },
     "execution_count": 8,
     "metadata": {},
     "output_type": "execute_result"
    }
   ],
   "source": [
    "li"
   ]
  },
  {
   "cell_type": "markdown",
   "id": "e788ef1c",
   "metadata": {},
   "source": [
    "silicing of a list"
   ]
  },
  {
   "cell_type": "code",
   "execution_count": 9,
   "id": "6bd41f46",
   "metadata": {},
   "outputs": [
    {
     "data": {
      "text/plain": [
       "[2, 'uttam']"
      ]
     },
     "execution_count": 9,
     "metadata": {},
     "output_type": "execute_result"
    }
   ],
   "source": [
    "li=[5,2,\"uttam\",\"rahul\"]\n",
    "\n",
    "li[1:3]\n",
    "\n"
   ]
  },
  {
   "cell_type": "code",
   "execution_count": 10,
   "id": "b96966c2",
   "metadata": {},
   "outputs": [
    {
     "data": {
      "text/plain": [
       "[2, 'uttam', 'rahul']"
      ]
     },
     "execution_count": 10,
     "metadata": {},
     "output_type": "execute_result"
    }
   ],
   "source": [
    "li[1:]"
   ]
  },
  {
   "cell_type": "code",
   "execution_count": 11,
   "id": "96eaf82d",
   "metadata": {},
   "outputs": [
    {
     "data": {
      "text/plain": [
       "[5, 2, 'uttam', 'rahul']"
      ]
     },
     "execution_count": 11,
     "metadata": {},
     "output_type": "execute_result"
    }
   ],
   "source": [
    "li[:]"
   ]
  },
  {
   "cell_type": "markdown",
   "id": "8a3d8e23",
   "metadata": {},
   "source": [
    "insert and append of a list"
   ]
  },
  {
   "cell_type": "code",
   "execution_count": 62,
   "id": "0abd7859",
   "metadata": {},
   "outputs": [
    {
     "data": {
      "text/plain": [
       "[5, 7, 2, 'uttam', 'rahul', 'dinesh', 5]"
      ]
     },
     "execution_count": 62,
     "metadata": {},
     "output_type": "execute_result"
    }
   ],
   "source": [
    "li=[5,2,\"uttam\",\"rahul\"]\n",
    "\n",
    "li.append(\"dinesh\")\n",
    "li\n",
    "\n",
    "li.insert(1,7)\n",
    "li\n",
    "li.insert(6,5)\n",
    "li"
   ]
  },
  {
   "cell_type": "code",
   "execution_count": 59,
   "id": "687e53ce",
   "metadata": {},
   "outputs": [
    {
     "name": "stdout",
     "output_type": "stream",
     "text": [
      "[5, 7, 2, 'uttam', 'rahul', 'dinesh', 5, [9, 12, 11], [9, 12, 11], [9, 12, 11]]\n"
     ]
    }
   ],
   "source": [
    "li.append([9,12,11])\n",
    "print(li)\n",
    "\n"
   ]
  },
  {
   "cell_type": "code",
   "execution_count": 63,
   "id": "bf111d62",
   "metadata": {},
   "outputs": [
    {
     "data": {
      "text/plain": [
       "[5, 7, 2, 'uttam', 'rahul', 'dinesh', 5, 13, 55, 33]"
      ]
     },
     "execution_count": 63,
     "metadata": {},
     "output_type": "execute_result"
    }
   ],
   "source": [
    "li.extend([13,55,33])\n",
    "li"
   ]
  },
  {
   "cell_type": "code",
   "execution_count": 78,
   "id": "fed67751",
   "metadata": {},
   "outputs": [
    {
     "data": {
      "text/plain": [
       "[7, 2, 'uttam', 'dinesh', 5, 13, 55]"
      ]
     },
     "execution_count": 78,
     "metadata": {},
     "output_type": "execute_result"
    }
   ],
   "source": [
    "li=[5, 7, 2, 'uttam', 'rahul', 'dinesh', 5, 13, 55, 33]\n",
    "\n",
    "li.remove(5)     # only fist element remove   \n",
    "li.remove(\"rahul\")\n",
    "li\n",
    "\n",
    "li.pop()       # delete last element index\n",
    "\n",
    "li"
   ]
  },
  {
   "cell_type": "code",
   "execution_count": 75,
   "id": "18644c87",
   "metadata": {},
   "outputs": [
    {
     "data": {
      "text/plain": [
       "[5, 7, 2, 'rahul', 'dinesh', 5, 13, 55]"
      ]
     },
     "execution_count": 75,
     "metadata": {},
     "output_type": "execute_result"
    }
   ],
   "source": [
    "li=[5, 7, 2, 'uttam', 'rahul', 'dinesh', 5, 13, 55, 33]\n",
    "\n",
    "li.pop()\n",
    "li\n",
    "li.pop(3)\n",
    "li"
   ]
  },
  {
   "cell_type": "code",
   "execution_count": null,
   "id": "ad0ae1aa",
   "metadata": {},
   "outputs": [],
   "source": []
  }
 ],
 "metadata": {
  "kernelspec": {
   "display_name": "Python 3 (ipykernel)",
   "language": "python",
   "name": "python3"
  },
  "language_info": {
   "codemirror_mode": {
    "name": "ipython",
    "version": 3
   },
   "file_extension": ".py",
   "mimetype": "text/x-python",
   "name": "python",
   "nbconvert_exporter": "python",
   "pygments_lexer": "ipython3",
   "version": "3.10.9"
  }
 },
 "nbformat": 4,
 "nbformat_minor": 5
}
