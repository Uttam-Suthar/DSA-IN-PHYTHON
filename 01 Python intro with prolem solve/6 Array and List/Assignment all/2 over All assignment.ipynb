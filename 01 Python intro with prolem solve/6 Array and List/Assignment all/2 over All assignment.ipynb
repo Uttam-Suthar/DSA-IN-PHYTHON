{
 "cells": [
  {
   "cell_type": "markdown",
   "id": "7b9464a0",
   "metadata": {},
   "source": [
    "Find uniq number"
   ]
  },
  {
   "cell_type": "code",
   "execution_count": 86,
   "id": "c906282f",
   "metadata": {},
   "outputs": [
    {
     "name": "stdout",
     "output_type": "stream",
     "text": [
      "10\n"
     ]
    }
   ],
   "source": [
    "def findUniqueno(arr,n):\n",
    "    for k in range(0,n):\n",
    "        check=0\n",
    "        for i in range(n):\n",
    "            if arr[i]==arr[k]:\n",
    "                check= check+1\n",
    "        if check==1:\n",
    "            return arr[k]\n",
    "           \n",
    "\n",
    "\n",
    "a=findUniqueno([1,3,1,3,6,6,7,10,7],9)\n",
    "print(a)"
   ]
  },
  {
   "cell_type": "markdown",
   "id": "e173233d",
   "metadata": {},
   "source": [
    "Find duplicate number"
   ]
  },
  {
   "cell_type": "code",
   "execution_count": 78,
   "id": "824ffefc",
   "metadata": {},
   "outputs": [
    {
     "name": "stdout",
     "output_type": "stream",
     "text": [
      "10\n"
     ]
    }
   ],
   "source": [
    "def findUniqueno(arr,n):\n",
    "    for k in range(0,n):\n",
    "        check=0\n",
    "        for i in range(n):\n",
    "            if k !=i:\n",
    "                if arr[i]==arr[k]:\n",
    "                    break\n",
    "            check=check+1       \n",
    "        if check==n:\n",
    "            return arr[k]\n",
    "           \n",
    "\n",
    "\n",
    "a=findUniqueno([1,3,1,3,6,6,7,10,7],9)\n",
    "print(a)"
   ]
  },
  {
   "cell_type": "code",
   "execution_count": 56,
   "id": "d1f46198",
   "metadata": {},
   "outputs": [
    {
     "name": "stdout",
     "output_type": "stream",
     "text": [
      "10\n"
     ]
    }
   ],
   "source": [
    "\n",
    "def findUniqueno(arr,n):\n",
    "    for i in range(0,n):\n",
    "        j=0\n",
    "        while j<n:\n",
    "            if i !=j:\n",
    "                if arr[i]==arr[j]:\n",
    "                    break\n",
    "            j=j+1        \n",
    "        if j==n:\n",
    "            return arr[i]\n",
    "           \n",
    "\n",
    "a=findUniqueno([1,3,1,3,6,6,7,10,7],9)\n",
    "print(a)"
   ]
  },
  {
   "cell_type": "code",
   "execution_count": 47,
   "id": "e7e52954",
   "metadata": {},
   "outputs": [
    {
     "name": "stdout",
     "output_type": "stream",
     "text": [
      "3\n"
     ]
    }
   ],
   "source": [
    "def findDupalicate(arr,n):\n",
    "    for k in range(0,n):\n",
    "        check =  0\n",
    "        for i in range(n):\n",
    "            if arr[i]==arr[k]:\n",
    "                check=check+1\n",
    "        if check==2:\n",
    "            return arr[k]\n",
    "    \n",
    "\n",
    "\n",
    "a=findDupalicate([0,3,1,5,4,3,2],7)\n",
    "print(a)"
   ]
  },
  {
   "cell_type": "code",
   "execution_count": 48,
   "id": "816cc673",
   "metadata": {},
   "outputs": [
    {
     "name": "stdout",
     "output_type": "stream",
     "text": [
      "3\n"
     ]
    }
   ],
   "source": [
    "def findUniqueno(arr,n):\n",
    "    for i in range(0,n):\n",
    "        j=0\n",
    "        while j<n:\n",
    "            if i !=j:\n",
    "                if arr[i]==arr[j]:\n",
    "                    return arr[i]\n",
    "            j=j+1        \n",
    "            \n",
    "           \n",
    "a=findDupalicate([0,3,1,5,4,3,2],7)\n",
    "print(a)"
   ]
  },
  {
   "cell_type": "code",
   "execution_count": 43,
   "id": "6d069fa2",
   "metadata": {},
   "outputs": [
    {
     "name": "stdout",
     "output_type": "stream",
     "text": [
      "3\n"
     ]
    }
   ],
   "source": [
    "def findDupalicate(arr,n):\n",
    "     for k in range(0,n):\n",
    "        for i in range(n):\n",
    "            if k !=i:\n",
    "                if arr[i]==arr[k]:\n",
    "                     return arr[k]\n",
    "       \n",
    "    \n",
    "\n",
    "\n",
    "a=findDupalicate([0,3,1,5,4,3,2],7)\n",
    "print(a)"
   ]
  },
  {
   "cell_type": "markdown",
   "id": "ccb1b8cc",
   "metadata": {},
   "source": [
    "# intersection of two array"
   ]
  },
  {
   "cell_type": "code",
   "execution_count": 8,
   "id": "610b047b",
   "metadata": {},
   "outputs": [
    {
     "name": "stdout",
     "output_type": "stream",
     "text": [
      "2 4 3 "
     ]
    }
   ],
   "source": [
    "def intersection(arr1,n,arr2,m):\n",
    "      for k in range(n):\n",
    "        for i in range(m):\n",
    "            \n",
    "            if arr1[k]==arr2[i]:\n",
    "#                 if arr1[k]==arr2[i]:\n",
    "                print(arr1[k],end=\" \")\n",
    "                arr2[i]=-10000000\n",
    "                break\n",
    "a=intersection([2,6,8,5,4,3],6,[2,3,4,7],4)  \n",
    "a\n"
   ]
  },
  {
   "cell_type": "markdown",
   "id": "b41726a9",
   "metadata": {},
   "source": [
    "# pair sum"
   ]
  },
  {
   "cell_type": "code",
   "execution_count": 171,
   "id": "2c2de9a7",
   "metadata": {},
   "outputs": [
    {
     "name": "stdout",
     "output_type": "stream",
     "text": [
      "2\n"
     ]
    }
   ],
   "source": [
    "def pairSum(arr,n,x):\n",
    "    times=0\n",
    "    for i in range(n):\n",
    "        j=i\n",
    "        while j<n:\n",
    "            if i !=j:\n",
    "                if arr[i]+arr[j]==x:\n",
    "                    times=times+1    \n",
    "            j=j+1        \n",
    "    return times          \n",
    "            \n",
    "    \n",
    "a=pairSum([2,8,10,5,-2,5],6,10)\n",
    "print(a)"
   ]
  },
  {
   "cell_type": "code",
   "execution_count": 133,
   "id": "7f6791b2",
   "metadata": {},
   "outputs": [
    {
     "name": "stdout",
     "output_type": "stream",
     "text": [
      "2\n"
     ]
    }
   ],
   "source": [
    "def pairSum(arr,n,x):\n",
    "    times=0\n",
    "    for k in range(n-1):\n",
    "        for i in range(k+1,n):\n",
    "#             if k !=i:\n",
    "                if arr[i]+arr[k]==x:\n",
    "                     times=times+1\n",
    "    return times\n",
    "a=pairSum([2,8,10,5,-2,5],6,10)\n",
    "print(a)                    "
   ]
  },
  {
   "cell_type": "markdown",
   "id": "19d5e03b",
   "metadata": {},
   "source": [
    "# Tripal Sum"
   ]
  },
  {
   "cell_type": "code",
   "execution_count": 198,
   "id": "e3f82963",
   "metadata": {},
   "outputs": [
    {
     "name": "stdout",
     "output_type": "stream",
     "text": [
      "2\n"
     ]
    }
   ],
   "source": [
    "def findTriplet(arr, n, x) :\n",
    "    times=0\n",
    "    for i in range(n-1):\n",
    "        for j in range(i+1, n):\n",
    "            for k in range(j+1,n):\n",
    "                if arr[i] + arr[j] + arr[k]== x:\n",
    "                    times=times+1\n",
    "    return times\n",
    "\n",
    "a = pairSum([2, -5, 8, -6, 0, 5, 10, 11, -3],9,10)\n",
    "print(a)\n",
    "     "
   ]
  },
  {
   "cell_type": "code",
   "execution_count": 202,
   "id": "5cb39589",
   "metadata": {},
   "outputs": [
    {
     "name": "stdout",
     "output_type": "stream",
     "text": [
      "2\n"
     ]
    }
   ],
   "source": [
    "def findTriplet(arr, n, x) :\n",
    "    times=0\n",
    "    for i in range(n):\n",
    "        j=i\n",
    "        while j<n:\n",
    "            k=j\n",
    "            while k<n:\n",
    "#                 if i !=j:\n",
    "                if arr[i]+arr[j]==x:\n",
    "                    times=times+1\n",
    "                k=k+1        \n",
    "            j=j+1        \n",
    "    return times  \n",
    "a = pairSum([2, -5, 8, -6, 0, 5, 10, 11, -3],9,10)\n",
    "print(a)"
   ]
  },
  {
   "cell_type": "markdown",
   "id": "9bc49200",
   "metadata": {},
   "source": [
    "# sort array 0,1"
   ]
  },
  {
   "cell_type": "code",
   "execution_count": 207,
   "id": "1926b02a",
   "metadata": {},
   "outputs": [
    {
     "name": "stdout",
     "output_type": "stream",
     "text": [
      "[0, 0, 0, 1, 1, 1, 1]\n"
     ]
    }
   ],
   "source": [
    "def sortnum(arr,n):\n",
    "    start=0\n",
    "    for i in range(n):\n",
    "        if arr[i]==0:\n",
    "            arr[start],arr[i]=arr[i],arr[start]\n",
    "            start=start+1\n",
    "    return arr        \n",
    "a = sortnum([0, 1, 1, 0, 1, 0, 1],7)\n",
    "print(a)"
   ]
  }
 ],
 "metadata": {
  "kernelspec": {
   "display_name": "Python 3 (ipykernel)",
   "language": "python",
   "name": "python3"
  },
  "language_info": {
   "codemirror_mode": {
    "name": "ipython",
    "version": 3
   },
   "file_extension": ".py",
   "mimetype": "text/x-python",
   "name": "python",
   "nbconvert_exporter": "python",
   "pygments_lexer": "ipython3",
   "version": "3.10.9"
  }
 },
 "nbformat": 4,
 "nbformat_minor": 5
}
