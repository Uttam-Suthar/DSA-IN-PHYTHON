{
 "cells": [
  {
   "cell_type": "markdown",
   "id": "bde48d6c",
   "metadata": {},
   "source": [
    "Array sum"
   ]
  },
  {
   "cell_type": "code",
   "execution_count": 5,
   "id": "b4342a95",
   "metadata": {},
   "outputs": [
    {
     "name": "stdout",
     "output_type": "stream",
     "text": [
      "3\n",
      "3 8 9\n",
      "20\n"
     ]
    }
   ],
   "source": [
    "n= int(input())\n",
    "li=[int(x) for x in input().split()]\n",
    "sum=0\n",
    "for ele in li:\n",
    "    sum=sum+ele\n",
    "print(sum)\n"
   ]
  },
  {
   "cell_type": "code",
   "execution_count": 17,
   "id": "15a3f669",
   "metadata": {},
   "outputs": [
    {
     "name": "stdout",
     "output_type": "stream",
     "text": [
      "3\n",
      "9 8 9\n",
      "26\n"
     ]
    }
   ],
   "source": [
    "n =int(input())\n",
    "li=[]\n",
    "\n",
    "str= input()\n",
    "str_split=str.split(\" \")\n",
    "str_split\n",
    "for ele in str_split:\n",
    "    li.append(int(ele))\n",
    "sum=0    \n",
    "for i in li:\n",
    "    sum=sum+i\n",
    "print(sum)    \n",
    "    \n",
    "    \n",
    "    "
   ]
  }
 ],
 "metadata": {
  "kernelspec": {
   "display_name": "Python 3 (ipykernel)",
   "language": "python",
   "name": "python3"
  },
  "language_info": {
   "codemirror_mode": {
    "name": "ipython",
    "version": 3
   },
   "file_extension": ".py",
   "mimetype": "text/x-python",
   "name": "python",
   "nbconvert_exporter": "python",
   "pygments_lexer": "ipython3",
   "version": "3.10.9"
  }
 },
 "nbformat": 4,
 "nbformat_minor": 5
}
