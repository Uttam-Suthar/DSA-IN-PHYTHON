{
 "cells": [
  {
   "cell_type": "code",
   "execution_count": 1,
   "id": "43ed0af6",
   "metadata": {},
   "outputs": [
    {
     "name": "stdout",
     "output_type": "stream",
     "text": [
      "2\n"
     ]
    }
   ],
   "source": [
    "def increament(a):\n",
    "    a=a+2\n",
    "    return\n",
    "a=2\n",
    "increament(a)\n",
    "print(a)"
   ]
  },
  {
   "cell_type": "code",
   "execution_count": 3,
   "id": "af533660",
   "metadata": {},
   "outputs": [
    {
     "name": "stdout",
     "output_type": "stream",
     "text": [
      "4\n"
     ]
    }
   ],
   "source": [
    "def increament(a):\n",
    "    a=a+2\n",
    "    return a\n",
    "a=2\n",
    "a =increament(a)\n",
    "print(a)"
   ]
  },
  {
   "cell_type": "markdown",
   "id": "80eef3e8",
   "metadata": {},
   "source": [
    "lis passing through element"
   ]
  },
  {
   "cell_type": "code",
   "execution_count": 12,
   "id": "18070afe",
   "metadata": {},
   "outputs": [
    {
     "name": "stdout",
     "output_type": "stream",
     "text": [
      "[3, 2, 3, 4]\n"
     ]
    }
   ],
   "source": [
    "def increment(li):\n",
    "    li[0]= li[0]+2\n",
    "    return\n",
    "    \n",
    "li=[1,2,3,4]  \n",
    "increment(li)\n",
    "print(li)"
   ]
  },
  {
   "cell_type": "code",
   "execution_count": 8,
   "id": "101ff5ff",
   "metadata": {},
   "outputs": [
    {
     "name": "stdout",
     "output_type": "stream",
     "text": [
      "[1, 2, 3, 4]\n"
     ]
    }
   ],
   "source": [
    "def increment(li):\n",
    "#     li[0]= li[0]+2\n",
    "    li=[3,3,4]\n",
    "    return\n",
    "    \n",
    "li=[1,2,3,4]  \n",
    "increment(li)\n",
    "print(li)"
   ]
  },
  {
   "cell_type": "code",
   "execution_count": 10,
   "id": "28643066",
   "metadata": {},
   "outputs": [
    {
     "name": "stdout",
     "output_type": "stream",
     "text": [
      "[3, 3, 4]\n"
     ]
    }
   ],
   "source": [
    "def increment(li):\n",
    "#     li[0]= li[0]+2\n",
    "    li=[3,3,4]\n",
    "    return li\n",
    "    \n",
    "li=[1,2,3,4]  \n",
    "li=increment(li)\n",
    "print(li)"
   ]
  }
 ],
 "metadata": {
  "kernelspec": {
   "display_name": "Python 3 (ipykernel)",
   "language": "python",
   "name": "python3"
  },
  "language_info": {
   "codemirror_mode": {
    "name": "ipython",
    "version": 3
   },
   "file_extension": ".py",
   "mimetype": "text/x-python",
   "name": "python",
   "nbconvert_exporter": "python",
   "pygments_lexer": "ipython3",
   "version": "3.10.9"
  }
 },
 "nbformat": 4,
 "nbformat_minor": 5
}
