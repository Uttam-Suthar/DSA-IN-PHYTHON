{
 "cells": [
  {
   "cell_type": "markdown",
   "id": "ce62fd6a",
   "metadata": {},
   "source": [
    "# recursively"
   ]
  },
  {
   "cell_type": "code",
   "execution_count": 17,
   "id": "3b317d7b",
   "metadata": {},
   "outputs": [
    {
     "name": "stdout",
     "output_type": "stream",
     "text": [
      "30\n"
     ]
    }
   ],
   "source": [
    "\n",
    "import sys\n",
    "def minCost(cost,i,j,n,m):\n",
    "    \n",
    "    if i==n-1 and j==m-1:\n",
    "        return cost[i][j]\n",
    "    \n",
    "    if i>=n or j>=m:\n",
    "        return sys.maxsize\n",
    "    \n",
    "    ans1=minCost(cost,i,j+1,n,m)\n",
    "    ans2=minCost(cost,i+1,j,n,m)\n",
    "    ans3=minCost(cost,i+1,j+1,n,m)\n",
    "    \n",
    "    ans =cost[i][j]+min(ans1,ans2,ans3)\n",
    "    return ans\n",
    "\n",
    "\n",
    "cost=[[1,5,11],[8,13,12],[2,3,7],[15,16,18]]\n",
    "# cost=[[5,3],[4,0],[2,1]]\n",
    "# ans= minCost(cost,0,0,3,2)\n",
    "ans= minCost(cost,0,0,4,3)\n",
    "print(ans)"
   ]
  },
  {
   "cell_type": "markdown",
   "id": "0299ee2d",
   "metadata": {},
   "source": [
    "# memoization "
   ]
  },
  {
   "cell_type": "code",
   "execution_count": 13,
   "id": "115007d6",
   "metadata": {},
   "outputs": [
    {
     "name": "stdout",
     "output_type": "stream",
     "text": [
      "30\n"
     ]
    }
   ],
   "source": [
    "import sys\n",
    "def minCost(cost,i,j,n,m,dp):\n",
    "    \n",
    "    if i==n-1 and j==m-1:\n",
    "        return cost[i][j]\n",
    "    \n",
    "    if i>=n or j>=m:\n",
    "        return sys.maxsize\n",
    "    \n",
    "    if dp[i][j+1]==sys.maxsize:   \n",
    "        ans1=minCost(cost,i,j+1,n,m,dp)\n",
    "        dp[i][j+1]=ans1\n",
    "    else:\n",
    "        ans1=dp[i][j+1]\n",
    "    if dp[i+1][j]==sys.maxsize: \n",
    "        ans2=minCost(cost,i+1,j,n,m,dp)\n",
    "        dp[i+1][j]=ans2\n",
    "    else:\n",
    "        ans2=dp[i+1][j]\n",
    "        \n",
    "    if dp[i+1][j+1]==sys.maxsize: \n",
    "        ans3=minCost(cost,i+1,j+1,n,m,dp)\n",
    "        dp[i+1][j+1]=ans3\n",
    "    else:\n",
    "        ans3=dp[i+1][j+1]\n",
    "        \n",
    "    ans =cost[i][j]+min(ans1,ans2,ans3)\n",
    "    return ans\n",
    "\n",
    "\n",
    "cost=[[1,5,11],[8,13,12],[2,3,7],[15,16,18]]\n",
    "n=4\n",
    "m=3\n",
    "dp=[[sys.maxsize for j in range(m+1)] for i in range(n+1)]\n",
    "ans= minCost(cost,0,0,4,3,dp)\n",
    "print(ans)"
   ]
  },
  {
   "cell_type": "markdown",
   "id": "7c43a598",
   "metadata": {},
   "source": [
    "# iteratively"
   ]
  },
  {
   "cell_type": "code",
   "execution_count": 61,
   "id": "8cfa86be",
   "metadata": {},
   "outputs": [
    {
     "name": "stdout",
     "output_type": "stream",
     "text": [
      "9223372036854775819\n"
     ]
    }
   ],
   "source": [
    "import sys\n",
    "def minCostiteratively(cost,n,m):\n",
    "    dp=[[sys.maxsize for j in range(m+1)] for i in range(n+1)]\n",
    "    \n",
    "    for i in range(n-1,-1,-1):\n",
    "        for j in range(m-1,-1,-1):\n",
    "            if i==n-1 and j==m-1:\n",
    "                dp[i][j]==cost[i][j]\n",
    "            else:\n",
    "                ans1=dp[i+1][j]\n",
    "                ans2=dp[i][j+1]\n",
    "                ans3=dp[i+1][j+1]\n",
    "                dp[i][j]=cost[i][j] + min(ans1,ans2,ans3)\n",
    "    return dp[0][0]\n",
    "\n",
    "cost=[[1,5,11],[8,13,12],[2,3,7],[15,16,18]]\n",
    "n=4\n",
    "m=3\n",
    "ans= minCostiteratively(cost,n,m)\n",
    "print(ans)"
   ]
  },
  {
   "cell_type": "code",
   "execution_count": 65,
   "id": "11a89237",
   "metadata": {},
   "outputs": [
    {
     "name": "stdout",
     "output_type": "stream",
     "text": [
      "30\n"
     ]
    }
   ],
   "source": [
    "# bottom up approach\n",
    "import sys\n",
    "def minCostiterativelyBU(cost,n,m):\n",
    "    dp=[[sys.maxsize for j in range(m+1)] for i in range(n+1)]\n",
    "    \n",
    "    for i in range(n-1,-1,-1):\n",
    "        for j in range(m-1,-1,-1):\n",
    "            if i==n-1 and j==m-1:\n",
    "                dp[i][j]=cost[i][j]\n",
    "            else:\n",
    "                ans1=dp[i+1][j]\n",
    "                ans2=dp[i][j+1]\n",
    "                ans3=dp[i+1][j+1]\n",
    "                dp[i][j]=cost[i][j] + min(ans1,ans2,ans3)\n",
    "    return dp[0][0]\n",
    "\n",
    "cost=[[1,5,11],[8,13,12],[2,3,7],[15,16,18]]\n",
    "n=4\n",
    "m=3\n",
    "ans= minCostiterativelyBU(cost,n,m)\n",
    "print(ans)"
   ]
  },
  {
   "cell_type": "code",
   "execution_count": 69,
   "id": "ac4eaa97",
   "metadata": {},
   "outputs": [
    {
     "name": "stdout",
     "output_type": "stream",
     "text": [
      "30\n"
     ]
    }
   ],
   "source": [
    "# top down approach\n",
    "import sys\n",
    "def minCostiterativelyBU(cost,n,m):\n",
    "    dp=[[sys.maxsize for j in range(m+1)] for i in range(n+1)]\n",
    "    \n",
    "    for i in range(1,n+1):\n",
    "        for j in range(1,m+1):\n",
    "            if i==1 and j==1:\n",
    "                dp[i][j]=cost[0][0]\n",
    "            else:\n",
    "                ans1=dp[i-1][j]\n",
    "                ans2=dp[i][j-1]\n",
    "                ans3=dp[i-1][j-1]\n",
    "                dp[i][j]=cost[i-1][j-1] + min(ans1,ans2,ans3)\n",
    "    return dp[n][m]\n",
    "\n",
    "cost=[[1,5,11],[8,13,12],[2,3,7],[15,16,18]]\n",
    "n=4\n",
    "m=3\n",
    "ans= minCostiterativelyBU(cost,n,m)\n",
    "print(ans)"
   ]
  },
  {
   "cell_type": "code",
   "execution_count": null,
   "id": "2aa77837",
   "metadata": {},
   "outputs": [],
   "source": []
  },
  {
   "cell_type": "code",
   "execution_count": null,
   "id": "969ea72e",
   "metadata": {},
   "outputs": [],
   "source": []
  },
  {
   "cell_type": "code",
   "execution_count": null,
   "id": "7c4f5f39",
   "metadata": {},
   "outputs": [],
   "source": []
  },
  {
   "cell_type": "code",
   "execution_count": null,
   "id": "f84cc482",
   "metadata": {},
   "outputs": [],
   "source": []
  },
  {
   "cell_type": "code",
   "execution_count": null,
   "id": "80f2003a",
   "metadata": {},
   "outputs": [],
   "source": []
  },
  {
   "cell_type": "code",
   "execution_count": null,
   "id": "c039ba05",
   "metadata": {},
   "outputs": [],
   "source": []
  }
 ],
 "metadata": {
  "kernelspec": {
   "display_name": "Python 3 (ipykernel)",
   "language": "python",
   "name": "python3"
  },
  "language_info": {
   "codemirror_mode": {
    "name": "ipython",
    "version": 3
   },
   "file_extension": ".py",
   "mimetype": "text/x-python",
   "name": "python",
   "nbconvert_exporter": "python",
   "pygments_lexer": "ipython3",
   "version": "3.10.9"
  }
 },
 "nbformat": 4,
 "nbformat_minor": 5
}
