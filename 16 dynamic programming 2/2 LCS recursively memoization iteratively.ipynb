{
 "cells": [
  {
   "cell_type": "code",
   "execution_count": 20,
   "id": "b695a22b",
   "metadata": {},
   "outputs": [
    {
     "name": "stdout",
     "output_type": "stream",
     "text": [
      "3\n"
     ]
    }
   ],
   "source": [
    "# by recursion \n",
    "def lcs(str1,str2,i,j):\n",
    "    if i==len(str1) or j==len(str2):\n",
    "        return 0\n",
    "    \n",
    "    if str1[i]==str2[j]:\n",
    "        ans= 1+lcs(str1,str2,i+1,j+1)\n",
    "        \n",
    "    else:\n",
    "        ans1= lcs(str1,str2,i+1,j)\n",
    "        ans2=lcs(str1,str2,i,j+1)\n",
    "        ans=max(ans1,ans2)\n",
    "        \n",
    "    return ans\n",
    "\n",
    "\n",
    "str1=\"bdkej\"\n",
    "str2=\"abekjb\"\n",
    "\n",
    "ans = lcs(str1,str2,0,0)\n",
    "print(ans)\n"
   ]
  },
  {
   "cell_type": "code",
   "execution_count": null,
   "id": "591d88db",
   "metadata": {},
   "outputs": [],
   "source": []
  },
  {
   "cell_type": "code",
   "execution_count": 28,
   "id": "50d9ae2d",
   "metadata": {},
   "outputs": [
    {
     "name": "stdout",
     "output_type": "stream",
     "text": [
      "3\n"
     ]
    }
   ],
   "source": [
    "# by memoization \n",
    "def lcs(str1,str2,i,j,dp):\n",
    "    if i==len(str1) or j==len(str2):\n",
    "        return 0\n",
    "    \n",
    "    if str1[i]==str2[j]:\n",
    "        if dp[i+1][j+1]==-1:\n",
    "            ans= 1+lcs(str1,str2,i+1,j+1,dp)\n",
    "            dp[i+1][j+1]=ans\n",
    "        else:\n",
    "            ans=1+dp[i+1][j+1]\n",
    "        \n",
    "    else:\n",
    "        if dp[i+1][j]==-1:\n",
    "            ans1= lcs(str1,str2,i+1,j,dp)\n",
    "            dp[i+1][j]=ans1\n",
    "        else:\n",
    "            ans1=dp[i+1][j]\n",
    "            \n",
    "        if dp[i][j+1]==-1:\n",
    "            ans2=lcs(str1,str2,i,j+1,dp)\n",
    "            dp[i][j+1]=ans2\n",
    "        else:\n",
    "            ans2=dp[i][j+1]\n",
    "        \n",
    "        ans=max(ans1,ans2)\n",
    "        \n",
    "    return ans\n",
    "\n",
    "\n",
    "str1=\"bdkej\"\n",
    "str2=\"bekjb\"\n",
    "\n",
    "n=len(str1)\n",
    "m=len(str2)\n",
    "\n",
    "dp=[[-1 for i in range(m+1)] for j in range(n+1)]\n",
    "\n",
    "ans = lcs(str1,str2,0,0,dp)\n",
    "print(ans)"
   ]
  },
  {
   "cell_type": "markdown",
   "id": "238b3000",
   "metadata": {},
   "source": [
    "# iteratively"
   ]
  },
  {
   "cell_type": "code",
   "execution_count": 29,
   "id": "66bef182",
   "metadata": {},
   "outputs": [
    {
     "name": "stdout",
     "output_type": "stream",
     "text": [
      "3\n"
     ]
    }
   ],
   "source": [
    "def lcsI(str1,str2):\n",
    "    n=len(str1)\n",
    "    m=len(str2)\n",
    "    dp=[[0 for i in range(m+1)] for i in range(n+1)]\n",
    "    for i in range(n-1,-1,-1):\n",
    "        for j in range(m-1,-1,-1):\n",
    "            if str1[i]==str2[j]:\n",
    "                dp[i][j]=1+dp[i+1][j+1]\n",
    "            else:\n",
    "                dp[i][j]=max(dp[i][j+1],dp[i+1][j])\n",
    "    return dp[0][0]\n",
    "    \n",
    "str1=\"bdkej\"\n",
    "str2=\"bekjb\"\n",
    "ans = lcsI(str1,str2)\n",
    "print(ans)"
   ]
  }
 ],
 "metadata": {
  "kernelspec": {
   "display_name": "Python 3 (ipykernel)",
   "language": "python",
   "name": "python3"
  },
  "language_info": {
   "codemirror_mode": {
    "name": "ipython",
    "version": 3
   },
   "file_extension": ".py",
   "mimetype": "text/x-python",
   "name": "python",
   "nbconvert_exporter": "python",
   "pygments_lexer": "ipython3",
   "version": "3.10.9"
  }
 },
 "nbformat": 4,
 "nbformat_minor": 5
}
