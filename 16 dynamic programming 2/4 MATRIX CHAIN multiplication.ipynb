{
 "cells": [
  {
   "cell_type": "code",
   "execution_count": 3,
   "id": "0648f177",
   "metadata": {},
   "outputs": [
    {
     "data": {
      "text/plain": [
       "124"
      ]
     },
     "execution_count": 3,
     "metadata": {},
     "output_type": "execute_result"
    }
   ],
   "source": [
    "import sys\n",
    "\n",
    "def mcm(p,i,j):\n",
    "    if i==j:\n",
    "        return 0\n",
    "    minvalue=sys.maxsize\n",
    "    for k in range(i,j):\n",
    "        ans1=mcm(p,i,k)\n",
    "        ans2=mcm(p,k+1,j)\n",
    "        mcost=p[i-1]*p[k]*p[j]\n",
    "        currvalue=ans1+ans2+mcost\n",
    "        ans=min(minvalue,currvalue)\n",
    "    return ans\n",
    "\n",
    "p=[2,3,4,5,6]\n",
    "n=len(p)-1\n",
    "# dp=[[-1 for j in range(n+1)] for i in range(n+1)]\n",
    "ans=mcm(p,1,n)\n",
    "ans\n",
    "\n",
    "\n"
   ]
  },
  {
   "cell_type": "markdown",
   "id": "18f21241",
   "metadata": {},
   "source": [
    "# memoizaon"
   ]
  },
  {
   "cell_type": "code",
   "execution_count": 10,
   "id": "567be35a",
   "metadata": {},
   "outputs": [
    {
     "data": {
      "text/plain": [
       "124"
      ]
     },
     "execution_count": 10,
     "metadata": {},
     "output_type": "execute_result"
    }
   ],
   "source": [
    "import sys\n",
    "\n",
    "def mcm(p,i,j,dp):\n",
    "    if i==j:\n",
    "        return 0\n",
    "    minvalue=sys.maxsize\n",
    "    for k in range(i,j):\n",
    "        if dp[i][k]==-1:\n",
    "            ans1=mcm(p,i,k,dp)\n",
    "            dp[i][k]=ans1\n",
    "        else:\n",
    "            ans1=dp[i][k]\n",
    "        if dp[k+1][j]==-1:\n",
    "            ans2=mcm(p,k+1,j,dp)\n",
    "            dp[k+1][j]=ans2\n",
    "        else:\n",
    "            ans2=dp[k+1][j]\n",
    "            \n",
    "        mcost=p[i-1]*p[k]*p[j]\n",
    "        currvalue=ans1+ans2+mcost\n",
    "        ans=min(minvalue,currvalue)\n",
    "    return ans\n",
    "\n",
    "p=[2,3,4,5,6]\n",
    "n=len(p)-1\n",
    "dp=[[-1 for j in range(n+1)] for i in range(n+1)]\n",
    "ans=mcm(p,1,n,dp)\n",
    "ans\n"
   ]
  }
 ],
 "metadata": {
  "kernelspec": {
   "display_name": "Python 3 (ipykernel)",
   "language": "python",
   "name": "python3"
  },
  "language_info": {
   "codemirror_mode": {
    "name": "ipython",
    "version": 3
   },
   "file_extension": ".py",
   "mimetype": "text/x-python",
   "name": "python",
   "nbconvert_exporter": "python",
   "pygments_lexer": "ipython3",
   "version": "3.10.9"
  }
 },
 "nbformat": 4,
 "nbformat_minor": 5
}
