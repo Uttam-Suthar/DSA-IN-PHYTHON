{
 "cells": [
  {
   "cell_type": "code",
   "execution_count": 3,
   "id": "c4eaa01c",
   "metadata": {},
   "outputs": [
    {
     "data": {
      "text/plain": [
       "60"
      ]
     },
     "execution_count": 3,
     "metadata": {},
     "output_type": "execute_result"
    }
   ],
   "source": [
    "def knapsack(w,val,wt,n,i):\n",
    "    \n",
    "    if i==n:\n",
    "        return 0\n",
    "    \n",
    "    if wt[i]>w:\n",
    "        ans=knapsack(w,val,wt,n,i+1)\n",
    "    else:\n",
    "        #including ith iteam\n",
    "        ans1=val[i]+knapsack(w-wt[i],val,wt,n,i+1)\n",
    "#         excluding ith itream\n",
    "        ans2=knapsack(w,val,wt,n,i+1)\n",
    "        ans=max(ans1,ans2)\n",
    "    return ans\n",
    "\n",
    "# val=[200,300,100]\n",
    "# wt=[20,25,30]\n",
    "# w=50\n",
    "\n",
    "val=[20,30,40]\n",
    "wt=[1,2,1]\n",
    "w=2\n",
    "n=len(val)\n",
    "ans= knapsack(w,val,wt,n,0)\n",
    "ans"
   ]
  },
  {
   "cell_type": "code",
   "execution_count": null,
   "id": "1ef24ef4",
   "metadata": {},
   "outputs": [],
   "source": []
  },
  {
   "cell_type": "code",
   "execution_count": null,
   "id": "dee088db",
   "metadata": {},
   "outputs": [],
   "source": []
  },
  {
   "cell_type": "code",
   "execution_count": null,
   "id": "1744ee0b",
   "metadata": {},
   "outputs": [],
   "source": [
    "# itratively"
   ]
  },
  {
   "cell_type": "code",
   "execution_count": 5,
   "id": "1d756ea8",
   "metadata": {},
   "outputs": [
    {
     "ename": "IndexError",
     "evalue": "list index out of range",
     "output_type": "error",
     "traceback": [
      "\u001b[1;31m---------------------------------------------------------------------------\u001b[0m",
      "\u001b[1;31mIndexError\u001b[0m                                Traceback (most recent call last)",
      "Cell \u001b[1;32mIn[5], line 22\u001b[0m\n\u001b[0;32m     20\u001b[0m W\u001b[38;5;241m=\u001b[39m\u001b[38;5;241m50\u001b[39m\n\u001b[0;32m     21\u001b[0m n\u001b[38;5;241m=\u001b[39m\u001b[38;5;28mlen\u001b[39m(val)\n\u001b[1;32m---> 22\u001b[0m ans\u001b[38;5;241m=\u001b[39m \u001b[43mknapsack\u001b[49m\u001b[43m(\u001b[49m\u001b[43mW\u001b[49m\u001b[43m,\u001b[49m\u001b[43mval\u001b[49m\u001b[43m,\u001b[49m\u001b[43mwt\u001b[49m\u001b[43m)\u001b[49m\n\u001b[0;32m     23\u001b[0m ans\n",
      "Cell \u001b[1;32mIn[5], line 15\u001b[0m, in \u001b[0;36mknapsack\u001b[1;34m(W, val, wt)\u001b[0m\n\u001b[0;32m     13\u001b[0m             ans2\u001b[38;5;241m=\u001b[39m dp[i\u001b[38;5;241m-\u001b[39m\u001b[38;5;241m1\u001b[39m][j]\n\u001b[0;32m     14\u001b[0m             ans\u001b[38;5;241m=\u001b[39m\u001b[38;5;28mmax\u001b[39m(ans1,ans2)\n\u001b[1;32m---> 15\u001b[0m         \u001b[43mdp\u001b[49m\u001b[43m[\u001b[49m\u001b[43mi\u001b[49m\u001b[43m]\u001b[49m[j]\u001b[38;5;241m=\u001b[39mans\n\u001b[0;32m     16\u001b[0m \u001b[38;5;28;01mreturn\u001b[39;00m dp[n][W]\n",
      "\u001b[1;31mIndexError\u001b[0m: list index out of range"
     ]
    }
   ],
   "source": [
    "def knapsack(W,val,wt):\n",
    "    \n",
    "    n=len(val)\n",
    "    \n",
    "    dp = [[0 for j in range(W+1) for i in range(n+1)]]\n",
    "    \n",
    "    for i in range(1,n+1):\n",
    "        for j in range(1,W+1):\n",
    "            if j<wt[i-1]:\n",
    "                ans= dp[i-1][j]\n",
    "            else:\n",
    "                ans1=val[i-1]+ dp[i-1][j-wt[i-1]]\n",
    "                ans2= dp[i-1][j]\n",
    "                ans=max(ans1,ans2)\n",
    "            dp[i][j]=ans\n",
    "    return dp[n][W]\n",
    "\n",
    "val=[200,300,100]\n",
    "wt=[20,25,30]\n",
    "W=50\n",
    "n=len(val)\n",
    "ans= knapsack(W,val,wt)\n",
    "ans"
   ]
  },
  {
   "cell_type": "code",
   "execution_count": 40,
   "id": "99ad8dad",
   "metadata": {},
   "outputs": [
    {
     "data": {
      "text/plain": [
       "500"
      ]
     },
     "execution_count": 40,
     "metadata": {},
     "output_type": "execute_result"
    }
   ],
   "source": [
    "def knapsack(weights, values, n, maxWeight) :\n",
    "    if (n == 0) or (maxWeight == 0) :\n",
    "        return 0\n",
    "\n",
    "    if weights[n - 1] > maxWeight :\n",
    "        return knapsack(weights, values, n - 1, maxWeight)\n",
    "\n",
    "    includeItem = values[n - 1] + knapsack(weights, values, n - 1, maxWeight - weights[n - 1])\n",
    "\n",
    "    excludeItem = knapsack(weights, values, n - 1, maxWeight)\n",
    "\n",
    "    return max(includeItem, excludeItem)\n",
    "\n",
    "val=[200,300,100]\n",
    "wt=[20,25,30]\n",
    "W=50\n",
    "n=len(val)\n",
    "ans= knapsack(wt, val, n, W)\n",
    "ans\n"
   ]
  }
 ],
 "metadata": {
  "kernelspec": {
   "display_name": "Python 3 (ipykernel)",
   "language": "python",
   "name": "python3"
  },
  "language_info": {
   "codemirror_mode": {
    "name": "ipython",
    "version": 3
   },
   "file_extension": ".py",
   "mimetype": "text/x-python",
   "name": "python",
   "nbconvert_exporter": "python",
   "pygments_lexer": "ipython3",
   "version": "3.10.9"
  }
 },
 "nbformat": 4,
 "nbformat_minor": 5
}
