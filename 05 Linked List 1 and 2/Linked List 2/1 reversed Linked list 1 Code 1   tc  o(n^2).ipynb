{
 "cells": [
  {
   "cell_type": "code",
   "execution_count": 2,
   "id": "bb15de9f",
   "metadata": {},
   "outputs": [
    {
     "name": "stdout",
     "output_type": "stream",
     "text": [
      "1 2 3 4 5 -1\n",
      "1->2->3->4->5->None\n",
      "5->4->3->2->1->None\n"
     ]
    }
   ],
   "source": [
    "class Node:\n",
    "    def __init__(self,data):\n",
    "        self.data=data\n",
    "        self.next=None\n",
    "def printLL(head):\n",
    "    while head is not None:\n",
    "        print(str(head.data) + \"->\", end='')\n",
    "        head=head.next\n",
    "    print(\"None\")\n",
    "    return\n",
    "def reversed(head):\n",
    "    if head is None or head.next is None:\n",
    "        return head\n",
    "    \n",
    "\n",
    "    smallhead=reversed(head.next)\n",
    "    curr=smallhead\n",
    "    while curr.next is not None:\n",
    "        curr=curr.next\n",
    "    curr.next=head\n",
    "    head.next=None\n",
    "    return smallhead\n",
    "\n",
    "#     head.next.next=head\n",
    "#     head.next=None\n",
    "#     return smallhead\n",
    "    \n",
    "def takeinput():\n",
    "    inputlist=[int(ele) for ele in input().split()]\n",
    "    head = None\n",
    "    tail=None\n",
    "    for currdata in inputlist:\n",
    "        \n",
    "        if currdata== -1:\n",
    "            break\n",
    "        newnode = Node(currdata)\n",
    "        \n",
    "        if head is None:\n",
    "            head =newnode\n",
    "            tail=newnode\n",
    "        else:\n",
    "            tail.next=newnode\n",
    "            tail=newnode\n",
    "      \n",
    "    return head\n",
    "head = takeinput()            \n",
    "printLL(head)\n",
    "head=reversed(head)\n",
    "printLL(head)"
   ]
  },
  {
   "cell_type": "code",
   "execution_count": 10,
   "id": "65c72296",
   "metadata": {},
   "outputs": [
    {
     "name": "stdout",
     "output_type": "stream",
     "text": [
      "1 2 3 -1\n",
      "1->2->3->None\n",
      "3->2->1->None\n"
     ]
    }
   ],
   "source": [
    "class Node:\n",
    "    def __init__(self,data):\n",
    "        self.data=data\n",
    "        self.next=None\n",
    "def printLL(head):\n",
    "    while head is not None:\n",
    "        print(str(head.data) + \"->\", end='')\n",
    "        head=head.next\n",
    "    print(\"None\")\n",
    "    return\n",
    "def reversed(head):\n",
    "    if head is None or head.next is None:\n",
    "        return head\n",
    "    \n",
    "\n",
    "    smallhead=reversed(head.next)\n",
    "    head.next.next=head\n",
    "    head.next=None\n",
    "    return smallhead\n",
    "\n",
    "\n",
    "    \n",
    "def takeinput():\n",
    "    inputlist=[int(ele) for ele in input().split()]\n",
    "    head = None\n",
    "    tail=None\n",
    "    for currdata in inputlist:\n",
    "        \n",
    "        if currdata== -1:\n",
    "            break\n",
    "        newnode = Node(currdata)\n",
    "        \n",
    "        if head is None:\n",
    "            head =newnode\n",
    "            tail=newnode\n",
    "        else:\n",
    "            tail.next=newnode\n",
    "            tail=newnode\n",
    "      \n",
    "    return head\n",
    "head = takeinput()            \n",
    "printLL(head)\n",
    "head=reversed(head)\n",
    "printLL(head)"
   ]
  }
 ],
 "metadata": {
  "kernelspec": {
   "display_name": "Python 3 (ipykernel)",
   "language": "python",
   "name": "python3"
  },
  "language_info": {
   "codemirror_mode": {
    "name": "ipython",
    "version": 3
   },
   "file_extension": ".py",
   "mimetype": "text/x-python",
   "name": "python",
   "nbconvert_exporter": "python",
   "pygments_lexer": "ipython3",
   "version": "3.10.9"
  }
 },
 "nbformat": 4,
 "nbformat_minor": 5
}
