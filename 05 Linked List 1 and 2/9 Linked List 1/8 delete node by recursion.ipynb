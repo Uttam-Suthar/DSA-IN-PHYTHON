{
 "cells": [
  {
   "cell_type": "code",
   "execution_count": 6,
   "id": "73a0a6b5",
   "metadata": {},
   "outputs": [
    {
     "name": "stdout",
     "output_type": "stream",
     "text": [
      "1 2 3 4 5 -1\n",
      "1->2->3->4->5->None\n",
      "1->2->3->4->5->None\n"
     ]
    }
   ],
   "source": [
    "class Node:\n",
    "    def __init__(self,data):\n",
    "        self.data=data\n",
    "        self.next=None\n",
    "def printLL(head):\n",
    "    while head is not None:\n",
    "        print(str(head.data) + \"->\", end='')\n",
    "        head=head.next\n",
    "    print(\"None\")\n",
    "    return\n",
    "# def length(head):\n",
    "#     if head is None:\n",
    "#         return 0\n",
    "#     return 1+length(head.next)\n",
    "def deleteAtIthByRc(head,i):\n",
    "#     if i<0 or i>=length(head):\n",
    "#         return head\n",
    "    if head is None:\n",
    "        return head\n",
    "    if i==0:\n",
    "        head=head.next\n",
    "        return head\n",
    "#     if head is None:\n",
    "#         return None\n",
    "    smallhead=deleteAtIthByRc(head.next,i-1)\n",
    "    head.next=smallhead\n",
    "    return head\n",
    "\n",
    "    \n",
    "def takeinput():\n",
    "    inputlist=[int(ele) for ele in input().split()]\n",
    "    head = None\n",
    "    tail=None\n",
    "    for currdata in inputlist:\n",
    "        \n",
    "        if currdata== -1:\n",
    "            break\n",
    "        newnode = Node(currdata)\n",
    "        \n",
    "        if head is None:\n",
    "            head =newnode\n",
    "            tail=newnode\n",
    "        else:\n",
    "            tail.next=newnode\n",
    "            tail=newnode\n",
    "      \n",
    "    return head\n",
    "head = takeinput()            \n",
    "printLL(head)\n",
    "# head=deleteAtIthByRc(head,3)\n",
    "# printLL(head)  # copy and the delete elemt \n",
    "# head=deleteAtIthByRc(head,0)\n",
    "# printLL(head)\n",
    "# head=deleteAtIthByRc(head,7)\n",
    "# printLL(head)\n",
    "head=deleteAtIthByRc(head,5)\n",
    "printLL(head)"
   ]
  }
 ],
 "metadata": {
  "kernelspec": {
   "display_name": "Python 3 (ipykernel)",
   "language": "python",
   "name": "python3"
  },
  "language_info": {
   "codemirror_mode": {
    "name": "ipython",
    "version": 3
   },
   "file_extension": ".py",
   "mimetype": "text/x-python",
   "name": "python",
   "nbconvert_exporter": "python",
   "pygments_lexer": "ipython3",
   "version": "3.10.9"
  }
 },
 "nbformat": 4,
 "nbformat_minor": 5
}
