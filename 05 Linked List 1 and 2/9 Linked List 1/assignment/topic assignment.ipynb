{
 "cells": [
  {
   "cell_type": "markdown",
   "id": "76c0f102",
   "metadata": {},
   "source": [
    "# lenth of node"
   ]
  },
  {
   "cell_type": "code",
   "execution_count": 1,
   "id": "eb396b77",
   "metadata": {},
   "outputs": [
    {
     "name": "stdout",
     "output_type": "stream",
     "text": [
      "1 2 3 -1\n",
      "None\n"
     ]
    },
    {
     "data": {
      "text/plain": [
       "3"
      ]
     },
     "execution_count": 1,
     "metadata": {},
     "output_type": "execute_result"
    }
   ],
   "source": [
    "class Node:\n",
    "    def __init__(self,data):\n",
    "        self.data=data\n",
    "        self.next=None\n",
    "def printLL(head):\n",
    "#     curr=head\n",
    "#     tail=head\n",
    "    count=0\n",
    "    while head is not None:\n",
    "        count +=1\n",
    "#         curr=curr.next\n",
    "#         tail=tail.next\n",
    "        head = head.next\n",
    "    print(\"None\")\n",
    "    return count\n",
    "def takeinput():\n",
    "    inputlist=[int(ele) for ele in input().split()]\n",
    "    head = None\n",
    "    tail=None\n",
    "    for currdata in inputlist:\n",
    "        \n",
    "        if currdata== -1:\n",
    "            break\n",
    "        newnode = Node(currdata)\n",
    "        \n",
    "        if head is None:\n",
    "            head =newnode\n",
    "            tail=newnode\n",
    "        else:\n",
    "            tail.next=newnode\n",
    "            tail=newnode\n",
    "      \n",
    "    return head\n",
    "head = takeinput()            \n",
    "printLL(head)"
   ]
  },
  {
   "cell_type": "code",
   "execution_count": null,
   "id": "0a6e8616",
   "metadata": {},
   "outputs": [],
   "source": []
  },
  {
   "cell_type": "markdown",
   "id": "b2e217ea",
   "metadata": {},
   "source": [
    "# print ith node"
   ]
  },
  {
   "cell_type": "code",
   "execution_count": 32,
   "id": "69036b2d",
   "metadata": {},
   "outputs": [
    {
     "name": "stdout",
     "output_type": "stream",
     "text": [
      "4 4 7 8 3 36 8 17 26 7 7 -1\n",
      "7\n"
     ]
    }
   ],
   "source": [
    "class Node:\n",
    "    def __init__(self,data):\n",
    "        self.data=data\n",
    "        self.next=None\n",
    "def printithnode(head,i):\n",
    "    count=0\n",
    "    \n",
    "    while head is not None:\n",
    "        if count ==i:\n",
    "            return head\n",
    "        head=head.next\n",
    "        \n",
    "        count +=1\n",
    "    print(\"None\")\n",
    "#     return count\n",
    "def takeinput():\n",
    "    inputlist=[int(ele) for ele in input().split()]\n",
    "    head = None\n",
    "    tail=None\n",
    "    for currdata in inputlist:\n",
    "        \n",
    "        if currdata== -1:\n",
    "            break\n",
    "        newnode = Node(currdata)\n",
    "        \n",
    "        if head is None:\n",
    "            head =newnode\n",
    "            tail=newnode\n",
    "        else:\n",
    "            tail.next=newnode\n",
    "            tail=newnode\n",
    "      \n",
    "    return head\n",
    "head = takeinput()            \n",
    "node=printithnode(head,10)\n",
    "if node:\n",
    "    print(node.data)"
   ]
  },
  {
   "cell_type": "markdown",
   "id": "be7e7874",
   "metadata": {},
   "source": [
    "# delete node iterateve"
   ]
  },
  {
   "cell_type": "code",
   "execution_count": 7,
   "id": "1db08d89",
   "metadata": {},
   "outputs": [
    {
     "name": "stdout",
     "output_type": "stream",
     "text": [
      "10 20 30 40 50 60 -1\n",
      "10->20->30->40->50->60->None\n",
      "10->20->30->50->60->None\n",
      "20->30->50->60->None\n",
      "20->30->50->60->None\n"
     ]
    }
   ],
   "source": [
    "class Node:\n",
    "    def __init__(self,data):\n",
    "        self.data=data\n",
    "        self.next=None\n",
    "def printLL(head):\n",
    "    while head is not None:\n",
    "        print(str(head.data) + \"->\", end='')\n",
    "        head=head.next\n",
    "    print(\"None\")\n",
    "    return\n",
    "def length(head):\n",
    "    count=0\n",
    "    while head is not None:\n",
    "        count=count+1\n",
    "        head=head.next\n",
    "    return count\n",
    "def deleteAtIth(head,i):\n",
    "    if i<0 or i>length(head):\n",
    "        return head\n",
    "    prev=None\n",
    "    curr=head\n",
    "    count=0\n",
    "    if i==0:\n",
    "        head=head.next\n",
    "    else:\n",
    "        while count<i:\n",
    "            count=count+1\n",
    "            prev=curr\n",
    "            curr=curr.next\n",
    "        prev.next=curr.next\n",
    "        curr.next=None\n",
    "    \n",
    "    return head\n",
    "    \n",
    "def takeinput():\n",
    "    inputlist=[int(ele) for ele in input().split()]\n",
    "    head = None\n",
    "    tail=None\n",
    "    for currdata in inputlist:\n",
    "        \n",
    "        if currdata== -1:\n",
    "            break\n",
    "        newnode = Node(currdata)\n",
    "        \n",
    "        if head is None:\n",
    "            head =newnode\n",
    "            tail=newnode\n",
    "        else:\n",
    "            tail.next=newnode\n",
    "            tail=newnode\n",
    "      \n",
    "    return head\n",
    "head = takeinput()            \n",
    "printLL(head)\n",
    "head=deleteAtIth(head,3)\n",
    "printLL(head)\n",
    "head=deleteAtIth(head,0)\n",
    "printLL(head)\n",
    "head=deleteAtIth(head,7)\n",
    "printLL(head)"
   ]
  },
  {
   "cell_type": "markdown",
   "id": "c354a0c0",
   "metadata": {},
   "source": [
    "# lenght by Recrsion"
   ]
  },
  {
   "cell_type": "code",
   "execution_count": 8,
   "id": "28df3c3c",
   "metadata": {},
   "outputs": [
    {
     "name": "stdout",
     "output_type": "stream",
     "text": [
      "3 4 5 2 6 1 9 -1\n",
      "3->4->5->2->6->1->9->None\n"
     ]
    },
    {
     "data": {
      "text/plain": [
       "7"
      ]
     },
     "execution_count": 8,
     "metadata": {},
     "output_type": "execute_result"
    }
   ],
   "source": [
    "class Node:\n",
    "    def __init__(self,data):\n",
    "        self.data=data\n",
    "        self.next=None\n",
    "def printLL(head):\n",
    "    while head is not None:\n",
    "        print(str(head.data) + \"->\", end='')\n",
    "        head=head.next\n",
    "    print(\"None\")\n",
    "    return\n",
    "def lengthRc(head):\n",
    "    if head is None:\n",
    "        return 0\n",
    "    return 1+lengthRc(head.next)\n",
    "    \n",
    "def takeinput():\n",
    "    inputlist=[int(ele) for ele in input().split()]\n",
    "    head = None\n",
    "    tail=None\n",
    "    for currdata in inputlist:\n",
    "        \n",
    "        if currdata== -1:\n",
    "            break\n",
    "        newnode = Node(currdata)\n",
    "        \n",
    "        if head is None:\n",
    "            head =newnode\n",
    "            tail=newnode\n",
    "        else:\n",
    "            tail.next=newnode\n",
    "            tail=newnode\n",
    "      \n",
    "    return head\n",
    "head = takeinput()            \n",
    "printLL(head)\n",
    "lengthRc(head)"
   ]
  },
  {
   "cell_type": "markdown",
   "id": "a6cd59fe",
   "metadata": {},
   "source": [
    "# delete ith bt recrsion"
   ]
  },
  {
   "cell_type": "code",
   "execution_count": 9,
   "id": "7b528450",
   "metadata": {},
   "outputs": [
    {
     "name": "stdout",
     "output_type": "stream",
     "text": [
      "1 2 3 4 5 -1\n",
      "1->2->3->4->5->None\n",
      "1->2->3->4->5->None\n"
     ]
    }
   ],
   "source": [
    "class Node:\n",
    "    def __init__(self,data):\n",
    "        self.data=data\n",
    "        self.next=None\n",
    "def printLL(head):\n",
    "    while head is not None:\n",
    "        print(str(head.data) + \"->\", end='')\n",
    "        head=head.next\n",
    "    print(\"None\")\n",
    "    return\n",
    "# def length(head):\n",
    "#     if head is None:\n",
    "#         return 0\n",
    "#     return 1+length(head.next)\n",
    "def deleteAtIthByRc(head,i):\n",
    "#     if i<0 or i>=length(head):\n",
    "#         return head\n",
    "    if head is None:\n",
    "        return head\n",
    "    if i==0:\n",
    "        head=head.next\n",
    "        return head\n",
    "#     if head is None:\n",
    "#         return None\n",
    "    smallhead=deleteAtIthByRc(head.next,i-1)\n",
    "    head.next=smallhead\n",
    "    return head\n",
    "\n",
    "    \n",
    "def takeinput():\n",
    "    inputlist=[int(ele) for ele in input().split()]\n",
    "    head = None\n",
    "    tail=None\n",
    "    for currdata in inputlist:\n",
    "        \n",
    "        if currdata== -1:\n",
    "            break\n",
    "        newnode = Node(currdata)\n",
    "        \n",
    "        if head is None:\n",
    "            head =newnode\n",
    "            tail=newnode\n",
    "        else:\n",
    "            tail.next=newnode\n",
    "            tail=newnode\n",
    "      \n",
    "    return head\n",
    "head = takeinput()            \n",
    "printLL(head)\n",
    "# head=deleteAtIthByRc(head,3)\n",
    "# printLL(head)  # copy and the delete elemt \n",
    "# head=deleteAtIthByRc(head,0)\n",
    "# printLL(head)\n",
    "# head=deleteAtIthByRc(head,7)\n",
    "# printLL(head)\n",
    "head=deleteAtIthByRc(head,5)\n",
    "printLL(head)"
   ]
  },
  {
   "cell_type": "code",
   "execution_count": null,
   "id": "61e00ea7",
   "metadata": {},
   "outputs": [],
   "source": []
  }
 ],
 "metadata": {
  "kernelspec": {
   "display_name": "Python 3 (ipykernel)",
   "language": "python",
   "name": "python3"
  },
  "language_info": {
   "codemirror_mode": {
    "name": "ipython",
    "version": 3
   },
   "file_extension": ".py",
   "mimetype": "text/x-python",
   "name": "python",
   "nbconvert_exporter": "python",
   "pygments_lexer": "ipython3",
   "version": "3.10.9"
  }
 },
 "nbformat": 4,
 "nbformat_minor": 5
}
