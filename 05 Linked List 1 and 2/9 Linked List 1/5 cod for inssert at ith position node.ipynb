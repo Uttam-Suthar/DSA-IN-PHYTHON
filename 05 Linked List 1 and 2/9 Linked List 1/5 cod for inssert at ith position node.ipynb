{
 "cells": [
  {
   "cell_type": "code",
   "execution_count": 12,
   "id": "c12fbb9f",
   "metadata": {},
   "outputs": [
    {
     "name": "stdout",
     "output_type": "stream",
     "text": [
      "1 2 3 4 5 -1\n",
      "1->2->3->4->5->None\n",
      "1->2->6->3->4->5->None\n",
      "9->1->2->6->3->4->5->None\n",
      "9->1->2->6->3->4->10->5->None\n"
     ]
    }
   ],
   "source": [
    "class Node:\n",
    "    def __init__(self,data):\n",
    "        self.data=data\n",
    "        self.next=None\n",
    "def printLL(head):\n",
    "    while head is not None:\n",
    "        print(str(head.data) + \"->\", end='')\n",
    "        head=head.next\n",
    "    print(\"None\")\n",
    "    return\n",
    "def length(head):\n",
    "    count=0\n",
    "    while head is not None:\n",
    "        count=count+1\n",
    "        head=head.next\n",
    "    return count\n",
    "def insertAtIth(head,i,data):\n",
    "    if i<0 or i>length(head):\n",
    "        return head\n",
    "    prev=None\n",
    "    curr=head\n",
    "    count=0\n",
    "    while count<i:\n",
    "        prev=curr\n",
    "        curr=curr.next\n",
    "        count=count+1\n",
    "    \n",
    "    newnode=Node(data)\n",
    "    if prev is not None:\n",
    "        prev.next=newnode\n",
    "    else:\n",
    "        head=newnode\n",
    "    newnode.next=curr\n",
    "    return head\n",
    "    \n",
    "def takeinput():\n",
    "    inputlist=[int(ele) for ele in input().split()]\n",
    "    head = None\n",
    "    tail=None\n",
    "    for currdata in inputlist:\n",
    "        \n",
    "        if currdata== -1:\n",
    "            break\n",
    "        newnode = Node(currdata)\n",
    "        \n",
    "        if head is None:\n",
    "            head =newnode\n",
    "            tail=newnode\n",
    "        else:\n",
    "            tail.next=newnode\n",
    "            tail=newnode\n",
    "      \n",
    "    return head\n",
    "head = takeinput()            \n",
    "printLL(head)\n",
    "head=insertAtIth(head,2,6)\n",
    "printLL(head)\n",
    "head=insertAtIth(head,0,9)\n",
    "printLL(head)\n",
    "head=insertAtIth(head,6,10)\n",
    "printLL(head)"
   ]
  }
 ],
 "metadata": {
  "kernelspec": {
   "display_name": "Python 3 (ipykernel)",
   "language": "python",
   "name": "python3"
  },
  "language_info": {
   "codemirror_mode": {
    "name": "ipython",
    "version": 3
   },
   "file_extension": ".py",
   "mimetype": "text/x-python",
   "name": "python",
   "nbconvert_exporter": "python",
   "pygments_lexer": "ipython3",
   "version": "3.10.9"
  }
 },
 "nbformat": 4,
 "nbformat_minor": 5
}
