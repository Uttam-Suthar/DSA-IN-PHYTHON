{
 "cells": [
  {
   "cell_type": "markdown",
   "id": "9224796e",
   "metadata": {},
   "source": [
    "# reverse queue"
   ]
  },
  {
   "cell_type": "code",
   "execution_count": 25,
   "id": "a6a23490",
   "metadata": {},
   "outputs": [
    {
     "name": "stdout",
     "output_type": "stream",
     "text": [
      "this is reverse que \n",
      "4\n",
      "3\n",
      "2\n",
      "1\n"
     ]
    }
   ],
   "source": [
    "import queue\n",
    "def reverseQueue(queue) :\n",
    "    # Your code goes here\n",
    "    Stack = []\n",
    "    while (not queue.empty()):\n",
    "        Stack.append(queue.queue[0])\n",
    "        queue.get()\n",
    "    while (len(Stack) != 0):\n",
    "        queue.put(Stack[-1])\n",
    "        Stack.pop()\n",
    "    \n",
    "    \n",
    "    \n",
    "    \n",
    "q=queue.Queue()   \n",
    "q.put(1)\n",
    "q.put(2)  \n",
    "q.put(3)\n",
    "q.put(4)\n",
    "reverseQueue(q)\n",
    "print(\"this is reverse que \")\n",
    "while not q.empty():\n",
    "    \n",
    "    print(q.get())\n"
   ]
  },
  {
   "cell_type": "markdown",
   "id": "382e2122",
   "metadata": {},
   "source": [
    "# reverse k nomber"
   ]
  },
  {
   "cell_type": "code",
   "execution_count": 15,
   "id": "4e5d310a",
   "metadata": {},
   "outputs": [
    {
     "name": "stdout",
     "output_type": "stream",
     "text": [
      "this is revers k in queue\n",
      "3\n",
      "2\n",
      "1\n",
      "4\n",
      "5\n"
     ]
    }
   ],
   "source": [
    "import queue\n",
    "\n",
    "def reverseKElements(Queue, k) :\n",
    "    #Your code goes here\n",
    "    if (Queue.empty() == True or k > Queue.qsize()):\n",
    "        return\n",
    "    if (k <= 0):\n",
    "        return\n",
    "    Stack = []\n",
    "    for i in range(k):\n",
    "        Stack.append(Queue.queue[0])\n",
    "        Queue.get()\n",
    "    while (len(Stack) != 0 ):\n",
    "        Queue.put(Stack[-1])\n",
    "        Stack.pop()\n",
    "    for i in range(Queue.qsize() - k):\n",
    "        Queue.put(Queue.queue[0])\n",
    "        Queue.get()\n",
    "\n",
    "    return Queue\n",
    "q=queue.Queue()   \n",
    "q.put(1)\n",
    "q.put(2)  \n",
    "q.put(3)\n",
    "q.put(4)\n",
    "q.put(5)\n",
    "reverseKElements(q,3)\n",
    "print(\"this is revers k in queue\")\n",
    "while not q.empty():\n",
    "    \n",
    "    print(q.get())\n"
   ]
  },
  {
   "cell_type": "markdown",
   "id": "87ab229f",
   "metadata": {},
   "source": [
    "# stack using two queue"
   ]
  },
  {
   "cell_type": "code",
   "execution_count": 2,
   "id": "0581e696",
   "metadata": {},
   "outputs": [
    {
     "name": "stdout",
     "output_type": "stream",
     "text": [
      "3\n",
      "3\n",
      "3\n",
      "2\n"
     ]
    }
   ],
   "source": [
    "import queue\n",
    "class Stack :\n",
    "    def __init__(self):\n",
    "        self.q1=queue.Queue()\n",
    "        self.q2=queue.Queue()\n",
    "\t\n",
    "    def getSize(self) :\n",
    "        return self.q1.qsize()\n",
    "\t\n",
    "    def isEmpty(self) :\n",
    "        return self.getSize()==0\n",
    "\t\n",
    "    def push(self, data) :\n",
    "        self.q1.put(data)\n",
    "\t\t#Implement the push(element) function\n",
    "    \n",
    "    def pop(self) :\n",
    "\t\t#Implement the pop() function\n",
    "        if self.isEmpty():\n",
    "            return -1\n",
    "        while self.q1.qsize()>1:\n",
    "            self.q2.put(self.q1.get())\n",
    "        ans=self.q1.get()\n",
    "        temp=self.q1\n",
    "        self.q1=self.q2\n",
    "        self.q2=temp\n",
    "        return ans\n",
    "    \n",
    "    def top(self) :\n",
    "\t\t#Implement the top() function\n",
    "        if self.isEmpty():\n",
    "            return -1\n",
    "        while self.q1.qsize()>1:\n",
    "            self.q2.put(self.q1.get())\n",
    "        ans=self.q1.get()\n",
    "        self.q2.put(ans)\n",
    "        \n",
    "        \n",
    "        temp=self.q1\n",
    "        self.q1=self.q2\n",
    "        self.q2=temp\n",
    "        return ans\n",
    "\t\t\n",
    "        \n",
    "s=Stack()\n",
    "s.push(1)\n",
    "s.push(2)\n",
    "s.push(3)\n",
    "print(s.top())\n",
    "# while s.isempty() is False:\n",
    "    \n",
    "print(s.top())\n",
    "print(s.pop())\n",
    "    \n",
    "print(s.top())"
   ]
  },
  {
   "cell_type": "code",
   "execution_count": null,
   "id": "336d1e00",
   "metadata": {},
   "outputs": [],
   "source": []
  },
  {
   "cell_type": "code",
   "execution_count": null,
   "id": "830dbeb0",
   "metadata": {},
   "outputs": [],
   "source": []
  },
  {
   "cell_type": "code",
   "execution_count": null,
   "id": "53d0dc27",
   "metadata": {},
   "outputs": [],
   "source": []
  },
  {
   "cell_type": "code",
   "execution_count": null,
   "id": "921714b9",
   "metadata": {},
   "outputs": [],
   "source": []
  }
 ],
 "metadata": {
  "kernelspec": {
   "display_name": "Python 3 (ipykernel)",
   "language": "python",
   "name": "python3"
  },
  "language_info": {
   "codemirror_mode": {
    "name": "ipython",
    "version": 3
   },
   "file_extension": ".py",
   "mimetype": "text/x-python",
   "name": "python",
   "nbconvert_exporter": "python",
   "pygments_lexer": "ipython3",
   "version": "3.10.9"
  }
 },
 "nbformat": 4,
 "nbformat_minor": 5
}
