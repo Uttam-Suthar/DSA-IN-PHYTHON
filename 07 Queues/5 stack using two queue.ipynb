{
 "cells": [
  {
   "cell_type": "code",
   "execution_count": 8,
   "id": "da36ec2e",
   "metadata": {},
   "outputs": [
    {
     "name": "stdout",
     "output_type": "stream",
     "text": [
      "3\n",
      "3\n",
      "3\n",
      "2\n"
     ]
    }
   ],
   "source": [
    "from sys import stdin\n",
    "import queue\n",
    "\n",
    "class Stack :\n",
    "    def __init__(self):\n",
    "        self.q1=queue.Queue()\n",
    "        self.q2=queue.Queue()\n",
    "\t\n",
    "    def getSize(self) :\n",
    "        return self.q1.qsize()\n",
    "\t\n",
    "    def isEmpty(self) :\n",
    "        return self.getSize()==0\n",
    "\t\n",
    "    def push(self, data) :\n",
    "        self.q1.put(data)\n",
    "\t\t#Implement the push(element) function\n",
    "    \n",
    "    def pop(self) :\n",
    "\t\t#Implement the pop() function\n",
    "        if self.isEmpty():\n",
    "            return -1\n",
    "        while self.q1.qsize()>1:\n",
    "            self.q2.put(self.q1.get())\n",
    "        ans=self.q1.get()\n",
    "        temp=self.q1\n",
    "        self.q1=self.q2\n",
    "        self.q2=temp\n",
    "        return ans\n",
    "    \n",
    "    def top(self) :\n",
    "\t\t#Implement the top() function\n",
    "        if self.isEmpty():\n",
    "            return -1\n",
    "        while self.q1.qsize()>1:\n",
    "            self.q2.put(self.q1.get())\n",
    "        ans=self.q1.get()\n",
    "        self.q2.put(ans)\n",
    "        \n",
    "        \n",
    "        temp=self.q1\n",
    "        self.q1=self.q2\n",
    "        self.q2=temp\n",
    "        return ans\n",
    "\t\t\n",
    "        \n",
    "        \n",
    "        \n",
    "s=Stack()\n",
    "s.push(1)\n",
    "s.push(2)\n",
    "s.push(3)\n",
    "print(s.top())\n",
    "# while s.isempty() is False:\n",
    "    \n",
    "print(s.top())\n",
    "print(s.pop())\n",
    "    \n",
    "print(s.top())\n",
    "        \n",
    "        \n"
   ]
  }
 ],
 "metadata": {
  "kernelspec": {
   "display_name": "Python 3 (ipykernel)",
   "language": "python",
   "name": "python3"
  },
  "language_info": {
   "codemirror_mode": {
    "name": "ipython",
    "version": 3
   },
   "file_extension": ".py",
   "mimetype": "text/x-python",
   "name": "python",
   "nbconvert_exporter": "python",
   "pygments_lexer": "ipython3",
   "version": "3.10.9"
  }
 },
 "nbformat": 4,
 "nbformat_minor": 5
}
