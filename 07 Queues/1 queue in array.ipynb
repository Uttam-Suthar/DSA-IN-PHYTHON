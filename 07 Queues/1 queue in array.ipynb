{
 "cells": [
  {
   "cell_type": "code",
   "execution_count": 58,
   "id": "59c6a777",
   "metadata": {},
   "outputs": [
    {
     "name": "stdout",
     "output_type": "stream",
     "text": [
      "1\n"
     ]
    },
    {
     "data": {
      "text/plain": [
       "1"
      ]
     },
     "execution_count": 58,
     "metadata": {},
     "output_type": "execute_result"
    }
   ],
   "source": [
    "class QueueusingArray:\n",
    "    def __init__(self):\n",
    "        self.__arr=[]\n",
    "        self.__front=0\n",
    "        self.__count=0\n",
    "        \n",
    "    def enqueue(self,elemt):\n",
    "        self.__arr.append(elemt)\n",
    "        self.__count +=1\n",
    "        \n",
    "    def dequeue(self):\n",
    "        if self.__count==0:\n",
    "            return -1\n",
    "        ele=self.__arr[self.__front]\n",
    "        self.__front +=1\n",
    "        self.__count -=1\n",
    "        return ele\n",
    "            \n",
    "            \n",
    "\n",
    "    def front(self):\n",
    "        if self.__count==0:\n",
    "            return -1\n",
    "        return self.__arr[self.__front]\n",
    "    \n",
    "    def size(self):\n",
    "        return self.__count\n",
    "    \n",
    "    def isempty(self):\n",
    "        return self.size==0\n",
    "    \n",
    "    \n",
    "q=QueueusingArray()\n",
    "q.enqueue(1)\n",
    "q.enqueue(2)\n",
    "q.enqueue(3)\n",
    "q.enqueue(4)\n",
    "\n",
    "# while q.isempty() is False:\n",
    "# #     print(q.front())\n",
    "#     print(q.dequeue())\n",
    "print(q.front())\n",
    "q.front()\n",
    "# print(q.dequeue())\n",
    "# print(q.front())\n",
    "# print(q.dequeue())\n",
    "     "
   ]
  }
 ],
 "metadata": {
  "kernelspec": {
   "display_name": "Python 3 (ipykernel)",
   "language": "python",
   "name": "python3"
  },
  "language_info": {
   "codemirror_mode": {
    "name": "ipython",
    "version": 3
   },
   "file_extension": ".py",
   "mimetype": "text/x-python",
   "name": "python",
   "nbconvert_exporter": "python",
   "pygments_lexer": "ipython3",
   "version": "3.10.9"
  }
 },
 "nbformat": 4,
 "nbformat_minor": 5
}
