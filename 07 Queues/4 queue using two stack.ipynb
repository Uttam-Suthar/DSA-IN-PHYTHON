{
 "cells": [
  {
   "cell_type": "code",
   "execution_count": 6,
   "id": "c06c6d72",
   "metadata": {},
   "outputs": [
    {
     "name": "stdout",
     "output_type": "stream",
     "text": [
      "1\n",
      "1\n",
      "2\n",
      "3\n",
      "-1\n"
     ]
    }
   ],
   "source": [
    "class Queueusingtwostack:\n",
    "    def __init__(self):\n",
    "        self.__s1=[]\n",
    "        self.__s2=[]\n",
    "    def enqueue(self,ele):\n",
    "        # o(n)\n",
    "        while len(self.__s1) !=0:\n",
    "            self.__s2.append(self.__s1.pop())\n",
    "        self.__s1.append(ele)\n",
    "        while len(self.__s2) !=0:\n",
    "            self.__s1.append(self.__s2.pop())\n",
    "        return\n",
    "    def dequeue(self):\n",
    "        #o(1)\n",
    "        if len(self.__s1)==0:\n",
    "            return -1\n",
    "        return self.__s1.pop()\n",
    "    def front(self):\n",
    "        if len(self.__s1)==0:\n",
    "            return -1\n",
    "        return self.__s1[-1]\n",
    "    def size(self):\n",
    "        return len(self.__s1)\n",
    "    def isempty(self):\n",
    "        return self.size()==0\n",
    "    \n",
    "\n",
    "    \n",
    "q=Queueusingtwostack()\n",
    "q.enqueue(1)\n",
    "q.enqueue(2)\n",
    "q.enqueue(3)\n",
    "print(q.front())\n",
    "while q.isempty() is False:\n",
    "    \n",
    "    print(q.front())\n",
    "    q.dequeue()\n",
    "    \n",
    "print(q.front())\n",
    "        \n",
    "        "
   ]
  }
 ],
 "metadata": {
  "kernelspec": {
   "display_name": "Python 3 (ipykernel)",
   "language": "python",
   "name": "python3"
  },
  "language_info": {
   "codemirror_mode": {
    "name": "ipython",
    "version": 3
   },
   "file_extension": ".py",
   "mimetype": "text/x-python",
   "name": "python",
   "nbconvert_exporter": "python",
   "pygments_lexer": "ipython3",
   "version": "3.10.9"
  }
 },
 "nbformat": 4,
 "nbformat_minor": 5
}
