{
 "cells": [
  {
   "cell_type": "code",
   "execution_count": 28,
   "id": "b705bde1",
   "metadata": {},
   "outputs": [
    {
     "name": "stdout",
     "output_type": "stream",
     "text": [
      "1\n",
      "2\n"
     ]
    }
   ],
   "source": [
    "class Node:\n",
    "    def __init__(self,data):\n",
    "        self.data=data\n",
    "        self.next=None\n",
    "        \n",
    "class QueueusingLL:\n",
    "    def __init__(self):\n",
    "        self.__head=None\n",
    "        self.__tail=None\n",
    "        self.__count=0\n",
    "        \n",
    "    def enqueue(self,ele):\n",
    "        newnode=Node(ele)\n",
    "        if self.__head is None:\n",
    "            self.__head=newnode\n",
    "            self.__tail=newnode\n",
    "        else:\n",
    "            self.__tail.next=newnode\n",
    "            self.__tail=newnode\n",
    "            \n",
    "        self.__count +=1\n",
    "        \n",
    "    def dequeue(self):\n",
    "        if self.__head is None:\n",
    "            print(\"hey queue is empty\")\n",
    "            return \n",
    "        data = self.__head.data\n",
    "        self.__head=self.__head.next\n",
    "        self.__count -=1\n",
    "        return data\n",
    "            \n",
    "            \n",
    "\n",
    "    def front(self):\n",
    "        if self.__head is None:\n",
    "            print(\"hey queue is empty\")\n",
    "            return \n",
    "        data= self.__head.data\n",
    "        return data\n",
    "    \n",
    "    def size(self):\n",
    "        return self.__count\n",
    "    \n",
    "    def isempty(self):\n",
    "        return self.size()==0\n",
    "    \n",
    "q=QueueusingLL()\n",
    "q.enqueue(1)\n",
    "q.enqueue(2)\n",
    "q.enqueue(3)\n",
    "q.enqueue(4)\n",
    "\n",
    "# while q.isempty() is False:\n",
    "# #     print(q.front())\n",
    "#     print(q.dequeue())\n",
    "print(q.dequeue())\n",
    "print(q.front())"
   ]
  }
 ],
 "metadata": {
  "kernelspec": {
   "display_name": "Python 3 (ipykernel)",
   "language": "python",
   "name": "python3"
  },
  "language_info": {
   "codemirror_mode": {
    "name": "ipython",
    "version": 3
   },
   "file_extension": ".py",
   "mimetype": "text/x-python",
   "name": "python",
   "nbconvert_exporter": "python",
   "pygments_lexer": "ipython3",
   "version": "3.10.9"
  }
 },
 "nbformat": 4,
 "nbformat_minor": 5
}
