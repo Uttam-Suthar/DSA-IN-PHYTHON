{
 "cells": [
  {
   "cell_type": "code",
   "execution_count": 12,
   "id": "09633c7a",
   "metadata": {},
   "outputs": [],
   "source": [
    "def getstring(d):\n",
    "    if d==2:\n",
    "        return \"abc\"\n",
    "    if d==3:\n",
    "        return \"def\"\n",
    "    if d==4:\n",
    "        return \"ghi\"\n",
    "    if d==5:\n",
    "        return \"jkl\"\n",
    "    if d==6:\n",
    "        return \"mno\"\n",
    "    if d==7:\n",
    "        return \"pqrs\"\n",
    "    if d==8:\n",
    "        return \"tuv\"\n",
    "    if d==9:\n",
    "        return \"wxyz\"\n",
    "    \n",
    "    return \" \"\n",
    "\n",
    "def printkeypad(n,outputsofar):\n",
    "    if n==0:\n",
    "        print(outputsofar)\n",
    "        return \n",
    "    \n",
    "    smallnumber=n//10\n",
    "    lastdigit=n%10\n",
    "    \n",
    "    \n",
    "    optionforlastdigit=getstring(lastdigit)\n",
    "    \n",
    "    for c in optionforlastdigit:\n",
    "        newoutput= c+outputsofar\n",
    "        printkeypad(smallnumber,newoutput)\n",
    "    \n"
   ]
  },
  {
   "cell_type": "code",
   "execution_count": 13,
   "id": "2bcd7d99",
   "metadata": {},
   "outputs": [
    {
     "name": "stdout",
     "output_type": "stream",
     "text": [
      "ad\n",
      "bd\n",
      "cd\n",
      "ae\n",
      "be\n",
      "ce\n",
      "af\n",
      "bf\n",
      "cf\n"
     ]
    }
   ],
   "source": [
    "printkeypad(23,\"\")"
   ]
  }
 ],
 "metadata": {
  "kernelspec": {
   "display_name": "Python 3 (ipykernel)",
   "language": "python",
   "name": "python3"
  },
  "language_info": {
   "codemirror_mode": {
    "name": "ipython",
    "version": 3
   },
   "file_extension": ".py",
   "mimetype": "text/x-python",
   "name": "python",
   "nbconvert_exporter": "python",
   "pygments_lexer": "ipython3",
   "version": "3.10.9"
  }
 },
 "nbformat": 4,
 "nbformat_minor": 5
}
