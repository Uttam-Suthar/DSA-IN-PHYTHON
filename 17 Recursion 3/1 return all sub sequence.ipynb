{
 "cells": [
  {
   "cell_type": "code",
   "execution_count": 2,
   "id": "d97261ea",
   "metadata": {},
   "outputs": [
    {
     "data": {
      "text/plain": [
       "['', 'c', 'b', 'bc', 'a', 'ac', 'ab', 'abc']"
      ]
     },
     "execution_count": 2,
     "metadata": {},
     "output_type": "execute_result"
    }
   ],
   "source": [
    "def subsequences(string):\n",
    "    #Implement Your Code Here\n",
    "    # pass\n",
    "    if len(string)==0:\n",
    "        output=[]\n",
    "#         output=[\"\"]\n",
    "        output.append(\"\")\n",
    "        return output\n",
    "    smallstring=string[1:]\n",
    "    smalloutput=subsequences(smallstring)\n",
    "    output=[]\n",
    "    for char in smalloutput:\n",
    "        output.append(char)\n",
    "        \n",
    "    for char in smalloutput:\n",
    "        output.append(string[0]+char)\n",
    "\n",
    "#     for char in smalloutput:\n",
    "#         output.append(char)\n",
    "#         output.append(string[0]+char)\n",
    "\n",
    "    return output\n",
    "\n",
    "\n",
    "\n",
    "string = \"abc\"\n",
    "ans = subsequences(string)\n",
    "ans"
   ]
  },
  {
   "cell_type": "code",
   "execution_count": null,
   "id": "27ae3eac",
   "metadata": {},
   "outputs": [],
   "source": []
  }
 ],
 "metadata": {
  "kernelspec": {
   "display_name": "Python 3 (ipykernel)",
   "language": "python",
   "name": "python3"
  },
  "language_info": {
   "codemirror_mode": {
    "name": "ipython",
    "version": 3
   },
   "file_extension": ".py",
   "mimetype": "text/x-python",
   "name": "python",
   "nbconvert_exporter": "python",
   "pygments_lexer": "ipython3",
   "version": "3.10.9"
  }
 },
 "nbformat": 4,
 "nbformat_minor": 5
}
