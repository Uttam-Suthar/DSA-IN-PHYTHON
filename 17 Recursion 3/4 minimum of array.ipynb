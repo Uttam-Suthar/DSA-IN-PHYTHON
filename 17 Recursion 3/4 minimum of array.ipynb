{
 "cells": [
  {
   "cell_type": "code",
   "execution_count": 1,
   "id": "50e8c3e5",
   "metadata": {},
   "outputs": [],
   "source": [
    "def minlist(l):\n",
    "    if len(l)==1:\n",
    "        return l[0]\n",
    "    minsmallarray=minlist(l[1:])\n",
    "    overallmin=min(minsmallarray,l[0])\n",
    "    return overallmin"
   ]
  },
  {
   "cell_type": "code",
   "execution_count": 2,
   "id": "fdcd0cf1",
   "metadata": {},
   "outputs": [
    {
     "name": "stdout",
     "output_type": "stream",
     "text": [
      "-4\n"
     ]
    }
   ],
   "source": [
    "print(minlist([1,2,3,4,-1,0,-2,-4,5,6]))"
   ]
  },
  {
   "cell_type": "code",
   "execution_count": 9,
   "id": "b972e39f",
   "metadata": {},
   "outputs": [],
   "source": [
    "def printMin(l,monsofor=100000):\n",
    "    if len(l)==0:\n",
    "        print(monsofor)\n",
    "        return \n",
    "    \n",
    "    newmin=min(monsofor,l[0])\n",
    "    printMin(l[1:],newmin)"
   ]
  },
  {
   "cell_type": "code",
   "execution_count": 11,
   "id": "afb88b65",
   "metadata": {},
   "outputs": [
    {
     "name": "stdout",
     "output_type": "stream",
     "text": [
      "-4\n"
     ]
    }
   ],
   "source": [
    "printMin([1,2,3,4,-1,0,-2,-4,5,6])"
   ]
  }
 ],
 "metadata": {
  "kernelspec": {
   "display_name": "Python 3 (ipykernel)",
   "language": "python",
   "name": "python3"
  },
  "language_info": {
   "codemirror_mode": {
    "name": "ipython",
    "version": 3
   },
   "file_extension": ".py",
   "mimetype": "text/x-python",
   "name": "python",
   "nbconvert_exporter": "python",
   "pygments_lexer": "ipython3",
   "version": "3.10.9"
  }
 },
 "nbformat": 4,
 "nbformat_minor": 5
}
