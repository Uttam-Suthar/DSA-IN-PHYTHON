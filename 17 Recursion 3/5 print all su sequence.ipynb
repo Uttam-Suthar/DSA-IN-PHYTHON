{
 "cells": [
  {
   "cell_type": "code",
   "execution_count": 1,
   "id": "382284b3",
   "metadata": {},
   "outputs": [],
   "source": [
    "def printSub(s,o):\n",
    "    if len(s)==0:\n",
    "        print(o)\n",
    "        return \n",
    "    # not including 0th char\n",
    "    printSub(s[1:],o)\n",
    "    \n",
    "    # including 0th char\n",
    "    newoutput=o+s[0]\n",
    "    printSub(s[1:],newoutput)"
   ]
  },
  {
   "cell_type": "code",
   "execution_count": 6,
   "id": "cb7e7a5b",
   "metadata": {},
   "outputs": [
    {
     "name": "stdout",
     "output_type": "stream",
     "text": [
      "\n",
      "c\n",
      "b\n",
      "bc\n",
      "a\n",
      "ac\n",
      "ab\n",
      "abc\n"
     ]
    }
   ],
   "source": [
    "printSub(\"abc\",\"\")"
   ]
  }
 ],
 "metadata": {
  "kernelspec": {
   "display_name": "Python 3 (ipykernel)",
   "language": "python",
   "name": "python3"
  },
  "language_info": {
   "codemirror_mode": {
    "name": "ipython",
    "version": 3
   },
   "file_extension": ".py",
   "mimetype": "text/x-python",
   "name": "python",
   "nbconvert_exporter": "python",
   "pygments_lexer": "ipython3",
   "version": "3.10.9"
  }
 },
 "nbformat": 4,
 "nbformat_minor": 5
}
