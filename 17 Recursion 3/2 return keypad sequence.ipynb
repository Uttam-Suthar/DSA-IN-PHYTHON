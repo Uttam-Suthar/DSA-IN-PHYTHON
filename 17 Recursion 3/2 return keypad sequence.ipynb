{
 "cells": [
  {
   "cell_type": "code",
   "execution_count": 29,
   "id": "d20b86b8",
   "metadata": {},
   "outputs": [],
   "source": [
    "def getstring(d):\n",
    "    if d==2:\n",
    "        return \"abc\"\n",
    "    if d==3:\n",
    "        return \"def\"\n",
    "    if d==4:\n",
    "        return \"ghi\"\n",
    "    if d==5:\n",
    "        return \"jkl\"\n",
    "    if d==6:\n",
    "        return \"mno\"\n",
    "    if d==7:\n",
    "        return \"pqrs\"\n",
    "    if d==8:\n",
    "        return \"tuv\"\n",
    "    if d==9:\n",
    "        return \"wxyz\"\n",
    "    \n",
    "    return \" \"\n",
    "    "
   ]
  },
  {
   "cell_type": "code",
   "execution_count": 30,
   "id": "7d8be818",
   "metadata": {},
   "outputs": [],
   "source": [
    "def keypad(n):\n",
    "    if n==0:\n",
    "        output=[]\n",
    "        output.append(\"\")\n",
    "        return output\n",
    "    \n",
    "    smallnumber=n//10\n",
    "    lastdigit=n%10\n",
    "    \n",
    "    smallout=keypad(smallnumber)\n",
    "    optionforlastdigit=getstring(lastdigit)\n",
    "    \n",
    "    output=[]\n",
    "    \n",
    "    for s in smallout:\n",
    "        for c in optionforlastdigit:\n",
    "            option=s+c\n",
    "            output.append(option)\n",
    "        \n",
    "    return output\n"
   ]
  },
  {
   "cell_type": "code",
   "execution_count": 36,
   "id": "58a525b7",
   "metadata": {},
   "outputs": [
    {
     "ename": "TypeError",
     "evalue": "unsupported operand type(s) for //: 'str' and 'int'",
     "output_type": "error",
     "traceback": [
      "\u001b[1;31m---------------------------------------------------------------------------\u001b[0m",
      "\u001b[1;31mTypeError\u001b[0m                                 Traceback (most recent call last)",
      "Cell \u001b[1;32mIn[36], line 1\u001b[0m\n\u001b[1;32m----> 1\u001b[0m a\u001b[38;5;241m=\u001b[39m\u001b[43mkeypad\u001b[49m\u001b[43m(\u001b[49m\u001b[38;5;124;43m\"\u001b[39;49m\u001b[38;5;124;43m23\u001b[39;49m\u001b[38;5;124;43m\"\u001b[39;49m\u001b[43m)\u001b[49m\n\u001b[0;32m      2\u001b[0m \u001b[38;5;28mprint\u001b[39m(a)\n\u001b[0;32m      3\u001b[0m \u001b[38;5;28mlen\u001b[39m(a)\n",
      "Cell \u001b[1;32mIn[30], line 7\u001b[0m, in \u001b[0;36mkeypad\u001b[1;34m(n)\u001b[0m\n\u001b[0;32m      4\u001b[0m     output\u001b[38;5;241m.\u001b[39mappend(\u001b[38;5;124m\"\u001b[39m\u001b[38;5;124m\"\u001b[39m)\n\u001b[0;32m      5\u001b[0m     \u001b[38;5;28;01mreturn\u001b[39;00m output\n\u001b[1;32m----> 7\u001b[0m smallnumber\u001b[38;5;241m=\u001b[39m\u001b[43mn\u001b[49m\u001b[38;5;241;43m/\u001b[39;49m\u001b[38;5;241;43m/\u001b[39;49m\u001b[38;5;241;43m10\u001b[39;49m\n\u001b[0;32m      8\u001b[0m lastdigit\u001b[38;5;241m=\u001b[39mn\u001b[38;5;241m%\u001b[39m\u001b[38;5;241m10\u001b[39m\n\u001b[0;32m     10\u001b[0m smallout\u001b[38;5;241m=\u001b[39mkeypad(smallnumber)\n",
      "\u001b[1;31mTypeError\u001b[0m: unsupported operand type(s) for //: 'str' and 'int'"
     ]
    }
   ],
   "source": [
    "\n",
    "a=keypad(\"23\")\n",
    "print(a)\n",
    "len(a)"
   ]
  },
  {
   "cell_type": "code",
   "execution_count": 35,
   "id": "2b13a057",
   "metadata": {},
   "outputs": [
    {
     "data": {
      "text/plain": [
       "(36,\n",
       " ['adp',\n",
       "  'adq',\n",
       "  'adr',\n",
       "  'ads',\n",
       "  'aep',\n",
       "  'aeq',\n",
       "  'aer',\n",
       "  'aes',\n",
       "  'afp',\n",
       "  'afq',\n",
       "  'afr',\n",
       "  'afs',\n",
       "  'bdp',\n",
       "  'bdq',\n",
       "  'bdr',\n",
       "  'bds',\n",
       "  'bep',\n",
       "  'beq',\n",
       "  'ber',\n",
       "  'bes',\n",
       "  'bfp',\n",
       "  'bfq',\n",
       "  'bfr',\n",
       "  'bfs',\n",
       "  'cdp',\n",
       "  'cdq',\n",
       "  'cdr',\n",
       "  'cds',\n",
       "  'cep',\n",
       "  'ceq',\n",
       "  'cer',\n",
       "  'ces',\n",
       "  'cfp',\n",
       "  'cfq',\n",
       "  'cfr',\n",
       "  'cfs'])"
      ]
     },
     "execution_count": 35,
     "metadata": {},
     "output_type": "execute_result"
    }
   ],
   "source": [
    "a=keypad(237)\n",
    "\n",
    "len(a),a"
   ]
  }
 ],
 "metadata": {
  "kernelspec": {
   "display_name": "Python 3 (ipykernel)",
   "language": "python",
   "name": "python3"
  },
  "language_info": {
   "codemirror_mode": {
    "name": "ipython",
    "version": 3
   },
   "file_extension": ".py",
   "mimetype": "text/x-python",
   "name": "python",
   "nbconvert_exporter": "python",
   "pygments_lexer": "ipython3",
   "version": "3.10.9"
  }
 },
 "nbformat": 4,
 "nbformat_minor": 5
}
