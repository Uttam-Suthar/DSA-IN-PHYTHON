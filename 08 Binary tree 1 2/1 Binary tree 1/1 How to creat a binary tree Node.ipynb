{
 "cells": [
  {
   "cell_type": "code",
   "execution_count": 2,
   "id": "0c0d5817",
   "metadata": {},
   "outputs": [],
   "source": [
    "class BinarytreeNode:\n",
    "    def __init__(self,data):\n",
    "        self.data=data\n",
    "        self.left=None\n",
    "        self.right=None\n",
    "        "
   ]
  },
  {
   "cell_type": "code",
   "execution_count": 3,
   "id": "776dde57",
   "metadata": {},
   "outputs": [],
   "source": [
    "btn1=BinarytreeNode(1)\n",
    "btn2=BinarytreeNode(4)\n",
    "btn3=BinarytreeNode(5)"
   ]
  },
  {
   "cell_type": "code",
   "execution_count": 4,
   "id": "9fb7915e",
   "metadata": {},
   "outputs": [],
   "source": [
    "btn1.left=btn2\n",
    "btn1.right=btn3"
   ]
  }
 ],
 "metadata": {
  "kernelspec": {
   "display_name": "Python 3 (ipykernel)",
   "language": "python",
   "name": "python3"
  },
  "language_info": {
   "codemirror_mode": {
    "name": "ipython",
    "version": 3
   },
   "file_extension": ".py",
   "mimetype": "text/x-python",
   "name": "python",
   "nbconvert_exporter": "python",
   "pygments_lexer": "ipython3",
   "version": "3.10.9"
  }
 },
 "nbformat": 4,
 "nbformat_minor": 5
}
