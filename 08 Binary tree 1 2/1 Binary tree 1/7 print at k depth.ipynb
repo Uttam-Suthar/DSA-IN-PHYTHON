{
 "cells": [
  {
   "cell_type": "code",
   "execution_count": 1,
   "id": "70ea28fe",
   "metadata": {},
   "outputs": [],
   "source": [
    "class BinarytreeNode:\n",
    "    def __init__(self,data):\n",
    "        self.data=data\n",
    "        self.left=None\n",
    "        self.right=None\n",
    "        \n",
    "# def printbinaritree(root):\n",
    "#     if root ==None:\n",
    "#         return\n",
    "#     print(root.data)\n",
    "#     printbinaritree(root.left)\n",
    "#     printbinaritree(root.right)\n",
    "    \n",
    "def printbinaritreedtails(root):\n",
    "    if root ==None:\n",
    "        return\n",
    "    print(root.data,end=\":\")\n",
    "    if root.left !=None:\n",
    "        print(\"l\",root.left.data,end=\",\")\n",
    "    if root.right != None:\n",
    "        print(\"R\",root.right.data,end=\"\")\n",
    "    print()\n",
    "    printbinaritreedtails(root.left)\n",
    "    printbinaritreedtails(root.right)\n",
    "    \n",
    "    \n",
    "# def greaterthanx(root,x):\n",
    "#     if root==None:\n",
    "#         return 0\n",
    "#     leftcount=greaterthanx(root.left,x)\n",
    "#     rightcount=greaterthanx(root.right,x)\n",
    "#     count=leftcount+rightcount\n",
    "    \n",
    "#     if root.data>x:\n",
    "#         count +=1\n",
    "#     return count\n",
    "\n",
    "\n",
    "\n",
    "    \n",
    "def treeinput():\n",
    "    rootdata=int(input())\n",
    "    if rootdata== -1:\n",
    "        return None\n",
    "    root=BinarytreeNode(rootdata)\n",
    "    lefttree=treeinput()\n",
    "    righttree=treeinput()\n",
    "    root.left=lefttree\n",
    "    root.right=righttree\n",
    "    return root\n",
    "\n",
    "\n",
    "def takeInput():\n",
    "    print(\"Enter root data\")\n",
    "    rootData = int(input())\n",
    "    if (rootData == -1):\n",
    "        return None\n",
    "    root = BinaryTreeNode(rootData)\n",
    "    root.left = takeInput()\n",
    "    root.right = takeInput()\n",
    "    return root"
   ]
  },
  {
   "cell_type": "code",
   "execution_count": 2,
   "id": "4873c477",
   "metadata": {},
   "outputs": [],
   "source": [
    "def printkdepth(root,k):\n",
    "    if root ==None:\n",
    "        return \n",
    "    if k==0:\n",
    "        print(root.data)\n",
    "        return\n",
    "    printkdepth(root.left,k-1)\n",
    "    printkdepth(root.right,k-1)"
   ]
  },
  {
   "cell_type": "code",
   "execution_count": 3,
   "id": "4169c3b1",
   "metadata": {},
   "outputs": [],
   "source": [
    "# another method\n",
    "def printkanddepth(root,k,d=0):\n",
    "    if root ==None:\n",
    "        return\n",
    "    if k==d:\n",
    "        print(root.data)\n",
    "        return\n",
    "    printkanddepth(root.left,k,d+1)\n",
    "    printkanddepth(root.right,k,d+1)"
   ]
  },
  {
   "cell_type": "code",
   "execution_count": 4,
   "id": "9a953469",
   "metadata": {},
   "outputs": [
    {
     "name": "stdout",
     "output_type": "stream",
     "text": [
      "1\n",
      "2\n",
      "4\n",
      "-1\n",
      "-1\n",
      "5\n",
      "-1\n",
      "-1\n",
      "3\n",
      "6\n",
      "-1\n",
      "-1\n",
      "-1\n",
      "1:l 2,R 3\n",
      "2:l 4,R 5\n",
      "4:\n",
      "5:\n",
      "3:l 6,\n",
      "6:\n",
      "4\n",
      "5\n",
      "6\n",
      "None\n",
      "4\n",
      "5\n",
      "6\n",
      "None\n"
     ]
    }
   ],
   "source": [
    "root=treeinput()\n",
    "printbinaritreedtails(root)\n",
    "print(printkdepth(root,2))\n",
    "print(printkanddepth(root,2))"
   ]
  },
  {
   "cell_type": "code",
   "execution_count": null,
   "id": "9aa75746",
   "metadata": {},
   "outputs": [],
   "source": []
  }
 ],
 "metadata": {
  "kernelspec": {
   "display_name": "Python 3 (ipykernel)",
   "language": "python",
   "name": "python3"
  },
  "language_info": {
   "codemirror_mode": {
    "name": "ipython",
    "version": 3
   },
   "file_extension": ".py",
   "mimetype": "text/x-python",
   "name": "python",
   "nbconvert_exporter": "python",
   "pygments_lexer": "ipython3",
   "version": "3.10.9"
  }
 },
 "nbformat": 4,
 "nbformat_minor": 5
}
