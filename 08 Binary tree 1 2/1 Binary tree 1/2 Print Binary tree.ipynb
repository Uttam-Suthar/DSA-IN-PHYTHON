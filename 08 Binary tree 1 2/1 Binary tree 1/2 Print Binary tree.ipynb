{
 "cells": [
  {
   "cell_type": "code",
   "execution_count": 27,
   "id": "d20fc195",
   "metadata": {},
   "outputs": [],
   "source": [
    "class BinarytreeNode:\n",
    "    def __init__(self,data):\n",
    "        self.data=data\n",
    "        self.left=None\n",
    "        self.right=None\n",
    "        "
   ]
  },
  {
   "cell_type": "code",
   "execution_count": 16,
   "id": "5f451b0b",
   "metadata": {},
   "outputs": [],
   "source": [
    "def printbinaritree(root):\n",
    "    if root ==None:\n",
    "        return\n",
    "    print(root.data)\n",
    "    printbinaritree(root.left)\n",
    "    printbinaritree(root.right)"
   ]
  },
  {
   "cell_type": "code",
   "execution_count": 50,
   "id": "2ed2b5bb",
   "metadata": {},
   "outputs": [],
   "source": [
    "def printbinaritreedtails(root):\n",
    "    if root ==None:\n",
    "        return\n",
    "    print(root.data,end=\":\")\n",
    "    if root.left !=None:\n",
    "        print(\"l\",root.left.data,end=\",\")\n",
    "    if root.right != None:\n",
    "        print(\"R\",root.right.data,end=\"\")\n",
    "    print()\n",
    "    printbinaritreedtails(root.left)\n",
    "    printbinaritreedtails(root.right)"
   ]
  },
  {
   "cell_type": "code",
   "execution_count": 51,
   "id": "b263637a",
   "metadata": {},
   "outputs": [],
   "source": [
    "btn1=BinarytreeNode(1)\n",
    "btn2=BinarytreeNode(3)\n",
    "btn3=BinarytreeNode(4)\n",
    "btn4=BinarytreeNode(4)\n",
    "btn5=BinarytreeNode(5)"
   ]
  },
  {
   "cell_type": "code",
   "execution_count": 52,
   "id": "50a66a2e",
   "metadata": {},
   "outputs": [],
   "source": [
    "btn1.left=btn2\n",
    "btn1.right=btn3\n",
    "btn2.left=btn4\n",
    "btn2.right=btn5\n"
   ]
  },
  {
   "cell_type": "code",
   "execution_count": 53,
   "id": "eddfb653",
   "metadata": {},
   "outputs": [
    {
     "name": "stdout",
     "output_type": "stream",
     "text": [
      "1\n",
      "3\n",
      "4\n",
      "5\n",
      "4\n"
     ]
    }
   ],
   "source": [
    "printbinaritree(btn1)"
   ]
  },
  {
   "cell_type": "code",
   "execution_count": 54,
   "id": "38db9c88",
   "metadata": {},
   "outputs": [
    {
     "name": "stdout",
     "output_type": "stream",
     "text": [
      "1:l 3,R 4\n",
      "3:l 4,R 5\n",
      "4:\n",
      "5:\n",
      "4:\n"
     ]
    }
   ],
   "source": [
    "printbinaritreedtails(btn1)"
   ]
  }
 ],
 "metadata": {
  "kernelspec": {
   "display_name": "Python 3 (ipykernel)",
   "language": "python",
   "name": "python3"
  },
  "language_info": {
   "codemirror_mode": {
    "name": "ipython",
    "version": 3
   },
   "file_extension": ".py",
   "mimetype": "text/x-python",
   "name": "python",
   "nbconvert_exporter": "python",
   "pygments_lexer": "ipython3",
   "version": "3.10.9"
  }
 },
 "nbformat": 4,
 "nbformat_minor": 5
}
