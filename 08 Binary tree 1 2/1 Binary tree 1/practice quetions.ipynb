{
 "cells": [
  {
   "cell_type": "code",
   "execution_count": 11,
   "id": "f09e1e43",
   "metadata": {},
   "outputs": [],
   "source": [
    "class BinaryTreeNode:\n",
    "    def __init__(self,data):\n",
    "        self.data=data\n",
    "        self.left=None\n",
    "        self.right=None"
   ]
  },
  {
   "cell_type": "code",
   "execution_count": 12,
   "id": "2a082fbf",
   "metadata": {},
   "outputs": [],
   "source": [
    "def printbinaritreedtails(root):\n",
    "    if root ==None:\n",
    "        return\n",
    "    print(root.data,end=\":\")\n",
    "    if root.left !=None:\n",
    "        print(\"l\",root.left.data,end=\",\")\n",
    "    if root.right != None:\n",
    "        print(\"R\",root.right.data,end=\"\")\n",
    "    print()\n",
    "    printbinaritreedtails(root.left)\n",
    "    printbinaritreedtails(root.right)"
   ]
  },
  {
   "cell_type": "code",
   "execution_count": 15,
   "id": "872f97b0",
   "metadata": {},
   "outputs": [],
   "source": [
    "def takeInput():\n",
    "    print(\"Enter root data\")\n",
    "    rootData = int(input())\n",
    "    if (rootData == -1):\n",
    "        return None\n",
    "    root = BinaryTreeNode(rootData)\n",
    "    root.left = takeInput()\n",
    "    root.right = takeInput()\n",
    "    return root"
   ]
  },
  {
   "cell_type": "code",
   "execution_count": 18,
   "id": "61857c59",
   "metadata": {},
   "outputs": [
    {
     "name": "stdout",
     "output_type": "stream",
     "text": [
      "Enter root data\n",
      "2\n",
      "Enter root data\n",
      "7\n",
      "Enter root data\n",
      "2\n",
      "Enter root data\n",
      "-1\n",
      "Enter root data\n",
      "-1\n",
      "Enter root data\n",
      "6\n",
      "Enter root data\n",
      "5\n",
      "Enter root data\n",
      "-1\n",
      "Enter root data\n",
      "-1\n",
      "Enter root data\n",
      "11\n",
      "Enter root data\n",
      "-1\n",
      "Enter root data\n",
      "-1\n",
      "Enter root data\n",
      "5\n",
      "Enter root data\n",
      "-1\n",
      "Enter root data\n",
      "9\n",
      "Enter root data\n",
      "4\n",
      "Enter root data\n",
      "-1\n",
      "Enter root data\n",
      "-1\n",
      "Enter root data\n",
      "-1\n",
      "2:l 7,R 5\n",
      "7:l 2,R 6\n",
      "2:\n",
      "6:l 5,R 11\n",
      "5:\n",
      "11:\n",
      "5:R 9\n",
      "9:l 4,\n",
      "4:\n"
     ]
    }
   ],
   "source": [
    "root=takeInput()\n",
    "printbinaritreedtails(root)"
   ]
  }
 ],
 "metadata": {
  "kernelspec": {
   "display_name": "Python 3 (ipykernel)",
   "language": "python",
   "name": "python3"
  },
  "language_info": {
   "codemirror_mode": {
    "name": "ipython",
    "version": 3
   },
   "file_extension": ".py",
   "mimetype": "text/x-python",
   "name": "python",
   "nbconvert_exporter": "python",
   "pygments_lexer": "ipython3",
   "version": "3.10.9"
  }
 },
 "nbformat": 4,
 "nbformat_minor": 5
}
