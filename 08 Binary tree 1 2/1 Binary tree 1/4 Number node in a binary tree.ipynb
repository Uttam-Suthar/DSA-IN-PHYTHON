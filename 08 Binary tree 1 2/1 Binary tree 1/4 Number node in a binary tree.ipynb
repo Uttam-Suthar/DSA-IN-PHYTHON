{
 "cells": [
  {
   "cell_type": "code",
   "execution_count": 2,
   "id": "15a9d662",
   "metadata": {},
   "outputs": [],
   "source": [
    "class BinarytreeNode:\n",
    "    def __init__(self,data):\n",
    "        self.data=data\n",
    "        self.left=None\n",
    "        self.right=None"
   ]
  },
  {
   "cell_type": "code",
   "execution_count": 3,
   "id": "f62365d8",
   "metadata": {},
   "outputs": [],
   "source": [
    "def printbinaritree(root):\n",
    "    if root ==None:\n",
    "        return\n",
    "    print(root.data)\n",
    "    printbinaritree(root.left)\n",
    "    printbinaritree(root.right)"
   ]
  },
  {
   "cell_type": "code",
   "execution_count": 4,
   "id": "858894f4",
   "metadata": {},
   "outputs": [],
   "source": [
    "def printbinaritreedtails(root):\n",
    "    if root ==None:\n",
    "        return\n",
    "    print(root.data,end=\":\")\n",
    "    if root.left !=None:\n",
    "        print(\"l\",root.left.data,end=\",\")\n",
    "    if root.right != None:\n",
    "        print(\"R\",root.right.data,end=\"\")\n",
    "    print()\n",
    "    printbinaritreedtails(root.left)\n",
    "    printbinaritreedtails(root.right)"
   ]
  },
  {
   "cell_type": "code",
   "execution_count": 5,
   "id": "6dbd1d20",
   "metadata": {},
   "outputs": [],
   "source": [
    "def treeinput():\n",
    "    rootdata=int(input())\n",
    "    if rootdata== -1:\n",
    "        return None\n",
    "    root=BinarytreeNode(rootdata)\n",
    "    lefttree=treeinput()\n",
    "    righttree=treeinput()\n",
    "    root.left=lefttree\n",
    "    root.right=righttree\n",
    "    return root"
   ]
  },
  {
   "cell_type": "code",
   "execution_count": 9,
   "id": "32b176b0",
   "metadata": {},
   "outputs": [],
   "source": [
    "def numNode(root):\n",
    "    if root== None:\n",
    "        return 0\n",
    "    leftcount=numNode(root.left)\n",
    "    rightcount=numNode(root.right)\n",
    "    return 1+leftcount+rightcount"
   ]
  },
  {
   "cell_type": "code",
   "execution_count": 10,
   "id": "f3c442a7",
   "metadata": {},
   "outputs": [
    {
     "name": "stdout",
     "output_type": "stream",
     "text": [
      "1\n",
      "2\n",
      "-1\n",
      "-1\n",
      "3\n",
      "4\n",
      "6\n",
      "-1\n",
      "-1\n",
      "-1\n",
      "5\n",
      "-1\n",
      "-1\n",
      "1:l 2,R 3\n",
      "2:\n",
      "3:l 4,R 5\n",
      "4:l 6,\n",
      "6:\n",
      "5:\n",
      "6\n"
     ]
    }
   ],
   "source": [
    "root=treeinput()\n",
    "printbinaritreedtails(root)\n",
    "print(numNode(root))"
   ]
  }
 ],
 "metadata": {
  "kernelspec": {
   "display_name": "Python 3 (ipykernel)",
   "language": "python",
   "name": "python3"
  },
  "language_info": {
   "codemirror_mode": {
    "name": "ipython",
    "version": 3
   },
   "file_extension": ".py",
   "mimetype": "text/x-python",
   "name": "python",
   "nbconvert_exporter": "python",
   "pygments_lexer": "ipython3",
   "version": "3.10.9"
  }
 },
 "nbformat": 4,
 "nbformat_minor": 5
}
