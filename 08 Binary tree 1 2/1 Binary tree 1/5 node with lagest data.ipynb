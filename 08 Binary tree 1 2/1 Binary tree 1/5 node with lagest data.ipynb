{
 "cells": [
  {
   "cell_type": "code",
   "execution_count": 2,
   "id": "1453ea06",
   "metadata": {},
   "outputs": [],
   "source": [
    "class BinarytreeNode:\n",
    "    def __init__(self,data):\n",
    "        self.data=data\n",
    "        self.left=None\n",
    "        self.right=None\n",
    "        \n",
    "# def printbinaritree(root):\n",
    "#     if root ==None:\n",
    "#         return\n",
    "#     print(root.data)\n",
    "#     printbinaritree(root.left)\n",
    "#     printbinaritree(root.right)\n",
    "    \n",
    "def printbinaritreedtails(root):\n",
    "    if root ==None:\n",
    "        return\n",
    "    print(root.data,end=\":\")\n",
    "    if root.left !=None:\n",
    "        print(\"l\",root.left.data,end=\",\")\n",
    "    if root.right != None:\n",
    "        print(\"R\",root.right.data,end=\"\")\n",
    "    print()\n",
    "    printbinaritreedtails(root.left)\n",
    "    printbinaritreedtails(root.right)\n",
    "    \n",
    "def largestnumber(root):\n",
    "    if root == None:\n",
    "        return -1\n",
    "    \n",
    "    leftlagest= largestnumber(root.left)\n",
    "    rightlargest=largestnumber(root.right)\n",
    "    lagest=max(leftlagest,rightlargest,root.data)\n",
    "    return lagest\n",
    "    \n",
    "def treeinput():\n",
    "    rootdata=int(input())\n",
    "    if rootdata== -1:\n",
    "        return None\n",
    "    root=BinarytreeNode(rootdata)\n",
    "    lefttree=treeinput()\n",
    "    righttree=treeinput()\n",
    "    root.left=lefttree\n",
    "    root.right=righttree\n",
    "    return root\n",
    "\n",
    "\n",
    "def takeInput():\n",
    "    print(\"Enter root data\")\n",
    "    rootData = int(input())\n",
    "    if (rootData == -1):\n",
    "        return None\n",
    "    root = BinaryTreeNode(rootData)\n",
    "    root.left = takeInput()\n",
    "    root.right = takeInput()\n",
    "    return root\n",
    "\n",
    "def sumNode(root):\n",
    "    if root== None:\n",
    "        return 0\n",
    "    rootdata= root.data\n",
    "    leftcount=numNode(root.left)\n",
    "    rightcount=numNode(root.right)\n",
    "    return rootdata+leftcount+rightcount"
   ]
  },
  {
   "cell_type": "code",
   "execution_count": null,
   "id": "a3cf4ac8",
   "metadata": {},
   "outputs": [
    {
     "name": "stdout",
     "output_type": "stream",
     "text": [
      "10\n",
      "20\n",
      "5\n",
      "-1\n",
      "-1\n"
     ]
    }
   ],
   "source": [
    "root=treeinput()\n",
    "preorderbinarytree(root)\n",
    "print(largestnumber(root))"
   ]
  }
 ],
 "metadata": {
  "kernelspec": {
   "display_name": "Python 3 (ipykernel)",
   "language": "python",
   "name": "python3"
  },
  "language_info": {
   "codemirror_mode": {
    "name": "ipython",
    "version": 3
   },
   "file_extension": ".py",
   "mimetype": "text/x-python",
   "name": "python",
   "nbconvert_exporter": "python",
   "pygments_lexer": "ipython3",
   "version": "3.10.9"
  }
 },
 "nbformat": 4,
 "nbformat_minor": 5
}
