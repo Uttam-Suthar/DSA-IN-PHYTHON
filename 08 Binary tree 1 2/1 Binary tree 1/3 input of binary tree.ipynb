{
 "cells": [
  {
   "cell_type": "code",
   "execution_count": 6,
   "id": "ac7578f5",
   "metadata": {},
   "outputs": [],
   "source": [
    "class BinarytreeNode:\n",
    "    def __init__(self,data):\n",
    "        self.data=data\n",
    "        self.left=None\n",
    "        self.right=None\n",
    "        "
   ]
  },
  {
   "cell_type": "code",
   "execution_count": 7,
   "id": "cbbcb45d",
   "metadata": {},
   "outputs": [],
   "source": [
    "def printbinaritree(root):\n",
    "    if root ==None:\n",
    "        return\n",
    "    print(root.data)\n",
    "    printbinaritree(root.left)\n",
    "    printbinaritree(root.right)"
   ]
  },
  {
   "cell_type": "code",
   "execution_count": 8,
   "id": "0c5b6279",
   "metadata": {},
   "outputs": [],
   "source": [
    "def printbinaritreedtails(root):\n",
    "    if root ==None:\n",
    "        return\n",
    "    print(root.data,end=\":\")\n",
    "    if root.left !=None:\n",
    "        print(\"l\",root.left.data,end=\",\")\n",
    "    if root.right != None:\n",
    "        print(\"R\",root.right.data,end=\"\")\n",
    "    print()\n",
    "    printbinaritreedtails(root.left)\n",
    "    printbinaritreedtails(root.right)"
   ]
  },
  {
   "cell_type": "code",
   "execution_count": 11,
   "id": "5b0c2216",
   "metadata": {},
   "outputs": [],
   "source": [
    "def treeinput():\n",
    "    rootdata=int(input())\n",
    "    if rootdata== -1:\n",
    "        return None\n",
    "    root=BinarytreeNode(rootdata)\n",
    "    lefttree=treeinput()\n",
    "    righttree=treeinput()\n",
    "    root.left=lefttree\n",
    "    root.right=righttree\n",
    "    return root\n",
    "    \n",
    "    "
   ]
  },
  {
   "cell_type": "code",
   "execution_count": 12,
   "id": "840fab52",
   "metadata": {},
   "outputs": [
    {
     "name": "stdout",
     "output_type": "stream",
     "text": [
      "1\n",
      "-1\n",
      "-1\n",
      "1:\n"
     ]
    }
   ],
   "source": [
    "root=treeinput()\n",
    "printbinaritreedtails(root)\n",
    "# print(root)"
   ]
  },
  {
   "cell_type": "code",
   "execution_count": 13,
   "id": "c4b0d3d3",
   "metadata": {},
   "outputs": [
    {
     "name": "stdout",
     "output_type": "stream",
     "text": [
      "1\n",
      "2\n",
      "4\n",
      "-1\n",
      "-1\n",
      "5\n",
      "-1\n",
      "-1\n",
      "3\n",
      "-1\n",
      "7\n",
      "-1\n",
      "-1\n",
      "1:l 2,R 3\n",
      "2:l 4,R 5\n",
      "4:\n",
      "5:\n",
      "3:R 7\n",
      "7:\n"
     ]
    }
   ],
   "source": [
    "root=treeinput()\n",
    "printbinaritreedtails(root)"
   ]
  }
 ],
 "metadata": {
  "kernelspec": {
   "display_name": "Python 3 (ipykernel)",
   "language": "python",
   "name": "python3"
  },
  "language_info": {
   "codemirror_mode": {
    "name": "ipython",
    "version": 3
   },
   "file_extension": ".py",
   "mimetype": "text/x-python",
   "name": "python",
   "nbconvert_exporter": "python",
   "pygments_lexer": "ipython3",
   "version": "3.10.9"
  }
 },
 "nbformat": 4,
 "nbformat_minor": 5
}
