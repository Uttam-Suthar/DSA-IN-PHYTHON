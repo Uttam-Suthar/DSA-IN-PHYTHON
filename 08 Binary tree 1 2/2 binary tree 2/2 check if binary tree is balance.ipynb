{
 "cells": [
  {
   "cell_type": "code",
   "execution_count": 11,
   "id": "8871b0fe",
   "metadata": {},
   "outputs": [],
   "source": [
    "class BinarytreeNode:\n",
    "    def __init__(self,data):\n",
    "        self.data=data\n",
    "        self.left=None\n",
    "        self.right=None\n",
    "        \n",
    "# def printbinaritree(root):\n",
    "#     if root ==None:\n",
    "#         return\n",
    "#     print(root.data)\n",
    "#     printbinaritree(root.left)\n",
    "#     printbinaritree(root.right)\n",
    "    \n",
    "def printbinaritreedtails(root):\n",
    "    if root ==None:\n",
    "        return\n",
    "    print(root.data,end=\":\")\n",
    "    if root.left !=None:\n",
    "        print(\"l\",root.left.data,end=\",\")\n",
    "    if root.right != None:\n",
    "        print(\"R\",root.right.data,end=\"\")\n",
    "    print()\n",
    "    printbinaritreedtails(root.left)\n",
    "    printbinaritreedtails(root.right)\n",
    "    \n",
    "    \n",
    "# def greaterthanx(root,x):\n",
    "#     if root==None:\n",
    "#         return 0\n",
    "#     leftcount=greaterthanx(root.left,x)\n",
    "#     rightcount=greaterthanx(root.right,x)\n",
    "#     count=leftcount+rightcount\n",
    "    \n",
    "#     if root.data>x:\n",
    "#         count +=1\n",
    "#     return count\n",
    "\n",
    "def height(root):\n",
    "    if root == None:\n",
    "        return 0\n",
    "    return 1+ max(height(root.left),height(root.right))\n",
    "\n",
    "def isbalanced(root) :\n",
    "    if root == None:\n",
    "        return True\n",
    "    lh=height(root.left)\n",
    "    rh=height(root.right)\n",
    "    if lh-rh>1 or rh-lh>1:\n",
    "        return False\n",
    "    lefbalanced=isbalanced(root.left)\n",
    "    rightbalanced=isbalanced(root.right)\n",
    "    if lefbalanced and rightbalanced:\n",
    "        return True\n",
    "    else:\n",
    "        return False\n",
    "\n",
    "    \n",
    "    \n",
    "def treeinput():\n",
    "    rootdata=int(input())\n",
    "    if rootdata== -1:\n",
    "        return None\n",
    "    root=BinarytreeNode(rootdata)\n",
    "    lefttree=treeinput()\n",
    "    righttree=treeinput()\n",
    "    root.left=lefttree\n",
    "    root.right=righttree\n",
    "    return root\n",
    "\n",
    "\n",
    "def takeInput():\n",
    "    print(\"Enter root data\")\n",
    "    rootData = int(input())\n",
    "    if (rootData == -1):\n",
    "        return None\n",
    "    root = BinaryTreeNode(rootData)\n",
    "    root.left = takeInput()\n",
    "    root.right = takeInput()\n",
    "    return root"
   ]
  },
  {
   "cell_type": "code",
   "execution_count": 7,
   "id": "56b37f32",
   "metadata": {},
   "outputs": [
    {
     "name": "stdout",
     "output_type": "stream",
     "text": [
      "1\n",
      "2\n",
      "-1\n",
      "-1\n",
      "3\n",
      "-1\n",
      "-1\n",
      "1:l 2,R 3\n",
      "2:\n",
      "3:\n",
      "True\n"
     ]
    }
   ],
   "source": [
    "root=treeinput()\n",
    "printbinaritreedtails(root)\n",
    "print(isbalanced(root))\n"
   ]
  },
  {
   "cell_type": "code",
   "execution_count": 12,
   "id": "64e5d36d",
   "metadata": {},
   "outputs": [
    {
     "name": "stdout",
     "output_type": "stream",
     "text": [
      "1\n",
      "2\n",
      "4\n",
      "6\n",
      "-1\n",
      "-1\n",
      "-1\n",
      "-1\n",
      "3\n",
      "-1\n",
      "5\n",
      "-1\n",
      "-1\n",
      "1:l 2,R 3\n",
      "2:l 4,\n",
      "4:l 6,\n",
      "6:\n",
      "3:R 5\n",
      "5:\n",
      "False\n"
     ]
    }
   ],
   "source": [
    "root=treeinput()\n",
    "printbinaritreedtails(root)\n",
    "print(isbalanced(root))\n"
   ]
  }
 ],
 "metadata": {
  "kernelspec": {
   "display_name": "Python 3 (ipykernel)",
   "language": "python",
   "name": "python3"
  },
  "language_info": {
   "codemirror_mode": {
    "name": "ipython",
    "version": 3
   },
   "file_extension": ".py",
   "mimetype": "text/x-python",
   "name": "python",
   "nbconvert_exporter": "python",
   "pygments_lexer": "ipython3",
   "version": "3.10.9"
  }
 },
 "nbformat": 4,
 "nbformat_minor": 5
}
