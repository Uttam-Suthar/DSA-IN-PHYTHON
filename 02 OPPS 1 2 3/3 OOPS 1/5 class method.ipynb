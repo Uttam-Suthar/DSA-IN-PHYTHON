{
 "cells": [
  {
   "cell_type": "code",
   "execution_count": 49,
   "id": "d61c8072",
   "metadata": {},
   "outputs": [
    {
     "data": {
      "text/plain": [
       "{'tracking_cetegery': 'Shopping',\n",
       " 'orignal_balance': 100.0,\n",
       " 'tracker_budget': 5000.0}"
      ]
     },
     "execution_count": 49,
     "metadata": {},
     "output_type": "execute_result"
    }
   ],
   "source": [
    "class ExpenseTracker:\n",
    "    def __init__(self,track_cetegery,orignal_balance,budget):\n",
    "        self.tracking_cetegery=track_cetegery\n",
    "        self.orignal_balance=orignal_balance\n",
    "        self.tracker_budget=budget\n",
    "    \n",
    "    # instant method\n",
    "    def get_orignal_balance(self):\n",
    "        return self.orignal_balance\n",
    "    def check_balance(self,limit=1000):\n",
    "        if self.tracker_budget>=limit:\n",
    "            return True\n",
    "        else:\n",
    "            return \"your budget limit is less\"\n",
    "            \n",
    "    @staticmethod\n",
    "    def conver_amount(amount):\n",
    "        return float(amount)\n",
    "    # factory method\n",
    "    @classmethod\n",
    "    def get_attribut_formstring(cls,dairy_entry:str):\n",
    "        tracking_cetegery,orignal_balance,tracker_budget=dairy_entry.split()\n",
    "        \n",
    "        return ExpenseTracker(tracking_cetegery.capitalize(),\n",
    "                              cls.conver_amount(orignal_balance),\n",
    "                              cls.conver_amount(tracker_budget),\n",
    "                              \n",
    "                                  )\n",
    "    \n",
    "# obj1=  ExpenseTracker(\"home\",10,1000)   \n",
    "# obj1.conver_amount(100)\n",
    "# obj1.check_balance(limit=10001)\n",
    "# obj1.get_orignal_balance()\n",
    "\n",
    "classobj=ExpenseTracker.get_attribut_formstring(\"shopping 100 5000\")\n",
    "classobj.__dict__"
   ]
  },
  {
   "cell_type": "code",
   "execution_count": 33,
   "id": "b6ac90c6",
   "metadata": {},
   "outputs": [
    {
     "data": {
      "text/plain": [
       "'Shopping'"
      ]
     },
     "execution_count": 33,
     "metadata": {},
     "output_type": "execute_result"
    }
   ],
   "source": [
    "classobj.tracking_cetegery"
   ]
  }
 ],
 "metadata": {
  "kernelspec": {
   "display_name": "Python 3 (ipykernel)",
   "language": "python",
   "name": "python3"
  },
  "language_info": {
   "codemirror_mode": {
    "name": "ipython",
    "version": 3
   },
   "file_extension": ".py",
   "mimetype": "text/x-python",
   "name": "python",
   "nbconvert_exporter": "python",
   "pygments_lexer": "ipython3",
   "version": "3.10.9"
  }
 },
 "nbformat": 4,
 "nbformat_minor": 5
}
