{
 "cells": [
  {
   "cell_type": "code",
   "execution_count": 16,
   "id": "a050f9bd",
   "metadata": {},
   "outputs": [],
   "source": [
    "class ExpenseTracker:\n",
    "    Expense_version_tracker=  0.1\n",
    "    def __init__(self,track_cetegery,orignal_balance,budget):\n",
    "        #public attribut\n",
    "        self.tracking_cetegery=track_cetegery\n",
    "#         private attribute \n",
    "        self.__orignal_balance=orignal_balance\n",
    "        self.__tracker_budget=budget\n",
    "    \n",
    "    # instant method\n",
    "#     private attribute \n",
    "    def __get_orignal_balance(self):\n",
    "        return self.__orignal_balance\n",
    "    \n",
    "    def check_balance(self,limit=1000):\n",
    "        if self.tracker_budget>=limit:\n",
    "            return True\n",
    "        else:\n",
    "            return \"your budget limit is less\"\n",
    "            \n",
    "    @staticmethod\n",
    "    def conver_amount(amount):\n",
    "        return float(amount)\n",
    "    # factory method\n",
    "    @classmethod\n",
    "    def get_attribut_formstring(cls,dairy_entry:str):\n",
    "        tracking_cetegery,orignal_balance,tracker_budget=dairy_entry.split()\n",
    "        \n",
    "        return ExpenseTracker(tracking_cetegery.capitalize(),\n",
    "                              cls.conver_amount(orignal_balance),\n",
    "                              cls.conver_amount(tracker_budget),\n",
    "                              \n",
    "                                  )"
   ]
  },
  {
   "cell_type": "code",
   "execution_count": 17,
   "id": "927c9626",
   "metadata": {},
   "outputs": [],
   "source": [
    "home=ExpenseTracker(\"home\",0,100)"
   ]
  },
  {
   "cell_type": "code",
   "execution_count": 8,
   "id": "c4cdad63",
   "metadata": {},
   "outputs": [
    {
     "data": {
      "text/plain": [
       "'home'"
      ]
     },
     "execution_count": 8,
     "metadata": {},
     "output_type": "execute_result"
    }
   ],
   "source": [
    "home.tracking_cetegery\n"
   ]
  },
  {
   "cell_type": "code",
   "execution_count": 5,
   "id": "230de040",
   "metadata": {},
   "outputs": [
    {
     "ename": "AttributeError",
     "evalue": "'ExpenseTracker' object has no attribute 'orignal_balance'",
     "output_type": "error",
     "traceback": [
      "\u001b[1;31m---------------------------------------------------------------------------\u001b[0m",
      "\u001b[1;31mAttributeError\u001b[0m                            Traceback (most recent call last)",
      "Cell \u001b[1;32mIn[5], line 2\u001b[0m\n\u001b[0;32m      1\u001b[0m \u001b[38;5;66;03m# home.__orignal_balance\u001b[39;00m\n\u001b[1;32m----> 2\u001b[0m \u001b[43mhome\u001b[49m\u001b[38;5;241;43m.\u001b[39;49m\u001b[43morignal_balance\u001b[49m\n",
      "\u001b[1;31mAttributeError\u001b[0m: 'ExpenseTracker' object has no attribute 'orignal_balance'"
     ]
    }
   ],
   "source": [
    "# home.__orignal_balance\n",
    "home.orignal_balance"
   ]
  },
  {
   "cell_type": "code",
   "execution_count": 9,
   "id": "f7b2ef1c",
   "metadata": {},
   "outputs": [
    {
     "ename": "AttributeError",
     "evalue": "'ExpenseTracker' object has no attribute '__get_orignal_balance'",
     "output_type": "error",
     "traceback": [
      "\u001b[1;31m---------------------------------------------------------------------------\u001b[0m",
      "\u001b[1;31mAttributeError\u001b[0m                            Traceback (most recent call last)",
      "Cell \u001b[1;32mIn[9], line 1\u001b[0m\n\u001b[1;32m----> 1\u001b[0m \u001b[43mhome\u001b[49m\u001b[38;5;241;43m.\u001b[39;49m\u001b[43m__get_orignal_balance\u001b[49m\n",
      "\u001b[1;31mAttributeError\u001b[0m: 'ExpenseTracker' object has no attribute '__get_orignal_balance'"
     ]
    }
   ],
   "source": [
    "home.__get_orignal_balance\n"
   ]
  },
  {
   "cell_type": "code",
   "execution_count": 10,
   "id": "c7a56461",
   "metadata": {},
   "outputs": [
    {
     "data": {
      "text/plain": [
       "{'tracking_cetegery': 'home',\n",
       " '_ExpenseTracker__orignal_balance': 0,\n",
       " '_ExpenseTracker__tracker_budget': 100}"
      ]
     },
     "execution_count": 10,
     "metadata": {},
     "output_type": "execute_result"
    }
   ],
   "source": [
    "home.__dict__"
   ]
  },
  {
   "cell_type": "code",
   "execution_count": 13,
   "id": "cbe03659",
   "metadata": {},
   "outputs": [
    {
     "data": {
      "text/plain": [
       "0"
      ]
     },
     "execution_count": 13,
     "metadata": {},
     "output_type": "execute_result"
    }
   ],
   "source": [
    "home._ExpenseTracker__orignal_balance"
   ]
  },
  {
   "cell_type": "code",
   "execution_count": 14,
   "id": "8561e278",
   "metadata": {},
   "outputs": [
    {
     "data": {
      "text/plain": [
       "100"
      ]
     },
     "execution_count": 14,
     "metadata": {},
     "output_type": "execute_result"
    }
   ],
   "source": [
    "home._ExpenseTracker__tracker_budget"
   ]
  },
  {
   "cell_type": "code",
   "execution_count": 18,
   "id": "db1f3874",
   "metadata": {},
   "outputs": [
    {
     "data": {
      "text/plain": [
       "0"
      ]
     },
     "execution_count": 18,
     "metadata": {},
     "output_type": "execute_result"
    }
   ],
   "source": [
    "home._ExpenseTracker__get_orignal_balance()"
   ]
  }
 ],
 "metadata": {
  "kernelspec": {
   "display_name": "Python 3 (ipykernel)",
   "language": "python",
   "name": "python3"
  },
  "language_info": {
   "codemirror_mode": {
    "name": "ipython",
    "version": 3
   },
   "file_extension": ".py",
   "mimetype": "text/x-python",
   "name": "python",
   "nbconvert_exporter": "python",
   "pygments_lexer": "ipython3",
   "version": "3.10.9"
  }
 },
 "nbformat": 4,
 "nbformat_minor": 5
}
