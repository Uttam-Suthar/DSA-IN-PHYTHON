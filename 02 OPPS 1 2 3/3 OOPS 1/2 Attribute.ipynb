{
 "cells": [
  {
   "cell_type": "code",
   "execution_count": 24,
   "id": "deca3392",
   "metadata": {},
   "outputs": [],
   "source": [
    "class ExpenseTracker:\n",
    "    expense_tracker_version=0.1\n",
    "    def __init__(self,tracker_category,oppening_balance,budget):\n",
    "        self.tracker_category=tracker_category\n",
    "        self.oppening_balance=oppening_balance\n",
    "        self.budget=budget\n",
    "home_tracker= ExpenseTracker(\"home\",3000,10000)\n",
    "shoppig_tracker= ExpenseTracker(\"shoping\",2000,5000)\n"
   ]
  },
  {
   "cell_type": "code",
   "execution_count": 2,
   "id": "a82a35e9",
   "metadata": {},
   "outputs": [
    {
     "data": {
      "text/plain": [
       "'home'"
      ]
     },
     "execution_count": 2,
     "metadata": {},
     "output_type": "execute_result"
    }
   ],
   "source": [
    "home_tracker.tracker_category"
   ]
  },
  {
   "cell_type": "code",
   "execution_count": 25,
   "id": "b2488574",
   "metadata": {},
   "outputs": [
    {
     "data": {
      "text/plain": [
       "{'tracker_category': 'home', 'oppening_balance': 3000, 'budget': 10000}"
      ]
     },
     "execution_count": 25,
     "metadata": {},
     "output_type": "execute_result"
    }
   ],
   "source": [
    "home_tracker.__dict__"
   ]
  },
  {
   "cell_type": "code",
   "execution_count": 15,
   "id": "0e8e3554",
   "metadata": {},
   "outputs": [
    {
     "data": {
      "text/plain": [
       "{'tracker_category': 'shoping', 'oppening_balance': 2000, 'budget': 5000}"
      ]
     },
     "execution_count": 15,
     "metadata": {},
     "output_type": "execute_result"
    }
   ],
   "source": [
    "shoppig_tracker.__dict__"
   ]
  },
  {
   "cell_type": "code",
   "execution_count": 16,
   "id": "01852339",
   "metadata": {},
   "outputs": [
    {
     "data": {
      "text/plain": [
       "2000"
      ]
     },
     "execution_count": 16,
     "metadata": {},
     "output_type": "execute_result"
    }
   ],
   "source": [
    "getattr(shoppig_tracker,\"oppening_balance\")"
   ]
  },
  {
   "cell_type": "code",
   "execution_count": 18,
   "id": "02fb9782",
   "metadata": {},
   "outputs": [
    {
     "data": {
      "text/plain": [
       "True"
      ]
     },
     "execution_count": 18,
     "metadata": {},
     "output_type": "execute_result"
    }
   ],
   "source": [
    "hasattr(shoppig_tracker,\"oppening_balance\")"
   ]
  },
  {
   "cell_type": "code",
   "execution_count": 19,
   "id": "80ce1eae",
   "metadata": {},
   "outputs": [
    {
     "data": {
      "text/plain": [
       "False"
      ]
     },
     "execution_count": 19,
     "metadata": {},
     "output_type": "execute_result"
    }
   ],
   "source": [
    "hasattr(shoppig_tracker,\"oppening\")"
   ]
  },
  {
   "cell_type": "code",
   "execution_count": 26,
   "id": "5ebf7e8f",
   "metadata": {},
   "outputs": [
    {
     "data": {
      "text/plain": [
       "{'tracker_category': 'home', 'oppening_balance': 3000, 'budget': 10000}"
      ]
     },
     "execution_count": 26,
     "metadata": {},
     "output_type": "execute_result"
    }
   ],
   "source": [
    "home_tracker.__dict__"
   ]
  },
  {
   "cell_type": "code",
   "execution_count": 27,
   "id": "024a5d85",
   "metadata": {},
   "outputs": [],
   "source": [
    "delattr(home_tracker,\"oppening_balance\")"
   ]
  },
  {
   "cell_type": "code",
   "execution_count": 28,
   "id": "f04323bb",
   "metadata": {},
   "outputs": [
    {
     "data": {
      "text/plain": [
       "{'tracker_category': 'home', 'budget': 10000}"
      ]
     },
     "execution_count": 28,
     "metadata": {},
     "output_type": "execute_result"
    }
   ],
   "source": [
    "home_tracker.__dict__"
   ]
  }
 ],
 "metadata": {
  "kernelspec": {
   "display_name": "Python 3 (ipykernel)",
   "language": "python",
   "name": "python3"
  },
  "language_info": {
   "codemirror_mode": {
    "name": "ipython",
    "version": 3
   },
   "file_extension": ".py",
   "mimetype": "text/x-python",
   "name": "python",
   "nbconvert_exporter": "python",
   "pygments_lexer": "ipython3",
   "version": "3.10.9"
  }
 },
 "nbformat": 4,
 "nbformat_minor": 5
}
