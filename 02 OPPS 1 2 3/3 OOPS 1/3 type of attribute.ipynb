{
 "cells": [
  {
   "cell_type": "code",
   "execution_count": 11,
   "id": "b25b5595",
   "metadata": {},
   "outputs": [],
   "source": [
    "class ExpenseTracker:\n",
    "    Expense_version_tracker=0.1\n",
    "    def __init__(self,tracker_category,oppening_balance,budget):\n",
    "        self.tracker_category=tracker_category\n",
    "        self.oppening_balance=oppening_balance\n",
    "        self.budget=budget\n",
    "home_tracker= ExpenseTracker(\"home\",3000,10000)\n",
    "shoppig_tracker= ExpenseTracker(\"shoping\",2000,5000)"
   ]
  },
  {
   "cell_type": "code",
   "execution_count": 2,
   "id": "004f975a",
   "metadata": {},
   "outputs": [
    {
     "data": {
      "text/plain": [
       "'home'"
      ]
     },
     "execution_count": 2,
     "metadata": {},
     "output_type": "execute_result"
    }
   ],
   "source": [
    "home_tracker.tracker_category"
   ]
  },
  {
   "cell_type": "code",
   "execution_count": 4,
   "id": "b3e3d11d",
   "metadata": {},
   "outputs": [
    {
     "data": {
      "text/plain": [
       "{'tracker_category': 'home', 'oppening_balance': 3000, 'budget': 10000}"
      ]
     },
     "execution_count": 4,
     "metadata": {},
     "output_type": "execute_result"
    }
   ],
   "source": [
    "home_tracker.__dict__"
   ]
  },
  {
   "cell_type": "code",
   "execution_count": 14,
   "id": "4bb9d61b",
   "metadata": {},
   "outputs": [],
   "source": [
    "home_tracker.tracker_category=\"newhome\""
   ]
  },
  {
   "cell_type": "code",
   "execution_count": 15,
   "id": "301cac7e",
   "metadata": {},
   "outputs": [
    {
     "data": {
      "text/plain": [
       "'newhome'"
      ]
     },
     "execution_count": 15,
     "metadata": {},
     "output_type": "execute_result"
    }
   ],
   "source": [
    "home_tracker.tracker_category"
   ]
  },
  {
   "cell_type": "code",
   "execution_count": 16,
   "id": "3061c2b7",
   "metadata": {},
   "outputs": [
    {
     "data": {
      "text/plain": [
       "'newhome'"
      ]
     },
     "execution_count": 16,
     "metadata": {},
     "output_type": "execute_result"
    }
   ],
   "source": [
    "home_tracker.tracker_category"
   ]
  },
  {
   "cell_type": "code",
   "execution_count": 17,
   "id": "260c97ea",
   "metadata": {},
   "outputs": [],
   "source": [
    "home_tracker.Expense_version_tracker=.02"
   ]
  },
  {
   "cell_type": "code",
   "execution_count": 9,
   "id": "49916667",
   "metadata": {},
   "outputs": [
    {
     "data": {
      "text/plain": [
       "0.02"
      ]
     },
     "execution_count": 9,
     "metadata": {},
     "output_type": "execute_result"
    }
   ],
   "source": [
    "home_tracker.Expense_version_tracker\n"
   ]
  },
  {
   "cell_type": "code",
   "execution_count": 18,
   "id": "bfb37c4e",
   "metadata": {},
   "outputs": [
    {
     "data": {
      "text/plain": [
       "0.02"
      ]
     },
     "execution_count": 18,
     "metadata": {},
     "output_type": "execute_result"
    }
   ],
   "source": [
    "home_tracker.Expense_version_tracker"
   ]
  }
 ],
 "metadata": {
  "kernelspec": {
   "display_name": "Python 3 (ipykernel)",
   "language": "python",
   "name": "python3"
  },
  "language_info": {
   "codemirror_mode": {
    "name": "ipython",
    "version": 3
   },
   "file_extension": ".py",
   "mimetype": "text/x-python",
   "name": "python",
   "nbconvert_exporter": "python",
   "pygments_lexer": "ipython3",
   "version": "3.10.9"
  }
 },
 "nbformat": 4,
 "nbformat_minor": 5
}
