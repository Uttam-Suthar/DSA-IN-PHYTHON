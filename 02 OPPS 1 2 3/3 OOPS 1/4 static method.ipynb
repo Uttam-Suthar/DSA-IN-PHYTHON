{
 "cells": [
  {
   "cell_type": "code",
   "execution_count": 49,
   "id": "9c224048",
   "metadata": {},
   "outputs": [
    {
     "data": {
      "text/plain": [
       "2000"
      ]
     },
     "execution_count": 49,
     "metadata": {},
     "output_type": "execute_result"
    }
   ],
   "source": [
    "class ExpenseTracker:\n",
    "    Expense_version_tracker=0.1\n",
    "    def __init__(self,tracker_category,orignal_balance,budget):\n",
    "        self.tracker_category=tracker_category\n",
    "        self.orignal_balance=orignal_balance\n",
    "        self.tracker_budget=budget\n",
    "        \n",
    "    # instant method\n",
    "    def get_orignal_balance(self):\n",
    "        return self.orignal_balance\n",
    "    # instant method\n",
    "    def check_balance(self,limit=1000):\n",
    "        if self.tracker_budget>=limit:\n",
    "            return True\n",
    "        else:\n",
    "            return \"your opening balance is less then limit\"\n",
    "        \n",
    "    @staticmethod\n",
    "    def convert_amount(amount):\n",
    "        return float(amount)\n",
    "    \n",
    "obj1= ExpenseTracker(\"home\",3,10000)\n",
    "obj2= ExpenseTracker(\"business\",2000,50000)\n",
    "obj1.get_orignal_balance()\n",
    "obj2.get_orignal_balance()\n"
   ]
  },
  {
   "cell_type": "code",
   "execution_count": 27,
   "id": "107741a4",
   "metadata": {},
   "outputs": [
    {
     "data": {
      "text/plain": [
       "'your opening balance is less then limit'"
      ]
     },
     "execution_count": 27,
     "metadata": {},
     "output_type": "execute_result"
    }
   ],
   "source": [
    "obj1.check_balance(limit=100000)"
   ]
  },
  {
   "cell_type": "code",
   "execution_count": 36,
   "id": "3f41bd61",
   "metadata": {},
   "outputs": [
    {
     "data": {
      "text/plain": [
       "<__main__.ExpenseTracker at 0x1efc2d898d0>"
      ]
     },
     "execution_count": 36,
     "metadata": {},
     "output_type": "execute_result"
    }
   ],
   "source": []
  },
  {
   "cell_type": "code",
   "execution_count": 53,
   "id": "d5e49dff",
   "metadata": {},
   "outputs": [
    {
     "data": {
      "text/plain": [
       "1000.0"
      ]
     },
     "execution_count": 53,
     "metadata": {},
     "output_type": "execute_result"
    }
   ],
   "source": [
    "obj1.convert_amount(1000)"
   ]
  },
  {
   "cell_type": "code",
   "execution_count": null,
   "id": "b9f70da8",
   "metadata": {},
   "outputs": [],
   "source": []
  },
  {
   "cell_type": "code",
   "execution_count": null,
   "id": "56fc4fd0",
   "metadata": {},
   "outputs": [],
   "source": []
  }
 ],
 "metadata": {
  "kernelspec": {
   "display_name": "Python 3 (ipykernel)",
   "language": "python",
   "name": "python3"
  },
  "language_info": {
   "codemirror_mode": {
    "name": "ipython",
    "version": 3
   },
   "file_extension": ".py",
   "mimetype": "text/x-python",
   "name": "python",
   "nbconvert_exporter": "python",
   "pygments_lexer": "ipython3",
   "version": "3.10.9"
  }
 },
 "nbformat": 4,
 "nbformat_minor": 5
}
