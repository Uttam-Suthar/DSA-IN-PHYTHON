{
 "cells": [
  {
   "cell_type": "code",
   "execution_count": 8,
   "id": "31d1427e",
   "metadata": {},
   "outputs": [],
   "source": [
    "class ExpenseTracker:\n",
    "    \"\"\"THis is a class to do expense tracker\"\"\"\n",
    "    def __init__(self):\n",
    "        pass"
   ]
  },
  {
   "cell_type": "code",
   "execution_count": 10,
   "id": "8b7eb8fa",
   "metadata": {
    "scrolled": true
   },
   "outputs": [
    {
     "data": {
      "text/plain": [
       "<__main__.ExpenseTracker at 0x20b853a5330>"
      ]
     },
     "execution_count": 10,
     "metadata": {},
     "output_type": "execute_result"
    }
   ],
   "source": [
    "obj1=ExpenseTracker()\n",
    "obj1"
   ]
  },
  {
   "cell_type": "code",
   "execution_count": 13,
   "id": "1deaa6a4",
   "metadata": {},
   "outputs": [],
   "source": [
    "class ExpenseTracker:\n",
    "    \"\"\"THis is a class to do expense tracker\"\"\"\n",
    "    def __init__(self,date,description,transection_type,amount):\n",
    "        self.date=date\n",
    "        self.description=description\n",
    "        self.transection_type=transection_type\n",
    "        self.amount=amount\n",
    "        \n",
    "        \n",
    "        "
   ]
  },
  {
   "cell_type": "code",
   "execution_count": 15,
   "id": "8c42ba43",
   "metadata": {},
   "outputs": [
    {
     "data": {
      "text/plain": [
       "<__main__.ExpenseTracker at 0x20b853c04c0>"
      ]
     },
     "execution_count": 15,
     "metadata": {},
     "output_type": "execute_result"
    }
   ],
   "source": [
    "obj2=ExpenseTracker(\"12Jan\",\"dinner\",\"debit\",\"500\")\n",
    "obj2"
   ]
  },
  {
   "cell_type": "code",
   "execution_count": 17,
   "id": "3154d9da",
   "metadata": {},
   "outputs": [
    {
     "data": {
      "text/plain": [
       "'12Jan'"
      ]
     },
     "execution_count": 17,
     "metadata": {},
     "output_type": "execute_result"
    }
   ],
   "source": [
    "obj2.date"
   ]
  },
  {
   "cell_type": "code",
   "execution_count": null,
   "id": "156e1b93",
   "metadata": {},
   "outputs": [],
   "source": []
  }
 ],
 "metadata": {
  "kernelspec": {
   "display_name": "Python 3 (ipykernel)",
   "language": "python",
   "name": "python3"
  },
  "language_info": {
   "codemirror_mode": {
    "name": "ipython",
    "version": 3
   },
   "file_extension": ".py",
   "mimetype": "text/x-python",
   "name": "python",
   "nbconvert_exporter": "python",
   "pygments_lexer": "ipython3",
   "version": "3.10.9"
  }
 },
 "nbformat": 4,
 "nbformat_minor": 5
}
