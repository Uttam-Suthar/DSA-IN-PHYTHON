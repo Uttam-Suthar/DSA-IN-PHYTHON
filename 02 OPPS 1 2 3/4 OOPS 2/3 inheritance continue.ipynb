{
 "cells": [
  {
   "cell_type": "code",
   "execution_count": 7,
   "id": "24c1c394",
   "metadata": {},
   "outputs": [],
   "source": [
    "class vehicle():\n",
    "    # base parent class\n",
    "    def __init__(self,make,model,fuel):\n",
    "        self.make=make\n",
    "        \n",
    "        # private method\n",
    "        self.model=model\n",
    "        self.__fuel=fuel\n",
    "        \n",
    "    def __private_method_parent(self):\n",
    "        print(\"this is private\")\n",
    "\n",
    "class car(vehicle):\n",
    "    def __init__(self,make,model,fuel,air_conditions,sunroof):\n",
    "        \n",
    "        super(car,self).__init__(make,model,fuel)\n",
    "#       or  super().__init__(make,model,fuel)  \n",
    "\n",
    "#         #parent class\n",
    "#         vehicle.make=make\n",
    "#         vehicle.__model=model\n",
    "#         vehicle.__fuel=fuel\n",
    "        \n",
    "#         self.make=make\n",
    "#         self.model=model\n",
    "#         self.fuel=fuel\n",
    "        \n",
    "        self.air_conditions=air_conditions\n",
    "        self.sunroof=sunroof\n",
    "    # instant attribute   \n",
    "#     def show_parent_attribute(self):\n",
    "#         print(vehicle.make,\" \",vehicle.__model,\" \",vehicle.__fuel)\n",
    "        \n",
    "#     def show_privatemethod_ofparent(self):\n",
    "#         self._vehicle__private_method_parent()\n",
    "        \n",
    "carsdetails= car(\"tesla\",2019,\"electric\",True,True)"
   ]
  },
  {
   "cell_type": "code",
   "execution_count": 4,
   "id": "19731773",
   "metadata": {},
   "outputs": [
    {
     "data": {
      "text/plain": [
       "{'make': 'tesla',\n",
       " '_vehicle__madel': 2019,\n",
       " '_vehicle__fuel': 'electric',\n",
       " 'air_conditions': True,\n",
       " 'sunroof': True}"
      ]
     },
     "execution_count": 4,
     "metadata": {},
     "output_type": "execute_result"
    }
   ],
   "source": [
    "carsdetails.__dict__"
   ]
  },
  {
   "cell_type": "code",
   "execution_count": 6,
   "id": "22da6153",
   "metadata": {},
   "outputs": [
    {
     "name": "stdout",
     "output_type": "stream",
     "text": [
      "this is private\n"
     ]
    }
   ],
   "source": [
    "carsdetails._vehicle__private_method_parent()"
   ]
  },
  {
   "cell_type": "code",
   "execution_count": null,
   "id": "03d93e52",
   "metadata": {},
   "outputs": [],
   "source": []
  },
  {
   "cell_type": "code",
   "execution_count": null,
   "id": "862c3ecd",
   "metadata": {},
   "outputs": [],
   "source": []
  }
 ],
 "metadata": {
  "kernelspec": {
   "display_name": "Python 3 (ipykernel)",
   "language": "python",
   "name": "python3"
  },
  "language_info": {
   "codemirror_mode": {
    "name": "ipython",
    "version": 3
   },
   "file_extension": ".py",
   "mimetype": "text/x-python",
   "name": "python",
   "nbconvert_exporter": "python",
   "pygments_lexer": "ipython3",
   "version": "3.10.9"
  }
 },
 "nbformat": 4,
 "nbformat_minor": 5
}
