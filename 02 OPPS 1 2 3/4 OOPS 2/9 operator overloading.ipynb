{
 "cells": [
  {
   "cell_type": "code",
   "execution_count": 16,
   "id": "633aca24",
   "metadata": {},
   "outputs": [],
   "source": [
    "class vehicle:\n",
    "    def __init__(self,make,model,fare):\n",
    "        self.make=make\n",
    "        self.model=model\n",
    "        self.fare=fare\n",
    "    def __str__(self):\n",
    "        return \"The make of car is {} and the model is of {} with a fare {}\".format(self.make,\n",
    "                                                                                   self.model,\n",
    "                                                                                   self.fare)\n",
    "    \n",
    "    def __add__(self,other):\n",
    "        return self.fare+other.fare\n",
    "myobj1=vehicle(\"tesla\",2019,40)\n",
    "myobj2=vehicle(\"Ford\",2019,80)"
   ]
  },
  {
   "cell_type": "code",
   "execution_count": null,
   "id": "a5aa965e",
   "metadata": {},
   "outputs": [],
   "source": []
  },
  {
   "cell_type": "code",
   "execution_count": 11,
   "id": "e9447b65",
   "metadata": {},
   "outputs": [],
   "source": [
    "# myobj1.__dict__"
   ]
  },
  {
   "cell_type": "code",
   "execution_count": 14,
   "id": "bbf16b84",
   "metadata": {},
   "outputs": [
    {
     "name": "stdout",
     "output_type": "stream",
     "text": [
      "The make of car is tesla and the model is of 2019 with a fare 40\n"
     ]
    }
   ],
   "source": [
    "print(myobj1)"
   ]
  },
  {
   "cell_type": "code",
   "execution_count": 17,
   "id": "a9c33aa2",
   "metadata": {},
   "outputs": [
    {
     "data": {
      "text/plain": [
       "120"
      ]
     },
     "execution_count": 17,
     "metadata": {},
     "output_type": "execute_result"
    }
   ],
   "source": [
    "myobj1+myobj2"
   ]
  }
 ],
 "metadata": {
  "kernelspec": {
   "display_name": "Python 3 (ipykernel)",
   "language": "python",
   "name": "python3"
  },
  "language_info": {
   "codemirror_mode": {
    "name": "ipython",
    "version": 3
   },
   "file_extension": ".py",
   "mimetype": "text/x-python",
   "name": "python",
   "nbconvert_exporter": "python",
   "pygments_lexer": "ipython3",
   "version": "3.10.9"
  }
 },
 "nbformat": 4,
 "nbformat_minor": 5
}
