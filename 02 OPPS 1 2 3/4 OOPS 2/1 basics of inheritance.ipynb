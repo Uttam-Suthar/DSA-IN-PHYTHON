{
 "cells": [
  {
   "cell_type": "code",
   "execution_count": 21,
   "id": "16feb7cf",
   "metadata": {},
   "outputs": [],
   "source": [
    "class vehicle():\n",
    "    # base parent class\n",
    "    def __init__(self,make,model,fuel):\n",
    "        self.make=make\n",
    "        self.madel=model\n",
    "        self.fuel=fuel\n",
    "        \n",
    "class car(vehicle):\n",
    "    def __init__(self,make,model,fuel,air_conditions,sunroof):\n",
    "        #parent class\n",
    "        vehicle.make=make\n",
    "        vehicle.model=model\n",
    "        vehicle.fuel=fuel\n",
    "        \n",
    "#         self.make=make\n",
    "#         self.model=model\n",
    "#         self.fuel=fuel\n",
    "        \n",
    "        self.air_conditions=air_conditions\n",
    "        self.sunroof=sunroof\n",
    "    # instant attribute   \n",
    "    def show_attribute_of_parents(self):\n",
    "        print(vehicle.make,\" \",vehicle.model,\" \",vehicle.fuel)\n",
    "        \n",
    "carsdetails= car(\"tesla\",2019,\"electric\",True,True)\n",
    "\n",
    "        \n",
    "    "
   ]
  },
  {
   "cell_type": "code",
   "execution_count": 12,
   "id": "44f86f34",
   "metadata": {
    "scrolled": true
   },
   "outputs": [
    {
     "data": {
      "text/plain": [
       "{'air_conditions': True, 'sunroof': True}"
      ]
     },
     "execution_count": 12,
     "metadata": {},
     "output_type": "execute_result"
    }
   ],
   "source": [
    "carsdetails.__dict__"
   ]
  },
  {
   "cell_type": "code",
   "execution_count": 23,
   "id": "9dc7a68f",
   "metadata": {},
   "outputs": [
    {
     "name": "stdout",
     "output_type": "stream",
     "text": [
      "tesla   2019   electric\n"
     ]
    }
   ],
   "source": [
    "carsdetails.show_attribute_of_parents()"
   ]
  },
  {
   "cell_type": "code",
   "execution_count": 22,
   "id": "0145c79c",
   "metadata": {},
   "outputs": [
    {
     "data": {
      "text/plain": [
       "'tesla'"
      ]
     },
     "execution_count": 22,
     "metadata": {},
     "output_type": "execute_result"
    }
   ],
   "source": [
    "carsdetails.make"
   ]
  }
 ],
 "metadata": {
  "kernelspec": {
   "display_name": "Python 3 (ipykernel)",
   "language": "python",
   "name": "python3"
  },
  "language_info": {
   "codemirror_mode": {
    "name": "ipython",
    "version": 3
   },
   "file_extension": ".py",
   "mimetype": "text/x-python",
   "name": "python",
   "nbconvert_exporter": "python",
   "pygments_lexer": "ipython3",
   "version": "3.10.9"
  }
 },
 "nbformat": 4,
 "nbformat_minor": 5
}
