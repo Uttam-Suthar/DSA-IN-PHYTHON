{
 "cells": [
  {
   "cell_type": "code",
   "execution_count": 44,
   "id": "39fd6d00",
   "metadata": {},
   "outputs": [],
   "source": [
    "class vehicle():\n",
    "    current_year=2021\n",
    "    base_price=1000\n",
    "    # base parent class\n",
    "    def __init__(self,make,model,fuel):\n",
    "        self.make=make\n",
    "        \n",
    "        # private method\n",
    "        self.__model=model\n",
    "        self.__fuel=fuel\n",
    "        \n",
    "    def __private_method_parent(self):\n",
    "        print(\"this is private\")\n",
    "        \n",
    "     # defaulth fun get value a car\n",
    "    def get_value(self):\n",
    "        age = vehicle.current_year - self.__model\n",
    "        print(\"this is default ,method of parents\")\n",
    "        return vehicle.base_price*1/age\n",
    "        \n",
    "class car(vehicle):\n",
    "    def __init__(self,make,model,fuel,air_conditions,sunroof):\n",
    "        \n",
    "        super(car,self).__init__(make,model,fuel)\n",
    "\n",
    "        self.air_conditions=air_conditions\n",
    "        self.sunroof=sunroof\n",
    "        \n",
    "    # overriding method- replaces the parent default method\n",
    "    def get_value(self):\n",
    "        vehicle.base_price=5000\n",
    "        age = vehicle.current_year - self._vehicle__model\n",
    "        print(\"this is child overid\")\n",
    "        return vehicle.base_price*(1/age)\n",
    "    \n",
    "\n",
    "        \n",
    "carsdetails= car(\"tesla\",2019,\"electric\",True,True)"
   ]
  },
  {
   "cell_type": "code",
   "execution_count": 26,
   "id": "f2ddbc5b",
   "metadata": {},
   "outputs": [
    {
     "data": {
      "text/plain": [
       "{'make': 'tesla',\n",
       " '_vehicle__madel': 2019,\n",
       " '_vehicle__fuel': 'electric',\n",
       " 'air_conditions': True,\n",
       " 'sunroof': True}"
      ]
     },
     "execution_count": 26,
     "metadata": {},
     "output_type": "execute_result"
    }
   ],
   "source": [
    "carsdetails.__dict__"
   ]
  },
  {
   "cell_type": "code",
   "execution_count": 41,
   "id": "78c8c0f2",
   "metadata": {},
   "outputs": [
    {
     "name": "stdout",
     "output_type": "stream",
     "text": [
      "this is child overid\n"
     ]
    },
    {
     "data": {
      "text/plain": [
       "2500.0"
      ]
     },
     "execution_count": 41,
     "metadata": {},
     "output_type": "execute_result"
    }
   ],
   "source": [
    "carsdetails.get_value()"
   ]
  },
  {
   "cell_type": "code",
   "execution_count": 46,
   "id": "b8576657",
   "metadata": {},
   "outputs": [],
   "source": [
    "car=vehicle(\"ford\",2018,\"petrol\")"
   ]
  },
  {
   "cell_type": "code",
   "execution_count": 47,
   "id": "4d2e8c61",
   "metadata": {},
   "outputs": [
    {
     "name": "stdout",
     "output_type": "stream",
     "text": [
      "this is default ,method of parents\n"
     ]
    },
    {
     "data": {
      "text/plain": [
       "333.3333333333333"
      ]
     },
     "execution_count": 47,
     "metadata": {},
     "output_type": "execute_result"
    }
   ],
   "source": [
    "car.get_value()"
   ]
  }
 ],
 "metadata": {
  "kernelspec": {
   "display_name": "Python 3 (ipykernel)",
   "language": "python",
   "name": "python3"
  },
  "language_info": {
   "codemirror_mode": {
    "name": "ipython",
    "version": 3
   },
   "file_extension": ".py",
   "mimetype": "text/x-python",
   "name": "python",
   "nbconvert_exporter": "python",
   "pygments_lexer": "ipython3",
   "version": "3.10.9"
  }
 },
 "nbformat": 4,
 "nbformat_minor": 5
}
