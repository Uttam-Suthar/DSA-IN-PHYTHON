{
 "cells": [
  {
   "cell_type": "code",
   "execution_count": 63,
   "id": "2b0a8294",
   "metadata": {},
   "outputs": [],
   "source": [
    "\n"
   ]
  },
  {
   "cell_type": "code",
   "execution_count": 103,
   "id": "34ad6325",
   "metadata": {},
   "outputs": [],
   "source": [
    "class vehicle():\n",
    "    # base parent class\n",
    "    def __init__(self,make,model,fuel):\n",
    "        self.make=make\n",
    "        \n",
    "        # private method\n",
    "        self.model=model\n",
    "        self.__fuel=fuel\n",
    "        \n",
    "    def __private_method_parent(self):\n",
    "        print(\"this is private\")\n",
    "\n",
    "class car(vehicle):\n",
    "    def __init__(self,make,model,fuel,air_conditions,sunroof):\n",
    "        #parent class\n",
    "        vehicle.make=make\n",
    "        vehicle.__model=model\n",
    "        vehicle.__fuel=fuel\n",
    "        \n",
    "#         self.make=make\n",
    "#         self.model=model\n",
    "#         self.fuel=fuel\n",
    "        \n",
    "        self.air_conditions=air_conditions\n",
    "        self.sunroof=sunroof\n",
    "    # instant attribute   \n",
    "    def show_parent_attribute(self):\n",
    "        print(vehicle.make,\" \",vehicle.__model,\" \",vehicle.__fuel)\n",
    "        \n",
    "    def show_privatemethod_ofparent(self):\n",
    "        self._vehicle__private_method_parent()\n",
    "        \n",
    "carsdetails= car(\"tesla\",2019,\"electric\",True,True)"
   ]
  },
  {
   "cell_type": "code",
   "execution_count": null,
   "id": "71913c80",
   "metadata": {},
   "outputs": [],
   "source": []
  },
  {
   "cell_type": "code",
   "execution_count": 68,
   "id": "fb3805ae",
   "metadata": {},
   "outputs": [
    {
     "data": {
      "text/plain": [
       "'tesla'"
      ]
     },
     "execution_count": 68,
     "metadata": {},
     "output_type": "execute_result"
    }
   ],
   "source": [
    "carsdetails.make\n"
   ]
  },
  {
   "cell_type": "code",
   "execution_count": 69,
   "id": "ab6a0854",
   "metadata": {},
   "outputs": [
    {
     "data": {
      "text/plain": [
       "{'air_conditions': True, 'sunroof': True}"
      ]
     },
     "execution_count": 69,
     "metadata": {},
     "output_type": "execute_result"
    }
   ],
   "source": [
    "carsdetails.__dict__"
   ]
  },
  {
   "cell_type": "code",
   "execution_count": 52,
   "id": "2ddaad44",
   "metadata": {},
   "outputs": [
    {
     "name": "stdout",
     "output_type": "stream",
     "text": [
      "tesla   2019   electric\n"
     ]
    }
   ],
   "source": [
    "carsdetails.show_parent_attribute()"
   ]
  },
  {
   "cell_type": "code",
   "execution_count": 53,
   "id": "78f4fe63",
   "metadata": {},
   "outputs": [
    {
     "ename": "AttributeError",
     "evalue": "'car' object has no attribute '__model'",
     "output_type": "error",
     "traceback": [
      "\u001b[1;31m---------------------------------------------------------------------------\u001b[0m",
      "\u001b[1;31mAttributeError\u001b[0m                            Traceback (most recent call last)",
      "Cell \u001b[1;32mIn[53], line 1\u001b[0m\n\u001b[1;32m----> 1\u001b[0m \u001b[43mcarsdetails\u001b[49m\u001b[38;5;241;43m.\u001b[39;49m\u001b[43m__model\u001b[49m\n",
      "\u001b[1;31mAttributeError\u001b[0m: 'car' object has no attribute '__model'"
     ]
    }
   ],
   "source": [
    "carsdetails.__model"
   ]
  },
  {
   "cell_type": "code",
   "execution_count": 77,
   "id": "6c75d6ea",
   "metadata": {
    "scrolled": true
   },
   "outputs": [
    {
     "ename": "AttributeError",
     "evalue": "'car' object has no attribute '_vehicle'",
     "output_type": "error",
     "traceback": [
      "\u001b[1;31m---------------------------------------------------------------------------\u001b[0m",
      "\u001b[1;31mAttributeError\u001b[0m                            Traceback (most recent call last)",
      "Cell \u001b[1;32mIn[77], line 1\u001b[0m\n\u001b[1;32m----> 1\u001b[0m \u001b[43mcarsdetails\u001b[49m\u001b[38;5;241;43m.\u001b[39;49m\u001b[43mshow_privatemethod_ofparent\u001b[49m\u001b[43m(\u001b[49m\u001b[43m)\u001b[49m\n",
      "Cell \u001b[1;32mIn[76], line 32\u001b[0m, in \u001b[0;36mcar.show_privatemethod_ofparent\u001b[1;34m(self)\u001b[0m\n\u001b[0;32m     31\u001b[0m \u001b[38;5;28;01mdef\u001b[39;00m \u001b[38;5;21mshow_privatemethod_ofparent\u001b[39m(\u001b[38;5;28mself\u001b[39m):\n\u001b[1;32m---> 32\u001b[0m     \u001b[38;5;28;43mself\u001b[39;49m\u001b[38;5;241;43m.\u001b[39;49m\u001b[43m_vehicle\u001b[49m\u001b[38;5;241m.\u001b[39mvehicle\u001b[38;5;241m.\u001b[39m__model\n",
      "\u001b[1;31mAttributeError\u001b[0m: 'car' object has no attribute '_vehicle'"
     ]
    }
   ],
   "source": [
    "carsdetails.show_privatemethod_ofparent()"
   ]
  },
  {
   "cell_type": "code",
   "execution_count": 46,
   "id": "efafe524",
   "metadata": {},
   "outputs": [],
   "source": []
  },
  {
   "cell_type": "code",
   "execution_count": 102,
   "id": "08984a22",
   "metadata": {},
   "outputs": [
    {
     "name": "stdout",
     "output_type": "stream",
     "text": [
      "this is private\n"
     ]
    }
   ],
   "source": [
    "carsdetails.show_privatemethod_ofparent()"
   ]
  },
  {
   "cell_type": "code",
   "execution_count": 98,
   "id": "7cbcd5fe",
   "metadata": {},
   "outputs": [
    {
     "name": "stdout",
     "output_type": "stream",
     "text": [
      "this is private\n"
     ]
    }
   ],
   "source": [
    "carsdetails._vehicle__private_method_parent()"
   ]
  }
 ],
 "metadata": {
  "kernelspec": {
   "display_name": "Python 3 (ipykernel)",
   "language": "python",
   "name": "python3"
  },
  "language_info": {
   "codemirror_mode": {
    "name": "ipython",
    "version": 3
   },
   "file_extension": ".py",
   "mimetype": "text/x-python",
   "name": "python",
   "nbconvert_exporter": "python",
   "pygments_lexer": "ipython3",
   "version": "3.10.9"
  }
 },
 "nbformat": 4,
 "nbformat_minor": 5
}
