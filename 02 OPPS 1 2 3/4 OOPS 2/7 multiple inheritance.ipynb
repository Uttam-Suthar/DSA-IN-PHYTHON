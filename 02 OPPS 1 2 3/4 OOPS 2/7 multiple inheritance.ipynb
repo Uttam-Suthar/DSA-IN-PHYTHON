{
 "cells": [
  {
   "cell_type": "code",
   "execution_count": 1,
   "id": "33ef1c3c",
   "metadata": {},
   "outputs": [],
   "source": [
    "class vehicle():\n",
    "    def __init__(self,make,model,fuel):\n",
    "        self.make=make\n",
    "        self.model=model\n",
    "        self.fuel=fuel\n",
    "        \n",
    "class car(vehicle):\n",
    "    def __init__(self,make,model,fuel,air_conditions,sunroof):\n",
    "        super(car,self).__init__(make,model,fuel)\n",
    "        self.air_conditions=air_conditions\n",
    "        self.sunroof=sunroof\n",
    "        \n",
    "class Electricvehicle(car):\n",
    "    def __init__(self,make,model,fuel,air_conditions,sunroof,distance):\n",
    "        super(Electricvehicle,self).__init__(make,model,fuel,air_conditions,sunroof)\n",
    "        self.distance=distance\n",
    "        \n",
    "    \n",
    "        \n",
    "carsdetails= car(\"tesla\",2019,\"electric\",True,True)"
   ]
  },
  {
   "cell_type": "code",
   "execution_count": 2,
   "id": "b5fddf0d",
   "metadata": {},
   "outputs": [
    {
     "data": {
      "text/plain": [
       "{'make': 'tesla',\n",
       " 'model': 2019,\n",
       " 'fuel': 'electric',\n",
       " 'air_conditions': True,\n",
       " 'sunroof': True}"
      ]
     },
     "execution_count": 2,
     "metadata": {},
     "output_type": "execute_result"
    }
   ],
   "source": [
    "carsdetails.__dict__"
   ]
  },
  {
   "cell_type": "code",
   "execution_count": null,
   "id": "289757cc",
   "metadata": {},
   "outputs": [],
   "source": []
  }
 ],
 "metadata": {
  "kernelspec": {
   "display_name": "Python 3 (ipykernel)",
   "language": "python",
   "name": "python3"
  },
  "language_info": {
   "codemirror_mode": {
    "name": "ipython",
    "version": 3
   },
   "file_extension": ".py",
   "mimetype": "text/x-python",
   "name": "python",
   "nbconvert_exporter": "python",
   "pygments_lexer": "ipython3",
   "version": "3.10.9"
  }
 },
 "nbformat": 4,
 "nbformat_minor": 5
}
