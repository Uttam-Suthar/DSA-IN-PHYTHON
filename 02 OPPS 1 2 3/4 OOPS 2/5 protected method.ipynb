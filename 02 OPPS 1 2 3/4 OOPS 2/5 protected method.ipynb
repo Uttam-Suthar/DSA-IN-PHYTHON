{
 "cells": [
  {
   "cell_type": "code",
   "execution_count": 7,
   "id": "fffd71dc",
   "metadata": {},
   "outputs": [],
   "source": [
    "class vehicle():\n",
    "    current_year=2021\n",
    "    base_price=1000\n",
    "    # base parent class\n",
    "    def __init__(self,make,model,fuel):\n",
    "        self.make=make\n",
    "        \n",
    "        # protec attribute\n",
    "        self._model=model\n",
    "        self._fuel=fuel\n",
    "        \n",
    "    def __private_method_parent(self):\n",
    "        print(\"this is private\")\n",
    "        \n",
    "     # defaulth fun get value a car\n",
    "    def get_value(self):\n",
    "        age = vehicle.current_year - self._model\n",
    "        print(\"this is default ,method of parents\")\n",
    "        return vehicle.base_price*1/age\n",
    "        \n",
    "class car(vehicle):\n",
    "    def __init__(self,make,model,fuel,air_conditions,sunroof):\n",
    "        \n",
    "        super(car,self).__init__(make,model,fuel)\n",
    "\n",
    "        self._air_conditions=air_conditions\n",
    "        self._sunroof=sunroof\n",
    "        \n",
    "    # overriding method- replaces the parent default method\n",
    "    # protected method\n",
    "    def get_value(self):\n",
    "        vehicle.base_price=5000\n",
    "        age = vehicle.current_year - self._model\n",
    "        print(\"this is child overid\")\n",
    "        return vehicle.base_price*(1/age)\n",
    "    \n",
    "\n",
    "        \n",
    "carsdetails= car(\"tesla\",2019,\"electric\",True,True)"
   ]
  },
  {
   "cell_type": "code",
   "execution_count": 2,
   "id": "b6823448",
   "metadata": {},
   "outputs": [
    {
     "data": {
      "text/plain": [
       "True"
      ]
     },
     "execution_count": 2,
     "metadata": {},
     "output_type": "execute_result"
    }
   ],
   "source": [
    "carsdetails._air_conditions"
   ]
  },
  {
   "cell_type": "code",
   "execution_count": 3,
   "id": "f7c37d37",
   "metadata": {},
   "outputs": [
    {
     "data": {
      "text/plain": [
       "True"
      ]
     },
     "execution_count": 3,
     "metadata": {},
     "output_type": "execute_result"
    }
   ],
   "source": [
    "carsdetails._sunroof"
   ]
  },
  {
   "cell_type": "code",
   "execution_count": 8,
   "id": "4c99edf5",
   "metadata": {},
   "outputs": [
    {
     "name": "stdout",
     "output_type": "stream",
     "text": [
      "this is child overid\n"
     ]
    },
    {
     "data": {
      "text/plain": [
       "2500.0"
      ]
     },
     "execution_count": 8,
     "metadata": {},
     "output_type": "execute_result"
    }
   ],
   "source": [
    "carsdetails.get_value()"
   ]
  }
 ],
 "metadata": {
  "kernelspec": {
   "display_name": "Python 3 (ipykernel)",
   "language": "python",
   "name": "python3"
  },
  "language_info": {
   "codemirror_mode": {
    "name": "ipython",
    "version": 3
   },
   "file_extension": ".py",
   "mimetype": "text/x-python",
   "name": "python",
   "nbconvert_exporter": "python",
   "pygments_lexer": "ipython3",
   "version": "3.10.9"
  }
 },
 "nbformat": 4,
 "nbformat_minor": 5
}
