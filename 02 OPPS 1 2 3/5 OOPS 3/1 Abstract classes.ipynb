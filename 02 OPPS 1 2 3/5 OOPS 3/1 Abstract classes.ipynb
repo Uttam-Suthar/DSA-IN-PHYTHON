{
 "cells": [
  {
   "cell_type": "code",
   "execution_count": 1,
   "id": "b63e0292",
   "metadata": {},
   "outputs": [],
   "source": [
    "from abc import ABC, abstractmethod"
   ]
  },
  {
   "cell_type": "code",
   "execution_count": 15,
   "id": "35571385",
   "metadata": {},
   "outputs": [],
   "source": [
    "class vehicle(ABC):\n",
    "    @abstractmethod\n",
    "    def get_value(self):\n",
    "        pass\n",
    "    \n",
    "class car(vehicle):\n",
    "    def __init__(self,make,model,fare):\n",
    "        self.make=make\n",
    "        self.model=model\n",
    "        self.fare=fare\n",
    "    def get_value(self):\n",
    "        return 1000*self.fare\n",
    "obj=car(\"tesla\",2019,40)    "
   ]
  },
  {
   "cell_type": "code",
   "execution_count": null,
   "id": "f67415b4",
   "metadata": {},
   "outputs": [],
   "source": []
  },
  {
   "cell_type": "code",
   "execution_count": 9,
   "id": "e6f09e6c",
   "metadata": {},
   "outputs": [
    {
     "data": {
      "text/plain": [
       "{'make': 'tesla', 'model': 2019, 'fare': 40}"
      ]
     },
     "execution_count": 9,
     "metadata": {},
     "output_type": "execute_result"
    }
   ],
   "source": [
    "obj.__dict__"
   ]
  },
  {
   "cell_type": "code",
   "execution_count": 16,
   "id": "25bb7330",
   "metadata": {},
   "outputs": [
    {
     "data": {
      "text/plain": [
       "40000"
      ]
     },
     "execution_count": 16,
     "metadata": {},
     "output_type": "execute_result"
    }
   ],
   "source": [
    "obj.get_value()"
   ]
  },
  {
   "cell_type": "code",
   "execution_count": null,
   "id": "d92b7215",
   "metadata": {},
   "outputs": [],
   "source": []
  }
 ],
 "metadata": {
  "kernelspec": {
   "display_name": "Python 3 (ipykernel)",
   "language": "python",
   "name": "python3"
  },
  "language_info": {
   "codemirror_mode": {
    "name": "ipython",
    "version": 3
   },
   "file_extension": ".py",
   "mimetype": "text/x-python",
   "name": "python",
   "nbconvert_exporter": "python",
   "pygments_lexer": "ipython3",
   "version": "3.10.9"
  }
 },
 "nbformat": 4,
 "nbformat_minor": 5
}
