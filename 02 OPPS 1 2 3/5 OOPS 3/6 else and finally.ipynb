{
 "cells": [
  {
   "cell_type": "code",
   "execution_count": 16,
   "id": "97379394",
   "metadata": {},
   "outputs": [],
   "source": [
    "class NegativeCarZerpModelYear(Exception):\n",
    "    def __init__(self,value,message=\"model year can not be equal or greater\"):\n",
    "        self.value=value\n",
    "        self.message=message\n",
    "        super().__init__(self.message)\n",
    "    def __str__(self):\n",
    "        return f'{self.message} --> {self.value}'\n",
    "    \n",
    "class CarmodelyearString(Exception):\n",
    "    def __init__(self,value,message=\"model year cant be string pass int value\"):\n",
    "        self.value=value\n",
    "        self.message=message\n",
    "    def __str__(self):\n",
    "        return f'{self.message} --> {self.value}'   "
   ]
  },
  {
   "cell_type": "code",
   "execution_count": 17,
   "id": "d1705e8e",
   "metadata": {},
   "outputs": [],
   "source": [
    "class vehicle():\n",
    "    def __init__(self,make,model,fare):\n",
    "        self.make=make\n",
    "        self.model=model\n",
    "        self.fare=fare\n",
    "        self.current_year=2023\n",
    "        self.value=None\n",
    "        \n",
    "    def get_value(self):\n",
    "        try:\n",
    "            if type(self.model)==str:\n",
    "                status=\"custom\"\n",
    "                raise CarmodelyearString(self.model)\n",
    "            elif self.model>= self.current_year  :\n",
    "                status=\"custom\"\n",
    "                raise NegativeCarZerpModelYear(self.model)\n",
    "                \n",
    "            else:\n",
    "                self.age=self.current_year-self.model\n",
    "                self.value=1000*(1/self.age)\n",
    "                status=\"success\" \n",
    "        except TypeError: \n",
    "                self.age=self.current_year-int(self.model)\n",
    "                self.value=1000*(1/self.age)\n",
    "                status=\"inbuild\" \n",
    "        else:\n",
    "            print(\"code can without any exception\")\n",
    "            \n",
    "        finally:\n",
    "            if status==\"custom\":\n",
    "                print(\"code has custom exception\")\n",
    "            elif status== \"inbuild\"   :\n",
    "                print(\"code has inbuild exception\")\n",
    "            else:\n",
    "                print(\"code has success without any exception\",self.value)"
   ]
  },
  {
   "cell_type": "code",
   "execution_count": 18,
   "id": "505ff918",
   "metadata": {},
   "outputs": [
    {
     "name": "stdout",
     "output_type": "stream",
     "text": [
      "code has custom exception\n"
     ]
    },
    {
     "ename": "NegativeCarZerpModelYear",
     "evalue": "model year can not be equal or greater --> 2024",
     "output_type": "error",
     "traceback": [
      "\u001b[1;31m---------------------------------------------------------------------------\u001b[0m",
      "\u001b[1;31mNegativeCarZerpModelYear\u001b[0m                  Traceback (most recent call last)",
      "Cell \u001b[1;32mIn[18], line 3\u001b[0m\n\u001b[0;32m      1\u001b[0m \u001b[38;5;66;03m# obj=vehicle(\"tata\",2019,\"electric\")\u001b[39;00m\n\u001b[0;32m      2\u001b[0m obj\u001b[38;5;241m=\u001b[39mvehicle(\u001b[38;5;124m\"\u001b[39m\u001b[38;5;124mtata\u001b[39m\u001b[38;5;124m\"\u001b[39m,\u001b[38;5;241m2024\u001b[39m,\u001b[38;5;124m\"\u001b[39m\u001b[38;5;124melectric\u001b[39m\u001b[38;5;124m\"\u001b[39m)\n\u001b[1;32m----> 3\u001b[0m \u001b[43mobj\u001b[49m\u001b[38;5;241;43m.\u001b[39;49m\u001b[43mget_value\u001b[49m\u001b[43m(\u001b[49m\u001b[43m)\u001b[49m\n",
      "Cell \u001b[1;32mIn[17], line 16\u001b[0m, in \u001b[0;36mvehicle.get_value\u001b[1;34m(self)\u001b[0m\n\u001b[0;32m     14\u001b[0m \u001b[38;5;28;01melif\u001b[39;00m \u001b[38;5;28mself\u001b[39m\u001b[38;5;241m.\u001b[39mmodel\u001b[38;5;241m>\u001b[39m\u001b[38;5;241m=\u001b[39m \u001b[38;5;28mself\u001b[39m\u001b[38;5;241m.\u001b[39mcurrent_year  :\n\u001b[0;32m     15\u001b[0m     status\u001b[38;5;241m=\u001b[39m\u001b[38;5;124m\"\u001b[39m\u001b[38;5;124mcustom\u001b[39m\u001b[38;5;124m\"\u001b[39m\n\u001b[1;32m---> 16\u001b[0m     \u001b[38;5;28;01mraise\u001b[39;00m NegativeCarZerpModelYear(\u001b[38;5;28mself\u001b[39m\u001b[38;5;241m.\u001b[39mmodel)\n\u001b[0;32m     18\u001b[0m \u001b[38;5;28;01melse\u001b[39;00m:\n\u001b[0;32m     19\u001b[0m     \u001b[38;5;28mself\u001b[39m\u001b[38;5;241m.\u001b[39mage\u001b[38;5;241m=\u001b[39m\u001b[38;5;28mself\u001b[39m\u001b[38;5;241m.\u001b[39mcurrent_year\u001b[38;5;241m-\u001b[39m\u001b[38;5;28mself\u001b[39m\u001b[38;5;241m.\u001b[39mmodel\n",
      "\u001b[1;31mNegativeCarZerpModelYear\u001b[0m: model year can not be equal or greater --> 2024"
     ]
    }
   ],
   "source": [
    "# obj=vehicle(\"tata\",2019,\"electric\")\n",
    "obj=vehicle(\"tata\",2024,\"electric\")\n",
    "obj.get_value()"
   ]
  }
 ],
 "metadata": {
  "kernelspec": {
   "display_name": "Python 3 (ipykernel)",
   "language": "python",
   "name": "python3"
  },
  "language_info": {
   "codemirror_mode": {
    "name": "ipython",
    "version": 3
   },
   "file_extension": ".py",
   "mimetype": "text/x-python",
   "name": "python",
   "nbconvert_exporter": "python",
   "pygments_lexer": "ipython3",
   "version": "3.10.9"
  }
 },
 "nbformat": 4,
 "nbformat_minor": 5
}
