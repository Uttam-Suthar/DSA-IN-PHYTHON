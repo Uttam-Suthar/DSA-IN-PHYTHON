{
 "cells": [
  {
   "cell_type": "code",
   "execution_count": 2,
   "id": "6041f223",
   "metadata": {},
   "outputs": [],
   "source": [
    "class NegativeCarValue(Exception):\n",
    "    def __init__(self,value,message=\"car value not be negative\"):\n",
    "        self.value=value\n",
    "        self.message=message\n",
    "    def __str__(self):\n",
    "        return f'{self.message} --> {self.value}'\n",
    "    "
   ]
  },
  {
   "cell_type": "code",
   "execution_count": 3,
   "id": "3ca186c6",
   "metadata": {},
   "outputs": [
    {
     "ename": "NegativeCarValue",
     "evalue": "car value not be negative --> -1",
     "output_type": "error",
     "traceback": [
      "\u001b[1;31m---------------------------------------------------------------------------\u001b[0m",
      "\u001b[1;31mNegativeCarValue\u001b[0m                          Traceback (most recent call last)",
      "Cell \u001b[1;32mIn[3], line 3\u001b[0m\n\u001b[0;32m      1\u001b[0m a\u001b[38;5;241m=\u001b[39m\u001b[38;5;241m-\u001b[39m\u001b[38;5;241m1\u001b[39m\n\u001b[0;32m      2\u001b[0m \u001b[38;5;28;01mif\u001b[39;00m a\u001b[38;5;241m<\u001b[39m\u001b[38;5;241m0\u001b[39m:\n\u001b[1;32m----> 3\u001b[0m     \u001b[38;5;28;01mraise\u001b[39;00m NegativeCarValue(a)\n",
      "\u001b[1;31mNegativeCarValue\u001b[0m: car value not be negative --> -1"
     ]
    }
   ],
   "source": [
    "a=-1\n",
    "if a<0:\n",
    "    raise NegativeCarValue(a)"
   ]
  },
  {
   "cell_type": "code",
   "execution_count": 7,
   "id": "638be428",
   "metadata": {},
   "outputs": [],
   "source": [
    "class vehicle():\n",
    "    def __init__(self,make,model,fare):\n",
    "        self.make=make\n",
    "        self.model=model\n",
    "        self.fare=fare\n",
    "        self.current_year=2023\n",
    "        \n",
    "    def get_value(self):\n",
    "        age=self.current_year-self.model\n",
    "        if age<0:\n",
    "            raise NegativeCarValue(age)\n",
    "        else    :\n",
    "            return 1000*1/age"
   ]
  },
  {
   "cell_type": "code",
   "execution_count": 11,
   "id": "e99dd9e8",
   "metadata": {},
   "outputs": [
    {
     "ename": "NegativeCarValue",
     "evalue": "car value not be negative --> -1",
     "output_type": "error",
     "traceback": [
      "\u001b[1;31m---------------------------------------------------------------------------\u001b[0m",
      "\u001b[1;31mNegativeCarValue\u001b[0m                          Traceback (most recent call last)",
      "Cell \u001b[1;32mIn[11], line 2\u001b[0m\n\u001b[0;32m      1\u001b[0m obj\u001b[38;5;241m=\u001b[39mvehicle(\u001b[38;5;124m\"\u001b[39m\u001b[38;5;124mtata\u001b[39m\u001b[38;5;124m\"\u001b[39m,\u001b[38;5;241m2024\u001b[39m,\u001b[38;5;124m\"\u001b[39m\u001b[38;5;124melectric\u001b[39m\u001b[38;5;124m\"\u001b[39m)\n\u001b[1;32m----> 2\u001b[0m \u001b[43mobj\u001b[49m\u001b[38;5;241;43m.\u001b[39;49m\u001b[43mget_value\u001b[49m\u001b[43m(\u001b[49m\u001b[43m)\u001b[49m\n",
      "Cell \u001b[1;32mIn[7], line 11\u001b[0m, in \u001b[0;36mvehicle.get_value\u001b[1;34m(self)\u001b[0m\n\u001b[0;32m      9\u001b[0m age\u001b[38;5;241m=\u001b[39m\u001b[38;5;28mself\u001b[39m\u001b[38;5;241m.\u001b[39mcurrent_year\u001b[38;5;241m-\u001b[39m\u001b[38;5;28mself\u001b[39m\u001b[38;5;241m.\u001b[39mmodel\n\u001b[0;32m     10\u001b[0m \u001b[38;5;28;01mif\u001b[39;00m age\u001b[38;5;241m<\u001b[39m\u001b[38;5;241m0\u001b[39m:\n\u001b[1;32m---> 11\u001b[0m     \u001b[38;5;28;01mraise\u001b[39;00m NegativeCarValue(age)\n\u001b[0;32m     12\u001b[0m \u001b[38;5;28;01melse\u001b[39;00m    :\n\u001b[0;32m     13\u001b[0m     \u001b[38;5;28;01mreturn\u001b[39;00m \u001b[38;5;241m1000\u001b[39m\u001b[38;5;241m*\u001b[39m\u001b[38;5;241m1\u001b[39m\u001b[38;5;241m/\u001b[39mage\n",
      "\u001b[1;31mNegativeCarValue\u001b[0m: car value not be negative --> -1"
     ]
    }
   ],
   "source": [
    "obj=vehicle(\"tata\",2024,\"electric\")\n",
    "obj.get_value()"
   ]
  }
 ],
 "metadata": {
  "kernelspec": {
   "display_name": "Python 3 (ipykernel)",
   "language": "python",
   "name": "python3"
  },
  "language_info": {
   "codemirror_mode": {
    "name": "ipython",
    "version": 3
   },
   "file_extension": ".py",
   "mimetype": "text/x-python",
   "name": "python",
   "nbconvert_exporter": "python",
   "pygments_lexer": "ipython3",
   "version": "3.10.9"
  }
 },
 "nbformat": 4,
 "nbformat_minor": 5
}
