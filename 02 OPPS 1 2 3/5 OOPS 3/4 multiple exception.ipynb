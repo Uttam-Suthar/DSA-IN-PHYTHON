{
 "cells": [
  {
   "cell_type": "code",
   "execution_count": 1,
   "id": "1f26b297",
   "metadata": {},
   "outputs": [],
   "source": [
    "class vehicle():\n",
    "    def __init__(self,make,model,fare):\n",
    "        self.make=make\n",
    "        self.model=model\n",
    "        self.fare=fare\n",
    "        \n",
    "    def get_value(self):\n",
    "        try:\n",
    "            age=2021-self.model\n",
    "            return 1000*1/age\n",
    "        except TypeError:\n",
    "            age=2021-int(self.model)\n",
    "            return 1000*1/age\n",
    "        except ZeroDivisionError:\n",
    "            age=2021-int(self.model)\n",
    "            return 1000*1\n",
    "        \n",
    "            \n",
    "    \n",
    "    \n",
    "# obj=vehicle(\"tesla\",2019,40)\n",
    "obj=vehicle(\"tesla\",\"2020\",40)      # error remove str type error \n",
    "obj=vehicle(\"tesla\",\"2021\",40) "
   ]
  },
  {
   "cell_type": "code",
   "execution_count": 2,
   "id": "b46b6cd5",
   "metadata": {},
   "outputs": [
    {
     "ename": "ZeroDivisionError",
     "evalue": "division by zero",
     "output_type": "error",
     "traceback": [
      "\u001b[1;31m---------------------------------------------------------------------------\u001b[0m",
      "\u001b[1;31mTypeError\u001b[0m                                 Traceback (most recent call last)",
      "Cell \u001b[1;32mIn[1], line 9\u001b[0m, in \u001b[0;36mvehicle.get_value\u001b[1;34m(self)\u001b[0m\n\u001b[0;32m      8\u001b[0m \u001b[38;5;28;01mtry\u001b[39;00m:\n\u001b[1;32m----> 9\u001b[0m     age\u001b[38;5;241m=\u001b[39m\u001b[38;5;241;43m2021\u001b[39;49m\u001b[38;5;241;43m-\u001b[39;49m\u001b[38;5;28;43mself\u001b[39;49m\u001b[38;5;241;43m.\u001b[39;49m\u001b[43mmodel\u001b[49m\n\u001b[0;32m     10\u001b[0m     \u001b[38;5;28;01mreturn\u001b[39;00m \u001b[38;5;241m1000\u001b[39m\u001b[38;5;241m*\u001b[39m\u001b[38;5;241m1\u001b[39m\u001b[38;5;241m/\u001b[39mage\n",
      "\u001b[1;31mTypeError\u001b[0m: unsupported operand type(s) for -: 'int' and 'str'",
      "\nDuring handling of the above exception, another exception occurred:\n",
      "\u001b[1;31mZeroDivisionError\u001b[0m                         Traceback (most recent call last)",
      "Cell \u001b[1;32mIn[2], line 1\u001b[0m\n\u001b[1;32m----> 1\u001b[0m \u001b[43mobj\u001b[49m\u001b[38;5;241;43m.\u001b[39;49m\u001b[43mget_value\u001b[49m\u001b[43m(\u001b[49m\u001b[43m)\u001b[49m\n",
      "Cell \u001b[1;32mIn[1], line 13\u001b[0m, in \u001b[0;36mvehicle.get_value\u001b[1;34m(self)\u001b[0m\n\u001b[0;32m     11\u001b[0m \u001b[38;5;28;01mexcept\u001b[39;00m \u001b[38;5;167;01mTypeError\u001b[39;00m:\n\u001b[0;32m     12\u001b[0m     age\u001b[38;5;241m=\u001b[39m\u001b[38;5;241m2021\u001b[39m\u001b[38;5;241m-\u001b[39m\u001b[38;5;28mint\u001b[39m(\u001b[38;5;28mself\u001b[39m\u001b[38;5;241m.\u001b[39mmodel)\n\u001b[1;32m---> 13\u001b[0m     \u001b[38;5;28;01mreturn\u001b[39;00m \u001b[38;5;241;43m1000\u001b[39;49m\u001b[38;5;241;43m*\u001b[39;49m\u001b[38;5;241;43m1\u001b[39;49m\u001b[38;5;241;43m/\u001b[39;49m\u001b[43mage\u001b[49m\n\u001b[0;32m     14\u001b[0m \u001b[38;5;28;01mexcept\u001b[39;00m \u001b[38;5;167;01mZeroDivisionError\u001b[39;00m:\n\u001b[0;32m     15\u001b[0m     age\u001b[38;5;241m=\u001b[39m\u001b[38;5;241m2021\u001b[39m\u001b[38;5;241m-\u001b[39m\u001b[38;5;28mint\u001b[39m(\u001b[38;5;28mself\u001b[39m\u001b[38;5;241m.\u001b[39mmodel)\n",
      "\u001b[1;31mZeroDivisionError\u001b[0m: division by zero"
     ]
    }
   ],
   "source": [
    "obj.get_value()"
   ]
  },
  {
   "cell_type": "code",
   "execution_count": 7,
   "id": "339b8610",
   "metadata": {},
   "outputs": [],
   "source": [
    "class vehicle():\n",
    "    def __init__(self,make,model,fare):\n",
    "        self.make=make\n",
    "        self.model=model\n",
    "        self.fare=fare\n",
    "        \n",
    "    def get_value(self):\n",
    "        try:\n",
    "            age=2021-self.model\n",
    "            return 1000*1/age\n",
    "        except TypeError:\n",
    "            try:\n",
    "                \n",
    "                age=2021-int(self.model)\n",
    "                return 1000*1/age\n",
    "            except ZeroDivisionError:\n",
    "                age=2021-int(self.model)\n",
    "                return 1000*1\n",
    "            except:\n",
    "                return \" you enter the incorrect year value in formate\"\n",
    "            \n",
    "    \n",
    "    \n",
    "# obj=vehicle(\"tesla\",2019,40)\n",
    "obj=vehicle(\"tesla\",\"2020\",40)      # error remove str type error \n",
    "# obj=vehicle(\"tesla\",\"2021\",40) \n",
    "obj=vehicle(\"tesla\",\"new\",40)      #value erro"
   ]
  },
  {
   "cell_type": "code",
   "execution_count": 8,
   "id": "8f73f3ec",
   "metadata": {},
   "outputs": [
    {
     "data": {
      "text/plain": [
       "' you enter the incorrect year value in formate'"
      ]
     },
     "execution_count": 8,
     "metadata": {},
     "output_type": "execute_result"
    }
   ],
   "source": [
    "obj.get_value()"
   ]
  }
 ],
 "metadata": {
  "kernelspec": {
   "display_name": "Python 3 (ipykernel)",
   "language": "python",
   "name": "python3"
  },
  "language_info": {
   "codemirror_mode": {
    "name": "ipython",
    "version": 3
   },
   "file_extension": ".py",
   "mimetype": "text/x-python",
   "name": "python",
   "nbconvert_exporter": "python",
   "pygments_lexer": "ipython3",
   "version": "3.10.9"
  }
 },
 "nbformat": 4,
 "nbformat_minor": 5
}
