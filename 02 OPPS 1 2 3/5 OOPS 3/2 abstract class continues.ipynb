{
 "cells": [
  {
   "cell_type": "code",
   "execution_count": 18,
   "id": "41361837",
   "metadata": {},
   "outputs": [],
   "source": [
    "from abc import ABC, abstractmethod\n",
    "\n"
   ]
  },
  {
   "cell_type": "code",
   "execution_count": 21,
   "id": "17fc3ee4",
   "metadata": {},
   "outputs": [],
   "source": [
    "class TaxRaiderAstract(ABC):\n",
    "    def __init__(self,path,filename):\n",
    "        self.path=path\n",
    "        self.filename=filename\n",
    "        \n",
    "    @abstractmethod        # this is just a interface or role\n",
    "    def get_path(self):\n",
    "        pass\n",
    "    \n",
    "    @abstractmethod\n",
    "    def get_filename(self):\n",
    "        pass\n",
    "class TexRider(TaxRaiderAstract):\n",
    "    def get_path(self):\n",
    "        return self.path\n",
    "    def get_filename(self):\n",
    "        return self.filename"
   ]
  },
  {
   "cell_type": "code",
   "execution_count": 14,
   "id": "becae8d2",
   "metadata": {},
   "outputs": [],
   "source": [
    "myobj=TexRider(\"/user/download\",\"sample.text\")"
   ]
  },
  {
   "cell_type": "code",
   "execution_count": 15,
   "id": "433aaa5b",
   "metadata": {},
   "outputs": [
    {
     "data": {
      "text/plain": [
       "'/user/download'"
      ]
     },
     "execution_count": 15,
     "metadata": {},
     "output_type": "execute_result"
    }
   ],
   "source": [
    "myobj.get_path()"
   ]
  },
  {
   "cell_type": "code",
   "execution_count": 16,
   "id": "11fd291c",
   "metadata": {},
   "outputs": [
    {
     "data": {
      "text/plain": [
       "'sample.text'"
      ]
     },
     "execution_count": 16,
     "metadata": {},
     "output_type": "execute_result"
    }
   ],
   "source": [
    "myobj.get_filename()"
   ]
  },
  {
   "cell_type": "code",
   "execution_count": 22,
   "id": "3bdcf1e3",
   "metadata": {},
   "outputs": [],
   "source": [
    "class Bank(ABC):\n",
    "    @abstractmethod\n",
    "    def get_instrest(self):\n",
    "        pass\n",
    "class HDFC(Bank):\n",
    "    def get_instrest(self):\n",
    "        return 8.9\n",
    "    \n",
    "    \n",
    "obj=HDFC()"
   ]
  },
  {
   "cell_type": "code",
   "execution_count": 23,
   "id": "0cefb555",
   "metadata": {},
   "outputs": [
    {
     "data": {
      "text/plain": [
       "8.9"
      ]
     },
     "execution_count": 23,
     "metadata": {},
     "output_type": "execute_result"
    }
   ],
   "source": [
    "obj.get_instrest()"
   ]
  }
 ],
 "metadata": {
  "kernelspec": {
   "display_name": "Python 3 (ipykernel)",
   "language": "python",
   "name": "python3"
  },
  "language_info": {
   "codemirror_mode": {
    "name": "ipython",
    "version": 3
   },
   "file_extension": ".py",
   "mimetype": "text/x-python",
   "name": "python",
   "nbconvert_exporter": "python",
   "pygments_lexer": "ipython3",
   "version": "3.10.9"
  }
 },
 "nbformat": 4,
 "nbformat_minor": 5
}
