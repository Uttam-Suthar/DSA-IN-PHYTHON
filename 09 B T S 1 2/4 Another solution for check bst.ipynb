{
 "cells": [
  {
   "cell_type": "code",
   "execution_count": 9,
   "id": "3d7859ec",
   "metadata": {},
   "outputs": [],
   "source": [
    "import queue\n",
    "class BinarytreeNode:\n",
    "    def __init__(self,data):\n",
    "        self.data=data\n",
    "        self.left=None\n",
    "        self.right=None\n",
    "        \n",
    "def printbinaritreedtails(root):\n",
    "    if root ==None:\n",
    "        return\n",
    "    print(root.data,end=\":\")\n",
    "    if root.left !=None:\n",
    "        print(\"l\",root.left.data,end=\",\")\n",
    "    if root.right != None:\n",
    "        print(\"R\",root.right.data,end=\"\")\n",
    "    print()\n",
    "    printbinaritreedtails(root.left)\n",
    "    printbinaritreedtails(root.right)\n",
    "    \n",
    "def takelevelwiseinput():\n",
    "    q = queue.Queue()\n",
    "    print(\"enter root\")\n",
    "    rootData=int(input())\n",
    "    if rootData == -1:\n",
    "        return None\n",
    "    root=BinarytreeNode(rootData)\n",
    "    q.put(root)\n",
    "\n",
    "    while not q.empty():\n",
    "        currentNode = q.get()\n",
    "        print(\"Enetr the left child of\",currentNode.data)\n",
    "        \n",
    "        leftChildData = int(input())\n",
    "        if leftChildData != -1:\n",
    "            leftchild = BinarytreeNode(leftChildData)\n",
    "            currentNode.left =leftchild\n",
    "            q.put(leftchild)\n",
    "        print(\"enter rightchild of\",currentNode.data)\n",
    "\n",
    "        rightChildData = int(input())\n",
    "        if rightChildData != -1:\n",
    "            rightchild = BinarytreeNode(rightChildData)\n",
    "            currentNode.right =rightchild\n",
    "            q.put(rightchild)\n",
    "    \n",
    "\n",
    "    return root"
   ]
  },
  {
   "cell_type": "code",
   "execution_count": 10,
   "id": "8486bee6",
   "metadata": {},
   "outputs": [],
   "source": [
    "def isbst3(root,minrange,maxrange):\n",
    "    if root==None:\n",
    "        return True\n",
    "    if root.data<minrange or root.data > maxrange:\n",
    "        return False\n",
    "    isleftconstant=isbst3(root.left,minrange,root.data-1)\n",
    "    isrightconstant=isbst3(root.right,root.data,maxrange)\n",
    "    \n",
    "    return isleftconstant and isrightconstant"
   ]
  },
  {
   "cell_type": "code",
   "execution_count": 6,
   "id": "516c7102",
   "metadata": {},
   "outputs": [
    {
     "name": "stdout",
     "output_type": "stream",
     "text": [
      "enter root\n",
      "4\n",
      "Enetr the left child of 4\n",
      "2\n",
      "enter rightchild of 4\n",
      "6\n",
      "Enetr the left child of 2\n",
      "1\n",
      "enter rightchild of 2\n",
      "30\n",
      "Enetr the left child of 6\n",
      "5\n",
      "enter rightchild of 6\n",
      "7\n",
      "Enetr the left child of 1\n",
      "-1\n",
      "enter rightchild of 1\n",
      "-1\n",
      "Enetr the left child of 30\n",
      "-1\n",
      "enter rightchild of 30\n",
      "-1\n",
      "Enetr the left child of 5\n",
      "-1\n",
      "enter rightchild of 5\n",
      "-1\n",
      "Enetr the left child of 7\n",
      "-1\n",
      "enter rightchild of 7\n",
      "-1\n",
      "4:l 2,R 6\n",
      "2:l 1,R 30\n",
      "1:\n",
      "30:\n",
      "6:l 5,R 7\n",
      "5:\n",
      "7:\n"
     ]
    },
    {
     "data": {
      "text/plain": [
       "False"
      ]
     },
     "execution_count": 6,
     "metadata": {},
     "output_type": "execute_result"
    }
   ],
   "source": [
    "root=takelevelwiseinput()\n",
    "printbinaritreedtails(root)\n",
    "isbst3(root,-10000,10000)"
   ]
  },
  {
   "cell_type": "code",
   "execution_count": 11,
   "id": "2f1d2308",
   "metadata": {},
   "outputs": [
    {
     "name": "stdout",
     "output_type": "stream",
     "text": [
      "enter root\n",
      "4\n",
      "Enetr the left child of 4\n",
      "2\n",
      "enter rightchild of 4\n",
      "6\n",
      "Enetr the left child of 2\n",
      "1\n",
      "enter rightchild of 2\n",
      "3\n",
      "Enetr the left child of 6\n",
      "5\n",
      "enter rightchild of 6\n",
      "7\n",
      "Enetr the left child of 1\n",
      "-1\n",
      "enter rightchild of 1\n",
      "-1\n",
      "Enetr the left child of 3\n",
      "-1\n",
      "enter rightchild of 3\n",
      "-1\n",
      "Enetr the left child of 5\n",
      "-1\n",
      "enter rightchild of 5\n",
      "-1\n",
      "Enetr the left child of 7\n",
      "-1\n",
      "enter rightchild of 7\n",
      "-1\n",
      "4:l 2,R 6\n",
      "2:l 1,R 3\n",
      "1:\n",
      "3:\n",
      "6:l 5,R 7\n",
      "5:\n",
      "7:\n"
     ]
    },
    {
     "data": {
      "text/plain": [
       "True"
      ]
     },
     "execution_count": 11,
     "metadata": {},
     "output_type": "execute_result"
    }
   ],
   "source": [
    "root=takelevelwiseinput()\n",
    "printbinaritreedtails(root)\n",
    "isbst3(root,-10000,10000)"
   ]
  }
 ],
 "metadata": {
  "kernelspec": {
   "display_name": "Python 3 (ipykernel)",
   "language": "python",
   "name": "python3"
  },
  "language_info": {
   "codemirror_mode": {
    "name": "ipython",
    "version": 3
   },
   "file_extension": ".py",
   "mimetype": "text/x-python",
   "name": "python",
   "nbconvert_exporter": "python",
   "pygments_lexer": "ipython3",
   "version": "3.10.9"
  }
 },
 "nbformat": 4,
 "nbformat_minor": 5
}
