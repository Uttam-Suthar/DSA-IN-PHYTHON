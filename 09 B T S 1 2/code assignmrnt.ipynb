{
 "cells": [
  {
   "cell_type": "markdown",
   "id": "e49e6e86",
   "metadata": {},
   "source": [
    "# search in bts"
   ]
  },
  {
   "cell_type": "code",
   "execution_count": 2,
   "id": "33d8a206",
   "metadata": {},
   "outputs": [],
   "source": [
    "class BinaryTreeNode():\n",
    "    def __init__(self, data):\n",
    "        self.data = data\n",
    "        self.left = None\n",
    "        self.right = None\n",
    "        \n",
    "def treeInput():\n",
    "    rootData = int(input())\n",
    "    if rootData == -1:\n",
    "        return None\n",
    "    \n",
    "    root = BinaryTreeNode(rootData)\n",
    "    leftTree = treeInput()\n",
    "    rightTree = treeInput()\n",
    "    root.left = leftTree\n",
    "    root.right = rightTree\n",
    "    return root\n",
    "\n",
    "def printTreeDetailed(root):\n",
    "    if root == None:\n",
    "        return\n",
    "    print(root.data, end = \":\")\n",
    "    if root.left != None:\n",
    "        print('L',root.left.data, end=',')\n",
    "    if root.right != None:\n",
    "        print('R',root.right.data, end=\"\")\n",
    "    print()\n",
    "    \n",
    "    printTreeDetailed(root.left)\n",
    "    printTreeDetailed(root.right)\n",
    "\n",
    "def BSTsearch(root, x):\n",
    "    if root == None:\n",
    "        return None\n",
    "    if x == root.data:\n",
    "        return root\n",
    "    if root.data > x:\n",
    "        return BSTsearch(root.left, x)\n",
    "    if root.data < x:\n",
    "        return BSTsearch(root.right, x)\n",
    "    "
   ]
  },
  {
   "cell_type": "code",
   "execution_count": 3,
   "id": "da38cb72",
   "metadata": {},
   "outputs": [
    {
     "name": "stdout",
     "output_type": "stream",
     "text": [
      "8\n",
      "5\n",
      "2\n",
      "-1\n",
      "-1\n",
      "6\n",
      "-1\n",
      "7\n",
      "-1\n",
      "-1\n",
      "10\n",
      "-1\n",
      "-1\n",
      "8:L 5,R 10\n",
      "5:L 2,R 6\n",
      "2:\n",
      "6:R 7\n",
      "7:\n",
      "10:\n",
      "true\n"
     ]
    }
   ],
   "source": [
    "root = treeInput()\n",
    "printTreeDetailed(root)\n",
    "ans = BSTsearch(root,5)\n",
    "if ans:\n",
    "    print(\"true\")\n",
    "else:\n",
    "    print(\"false\")"
   ]
  },
  {
   "cell_type": "markdown",
   "id": "63f1c9ae",
   "metadata": {},
   "source": [
    "# Elements Between K1 and K2\n"
   ]
  },
  {
   "cell_type": "code",
   "execution_count": 6,
   "id": "f96f9910",
   "metadata": {},
   "outputs": [],
   "source": [
    "class BinaryTreeNode():\n",
    "    def __init__(self, data):\n",
    "        self.data = data\n",
    "        self.left = None\n",
    "        self.right = None\n",
    "        \n",
    "def treeInput():\n",
    "    rootData = int(input())\n",
    "    if rootData == -1:\n",
    "        return None\n",
    "    \n",
    "    root = BinaryTreeNode(rootData)\n",
    "    leftTree = treeInput()\n",
    "    rightTree = treeInput()\n",
    "    root.left = leftTree\n",
    "    root.right = rightTree\n",
    "    return root\n",
    "\n",
    "def printTreeDetailed(root):\n",
    "    if root == None:\n",
    "        return\n",
    "    print(root.data, end = \":\")\n",
    "    if root.left != None:\n",
    "        print('L',root.left.data, end=',')\n",
    "    if root.right != None:\n",
    "        print('R',root.right.data, end=\"\")\n",
    "    print()\n",
    "    \n",
    "    printTreeDetailed(root.left)\n",
    "    printTreeDetailed(root.right)\n",
    "\n",
    "def elementsInRangeK1K2(root, k1, k2):\n",
    "    if root==None:\n",
    "        return\n",
    "    \n",
    "    if root.data > k2:\n",
    "        elementsInRangeK1K2(root.left, k1, k2)\n",
    "    elif root.data < k1:\n",
    "        elementsInRangeK1K2(root.right, k1, k2)\n",
    "    else:\n",
    "        print(root.data)\n",
    "        elementsInRangeK1K2(root.left,k1,k2)\n",
    "        elementsInRangeK1K2(root.right,k1,k2)"
   ]
  },
  {
   "cell_type": "code",
   "execution_count": 8,
   "id": "e05b4707",
   "metadata": {
    "scrolled": true
   },
   "outputs": [
    {
     "name": "stdout",
     "output_type": "stream",
     "text": [
      "4\n",
      "2\n",
      "1\n",
      "-1\n",
      "-1\n",
      "3\n",
      "-1\n",
      "-1\n",
      "10\n",
      "7\n",
      "5\n",
      "-1\n",
      "-1\n",
      "6\n",
      "-1\n",
      "-1\n",
      "12\n",
      "11\n",
      "-1\n",
      "-1\n",
      "18\n",
      "-1\n",
      "-1\n",
      "4:L 2,R 10\n",
      "2:L 1,R 3\n",
      "1:\n",
      "3:\n",
      "10:L 7,R 12\n",
      "7:L 5,R 6\n",
      "5:\n",
      "6:\n",
      "12:L 11,R 18\n",
      "11:\n",
      "18:\n",
      "10\n",
      "7\n",
      "5\n",
      "6\n"
     ]
    }
   ],
   "source": [
    "root = treeInput()\n",
    "printTreeDetailed(root)\n",
    "elementsInRangeK1K2(root, 5, 10)"
   ]
  },
  {
   "cell_type": "markdown",
   "id": "05d5b3ec",
   "metadata": {},
   "source": [
    "# array convert into Construct BST"
   ]
  },
  {
   "cell_type": "code",
   "execution_count": 9,
   "id": "dc2998a4",
   "metadata": {},
   "outputs": [],
   "source": [
    "class BinaryTreeNode():\n",
    "    def __init__(self, data):\n",
    "        self.data = data\n",
    "        self.left = None\n",
    "        self.right = None\n",
    "        \n",
    "def treeInput():\n",
    "    rootData = int(input())\n",
    "    if rootData == -1:\n",
    "        return None\n",
    "    \n",
    "    root = BinaryTreeNode(rootData)\n",
    "    leftTree = treeInput()\n",
    "    rightTree = treeInput()\n",
    "    root.left = leftTree\n",
    "    root.right = rightTree\n",
    "    return root\n",
    "\n",
    "def printTreeDetailed(root):\n",
    "    if root == None:\n",
    "        return\n",
    "    print(root.data, end = \":\")\n",
    "    if root.left != None:\n",
    "        print('L',root.left.data, end=',')\n",
    "    if root.right != None:\n",
    "        print('R',root.right.data, end=\"\")\n",
    "    print()\n",
    "    \n",
    "    printTreeDetailed(root.left)\n",
    "    printTreeDetailed(root.right)\n",
    "\n",
    "def constructBST(lst):\n",
    "    n=len(lst)\n",
    "    if lst==None or n<=0:\n",
    "        return None\n",
    "    rootIndex = (n-1)//2\n",
    "    root = BinaryTreeNode(lst[rootIndex])\n",
    "    root.left = constructBST(lst[:rootIndex])\n",
    "    root.right = constructBST(lst[rootIndex+1:])\n",
    "    return root\n",
    "    "
   ]
  },
  {
   "cell_type": "code",
   "execution_count": 10,
   "id": "d514eb4e",
   "metadata": {},
   "outputs": [
    {
     "name": "stdout",
     "output_type": "stream",
     "text": [
      "4:L 2,R 6\n",
      "2:L 1,R 3\n",
      "1:\n",
      "3:\n",
      "6:L 5,R 7\n",
      "5:\n",
      "7:R 8\n",
      "8:\n"
     ]
    }
   ],
   "source": [
    "a = [1,2,3,4,5,6,7,8]\n",
    "root = constructBST(a)\n",
    "printTreeDetailed(root)"
   ]
  }
 ],
 "metadata": {
  "kernelspec": {
   "display_name": "Python 3 (ipykernel)",
   "language": "python",
   "name": "python3"
  },
  "language_info": {
   "codemirror_mode": {
    "name": "ipython",
    "version": 3
   },
   "file_extension": ".py",
   "mimetype": "text/x-python",
   "name": "python",
   "nbconvert_exporter": "python",
   "pygments_lexer": "ipython3",
   "version": "3.10.9"
  }
 },
 "nbformat": 4,
 "nbformat_minor": 5
}
