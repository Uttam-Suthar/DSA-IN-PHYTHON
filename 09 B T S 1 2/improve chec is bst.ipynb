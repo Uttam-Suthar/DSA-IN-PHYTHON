{
 "cells": [
  {
   "cell_type": "code",
   "execution_count": 2,
   "id": "02d1f2d1",
   "metadata": {},
   "outputs": [],
   "source": [
    "class BinaryTreeNode():\n",
    "    def __init__(self, data):\n",
    "        self.data = data\n",
    "        self.left = None\n",
    "        self.right = None\n",
    "        \n",
    "def treeInput():\n",
    "    rootData = int(input())\n",
    "    if rootData == -1:\n",
    "        return None\n",
    "    \n",
    "    root = BinaryTreeNode(rootData)\n",
    "    leftTree = treeInput()\n",
    "    rightTree = treeInput()\n",
    "    root.left = leftTree\n",
    "    root.right = rightTree\n",
    "    return root\n",
    "\n",
    "def printTreeDetailed(root):\n",
    "    if root == None:\n",
    "        return\n",
    "    print(root.data, end = \":\")\n",
    "    if root.left != None:\n",
    "        print('L',root.left.data, end=',')\n",
    "    if root.right != None:\n",
    "        print('R',root.right.data, end=\"\")\n",
    "    print()\n",
    "    \n",
    "    printTreeDetailed(root.left)\n",
    "    printTreeDetailed(root.right)\n",
    "\n",
    "# def mintree(root):\n",
    "#     if root==None:\n",
    "#         return 100000\n",
    "#     leftmin=mintree(root.left)\n",
    "#     rightmin=mintree(root.right)\n",
    "#     return min(leftmin,rightmin,root.data)\n",
    "\n",
    "\n",
    "# def maxtree(root):\n",
    "#     if root==None:\n",
    "#         return -100000\n",
    "#     leftmax=maxtree(root.left)\n",
    "#     rightmax=maxtree(root.right)\n",
    "#     return max(leftmax,rightmax,root.data)\n",
    "\n",
    "# def isbst(root):\n",
    "#     if root == None:\n",
    "#         return True\n",
    "#     leftmax=maxtree(root.left)\n",
    "#     rightmin=mintree(root.right)\n",
    "#     if root.data>rightmin or root.data <=leftmax:\n",
    "#         return False\n",
    "#     isleftbst=isbst(root.left)\n",
    "#     isright=isbst(root.right)\n",
    "#     return isleftbst and isright"
   ]
  },
  {
   "cell_type": "code",
   "execution_count": 17,
   "id": "de3504c9",
   "metadata": {},
   "outputs": [],
   "source": [
    "def isbst2(root):\n",
    "    if root ==None:\n",
    "        return 1000000, -1000000,True\n",
    "    leftmin,leftmax,isLeftBST=isbst2(root.left)\n",
    "    rightmin,rightmax,isRightBST=isbst2(root.right)\n",
    "    \n",
    "    minimum=min(leftmin,rightmin,root.data)\n",
    "    maximum=max(leftmax,rightmax,root.data)\n",
    "    \n",
    "    isTreeBST=True\n",
    "    if root.data <= leftmax or root.data > rightmin:\n",
    "        isTreeBST = False\n",
    "    if not(isLeftBST) or not(isRightBST):\n",
    "        isTreeBST = False\n",
    "        \n",
    "    return minimum, maximum, isTreeBST    \n",
    "\n",
    "    "
   ]
  },
  {
   "cell_type": "code",
   "execution_count": 20,
   "id": "024fe757",
   "metadata": {},
   "outputs": [
    {
     "name": "stdout",
     "output_type": "stream",
     "text": [
      "4\n",
      "2\n",
      "1\n",
      "-1\n",
      "-1\n",
      "3\n",
      "-1\n",
      "-1\n",
      "6\n",
      "5\n",
      "-1\n",
      "-1\n",
      "7\n",
      "-1\n",
      "-1\n",
      "4:L 2,R 6\n",
      "2:L 1,R 3\n",
      "1:\n",
      "3:\n",
      "6:L 5,R 7\n",
      "5:\n",
      "7:\n"
     ]
    },
    {
     "data": {
      "text/plain": [
       "(1, 7, True)"
      ]
     },
     "execution_count": 20,
     "metadata": {},
     "output_type": "execute_result"
    }
   ],
   "source": [
    "root = treeInput()\n",
    "printTreeDetailed(root)\n",
    "# isbst(root)\n",
    "isbst2(root)"
   ]
  }
 ],
 "metadata": {
  "kernelspec": {
   "display_name": "Python 3 (ipykernel)",
   "language": "python",
   "name": "python3"
  },
  "language_info": {
   "codemirror_mode": {
    "name": "ipython",
    "version": 3
   },
   "file_extension": ".py",
   "mimetype": "text/x-python",
   "name": "python",
   "nbconvert_exporter": "python",
   "pygments_lexer": "ipython3",
   "version": "3.10.9"
  }
 },
 "nbformat": 4,
 "nbformat_minor": 5
}
