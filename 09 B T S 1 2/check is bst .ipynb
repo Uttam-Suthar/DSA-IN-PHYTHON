{
 "cells": [
  {
   "cell_type": "code",
   "execution_count": 15,
   "id": "ab653d63",
   "metadata": {},
   "outputs": [],
   "source": [
    "class BinaryTreeNode():\n",
    "    def __init__(self, data):\n",
    "        self.data = data\n",
    "        self.left = None\n",
    "        self.right = None\n",
    "        \n",
    "def treeInput():\n",
    "    rootData = int(input())\n",
    "    if rootData == -1:\n",
    "        return None\n",
    "    \n",
    "    root = BinaryTreeNode(rootData)\n",
    "    leftTree = treeInput()\n",
    "    rightTree = treeInput()\n",
    "    root.left = leftTree\n",
    "    root.right = rightTree\n",
    "    return root\n",
    "\n",
    "def printTreeDetailed(root):\n",
    "    if root == None:\n",
    "        return\n",
    "    print(root.data, end = \":\")\n",
    "    if root.left != None:\n",
    "        print('L',root.left.data, end=',')\n",
    "    if root.right != None:\n",
    "        print('R',root.right.data, end=\"\")\n",
    "    print()\n",
    "    \n",
    "    printTreeDetailed(root.left)\n",
    "    printTreeDetailed(root.right)\n",
    "\n",
    "def mintree(root):\n",
    "    if root==None:\n",
    "        return 100000\n",
    "    leftmin=mintree(root.left)\n",
    "    rightmin=mintree(root.right)\n",
    "    return min(leftmin,rightmin,root.data)\n",
    "\n",
    "\n",
    "def maxtree(root):\n",
    "    if root==None:\n",
    "        return -100000\n",
    "    leftmax=maxtree(root.left)\n",
    "    rightmax=maxtree(root.right)\n",
    "    return max(leftmax,rightmax,root.data)\n",
    "\n",
    "def isbst(root):\n",
    "    if root == None:\n",
    "        return True\n",
    "    leftmax=maxtree(root.left)\n",
    "    rightmin=mintree(root.right)\n",
    "    if root.data>rightmin or root.data <=leftmax:\n",
    "        return False\n",
    "    isleftbst=isbst(root.left)\n",
    "    isright=isbst(root.right)\n",
    "    return isleftbst and isright"
   ]
  },
  {
   "cell_type": "code",
   "execution_count": 9,
   "id": "a0a18bee",
   "metadata": {},
   "outputs": [
    {
     "name": "stdout",
     "output_type": "stream",
     "text": [
      "4\n",
      "2\n",
      "1\n",
      "-1\n",
      "-1\n",
      "3\n",
      "-1\n",
      "-1\n",
      "6\n",
      "5\n",
      "-1\n",
      "-1\n",
      "7\n",
      "-1\n",
      "-1\n",
      "4:L 2,R 6\n",
      "2:L 1,R 3\n",
      "1:\n",
      "3:\n",
      "6:L 5,R 7\n",
      "5:\n",
      "7:\n"
     ]
    },
    {
     "data": {
      "text/plain": [
       "True"
      ]
     },
     "execution_count": 9,
     "metadata": {},
     "output_type": "execute_result"
    }
   ],
   "source": [
    "root = treeInput()\n",
    "printTreeDetailed(root)\n",
    "isbst(root)"
   ]
  },
  {
   "cell_type": "code",
   "execution_count": 16,
   "id": "3fc591da",
   "metadata": {},
   "outputs": [
    {
     "name": "stdout",
     "output_type": "stream",
     "text": [
      "4\n",
      "2\n",
      "1\n",
      "-1\n",
      "-1\n",
      "10\n",
      "-1\n",
      "-1\n",
      "6\n",
      "-1\n",
      "-1\n",
      "4:L 2,R 6\n",
      "2:L 1,R 10\n",
      "1:\n",
      "10:\n",
      "6:\n"
     ]
    },
    {
     "data": {
      "text/plain": [
       "False"
      ]
     },
     "execution_count": 16,
     "metadata": {},
     "output_type": "execute_result"
    }
   ],
   "source": [
    "root = treeInput()\n",
    "printTreeDetailed(root)\n",
    "isbst(root)"
   ]
  },
  {
   "cell_type": "code",
   "execution_count": null,
   "id": "a912ba42",
   "metadata": {},
   "outputs": [],
   "source": [
    "class BinaryTreeNode():\n",
    "    def __init__(self, data):\n",
    "        self.data = data\n",
    "        self.left = None\n",
    "        self.right = None\n",
    "        \n",
    "def treeInput():\n",
    "    rootData = int(input())\n",
    "    if rootData == -1:\n",
    "        return None\n",
    "    \n",
    "    root = BinaryTreeNode(rootData)\n",
    "    leftTree = treeInput()\n",
    "    rightTree = treeInput()\n",
    "    root.left = leftTree\n",
    "    root.right = rightTree\n",
    "    return root\n",
    "\n",
    "def printTreeDetailed(root):\n",
    "    if root == None:\n",
    "        return\n",
    "    print(root.data, end = \":\")\n",
    "    if root.left != None:\n",
    "        print('L',root.left.data, end=',')\n",
    "    if root.right != None:\n",
    "        print('R',root.right.data, end=\"\")\n",
    "    print()\n",
    "    \n",
    "    printTreeDetailed(root.left)\n",
    "    printTreeDetailed(root.right)\n",
    "\n",
    "\n",
    "def minTree(root):\n",
    "    if root == None:\n",
    "        return 100000000\n",
    "    leftMin = minTree(root.left)\n",
    "    rightMin = minTree(root.right)\n",
    "    return min(leftMin, rightMin, root.data)\n",
    "\n",
    "def maxTree(root):\n",
    "    if root == None:\n",
    "        return -100000000\n",
    "    leftMax = maxTree(root.left)\n",
    "    rightMax = maxTree(root.right)\n",
    "    return max(leftMax, rightMax, root.data)\n",
    "\n",
    "def isBst(root):\n",
    "    if root == None:\n",
    "        return True\n",
    "    # As root.data should be greater than the maximum of the left subtree\n",
    "    leftMax = maxTree(root.left)\n",
    "    # root.data should be less than the minimum of the left subtree\n",
    "    rightMin = minTree(root.right)\n",
    "    \n",
    "    if root.data > rightMin or root.data <= leftMax:\n",
    "        return False\n",
    "    \n",
    "    # Calling Recursion\n",
    "    isLeftBST = isBst(root.left)\n",
    "    isRightBST = isBst(root.right)\n",
    "    \n",
    "    # Will return True if both Left and Right is True else will return False\n",
    "    return isLeftBST & isRightBST"
   ]
  },
  {
   "cell_type": "code",
   "execution_count": 14,
   "id": "11d42d4a",
   "metadata": {},
   "outputs": [
    {
     "name": "stdout",
     "output_type": "stream",
     "text": [
      "4\n",
      "2\n",
      "1\n",
      "-1\n",
      "-1\n",
      "10\n",
      "-1\n",
      "-1\n",
      "6\n",
      "5\n",
      "-1\n",
      "-1\n",
      "7\n",
      "-1\n",
      "-1\n",
      "4:L 2,R 6\n",
      "2:L 1,R 10\n",
      "1:\n",
      "10:\n",
      "6:L 5,R 7\n",
      "5:\n",
      "7:\n"
     ]
    },
    {
     "data": {
      "text/plain": [
       "False"
      ]
     },
     "execution_count": 14,
     "metadata": {},
     "output_type": "execute_result"
    }
   ],
   "source": [
    "root = treeInput()\n",
    "printTreeDetailed(root)\n",
    "isBst(root)"
   ]
  }
 ],
 "metadata": {
  "kernelspec": {
   "display_name": "Python 3 (ipykernel)",
   "language": "python",
   "name": "python3"
  },
  "language_info": {
   "codemirror_mode": {
    "name": "ipython",
    "version": 3
   },
   "file_extension": ".py",
   "mimetype": "text/x-python",
   "name": "python",
   "nbconvert_exporter": "python",
   "pygments_lexer": "ipython3",
   "version": "3.10.9"
  }
 },
 "nbformat": 4,
 "nbformat_minor": 5
}
