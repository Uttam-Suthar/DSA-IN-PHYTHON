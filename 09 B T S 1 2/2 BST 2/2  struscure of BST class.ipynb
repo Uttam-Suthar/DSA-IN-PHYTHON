{
 "cells": [
  {
   "cell_type": "code",
   "execution_count": 12,
   "id": "4bafb348",
   "metadata": {},
   "outputs": [],
   "source": [
    "class BinarytreeNode:\n",
    "    def __init__(self,data):\n",
    "        self.data=data\n",
    "        self.left=None\n",
    "        self.right=None\n",
    "        \n",
    "    "
   ]
  },
  {
   "cell_type": "code",
   "execution_count": 13,
   "id": "f6844a2c",
   "metadata": {},
   "outputs": [],
   "source": [
    "class BST:\n",
    "    def __init__(self):\n",
    "        self.root=None\n",
    "        self.numNode=0\n",
    "        \n",
    "    def printTree(self):\n",
    "        return\n",
    "    def ispresent(self,data):\n",
    "        return False\n",
    "    \n",
    "    def insert(self,data):\n",
    "        return\n",
    "    def deletedata(self,data):\n",
    "        return False\n",
    "    \n",
    "    def count():\n",
    "        return 0"
   ]
  },
  {
   "cell_type": "code",
   "execution_count": 14,
   "id": "bfefa97d",
   "metadata": {},
   "outputs": [
    {
     "name": "stdout",
     "output_type": "stream",
     "text": [
      "False\n",
      "False\n",
      "False\n",
      "False\n",
      "<bound method BST.count of <__main__.BST object at 0x00000200419F1AE0>>\n"
     ]
    }
   ],
   "source": [
    "b=BST()\n",
    "b.insert(10)\n",
    "b.insert(5)\n",
    "b.insert(12)\n",
    "print(b.ispresent(10))\n",
    "print(b.ispresent(7))\n",
    "print(b.deletedata(4))\n",
    "print(b.deletedata(10))\n",
    "print(b.count)\n",
    "b.printTree()"
   ]
  },
  {
   "cell_type": "code",
   "execution_count": null,
   "id": "a914d4d9",
   "metadata": {},
   "outputs": [],
   "source": []
  }
 ],
 "metadata": {
  "kernelspec": {
   "display_name": "Python 3 (ipykernel)",
   "language": "python",
   "name": "python3"
  },
  "language_info": {
   "codemirror_mode": {
    "name": "ipython",
    "version": 3
   },
   "file_extension": ".py",
   "mimetype": "text/x-python",
   "name": "python",
   "nbconvert_exporter": "python",
   "pygments_lexer": "ipython3",
   "version": "3.10.9"
  }
 },
 "nbformat": 4,
 "nbformat_minor": 5
}
