{
 "cells": [
  {
   "cell_type": "code",
   "execution_count": 3,
   "id": "536b00b9",
   "metadata": {},
   "outputs": [],
   "source": [
    "import queue\n",
    "class BinarytreeNode:\n",
    "    def __init__(self,data):\n",
    "        self.data=data\n",
    "        self.left=None\n",
    "        self.right=None\n",
    "        \n",
    "def printbinaritreedtails(root):\n",
    "    if root ==None:\n",
    "        return\n",
    "    print(root.data,end=\":\")\n",
    "    if root.left !=None:\n",
    "        print(\"l\",root.left.data,end=\",\")\n",
    "    if root.right != None:\n",
    "        print(\"R\",root.right.data,end=\"\")\n",
    "    print()\n",
    "    printbinaritreedtails(root.left)\n",
    "    printbinaritreedtails(root.right)\n",
    "    \n",
    "def takelevelwiseinput():\n",
    "    q = queue.Queue()\n",
    "    print(\"enter root\")\n",
    "    rootData=int(input())\n",
    "    if rootData == -1:\n",
    "        return None\n",
    "    root=BinarytreeNode(rootData)\n",
    "    q.put(root)\n",
    "\n",
    "    while not q.empty():\n",
    "        currentNode = q.get()\n",
    "        print(\"Enetr the left child of\",currentNode.data)\n",
    "        \n",
    "        leftChildData = int(input())\n",
    "        if leftChildData != -1:\n",
    "            leftchild = BinarytreeNode(leftChildData)\n",
    "            currentNode.left =leftchild\n",
    "            q.put(leftchild)\n",
    "        print(\"enter rightchild of\",currentNode.data)\n",
    "\n",
    "        rightChildData = int(input())\n",
    "        if rightChildData != -1:\n",
    "            rightchild = BinarytreeNode(rightChildData)\n",
    "            currentNode.right =rightchild\n",
    "            q.put(rightchild)\n",
    "    \n",
    "\n",
    "    return root"
   ]
  },
  {
   "cell_type": "code",
   "execution_count": 4,
   "id": "7d5b4ccc",
   "metadata": {},
   "outputs": [],
   "source": [
    "def nodetorootpath(root,s):\n",
    "    if root==None:\n",
    "        return None\n",
    "    if root.data==s:\n",
    "        l=list()\n",
    "        l.append(root.data)\n",
    "        return l\n",
    "    \n",
    "    leftoutput=nodetorootpath(root.left,s)\n",
    "    if leftoutput !=None:\n",
    "        leftoutput.append(root.data)\n",
    "        return leftoutput\n",
    "    \n",
    "    rightoutput=nodetorootpath(root.right,s)\n",
    "    if rightoutput !=None:\n",
    "        rightoutput.append(root.data)\n",
    "        return rightoutput\n",
    "    else:\n",
    "        return None"
   ]
  },
  {
   "cell_type": "code",
   "execution_count": 5,
   "id": "a5f1c1fc",
   "metadata": {},
   "outputs": [
    {
     "name": "stdout",
     "output_type": "stream",
     "text": [
      "enter root\n",
      "1\n",
      "Enetr the left child of 1\n",
      "2\n",
      "enter rightchild of 1\n",
      "3\n",
      "Enetr the left child of 2\n",
      "-1\n",
      "enter rightchild of 2\n",
      "-1\n",
      "Enetr the left child of 3\n",
      "4\n",
      "enter rightchild of 3\n",
      "6\n",
      "Enetr the left child of 4\n",
      "-1\n",
      "enter rightchild of 4\n",
      "-1\n",
      "Enetr the left child of 6\n",
      "5\n",
      "enter rightchild of 6\n",
      "9\n",
      "Enetr the left child of 5\n",
      "7\n",
      "enter rightchild of 5\n",
      "8\n",
      "Enetr the left child of 9\n",
      "-1\n",
      "enter rightchild of 9\n",
      "-1\n",
      "Enetr the left child of 7\n",
      "-1\n",
      "enter rightchild of 7\n",
      "-1\n",
      "Enetr the left child of 8\n",
      "-1\n",
      "enter rightchild of 8\n",
      "-1\n",
      "1:l 2,R 3\n",
      "2:\n",
      "3:l 4,R 6\n",
      "4:\n",
      "6:l 5,R 9\n",
      "5:l 7,R 8\n",
      "7:\n",
      "8:\n",
      "9:\n"
     ]
    },
    {
     "data": {
      "text/plain": [
       "[5, 6, 3, 1]"
      ]
     },
     "execution_count": 5,
     "metadata": {},
     "output_type": "execute_result"
    }
   ],
   "source": [
    "root=takelevelwiseinput()\n",
    "printbinaritreedtails(root)\n",
    "nodetorootpath(root,5)"
   ]
  },
  {
   "cell_type": "code",
   "execution_count": null,
   "id": "dc7be1df",
   "metadata": {},
   "outputs": [],
   "source": []
  }
 ],
 "metadata": {
  "kernelspec": {
   "display_name": "Python 3 (ipykernel)",
   "language": "python",
   "name": "python3"
  },
  "language_info": {
   "codemirror_mode": {
    "name": "ipython",
    "version": 3
   },
   "file_extension": ".py",
   "mimetype": "text/x-python",
   "name": "python",
   "nbconvert_exporter": "python",
   "pygments_lexer": "ipython3",
   "version": "3.10.9"
  }
 },
 "nbformat": 4,
 "nbformat_minor": 5
}
