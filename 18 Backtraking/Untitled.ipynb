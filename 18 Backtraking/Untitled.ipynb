{
 "cells": [
  {
   "cell_type": "code",
   "execution_count": 7,
   "id": "8cdab915",
   "metadata": {},
   "outputs": [
    {
     "name": "stdout",
     "output_type": "stream",
     "text": [
      "9 4 1 3 2 6 7 5 8 \n",
      "6 3 7 1 5 8 2 4 9 \n",
      "8 2 5 4 9 7 6 1 3 \n",
      "2 6 8 7 1 4 3 9 5 \n",
      "1 7 4 5 3 9 8 6 2 \n",
      "3 5 9 6 8 2 4 7 1 \n",
      "4 1 3 2 6 5 9 8 7 \n",
      "5 9 6 8 7 3 1 2 4 \n",
      "7 8 2 9 4 1 5 3 6 \n",
      "true\n"
     ]
    }
   ],
   "source": [
    "def presentInRow(board,row,num):\n",
    "    for j in range(9):\n",
    "        if board[row][j] == num:\n",
    "            return True\n",
    "    return False\n",
    "\n",
    "def presentInCol(board,col,num):\n",
    "    for j in range(9):\n",
    "        if board[j][col] == num:\n",
    "            return True\n",
    "    return False\n",
    "\n",
    "def presentInBox(board,row,col,num):\n",
    "    for i in range(row,row+3):\n",
    "        for j in range(col,col+3):\n",
    "            if board[i][j] == num:\n",
    "                return True\n",
    "    return False\n",
    "\n",
    "def isPossible(board,row,col,num):\n",
    "    if(presentInRow(board,row,num)):\n",
    "        return False\n",
    "    if(presentInCol(board,col,num)):\n",
    "        return False\n",
    "    if(presentInBox(board,row-(row%3),col-(col%3),num)):\n",
    "        return False\n",
    "    return True\n",
    "\n",
    "    \n",
    "def solveSudoku(board):\n",
    "    \n",
    "    row = -1\n",
    "    col = -1\n",
    "    flag = False\n",
    "    for i in range(9):\n",
    "        for j in range(9):\n",
    "            if board[i][j] ==0:\n",
    "                row = i\n",
    "                col = j\n",
    "                flag = True\n",
    "                break\n",
    "        if flag is True:\n",
    "            break\n",
    "    if row == -1:\n",
    "        for i in range(9):\n",
    "            for j in range(9):\n",
    "                print(board[i][j],end=\" \")\n",
    "            print()\n",
    "        return True\n",
    "    for num in range(1,10):\n",
    "        if(isPossible(board,row,col,num)):\n",
    "            board[row][col] = num\n",
    "            if(solveSudoku(board) is True):\n",
    "                return True\n",
    "            board[row][col] = 0\n",
    "            \n",
    "    return False\n",
    "\n",
    "# board = [[ int(ele) for ele in input().split() ]for i in range(9)]\n",
    "board=[[9,0,0,0,2,0,7,5,0],[6,0,0,0,5,0,0,4,0],[0, 2, 0, 4, 0, 0, 0, 1, 0],[2, 0, 8, 0, 0, 0, 0, 0, 0],[0, 7, 0, 5, 0, 9, 0, 6, 0],[0, 0, 0, 0, 0, 0, 4, 0, 1],[0, 1, 0, 0, 0, 5, 0, 8, 0],[0, 9, 0, 0, 7, 0, 0, 0, 4],[0, 8, 2, 0, 4, 0, 0, 0, 6]]\n",
    "ans = solveSudoku(board)\n",
    "if ans is True:\n",
    "    print('true')\n",
    "else:\n",
    "    print('false')"
   ]
  },
  {
   "cell_type": "code",
   "execution_count": null,
   "id": "6d366ef1",
   "metadata": {},
   "outputs": [],
   "source": []
  }
 ],
 "metadata": {
  "kernelspec": {
   "display_name": "Python 3 (ipykernel)",
   "language": "python",
   "name": "python3"
  },
  "language_info": {
   "codemirror_mode": {
    "name": "ipython",
    "version": 3
   },
   "file_extension": ".py",
   "mimetype": "text/x-python",
   "name": "python",
   "nbconvert_exporter": "python",
   "pygments_lexer": "ipython3",
   "version": "3.10.9"
  }
 },
 "nbformat": 4,
 "nbformat_minor": 5
}
