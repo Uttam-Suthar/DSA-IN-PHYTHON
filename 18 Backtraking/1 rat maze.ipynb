{
 "cells": [
  {
   "cell_type": "code",
   "execution_count": 4,
   "id": "3ac7db13",
   "metadata": {},
   "outputs": [
    {
     "name": "stdout",
     "output_type": "stream",
     "text": [
      "4\n",
      "1 1 1 1\n",
      "1 0 1 1\n",
      "1 1 0 1\n",
      "1 1 1 1\n",
      "[[1, 0, 0, 0], [1, 0, 0, 0], [1, 0, 0, 0], [1, 1, 1, 1]]\n",
      "[[1, 0, 0, 0], [1, 0, 0, 0], [1, 1, 0, 0], [0, 1, 1, 1]]\n",
      "[[1, 1, 1, 0], [0, 0, 1, 1], [0, 0, 0, 1], [0, 0, 0, 1]]\n",
      "[[1, 1, 1, 1], [0, 0, 0, 1], [0, 0, 0, 1], [0, 0, 0, 1]]\n"
     ]
    }
   ],
   "source": [
    "def printpathHelper(x,y,maze,n,solution):\n",
    "    if x==n-1 and y==n-1:\n",
    "        solution[x][y]=1\n",
    "        print(solution)\n",
    "        return\n",
    "    if x<0 or y<0 or x>=n or y>=n or maze[x][y]==0 or solution[x][y]==1:\n",
    "        return\n",
    "    \n",
    "    solution[x][y]=1\n",
    "    printpathHelper(x+1,y,maze,n,solution)\n",
    "    printpathHelper(x,y+1,maze,n,solution)\n",
    "    printpathHelper(x-1,y,maze,n,solution)\n",
    "    printpathHelper(x,y-1,maze,n,solution)\n",
    "    solution[x][y]=0\n",
    "    return \n",
    "\n",
    "def printpath(maze):\n",
    "    n=len(maze)\n",
    "    solution=[[0 for j in range(n)] for i in range(n)]\n",
    "    printpathHelper(0,0,maze,n,solution)\n",
    "\n",
    "\n",
    "n=int(input())\n",
    "maze=[]\n",
    "for i in range(n):\n",
    "    row=[int(ele) for ele in input().split()]\n",
    "    maze.append(row)\n",
    "printpath(maze)"
   ]
  }
 ],
 "metadata": {
  "kernelspec": {
   "display_name": "Python 3 (ipykernel)",
   "language": "python",
   "name": "python3"
  },
  "language_info": {
   "codemirror_mode": {
    "name": "ipython",
    "version": 3
   },
   "file_extension": ".py",
   "mimetype": "text/x-python",
   "name": "python",
   "nbconvert_exporter": "python",
   "pygments_lexer": "ipython3",
   "version": "3.10.9"
  }
 },
 "nbformat": 4,
 "nbformat_minor": 5
}
