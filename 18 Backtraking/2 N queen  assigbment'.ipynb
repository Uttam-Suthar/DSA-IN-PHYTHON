{
 "cells": [
  {
   "cell_type": "code",
   "execution_count": 9,
   "id": "b6039464",
   "metadata": {},
   "outputs": [
    {
     "name": "stdout",
     "output_type": "stream",
     "text": [
      "4\n",
      "0 1 0 0 0 0 0 1 1 0 0 0 0 0 1 0 \n",
      "0 0 1 0 1 0 0 0 0 0 0 1 0 1 0 0 \n"
     ]
    }
   ],
   "source": [
    "def isSafe(row,col,board,n):\n",
    "    # vertical\n",
    "    i=row-1\n",
    "    while i>=0:\n",
    "        if board[i][col]==1:\n",
    "            return False\n",
    "        i -=1\n",
    "        \n",
    "    i=row-1\n",
    "    j=col-1\n",
    "    while i>=0 and j>=0:\n",
    "        if board[i][j]==1:\n",
    "            return False\n",
    "        i -=1\n",
    "        j -=1\n",
    "        \n",
    "    i=row-1\n",
    "    j=col+1\n",
    "    while i>=0 and j<n:\n",
    "        if board[i][j]==1:\n",
    "            return False\n",
    "        i -=1\n",
    "        j +=1\n",
    "    return True\n",
    "\n",
    "def printPathHelper(row,n,board):\n",
    "    if row==n:\n",
    "        for i in range(n):\n",
    "            for j in range(n):\n",
    "                print(board[i][j],end=\" \")\n",
    "        print()\n",
    "        return\n",
    "    \n",
    "    for col in range(n):\n",
    "        if isSafe(row,col,board,n) is True:\n",
    "            board[row][col]=1\n",
    "            printPathHelper(row+1,n,board)\n",
    "            board[row][col]=0\n",
    "    return\n",
    "        \n",
    "\n",
    "def printPath(n):\n",
    "    board=[[0 for j in range(n)] for i in range(n)]\n",
    "    printPathHelper(0,n,board)\n",
    "    \n",
    "\n",
    "n= int(input())\n",
    "printPath(n)"
   ]
  },
  {
   "cell_type": "code",
   "execution_count": null,
   "id": "ed24d88a",
   "metadata": {},
   "outputs": [],
   "source": []
  }
 ],
 "metadata": {
  "kernelspec": {
   "display_name": "Python 3 (ipykernel)",
   "language": "python",
   "name": "python3"
  },
  "language_info": {
   "codemirror_mode": {
    "name": "ipython",
    "version": 3
   },
   "file_extension": ".py",
   "mimetype": "text/x-python",
   "name": "python",
   "nbconvert_exporter": "python",
   "pygments_lexer": "ipython3",
   "version": "3.10.9"
  }
 },
 "nbformat": 4,
 "nbformat_minor": 5
}
