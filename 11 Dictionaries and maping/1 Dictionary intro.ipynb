{
 "cells": [
  {
   "cell_type": "code",
   "execution_count": 4,
   "id": "e7735991",
   "metadata": {},
   "outputs": [],
   "source": [
    "a={\"the\":1,\"a\":5,1000:\"abc\"}"
   ]
  },
  {
   "cell_type": "code",
   "execution_count": 5,
   "id": "7d82ca7d",
   "metadata": {},
   "outputs": [
    {
     "data": {
      "text/plain": [
       "dict"
      ]
     },
     "execution_count": 5,
     "metadata": {},
     "output_type": "execute_result"
    }
   ],
   "source": [
    "type(a)"
   ]
  },
  {
   "cell_type": "code",
   "execution_count": 6,
   "id": "3e231c17",
   "metadata": {},
   "outputs": [
    {
     "data": {
      "text/plain": [
       "3"
      ]
     },
     "execution_count": 6,
     "metadata": {},
     "output_type": "execute_result"
    }
   ],
   "source": [
    "len(a)"
   ]
  },
  {
   "cell_type": "code",
   "execution_count": 7,
   "id": "b61dd50c",
   "metadata": {},
   "outputs": [],
   "source": [
    "b=a.copy()"
   ]
  },
  {
   "cell_type": "code",
   "execution_count": 8,
   "id": "5f019bc1",
   "metadata": {},
   "outputs": [
    {
     "data": {
      "text/plain": [
       "{'the': 1, 'a': 5, 1000: 'abc'}"
      ]
     },
     "execution_count": 8,
     "metadata": {},
     "output_type": "execute_result"
    }
   ],
   "source": [
    "b"
   ]
  },
  {
   "cell_type": "code",
   "execution_count": 9,
   "id": "6c94b637",
   "metadata": {},
   "outputs": [],
   "source": [
    "c=dict([(\"this\",2),(\"a\",10),(2,3)])"
   ]
  },
  {
   "cell_type": "code",
   "execution_count": 10,
   "id": "fe58f3a1",
   "metadata": {},
   "outputs": [
    {
     "data": {
      "text/plain": [
       "{'this': 2, 'a': 10, 2: 3}"
      ]
     },
     "execution_count": 10,
     "metadata": {},
     "output_type": "execute_result"
    }
   ],
   "source": [
    "c"
   ]
  },
  {
   "cell_type": "code",
   "execution_count": 11,
   "id": "bee444fe",
   "metadata": {},
   "outputs": [],
   "source": [
    "d=dict.fromkeys([\"that\",33,4])"
   ]
  },
  {
   "cell_type": "code",
   "execution_count": 12,
   "id": "40ea4677",
   "metadata": {},
   "outputs": [
    {
     "data": {
      "text/plain": [
       "{'that': None, 33: None, 4: None}"
      ]
     },
     "execution_count": 12,
     "metadata": {},
     "output_type": "execute_result"
    }
   ],
   "source": [
    "d"
   ]
  },
  {
   "cell_type": "code",
   "execution_count": 13,
   "id": "0bd36137",
   "metadata": {},
   "outputs": [],
   "source": [
    "d=dict.fromkeys([\"that\",33,4],10)"
   ]
  },
  {
   "cell_type": "code",
   "execution_count": 14,
   "id": "67f0f29f",
   "metadata": {},
   "outputs": [
    {
     "data": {
      "text/plain": [
       "{'that': 10, 33: 10, 4: 10}"
      ]
     },
     "execution_count": 14,
     "metadata": {},
     "output_type": "execute_result"
    }
   ],
   "source": [
    "d"
   ]
  },
  {
   "cell_type": "code",
   "execution_count": null,
   "id": "106cf914",
   "metadata": {},
   "outputs": [],
   "source": []
  },
  {
   "cell_type": "code",
   "execution_count": null,
   "id": "af5c26a4",
   "metadata": {},
   "outputs": [],
   "source": []
  },
  {
   "cell_type": "code",
   "execution_count": null,
   "id": "490f7907",
   "metadata": {},
   "outputs": [],
   "source": []
  }
 ],
 "metadata": {
  "kernelspec": {
   "display_name": "Python 3 (ipykernel)",
   "language": "python",
   "name": "python3"
  },
  "language_info": {
   "codemirror_mode": {
    "name": "ipython",
    "version": 3
   },
   "file_extension": ".py",
   "mimetype": "text/x-python",
   "name": "python",
   "nbconvert_exporter": "python",
   "pygments_lexer": "ipython3",
   "version": "3.10.9"
  }
 },
 "nbformat": 4,
 "nbformat_minor": 5
}
