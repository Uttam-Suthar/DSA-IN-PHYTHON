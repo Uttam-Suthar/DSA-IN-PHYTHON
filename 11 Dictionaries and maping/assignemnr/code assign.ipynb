{
 "cells": [
  {
   "cell_type": "markdown",
   "id": "987c15be",
   "metadata": {},
   "source": [
    "# Maximum Frequency\n"
   ]
  },
  {
   "cell_type": "code",
   "execution_count": 20,
   "id": "685fd543",
   "metadata": {},
   "outputs": [
    {
     "name": "stdout",
     "output_type": "stream",
     "text": [
      "{2: 6, 12: 3, 11: 2, 1: 1, 6: 1}\n",
      "6\n",
      "tis 6\n",
      "3\n",
      "tis 6\n",
      "6\n",
      "tis 6\n",
      "2\n",
      "tis 6\n",
      "3\n",
      "tis 6\n",
      "6\n",
      "tis 6\n",
      "1\n",
      "tis 6\n",
      "6\n",
      "tis 6\n",
      "6\n",
      "tis 6\n",
      "2\n",
      "tis 6\n",
      "3\n",
      "tis 6\n",
      "6\n",
      "tis 6\n",
      "1\n",
      "tis 6\n"
     ]
    },
    {
     "data": {
      "text/plain": [
       "2"
      ]
     },
     "execution_count": 20,
     "metadata": {},
     "output_type": "execute_result"
    }
   ],
   "source": [
    "def maxfreq(arr):\n",
    "    d = {} \n",
    "    for num in arr: \n",
    "#         if num in d: \n",
    "#             d[num] += 1 \n",
    "#         else: \n",
    "#             d[num] = 1 \n",
    "            \n",
    "        d[num]=d.get(num,0)+1\n",
    "    print(d)\n",
    "    ans = arr[0] \n",
    "#     print(ans)\n",
    "    for num in arr: \n",
    "#         print(d[num])\n",
    "#         print(\"tis\",d[ans])  \n",
    "        if d[num] > d[ans]: \n",
    "            ans = num \n",
    "          \n",
    "    return ans \n",
    "arr=[2,12, 2, 11, 12, 2, 1, 2, 2, 11, 12, 2, 6 ]\n",
    "maxfreq(arr)\n"
   ]
  },
  {
   "cell_type": "code",
   "execution_count": null,
   "id": "5f1a83f8",
   "metadata": {},
   "outputs": [],
   "source": []
  },
  {
   "cell_type": "markdown",
   "id": "d49b7447",
   "metadata": {},
   "source": [
    "# pair sum to zero"
   ]
  },
  {
   "cell_type": "code",
   "execution_count": 22,
   "id": "ee21f1d2",
   "metadata": {},
   "outputs": [
    {
     "name": "stdout",
     "output_type": "stream",
     "text": [
      "2\n"
     ]
    }
   ],
   "source": [
    "from sys import stdin\n",
    "\n",
    "def factorial(n):\n",
    "    if n==0:\n",
    "        return 1\n",
    "    return n*factorial(n-1)\n",
    "\n",
    "\n",
    "def fact2(n):\n",
    "    ans=0\n",
    "    if n!=1:\n",
    "        ans = factorial(n) / (factorial(2)*factorial(n-2))\n",
    "    return int(ans)\n",
    "\n",
    "\n",
    "def freq(l):\n",
    "    d={}\n",
    "    for num in l:\n",
    "        d[num]= d.get(num,0)+1\n",
    "    return d\n",
    "\n",
    "\n",
    "def pairSum0(l,n):\n",
    "    # Write your code here\n",
    "    # pass\n",
    "    d= freq(l)\n",
    "    count=0\n",
    "    for num in d:\n",
    "        if num>0 and -num in d:\n",
    "            count=count+ d[num]*d[-num]\n",
    "        if num ==0:\n",
    "            count=count+fact2(d[num])\n",
    "    return count\n",
    "                \n",
    "    \n",
    "    \n",
    "# def takeInput():\n",
    "#     #To take fast I/O\n",
    "#     n=int(stdin.readline().strip())\n",
    "#     if n==0:\n",
    "#         return list(),0\n",
    "#     arr=list(map(int,stdin.readline().strip().split( )))\n",
    "#     return arr,n\n",
    "\n",
    "# arr,n=takeInput()\n",
    "n=5\n",
    "arr=[2, 1, -2, 2, 3]\n",
    "print(pairSum0(arr,n))"
   ]
  }
 ],
 "metadata": {
  "kernelspec": {
   "display_name": "Python 3 (ipykernel)",
   "language": "python",
   "name": "python3"
  },
  "language_info": {
   "codemirror_mode": {
    "name": "ipython",
    "version": 3
   },
   "file_extension": ".py",
   "mimetype": "text/x-python",
   "name": "python",
   "nbconvert_exporter": "python",
   "pygments_lexer": "ipython3",
   "version": "3.10.9"
  }
 },
 "nbformat": 4,
 "nbformat_minor": 5
}
