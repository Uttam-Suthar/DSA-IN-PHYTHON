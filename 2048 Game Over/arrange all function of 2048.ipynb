{
 "cells": [
  {
   "cell_type": "code",
   "execution_count": 169,
   "id": "2cd41cc4",
   "metadata": {},
   "outputs": [],
   "source": [
    "import random\n",
    "def startGame():\n",
    "    mat=[]\n",
    "    for i in range(4):\n",
    "        mat.append([0]*4)\n",
    "    return mat\n",
    "\n",
    "def addNew2(mat):\n",
    "    r = random.randint(0,3)\n",
    "    c = random.randint(0,3)\n",
    "    while(mat[r][c] != 0):\n",
    "        r = random.randint(0,3)\n",
    "        c = random.randint(0,3)\n",
    "    mat[r][c] = 2\n",
    "    return mat\n",
    "    \n",
    "# reverse and Transpose FUnction\n",
    "\n",
    "def reverse(mat):\n",
    "    newmat=[]\n",
    "    for i in range(4):\n",
    "        newmat.append([])\n",
    "        for j in range(4):\n",
    "            newmat[i].append(mat[i][4-j-1])\n",
    "    return newmat\n",
    "\n",
    "def transpose(mat):\n",
    "    newmat=[]\n",
    "    for i in range(4):\n",
    "        newmat.append([])\n",
    "        for j in range(4):\n",
    "            newmat[i].append(mat[i][j])\n",
    "    return newmat\n",
    "\n",
    "# merge Function\n",
    "def merge(mat):\n",
    "    for i in range(4):\n",
    "        for j in range(3):\n",
    "            if mat[i][j]==mat[i][j+1] and mat[i][j] !=0:\n",
    "                mat[i][j]=mat[i][j]*2\n",
    "                mat[i][j+1]=0\n",
    "    return mat\n",
    "        \n",
    "# compress Function\n",
    "def compress(mat):\n",
    "    newmat=[]\n",
    "    for i in range(4):\n",
    "        newmat.append([0]*4)\n",
    "    for i in range(4):\n",
    "        pos=0\n",
    "        for j in range(4):\n",
    "            if mat[i][j] !=0:\n",
    "                newmat[i][pos]=mat[i][j]\n",
    "                pos +=1\n",
    "    return newmat\n",
    "    \n",
    "# move functions\n",
    "\n",
    "def move_up(grid):\n",
    "    transposed_grid = transpose(grid)\n",
    "    new_grid = compress(transposed_grid)\n",
    "    new_grid = merge(new_grid)\n",
    "    new_grid = compress(new_grid)\n",
    "    final_grid = transpose(new_grid)\n",
    "    return final_grid\n",
    "\n",
    "def move_down(grid):\n",
    "    transposed_grid = transpose(grid)\n",
    "    reversed_grid = reverse(transposed_grid)\n",
    "    new_grid = compress(reversed_grid)\n",
    "    new_grid = merge(new_grid)\n",
    "    new_grid = compress(new_grid)\n",
    "    final_reversed_grid = reverse(new_grid)\n",
    "    final_grid = transpose(final_reversed_grid)\n",
    "    return final_grid\n",
    "\n",
    "def move_right(grid):\n",
    "    reversed_grid = reverse(grid)\n",
    "    new_grid = compress(reversed_grid)\n",
    "    new_grid = merge(new_grid)\n",
    "    new_grid = compress(new_grid)\n",
    "    final_grid = reverse(new_grid)\n",
    "    return final_grid\n",
    "\n",
    "def move_left(grid):\n",
    "    new_grid = compress(grid)\n",
    "    new_grid = merge(new_grid)\n",
    "    new_grid = compress(new_grid)\n",
    "    return new_grid\n",
    "    \n",
    "def getCurrState(mat):\n",
    "    # anywher 2048 is persent\n",
    "    for i in range(4):\n",
    "        for j in range(4):\n",
    "            if mat[i][j] == 2048:\n",
    "                return \"WON\"\n",
    "    # any whwere 0 is persent       \n",
    "    for i in range(4):\n",
    "        for j in range(4):\n",
    "            if mat[i][j]==0:\n",
    "                return \"GAME NOT OVER\"\n",
    "    # every row and colum and except last  row and colum \n",
    "    for i in range(3):\n",
    "        for j in range(3):\n",
    "            if mat[i][j]==mat[i+1][j] or mat[i][j]==mat[i][j+1]:\n",
    "                return \"GAME NOT OVER\"\n",
    "            \n",
    "    # last row \n",
    "    for i in range(3):\n",
    "        if mat[3][j]==mat[i][j+1]:\n",
    "            return \"GAME NOT OVER\"\n",
    "    # last colum\n",
    "    for i in range(3):\n",
    "        if mat[i][3]==mat[i+1][j]:\n",
    "            return \"GAME NOT OVER\"  \n",
    "\n"
   ]
  },
  {
   "cell_type": "code",
   "execution_count": 170,
   "id": "6e0b18a1",
   "metadata": {},
   "outputs": [
    {
     "name": "stdout",
     "output_type": "stream",
     "text": [
      "[[0, 0, 0, 0], [0, 0, 0, 0], [0, 0, 0, 0], [0, 0, 0, 0]]\n"
     ]
    }
   ],
   "source": [
    "mat=startGame()\n",
    "print(mat)"
   ]
  },
  {
   "cell_type": "code",
   "execution_count": 171,
   "id": "82a31b6c",
   "metadata": {},
   "outputs": [
    {
     "name": "stdout",
     "output_type": "stream",
     "text": [
      "[[0, 2, 0, 0], [0, 0, 0, 0], [0, 0, 0, 0], [0, 0, 0, 0]]\n"
     ]
    }
   ],
   "source": [
    "addNew2(mat)\n",
    "print(mat)"
   ]
  },
  {
   "cell_type": "code",
   "execution_count": 172,
   "id": "49b0b775",
   "metadata": {},
   "outputs": [
    {
     "name": "stdout",
     "output_type": "stream",
     "text": [
      "[[0, 2, 0, 0], [0, 2, 0, 0], [0, 0, 0, 0], [0, 0, 0, 0]]\n"
     ]
    }
   ],
   "source": [
    "addNew2(mat)\n",
    "print(mat)"
   ]
  },
  {
   "cell_type": "code",
   "execution_count": 174,
   "id": "e07c5d80",
   "metadata": {},
   "outputs": [
    {
     "name": "stdout",
     "output_type": "stream",
     "text": [
      "[[0, 2, 0, 0], [0, 2, 0, 0], [0, 0, 0, 0], [0, 0, 0, 0]]\n",
      "[[2, 0, 0, 0], [2, 0, 0, 0], [0, 0, 0, 0], [0, 0, 0, 0]]\n"
     ]
    }
   ],
   "source": [
    "print(mat)\n",
    "mats=move_up(mat)\n",
    "print(mats)"
   ]
  },
  {
   "cell_type": "code",
   "execution_count": 175,
   "id": "cdf5d261",
   "metadata": {},
   "outputs": [
    {
     "name": "stdout",
     "output_type": "stream",
     "text": [
      "[[0, 0, 0, 2], [0, 0, 0, 2], [0, 0, 0, 0], [0, 0, 0, 0]]\n"
     ]
    }
   ],
   "source": [
    "mat=move_right(mat)\n",
    "print(mat)"
   ]
  },
  {
   "cell_type": "code",
   "execution_count": 176,
   "id": "1360b271",
   "metadata": {},
   "outputs": [
    {
     "name": "stdout",
     "output_type": "stream",
     "text": [
      "[[0, 0, 0, 2], [0, 0, 0, 2], [0, 0, 2, 0], [0, 0, 0, 0]]\n"
     ]
    }
   ],
   "source": [
    "addNew2(mat)\n",
    "print(mat)"
   ]
  },
  {
   "cell_type": "code",
   "execution_count": 177,
   "id": "998af84d",
   "metadata": {},
   "outputs": [
    {
     "name": "stdout",
     "output_type": "stream",
     "text": [
      "[[0, 0, 0, 2], [0, 0, 0, 2], [0, 0, 0, 2], [0, 0, 0, 0]]\n"
     ]
    }
   ],
   "source": [
    "mat=move_down(mat)\n",
    "print(mat)"
   ]
  },
  {
   "cell_type": "code",
   "execution_count": null,
   "id": "62a80682",
   "metadata": {},
   "outputs": [],
   "source": []
  },
  {
   "cell_type": "code",
   "execution_count": 182,
   "id": "43207bd7",
   "metadata": {},
   "outputs": [],
   "source": [
    "import random\n",
    "def start_game():\n",
    "    mat = []\n",
    "    for i in range(4):\n",
    "        mat.append([0]*4)\n",
    "    return mat\n",
    "\n",
    "def add_new_2(mat):\n",
    "    \n",
    "    r = random.randint(0,3)\n",
    "    c = random.randint(0,3)\n",
    "    while(mat[r][c] != 0):\n",
    "        r = random.randint(0,3)\n",
    "        c = random.randint(0,3)\n",
    "    mat[r][c] = 2\n",
    "    return mat\n",
    "\n",
    "\n",
    "def reverse(mat):\n",
    "    new_mat = []\n",
    "    for i in range(4):\n",
    "        new_mat.append([])\n",
    "        for j in range(4):\n",
    "            new_mat[i].append(mat[i][4-j-1])\n",
    "    \n",
    "    return new_mat\n",
    "\n",
    "def transpose(mat):\n",
    "    \n",
    "    new_mat = []\n",
    "    for i in range(4):\n",
    "        new_mat.append([])\n",
    "        for j in range(4):\n",
    "            new_mat[i].append(mat[j][i])\n",
    "    return new_mat\n",
    "\n",
    "def merge(mat):\n",
    "    \n",
    "    for i in range(4):\n",
    "        for j in range(3):\n",
    "            if mat[i][j] == mat[i][j+1] and mat[i][j]!=0:\n",
    "                mat[i][j] = mat[i][j]*2\n",
    "                mat[i][j+1] = 0\n",
    "    return mat\n",
    "            \n",
    "def compress(mat):\n",
    "    new_mat = []\n",
    "    for i in range(4):\n",
    "        new_mat.append([0]*4)\n",
    "    \n",
    "    for i in range(4):\n",
    "        pos = 0\n",
    "        for j in range(4):\n",
    "            if mat[i][j] != 0:\n",
    "                new_mat[i][pos] = mat[i][j]\n",
    "                pos+=1\n",
    "    return new_mat\n",
    "\n",
    "def move_up(grid):\n",
    "    transposed_grid = transpose(grid)\n",
    "    new_grid = compress(transposed_grid)\n",
    "    new_grid = merge(new_grid)\n",
    "    new_grid = compress(new_grid)\n",
    "    final_grid = transpose(new_grid)\n",
    "    return final_grid\n",
    "\n",
    "def move_down(grid):\n",
    "    transposed_grid = transpose(grid)\n",
    "    reversed_grid = reverse(transposed_grid)\n",
    "    new_grid = compress(reversed_grid)\n",
    "    new_grid = merge(new_grid)\n",
    "    new_grid = compress(new_grid)\n",
    "    final_reversed_grid = reverse(new_grid)\n",
    "    final_grid = transpose(final_reversed_grid)\n",
    "    return final_grid\n",
    "\n",
    "def move_right(grid):\n",
    "    reversed_grid = reverse(grid)\n",
    "    new_grid = compress(reversed_grid)\n",
    "    new_grid = merge(new_grid)\n",
    "    new_grid = compress(new_grid)\n",
    "    final_grid = reverse(new_grid)\n",
    "    return final_grid\n",
    "\n",
    "def move_left(grid):\n",
    "    new_grid = compress(grid)\n",
    "    new_grid = merge(new_grid)\n",
    "    new_grid = compress(new_grid)\n",
    "    return new_grid\n",
    "\n",
    "    \n",
    "def get_current_state(mat):\n",
    "    # Anywhere 2048 is present\n",
    "    for i in range(4):\n",
    "        for j in range(4):\n",
    "            if (mat[i][j] == 2048):\n",
    "                return 'WON'\n",
    "    #Anywhere 0 is present\n",
    "    for i in range(4):\n",
    "        for j in range(4):\n",
    "            if(mat[i][j] == 0):\n",
    "                return 'GAME NOT OVER'\n",
    "    # Every Row and Column except last row and last column\n",
    "    for i in range(3):\n",
    "        for j in range(3):\n",
    "            if(mat[i][j] == mat[i+1][j] or mat[i][j] == mat[i][j+1]):\n",
    "                return 'GAME NOT OVER'\n",
    "    #Last Row\n",
    "    for j in range(3):\n",
    "        if mat[3][j] == mat[3][j+1]:\n",
    "            return 'GAME NOT OVER'\n",
    "    #Last Column\n",
    "    \n",
    "    for i in range(3):\n",
    "        if mat[i][3] == mat[i+1][3]:\n",
    "            return 'GAME NOT OVER'\n",
    "        \n",
    "    return 'LOST'\n",
    "\n",
    "# mat = start_game()\n",
    "# mat[1][3] = 2\n",
    "# mat[2][2] = 2\n",
    "# mat[3][0] = 4\n",
    "# mat[3][1] = 8\n",
    "# mat[2][1] = 4\n",
    "# inputs = [int(ele) for ele in input().split()]\n",
    "# for ele in inputs:\n",
    "#     if ele == 1:\n",
    "#         mat = move_up(mat)\n",
    "#     elif ele == 2:\n",
    "#         mat = move_down(mat)\n",
    "#     elif ele == 3:\n",
    "#         mat = move_left(mat)\n",
    "#     else:\n",
    "#         mat = move_right(mat)\n",
    "#     print(mat)"
   ]
  },
  {
   "cell_type": "code",
   "execution_count": 183,
   "id": "e5f94464",
   "metadata": {},
   "outputs": [
    {
     "name": "stdout",
     "output_type": "stream",
     "text": [
      "[[0, 0, 0, 0], [0, 0, 0, 0], [0, 0, 0, 0], [0, 0, 0, 0]]\n"
     ]
    }
   ],
   "source": [
    "mat=start_game()\n",
    "print(mat)"
   ]
  },
  {
   "cell_type": "code",
   "execution_count": 184,
   "id": "89a45701",
   "metadata": {},
   "outputs": [
    {
     "name": "stdout",
     "output_type": "stream",
     "text": [
      "[[0, 0, 0, 0], [0, 0, 0, 0], [0, 0, 0, 0], [0, 0, 0, 2]]\n"
     ]
    }
   ],
   "source": [
    "add_new_2(mat)\n",
    "print(mat)"
   ]
  },
  {
   "cell_type": "code",
   "execution_count": 185,
   "id": "5fd7253a",
   "metadata": {},
   "outputs": [
    {
     "name": "stdout",
     "output_type": "stream",
     "text": [
      "[[0, 0, 0, 0], [0, 0, 0, 0], [0, 0, 2, 0], [0, 0, 0, 2]]\n"
     ]
    }
   ],
   "source": [
    "add_new_2(mat)\n",
    "print(mat)"
   ]
  },
  {
   "cell_type": "code",
   "execution_count": 186,
   "id": "868f1bf5",
   "metadata": {},
   "outputs": [
    {
     "name": "stdout",
     "output_type": "stream",
     "text": [
      "[[0, 0, 2, 2], [0, 0, 0, 0], [0, 0, 0, 0], [0, 0, 0, 0]]\n"
     ]
    }
   ],
   "source": [
    "mat=move_up(mat)\n",
    "print(mat)"
   ]
  },
  {
   "cell_type": "code",
   "execution_count": 187,
   "id": "b753c7c9",
   "metadata": {},
   "outputs": [
    {
     "name": "stdout",
     "output_type": "stream",
     "text": [
      "[[0, 0, 0, 4], [0, 0, 0, 0], [0, 0, 0, 0], [0, 0, 0, 0]]\n"
     ]
    }
   ],
   "source": [
    "mat=move_right(mat)\n",
    "print(mat)"
   ]
  }
 ],
 "metadata": {
  "kernelspec": {
   "display_name": "Python 3 (ipykernel)",
   "language": "python",
   "name": "python3"
  },
  "language_info": {
   "codemirror_mode": {
    "name": "ipython",
    "version": 3
   },
   "file_extension": ".py",
   "mimetype": "text/x-python",
   "name": "python",
   "nbconvert_exporter": "python",
   "pygments_lexer": "ipython3",
   "version": "3.10.9"
  }
 },
 "nbformat": 4,
 "nbformat_minor": 5
}
