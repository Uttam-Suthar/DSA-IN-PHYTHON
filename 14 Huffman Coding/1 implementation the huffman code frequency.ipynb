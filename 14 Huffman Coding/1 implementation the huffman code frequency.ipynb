{
 "cells": [
  {
   "cell_type": "code",
   "execution_count": null,
   "id": "2dc80828",
   "metadata": {},
   "outputs": [],
   "source": [
    "class HuffmanCode:\n",
    "    def __init__(self,path):\n",
    "        self.path=path\n",
    "        \n",
    "    def _make_frequency_dict(self,text):\n",
    "        freq_dict={}\n",
    "        for char in text:\n",
    "            if char not in freq_dict:\n",
    "                freq_dict[char]=0\n",
    "            freq_dict[char] +=1\n",
    "        return freq_dict\n",
    "    \n",
    "    def compress(self):\n",
    "        # get file from path\n",
    "        # read text from file\n",
    "        text=\"fasbsfjsddhdj\"\n",
    "        # make frequency dictionary using text\n",
    "        freq_dict = make_frequency_dict(text)\n",
    "        # construct the heap from the frequncy dict\n",
    "        #contruct the binary tree from the heap\n",
    "        # construct the code from the binary tree\n",
    "        # creat the encode text into the binary file\n",
    "        # put the encode into the binary file\n",
    "        # return this binary file as output\n",
    "        "
   ]
  }
 ],
 "metadata": {
  "kernelspec": {
   "display_name": "Python 3 (ipykernel)",
   "language": "python",
   "name": "python3"
  },
  "language_info": {
   "codemirror_mode": {
    "name": "ipython",
    "version": 3
   },
   "file_extension": ".py",
   "mimetype": "text/x-python",
   "name": "python",
   "nbconvert_exporter": "python",
   "pygments_lexer": "ipython3",
   "version": "3.10.9"
  }
 },
 "nbformat": 4,
 "nbformat_minor": 5
}
