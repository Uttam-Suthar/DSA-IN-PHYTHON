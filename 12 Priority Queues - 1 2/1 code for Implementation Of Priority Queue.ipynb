{
 "cells": [
  {
   "cell_type": "code",
   "execution_count": null,
   "id": "358f9b93",
   "metadata": {},
   "outputs": [],
   "source": [
    "class priorityQueueNode:\n",
    "    def __init__(self,value,priority):\n",
    "        self.value=value\n",
    "        self.priority=priority\n",
    "\n",
    "class priorityQueue:\n",
    "    def __init__(self):\n",
    "        self.pq=[]\n",
    "        \n",
    "    def getsize(self):\n",
    "        return len(self.pq)\n",
    "    \n",
    "    def isempty(self):\n",
    "        return self.isempty()==0\n",
    "    \n",
    "    def getMin(self):\n",
    "        if isempty() is True:\n",
    "            return None\n",
    "        return self.pq[0].value\n",
    "    \n",
    "    \n",
    "        "
   ]
  }
 ],
 "metadata": {
  "kernelspec": {
   "display_name": "Python 3 (ipykernel)",
   "language": "python",
   "name": "python3"
  },
  "language_info": {
   "codemirror_mode": {
    "name": "ipython",
    "version": 3
   },
   "file_extension": ".py",
   "mimetype": "text/x-python",
   "name": "python",
   "nbconvert_exporter": "python",
   "pygments_lexer": "ipython3",
   "version": "3.10.9"
  }
 },
 "nbformat": 4,
 "nbformat_minor": 5
}
