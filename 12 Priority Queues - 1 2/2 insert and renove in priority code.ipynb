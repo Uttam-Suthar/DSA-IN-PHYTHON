{
 "cells": [
  {
   "cell_type": "code",
   "execution_count": null,
   "id": "ba7dcd12",
   "metadata": {},
   "outputs": [],
   "source": []
  },
  {
   "cell_type": "code",
   "execution_count": 1,
   "id": "91bb4a4f",
   "metadata": {},
   "outputs": [],
   "source": [
    "class PriorityQueueNode:\n",
    "    def __init__(self,ele,priority):\n",
    "        self.ele = ele\n",
    "        self.priority = priority\n",
    "        \n",
    "class PriorityQueue:\n",
    "    def __init__(self):\n",
    "        self.pq = []\n",
    "    \n",
    "    def isEmpty(self):\n",
    "        return self.getSize() == 0\n",
    "    \n",
    "    def getSize(self):\n",
    "        return len(self.pq)\n",
    "\n",
    "    def getMin(self):\n",
    "        if self.isEmpty():\n",
    "            return None\n",
    "        return self.pq[0].ele\n",
    "    \n",
    "    def __percolateUp(self):\n",
    "        childIndex = self.getSize() - 1\n",
    "        while childIndex > 0:\n",
    "            parentIndex = (childIndex-1)//2\n",
    "            \n",
    "            if self.pq[parentIndex].priority > self.pq[childIndex].priority:\n",
    "                self.pq[parentIndex],self.pq[childIndex] = self.pq[childIndex],self.pq[parentIndex]\n",
    "                childIndex = parentIndex\n",
    "            else:\n",
    "                break\n",
    "        \n",
    "    def __percolateDown(self):\n",
    "        parentIndex = 0\n",
    "        leftIndex = 2*parentIndex + 1\n",
    "        rightIndex = 2*parentIndex + 2\n",
    "        while leftIndex < self.getSize():\n",
    "            minIndex = parentIndex\n",
    "            if(self.pq[minIndex].priority > self.pq[leftIndex].priority):\n",
    "                minIndex = leftIndex\n",
    "            if(rightIndex < self.getSize() and self.pq[minIndex].priority > self.pq[rightIndex].priority):\n",
    "                minIndex = rightIndex\n",
    "            \n",
    "            if minIndex!=parentIndex:\n",
    "                self.pq[parentIndex],self.pq[minIndex] = self.pq[minIndex],self.pq[parentIndex]\n",
    "                parentIndex = minIndex\n",
    "                leftIndex = 2*parentIndex + 1\n",
    "                rightIndex = 2*parentIndex + 2\n",
    "            else:\n",
    "                break\n",
    "            \n",
    "            \n",
    "    def insert(self,ele,priority):\n",
    "        pqNode = PriorityQueueNode(ele,priority)\n",
    "        self.pq.append(pqNode)\n",
    "        self.__percolateUp()\n",
    "        \n",
    "    def removeMin(self):\n",
    "        if self.isEmpty():\n",
    "            return None\n",
    "        element = self.pq[0]\n",
    "        self.pq[0] = self.pq[self.getSize()-1]\n",
    "        self.pq.pop()\n",
    "        #Heapify-Down\n",
    "        self.__percolateDown()\n",
    "        return element.ele"
   ]
  },
  {
   "cell_type": "code",
   "execution_count": 2,
   "id": "2c074489",
   "metadata": {},
   "outputs": [
    {
     "name": "stdout",
     "output_type": "stream",
     "text": [
      "D\n",
      "A\n",
      "c\n",
      "B\n"
     ]
    }
   ],
   "source": [
    "pq=PriorityQueue()\n",
    "pq.insert(\"A\",10)\n",
    "pq.insert(\"c\",15)\n",
    "pq.insert(\"B\",19)\n",
    "pq.insert(\"D\",4)\n",
    "\n",
    "for i in range(4):\n",
    "    print(pq.removeMin())\n",
    "    "
   ]
  }
 ],
 "metadata": {
  "kernelspec": {
   "display_name": "Python 3 (ipykernel)",
   "language": "python",
   "name": "python3"
  },
  "language_info": {
   "codemirror_mode": {
    "name": "ipython",
    "version": 3
   },
   "file_extension": ".py",
   "mimetype": "text/x-python",
   "name": "python",
   "nbconvert_exporter": "python",
   "pygments_lexer": "ipython3",
   "version": "3.10.9"
  }
 },
 "nbformat": 4,
 "nbformat_minor": 5
}
