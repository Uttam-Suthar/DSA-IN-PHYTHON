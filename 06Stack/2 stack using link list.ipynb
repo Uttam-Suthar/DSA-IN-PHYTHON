{
 "cells": [
  {
   "cell_type": "code",
   "execution_count": 13,
   "id": "cd20f00e",
   "metadata": {},
   "outputs": [
    {
     "name": "stdout",
     "output_type": "stream",
     "text": [
      "24\n",
      "13\n",
      "13\n",
      "12\n",
      "stack is empty\n",
      "None\n"
     ]
    }
   ],
   "source": [
    "class Node:\n",
    "    def __init__(self,data):\n",
    "        self.data=data\n",
    "        self.next=None\n",
    "        \n",
    "class stack:\n",
    "    def __init__(self):\n",
    "        self.__head=None\n",
    "        self.__count=0\n",
    "    \n",
    "    def push(self,element):\n",
    "        newnode=Node(element)\n",
    "        newnode.next=self.__head\n",
    "        self.__head=newnode\n",
    "        self.__count +=1\n",
    "    \n",
    "    def pop(self):\n",
    "        if self.isEmpty()is True:\n",
    "            print(\"stack is empty\")\n",
    "            return\n",
    "        data=self.__head.data\n",
    "        self.__head=self.__head.next\n",
    "        self.__count -=1\n",
    "        return data\n",
    "    \n",
    "    \n",
    "    def top(self):\n",
    "        if self.isEmpty()is True:\n",
    "            print(\"stack is empty\")\n",
    "            return\n",
    "        data=self.__head.data\n",
    "        return data\n",
    "    \n",
    "    def size(self):\n",
    "        return self.__count\n",
    "    \n",
    "    def isEmpty(self):\n",
    "        return self.size()==0\n",
    "    \n",
    "s=stack()\n",
    "s.push(12)\n",
    "s.push(13)\n",
    "s.push(24)\n",
    "\n",
    "print(s.top())\n",
    "s.pop()\n",
    "print(s.top())\n",
    "\n",
    "while s.isEmpty() is False:\n",
    "    print(s.pop())\n",
    "print(s.top())\n",
    "\n",
    "        "
   ]
  }
 ],
 "metadata": {
  "kernelspec": {
   "display_name": "Python 3 (ipykernel)",
   "language": "python",
   "name": "python3"
  },
  "language_info": {
   "codemirror_mode": {
    "name": "ipython",
    "version": 3
   },
   "file_extension": ".py",
   "mimetype": "text/x-python",
   "name": "python",
   "nbconvert_exporter": "python",
   "pygments_lexer": "ipython3",
   "version": "3.10.9"
  }
 },
 "nbformat": 4,
 "nbformat_minor": 5
}
