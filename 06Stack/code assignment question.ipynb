{
 "cells": [
  {
   "cell_type": "markdown",
   "id": "84c70026",
   "metadata": {},
   "source": [
    "#  rendundant bracket"
   ]
  },
  {
   "cell_type": "code",
   "execution_count": 5,
   "id": "d4717519",
   "metadata": {},
   "outputs": [
    {
     "name": "stdout",
     "output_type": "stream",
     "text": [
      "(a+b)+c\n",
      "True\n"
     ]
    }
   ],
   "source": [
    "def checkRedundantBrackets(expression):\n",
    "    s = []\n",
    "    count = 0\n",
    "    for char in expression:\n",
    "        if char != ')':\n",
    "            s.append(char)\n",
    "        elif not s or char == ')':\n",
    "            while char != ')':\n",
    "                print(char)\n",
    "                print(s)\n",
    "                s.pop()\n",
    "                count +=1\n",
    "            if count != 0:\n",
    "                return False\n",
    "            else:\n",
    "                return True\n",
    "        \n",
    "string = input()\n",
    "ans = checkRedundantBrackets(string)\n",
    "print(ans)"
   ]
  },
  {
   "cell_type": "markdown",
   "id": "549e0f86",
   "metadata": {},
   "source": [
    "# stock span"
   ]
  },
  {
   "cell_type": "code",
   "execution_count": 71,
   "id": "dd195933",
   "metadata": {},
   "outputs": [
    {
     "name": "stdout",
     "output_type": "stream",
     "text": [
      "1 1 1 2 1 4 5 \n"
     ]
    }
   ],
   "source": [
    "# def calculateSpan(a, n):\n",
    "#     s = []\n",
    "#     ans = []\n",
    "#     for i in range(0, n):\n",
    "#         print(\"value\",s)\n",
    "#         print(\"ansvalu\",ans)\n",
    " \n",
    "#         while(s != [] and a[s[-1]] <a[i]):\n",
    "#             print(s.pop())\n",
    " \n",
    "#         if(s == []):\n",
    "    \n",
    "#             ans.append(i+1)\n",
    "         \n",
    "                \n",
    "        \n",
    " \n",
    "#         else:\n",
    "#             top = s[-1]\n",
    "#             print(top)\n",
    "            \n",
    "#             ans.append(i - top)\n",
    " \n",
    "#         s.append(i)\n",
    "#     print(\"add in s\",s)\n",
    "#     print(\"add in ans\",ans)\n",
    " \n",
    "#     return ans\n",
    "\n",
    "def calculateSpan(price, n) :\n",
    "\t#Your code goes here\n",
    "    s = []\n",
    "    ans = [0]*n\n",
    "    # ans[0]=1\n",
    "    # s.append(0)\n",
    "    for i in range(0, n):\n",
    "        \n",
    "        # print(\"value\",s)\n",
    "        # print(\"ansvalu\",ans)\n",
    " \n",
    "        while(s != [] and price[s[-1]] <price[i]):\n",
    "            s.pop()\n",
    " \n",
    "        if(s == []):\n",
    "            ans[i]=i+1\n",
    "            # ans.append(i+1)\n",
    "\t\t\t\n",
    "        \n",
    "        else:\n",
    "            top = s[-1]\n",
    "            # print(top)\n",
    "            ans[i]= i-top\n",
    "            # ans.append(i - top)\n",
    " \n",
    "        s.append(i)\n",
    "    # print(\"add in s\",s)\n",
    "    # print(\"add in ans\",ans)\n",
    " \n",
    "    return ans\n",
    " \n",
    "# A utility function to print elements\n",
    "# of array\n",
    " \n",
    " \n",
    "def printArray(arr, n):\n",
    " \n",
    "    for i in range(n):\n",
    "        print(arr[i], end=' ')\n",
    "    print()\n",
    " \n",
    " \n",
    "# Driver code\n",
    "price = [100,80,60,70,60,75,80]\n",
    "# price = [10,10,10,10]\n",
    "n = len(price)\n",
    "ans = calculateSpan(price, n)\n",
    " \n",
    "# Print the calculated span values\n",
    "printArray(ans, n)"
   ]
  },
  {
   "cell_type": "code",
   "execution_count": 61,
   "id": "6160e2da",
   "metadata": {},
   "outputs": [
    {
     "name": "stdout",
     "output_type": "stream",
     "text": [
      "1\n"
     ]
    }
   ],
   "source": [
    "def countMinReversals(Str):\n",
    " \n",
    "    # Step 1: Initialize a stack of char type and ans as 0.\n",
    "    st = []\n",
    "    ans = 0\n",
    " \n",
    "    # Step 2: Run a loop for each character of the String\n",
    "    for i in range(len(Str)):\n",
    "        # Step 2.1: If ' { ' encountered push it to the\n",
    "        # stack\n",
    "        if (Str[i] == '{'):\n",
    "            st.append(Str[i])\n",
    "        # Step 2.2: If ' } ' is encountered\n",
    "        else:\n",
    "            # Step 2.2.1: If stack has a '{' present for\n",
    "            # '}' encountered, pop from the stack.\n",
    "            if (len(st)>0):\n",
    "                st.pop()\n",
    "            # Step 2.2.2: If stack is empty, change '}' to\n",
    "            # '{' and push it to stack and increment ans by\n",
    "            # 1\n",
    "            else:\n",
    "                st.push('{')\n",
    "                ans += 1\n",
    "             \n",
    "    # Step 3: if stack size is odd return -1.\n",
    "    if (len(st) % 2 != 0):\n",
    "        return -1\n",
    "    # Step 4: Increment ans by ( stackSize/2 ).\n",
    "    ans += len(st) // 2\n",
    " \n",
    "    return ans\n",
    " \n",
    "# driver code\n",
    " \n",
    "expr = \"{{{{}}\"\n",
    "print(countMinReversals(expr))"
   ]
  }
 ],
 "metadata": {
  "kernelspec": {
   "display_name": "Python 3 (ipykernel)",
   "language": "python",
   "name": "python3"
  },
  "language_info": {
   "codemirror_mode": {
    "name": "ipython",
    "version": 3
   },
   "file_extension": ".py",
   "mimetype": "text/x-python",
   "name": "python",
   "nbconvert_exporter": "python",
   "pygments_lexer": "ipython3",
   "version": "3.10.9"
  }
 },
 "nbformat": 4,
 "nbformat_minor": 5
}
