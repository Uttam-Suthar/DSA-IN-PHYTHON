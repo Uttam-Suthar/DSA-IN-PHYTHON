{
 "cells": [
  {
   "cell_type": "code",
   "execution_count": 12,
   "id": "e9fe983a",
   "metadata": {},
   "outputs": [
    {
     "name": "stdout",
     "output_type": "stream",
     "text": [
      "4\n",
      "1 2 3 4\n",
      "None\n",
      "[4, 3, 2, 1]\n",
      "1 [4, 3, 2]\n",
      "2 [4, 3]\n",
      "3 [4]\n",
      "4 "
     ]
    }
   ],
   "source": [
    "def reverse(s1,s2):\n",
    "    if len(s1)<=1:\n",
    "        return\n",
    "    while len(s1) !=1:\n",
    "        ele= s1.pop()\n",
    "        s2.append(ele)\n",
    "    lastelem=s1.pop()\n",
    "    while len(s2) !=0:\n",
    "        ele= s2.pop()\n",
    "        s1.append(ele)\n",
    "    reverse(s1,s2)\n",
    "    s1.append(lastelem)\n",
    "\n",
    "\n",
    "\n",
    "n=int(input())\n",
    "s1=[int(ele) for ele in input().split()]\n",
    "s2=[]\n",
    "print(reverse(s1,s2))\n",
    "# s1\n",
    "while len(s1) !=0:\n",
    "    print(s1)\n",
    "    print(s1.pop(),end=\" \")\n",
    "    \n",
    "    "
   ]
  }
 ],
 "metadata": {
  "kernelspec": {
   "display_name": "Python 3 (ipykernel)",
   "language": "python",
   "name": "python3"
  },
  "language_info": {
   "codemirror_mode": {
    "name": "ipython",
    "version": 3
   },
   "file_extension": ".py",
   "mimetype": "text/x-python",
   "name": "python",
   "nbconvert_exporter": "python",
   "pygments_lexer": "ipython3",
   "version": "3.10.9"
  }
 },
 "nbformat": 4,
 "nbformat_minor": 5
}
