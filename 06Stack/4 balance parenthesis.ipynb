{
 "cells": [
  {
   "cell_type": "code",
   "execution_count": 18,
   "id": "bd78a4b1",
   "metadata": {},
   "outputs": [
    {
     "name": "stderr",
     "output_type": "stream",
     "text": [
      "<>:6: SyntaxWarning: \"is\" with a literal. Did you mean \"==\"?\n",
      "<>:11: SyntaxWarning: \"is\" with a literal. Did you mean \"==\"?\n",
      "<>:16: SyntaxWarning: \"is\" with a literal. Did you mean \"==\"?\n",
      "<>:6: SyntaxWarning: \"is\" with a literal. Did you mean \"==\"?\n",
      "<>:11: SyntaxWarning: \"is\" with a literal. Did you mean \"==\"?\n",
      "<>:16: SyntaxWarning: \"is\" with a literal. Did you mean \"==\"?\n",
      "C:\\Users\\Hp\\AppData\\Local\\Temp\\ipykernel_1208\\324715504.py:6: SyntaxWarning: \"is\" with a literal. Did you mean \"==\"?\n",
      "  elif char is ')':\n",
      "C:\\Users\\Hp\\AppData\\Local\\Temp\\ipykernel_1208\\324715504.py:11: SyntaxWarning: \"is\" with a literal. Did you mean \"==\"?\n",
      "  elif char is '}':\n",
      "C:\\Users\\Hp\\AppData\\Local\\Temp\\ipykernel_1208\\324715504.py:16: SyntaxWarning: \"is\" with a literal. Did you mean \"==\"?\n",
      "  elif char is ']':\n"
     ]
    },
    {
     "name": "stdout",
     "output_type": "stream",
     "text": [
      "{({})}\n",
      "True\n"
     ]
    }
   ],
   "source": [
    "def isbalance(str):\n",
    "    s=[]\n",
    "    for char in str:\n",
    "        if char in \"({[\":\n",
    "            s.append(char)\n",
    "        elif char is ')':\n",
    "            if not s or s[-1] != \"(\":\n",
    "                print(\"this\",char)\n",
    "                return False\n",
    "            s.pop()\n",
    "        elif char is '}':\n",
    "            if not s or s[-1] != \"{\":\n",
    "                print(char)\n",
    "                return False\n",
    "            s.pop()\n",
    "        elif char is ']':\n",
    "            if not s or s[-1] != \"[\":\n",
    "                print(char)\n",
    "                return False\n",
    "            s.pop()\n",
    "    if not s:\n",
    "        return True\n",
    "    else:\n",
    "        return False\n",
    "str=input()\n",
    "str=isbalance(str)\n",
    "print(str)"
   ]
  }
 ],
 "metadata": {
  "kernelspec": {
   "display_name": "Python 3 (ipykernel)",
   "language": "python",
   "name": "python3"
  },
  "language_info": {
   "codemirror_mode": {
    "name": "ipython",
    "version": 3
   },
   "file_extension": ".py",
   "mimetype": "text/x-python",
   "name": "python",
   "nbconvert_exporter": "python",
   "pygments_lexer": "ipython3",
   "version": "3.10.9"
  }
 },
 "nbformat": 4,
 "nbformat_minor": 5
}
