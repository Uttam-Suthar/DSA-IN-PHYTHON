{
 "cells": [
  {
   "cell_type": "code",
   "execution_count": 2,
   "id": "d2e01514",
   "metadata": {},
   "outputs": [
    {
     "name": "stdout",
     "output_type": "stream",
     "text": [
      "4 4\n",
      "0 1 2\n",
      "1 3 3\n",
      "0 2 5\n",
      "2 3 8\n",
      "0 1 2\n",
      "1 3 3\n",
      "0 2 5\n"
     ]
    }
   ],
   "source": [
    "class Edge:\n",
    "    def __init__(self,src,dest,wt):\n",
    "        self.src=src\n",
    "        self.dest=dest\n",
    "        self.wt=wt\n",
    "def getParent(v,parent):\n",
    "    if v== parent[v]:\n",
    "        return v\n",
    "    return getParent(parent[v],parent)\n",
    "    \n",
    "def kruskal(edges,nvertices):\n",
    "    parent=[i for i in range(nvertices)]\n",
    "    edges=sorted(edges,key=lambda edge:edge.wt)\n",
    "    count=0\n",
    "    i=0\n",
    "    output=[]\n",
    "    while count<(nvertices-1):\n",
    "        currEdge=edges[i]\n",
    "        srcParent=getParent(currEdge.src,parent)\n",
    "        destParent=getParent(currEdge.dest,parent)\n",
    "        \n",
    "        if srcParent !=destParent:\n",
    "            output.append(currEdge)\n",
    "            count +=1\n",
    "            parent[srcParent]=destParent\n",
    "        i +=1\n",
    "    return output\n",
    "        \n",
    "        \n",
    "li = [int(ele) for ele in input().split()]\n",
    "n=li[0]\n",
    "e=li[1]\n",
    "edges=[]\n",
    "for i in range(e):\n",
    "    currinput=[int(ele) for ele in input().split()]\n",
    "    src=currinput[0]\n",
    "    dest=currinput[1]\n",
    "    wt=currinput[2]\n",
    "    edge=Edge(src,dest,wt)\n",
    "    edges.append(edge)\n",
    "\n",
    "output=kruskal(edges,n)\n",
    "\n",
    "for edge in output:\n",
    "    if edge.src<edge.dest:\n",
    "        print(str(edge.src) +\" \"+ str(edge.dest) +\" \"+ str(edge.wt))\n",
    "        \n",
    "    else:\n",
    "        print(str(edge.dest) +\" \"+ str(edge.src) +\" \"+ str(edge.wt))"
   ]
  },
  {
   "cell_type": "code",
   "execution_count": 2,
   "id": "25f3a2b7",
   "metadata": {},
   "outputs": [
    {
     "name": "stdout",
     "output_type": "stream",
     "text": [
      "4 4\n",
      "0 1 2\n",
      "1 3 3\n",
      "0 2 5\n",
      "2 3 8\n",
      "0 1 2\n",
      "1 3 3\n",
      "0 2 5\n"
     ]
    }
   ],
   "source": []
  }
 ],
 "metadata": {
  "kernelspec": {
   "display_name": "Python 3 (ipykernel)",
   "language": "python",
   "name": "python3"
  },
  "language_info": {
   "codemirror_mode": {
    "name": "ipython",
    "version": 3
   },
   "file_extension": ".py",
   "mimetype": "text/x-python",
   "name": "python",
   "nbconvert_exporter": "python",
   "pygments_lexer": "ipython3",
   "version": "3.10.9"
  }
 },
 "nbformat": 4,
 "nbformat_minor": 5
}
