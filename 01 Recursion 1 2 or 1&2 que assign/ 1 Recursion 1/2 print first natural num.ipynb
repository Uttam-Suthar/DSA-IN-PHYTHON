{
 "cells": [
  {
   "cell_type": "markdown",
   "id": "c5ae3224",
   "metadata": {},
   "source": [
    "# print 1 to n"
   ]
  },
  {
   "cell_type": "code",
   "execution_count": 1,
   "id": "21acadc9",
   "metadata": {},
   "outputs": [
    {
     "name": "stdout",
     "output_type": "stream",
     "text": [
      "1\n",
      "2\n",
      "3\n",
      "4\n",
      "5\n",
      "6\n",
      "7\n",
      "8\n",
      "9\n",
      "10\n"
     ]
    }
   ],
   "source": [
    "def print1ton(n):\n",
    "    if n==0:\n",
    "        return\n",
    "    print1ton(n-1)\n",
    "    print(n)\n",
    "    return\n",
    "print1ton(10)"
   ]
  },
  {
   "cell_type": "markdown",
   "id": "eb34163c",
   "metadata": {},
   "source": [
    "# print natural no n to 1"
   ]
  },
  {
   "cell_type": "code",
   "execution_count": 6,
   "id": "d5c14acb",
   "metadata": {},
   "outputs": [
    {
     "name": "stdout",
     "output_type": "stream",
     "text": [
      "5\n",
      "4\n",
      "3\n",
      "2\n",
      "1\n"
     ]
    }
   ],
   "source": [
    "def print1ton(n):\n",
    "    if n==0:\n",
    "        return\n",
    "    print(n)\n",
    "    print1ton(n-1)\n",
    "#     return\n",
    "print1ton(5)"
   ]
  }
 ],
 "metadata": {
  "kernelspec": {
   "display_name": "Python 3 (ipykernel)",
   "language": "python",
   "name": "python3"
  },
  "language_info": {
   "codemirror_mode": {
    "name": "ipython",
    "version": 3
   },
   "file_extension": ".py",
   "mimetype": "text/x-python",
   "name": "python",
   "nbconvert_exporter": "python",
   "pygments_lexer": "ipython3",
   "version": "3.10.9"
  }
 },
 "nbformat": 4,
 "nbformat_minor": 5
}
