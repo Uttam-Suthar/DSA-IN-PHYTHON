{
 "cells": [
  {
   "cell_type": "code",
   "execution_count": null,
   "id": "afd69e10",
   "metadata": {},
   "outputs": [],
   "source": [
    "def func(num):\n",
    "    return func(num-1)\n",
    "num = 5\n",
    "ans = func(num-1)\n",
    "print(ans)"
   ]
  },
  {
   "cell_type": "code",
   "execution_count": 1,
   "id": "0e90738d",
   "metadata": {},
   "outputs": [
    {
     "name": "stdout",
     "output_type": "stream",
     "text": [
      "5 3 1 "
     ]
    }
   ],
   "source": [
    "def printNumbers(n):\n",
    "    if(n<0):\n",
    "        return\n",
    "    print(n,end=\" \")\n",
    "    printNumbers(n-2)\n",
    "num = 5\n",
    "printNumbers(num)"
   ]
  },
  {
   "cell_type": "code",
   "execution_count": 2,
   "id": "9fc74270",
   "metadata": {},
   "outputs": [
    {
     "name": "stdout",
     "output_type": "stream",
     "text": [
      "16\n"
     ]
    }
   ],
   "source": [
    "def fun(n):\n",
    "    if(n == 4):\n",
    "        return n\n",
    "    else:\n",
    "        return 2*fun(n+1)\n",
    "\n",
    "\n",
    "print(fun(2))"
   ]
  },
  {
   "cell_type": "code",
   "execution_count": null,
   "id": "b46ea088",
   "metadata": {},
   "outputs": [],
   "source": []
  },
  {
   "cell_type": "code",
   "execution_count": null,
   "id": "46fdfa9a",
   "metadata": {},
   "outputs": [],
   "source": []
  },
  {
   "cell_type": "code",
   "execution_count": null,
   "id": "92f499c0",
   "metadata": {},
   "outputs": [],
   "source": []
  }
 ],
 "metadata": {
  "kernelspec": {
   "display_name": "Python 3 (ipykernel)",
   "language": "python",
   "name": "python3"
  },
  "language_info": {
   "codemirror_mode": {
    "name": "ipython",
    "version": 3
   },
   "file_extension": ".py",
   "mimetype": "text/x-python",
   "name": "python",
   "nbconvert_exporter": "python",
   "pygments_lexer": "ipython3",
   "version": "3.10.9"
  }
 },
 "nbformat": 4,
 "nbformat_minor": 5
}
