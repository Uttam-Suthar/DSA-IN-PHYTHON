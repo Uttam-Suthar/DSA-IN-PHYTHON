{
 "cells": [
  {
   "cell_type": "code",
   "execution_count": null,
   "id": "0c06a60b",
   "metadata": {},
   "outputs": [],
   "source": [
    "def fact(n):\n",
    "    return n*fact(n-1)\n",
    "print(fact(2))"
   ]
  },
  {
   "cell_type": "code",
   "execution_count": 1,
   "id": "18968bd2",
   "metadata": {},
   "outputs": [
    {
     "data": {
      "text/plain": [
       "2"
      ]
     },
     "execution_count": 1,
     "metadata": {},
     "output_type": "execute_result"
    }
   ],
   "source": [
    "def fact(n):\n",
    "    if n==0:\n",
    "        return 1\n",
    "    return n*fact(n-1)\n",
    "fact(2)"
   ]
  },
  {
   "cell_type": "code",
   "execution_count": 3,
   "id": "275d9206",
   "metadata": {},
   "outputs": [
    {
     "data": {
      "text/plain": [
       "2"
      ]
     },
     "execution_count": 3,
     "metadata": {},
     "output_type": "execute_result"
    }
   ],
   "source": [
    "def fact(n):\n",
    "    if n==0:\n",
    "        return 1\n",
    "    smalloutput= fact(n-1)\n",
    "    return n*smalloutput\n",
    "fact(2)"
   ]
  },
  {
   "cell_type": "markdown",
   "id": "553ad46f",
   "metadata": {},
   "source": [
    "# problem solving\n"
   ]
  },
  {
   "cell_type": "code",
   "execution_count": 6,
   "id": "86aa038b",
   "metadata": {},
   "outputs": [
    {
     "name": "stdout",
     "output_type": "stream",
     "text": [
      "15\n",
      "120\n"
     ]
    }
   ],
   "source": [
    "def sumn(n):\n",
    "    if n==0:\n",
    "        return 0\n",
    "    smalloutput=sumn(n-1)\n",
    "    output=n+smalloutput\n",
    "    return output\n",
    "print(sumn(5))\n",
    "print(fact(5))"
   ]
  }
 ],
 "metadata": {
  "kernelspec": {
   "display_name": "Python 3 (ipykernel)",
   "language": "python",
   "name": "python3"
  },
  "language_info": {
   "codemirror_mode": {
    "name": "ipython",
    "version": 3
   },
   "file_extension": ".py",
   "mimetype": "text/x-python",
   "name": "python",
   "nbconvert_exporter": "python",
   "pygments_lexer": "ipython3",
   "version": "3.10.9"
  }
 },
 "nbformat": 4,
 "nbformat_minor": 5
}
