{
 "cells": [
  {
   "cell_type": "code",
   "execution_count": null,
   "id": "e8b86508",
   "metadata": {},
   "outputs": [],
   "source": [
    "def fib(n):\n",
    "    if n==1:\n",
    "        return 1\n",
    "    fib1=fib(n-1)\n",
    "    fib2=fib(n-2)\n",
    "    return fib1+fib2\n",
    "n=4\n",
    "fib(n)"
   ]
  },
  {
   "cell_type": "code",
   "execution_count": 6,
   "id": "ae1480c4",
   "metadata": {},
   "outputs": [
    {
     "data": {
      "text/plain": [
       "3"
      ]
     },
     "execution_count": 6,
     "metadata": {},
     "output_type": "execute_result"
    }
   ],
   "source": [
    "def fib(n):\n",
    "    if n==1 or n==2:\n",
    "        return 1\n",
    "    fib1=fib(n-1)\n",
    "    fib2=fib(n-2)\n",
    "    output= fib1+fib2\n",
    "    return output\n",
    "n=4\n",
    "\n",
    "fib(n)"
   ]
  }
 ],
 "metadata": {
  "kernelspec": {
   "display_name": "Python 3 (ipykernel)",
   "language": "python",
   "name": "python3"
  },
  "language_info": {
   "codemirror_mode": {
    "name": "ipython",
    "version": 3
   },
   "file_extension": ".py",
   "mimetype": "text/x-python",
   "name": "python",
   "nbconvert_exporter": "python",
   "pygments_lexer": "ipython3",
   "version": "3.10.9"
  }
 },
 "nbformat": 4,
 "nbformat_minor": 5
}
