{
 "cells": [
  {
   "cell_type": "code",
   "execution_count": 1,
   "id": "097604dc",
   "metadata": {},
   "outputs": [
    {
     "data": {
      "text/plain": [
       "7"
      ]
     },
     "execution_count": 1,
     "metadata": {},
     "output_type": "execute_result"
    }
   ],
   "source": [
    "def lastindex(a,x):\n",
    "    l=len(a)\n",
    "    if l==0:\n",
    "        return -1\n",
    "    smallList = a[1:]\n",
    "    smallListoutput=lastindex(smallList,x)\n",
    "    if smallListoutput !=-1:\n",
    "        return smallListoutput+1\n",
    "    else:\n",
    "        if a[0]==x:\n",
    "            return 0\n",
    "        else:\n",
    "            return -1\n",
    "        \n",
    "        \n",
    "a=[1,2,3,4,5,6,7,4,7,8]\n",
    "x=4\n",
    "lastindex(a,x)"
   ]
  },
  {
   "cell_type": "code",
   "execution_count": 2,
   "id": "9a3a36f6",
   "metadata": {},
   "outputs": [
    {
     "data": {
      "text/plain": [
       "7"
      ]
     },
     "execution_count": 2,
     "metadata": {},
     "output_type": "execute_result"
    }
   ],
   "source": [
    "def lastindexB(a,x,si):\n",
    "    l = len(a)\n",
    "    if si==l:\n",
    "        return -1\n",
    "    smallListoutput=lastindexB(a,x,si+1)\n",
    "    if smallListoutput !=-1:\n",
    "        return smallListoutput\n",
    "    else:\n",
    "        if a[si]==x:\n",
    "            return si\n",
    "        else:\n",
    "            return -1\n",
    "a=[1,2,3,4,5,6,7,4,7,8]\n",
    "x=4        \n",
    "lastindexB(a,x,0)        "
   ]
  }
 ],
 "metadata": {
  "kernelspec": {
   "display_name": "Python 3 (ipykernel)",
   "language": "python",
   "name": "python3"
  },
  "language_info": {
   "codemirror_mode": {
    "name": "ipython",
    "version": 3
   },
   "file_extension": ".py",
   "mimetype": "text/x-python",
   "name": "python",
   "nbconvert_exporter": "python",
   "pygments_lexer": "ipython3",
   "version": "3.10.9"
  }
 },
 "nbformat": 4,
 "nbformat_minor": 5
}
