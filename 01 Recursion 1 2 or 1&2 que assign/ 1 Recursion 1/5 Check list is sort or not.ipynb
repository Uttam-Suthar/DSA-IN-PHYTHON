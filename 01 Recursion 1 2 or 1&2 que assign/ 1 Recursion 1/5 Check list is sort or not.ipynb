{
 "cells": [
  {
   "cell_type": "code",
   "execution_count": 8,
   "id": "7d68e39b",
   "metadata": {},
   "outputs": [
    {
     "data": {
      "text/plain": [
       "True"
      ]
     },
     "execution_count": 8,
     "metadata": {},
     "output_type": "execute_result"
    }
   ],
   "source": [
    "def isSorted(a):\n",
    "    l= len(a)\n",
    "    if l==0 or l==1:\n",
    "        return True\n",
    "    if a[0]>a[1]:\n",
    "        return False\n",
    "    smallList= a[1:]\n",
    "    issamllListsort = isSorted(smallList)\n",
    "#     return issamllListsort\n",
    "    if issamllListsort:\n",
    "        return True\n",
    "    else :\n",
    "        return False\n",
    "a=[1,2,3,4,5,6]\n",
    "isSorted(a)"
   ]
  },
  {
   "cell_type": "markdown",
   "id": "cdd4207e",
   "metadata": {},
   "source": [
    "# check num in array"
   ]
  },
  {
   "cell_type": "code",
   "execution_count": null,
   "id": "8c909ff0",
   "metadata": {},
   "outputs": [],
   "source": [
    "\n",
    "    "
   ]
  },
  {
   "cell_type": "code",
   "execution_count": null,
   "id": "776ecaa7",
   "metadata": {},
   "outputs": [],
   "source": []
  },
  {
   "cell_type": "code",
   "execution_count": null,
   "id": "9b11e576",
   "metadata": {},
   "outputs": [],
   "source": []
  }
 ],
 "metadata": {
  "kernelspec": {
   "display_name": "Python 3 (ipykernel)",
   "language": "python",
   "name": "python3"
  },
  "language_info": {
   "codemirror_mode": {
    "name": "ipython",
    "version": 3
   },
   "file_extension": ".py",
   "mimetype": "text/x-python",
   "name": "python",
   "nbconvert_exporter": "python",
   "pygments_lexer": "ipython3",
   "version": "3.10.9"
  }
 },
 "nbformat": 4,
 "nbformat_minor": 5
}
