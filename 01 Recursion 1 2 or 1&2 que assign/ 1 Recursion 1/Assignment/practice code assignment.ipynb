{
 "cells": [
  {
   "cell_type": "markdown",
   "id": "844a434f",
   "metadata": {},
   "source": [
    "# Power of A Number"
   ]
  },
  {
   "cell_type": "code",
   "execution_count": 4,
   "id": "7a1bf091",
   "metadata": {},
   "outputs": [
    {
     "name": "stdout",
     "output_type": "stream",
     "text": [
      "3 4\n"
     ]
    },
    {
     "data": {
      "text/plain": [
       "81"
      ]
     },
     "execution_count": 4,
     "metadata": {},
     "output_type": "execute_result"
    }
   ],
   "source": [
    "str= input().split()\n",
    "x,n= int(str[0]),int(str[1])\n",
    "def power(a,b):\n",
    "    if b==0:\n",
    "        return 1\n",
    "    smalloutput=power(a,b-1)\n",
    "    output=a*smalloutput\n",
    "    return output\n",
    "\n",
    "power(x,n)"
   ]
  },
  {
   "cell_type": "code",
   "execution_count": 6,
   "id": "1051321a",
   "metadata": {},
   "outputs": [
    {
     "name": "stdout",
     "output_type": "stream",
     "text": [
      "3 4\n"
     ]
    },
    {
     "data": {
      "text/plain": [
       "81"
      ]
     },
     "execution_count": 6,
     "metadata": {},
     "output_type": "execute_result"
    }
   ],
   "source": [
    "a,b= input().split()\n",
    "a=int(a)\n",
    "b=int(b)\n",
    "def power(a,b):\n",
    "    if b==0:\n",
    "        return 1\n",
    "    smalloutput=power(a,b-1)\n",
    "    output=a*smalloutput\n",
    "    return output\n",
    "\n",
    "power(a,b)"
   ]
  },
  {
   "cell_type": "code",
   "execution_count": null,
   "id": "7e7ad5b5",
   "metadata": {},
   "outputs": [],
   "source": []
  },
  {
   "cell_type": "code",
   "execution_count": 10,
   "id": "c3dbecf5",
   "metadata": {},
   "outputs": [
    {
     "name": "stdout",
     "output_type": "stream",
     "text": [
      "12\n"
     ]
    }
   ],
   "source": [
    "def outerfun(x):\n",
    "    def innerfun(y):\n",
    "        return y+1\n",
    "    return innerfun(x)*2\n",
    "\n",
    "print(outerfun(5))"
   ]
  },
  {
   "cell_type": "code",
   "execution_count": 12,
   "id": "1f2ed915",
   "metadata": {},
   "outputs": [
    {
     "name": "stdout",
     "output_type": "stream",
     "text": [
      "3 4\n"
     ]
    },
    {
     "data": {
      "text/plain": [
       "81"
      ]
     },
     "execution_count": 12,
     "metadata": {},
     "output_type": "execute_result"
    }
   ],
   "source": [
    "a,b= input().split()\n",
    "a=int(a)\n",
    "b=int(b)\n",
    "def power(a,b):\n",
    "    if b==0:\n",
    "        return 1\n",
    "    def inpower(a,b):\n",
    "        return a**(b-1)\n",
    "    return inpower(a,b)*a\n",
    "\n",
    "power(a,b)"
   ]
  },
  {
   "cell_type": "markdown",
   "id": "14f7619a",
   "metadata": {},
   "source": [
    "# sum of array"
   ]
  },
  {
   "cell_type": "code",
   "execution_count": 13,
   "id": "c060ce13",
   "metadata": {},
   "outputs": [
    {
     "name": "stdout",
     "output_type": "stream",
     "text": [
      "26\n"
     ]
    }
   ],
   "source": [
    "def sumArray(arr):\n",
    "    if len(arr)==0:\n",
    "        return 0\n",
    "    \n",
    "    smallList=arr[1:]\n",
    "    output= sumArray(smallList)\n",
    "    return output + arr[0]\n",
    "#     return arr[0]+sumArray(arr[1:])\n",
    "a=[8,9,9]\n",
    "print(sumArray(a))"
   ]
  },
  {
   "cell_type": "markdown",
   "id": "969d02d2",
   "metadata": {},
   "source": [
    "# check num in array\n"
   ]
  },
  {
   "cell_type": "code",
   "execution_count": 16,
   "id": "485246a7",
   "metadata": {},
   "outputs": [
    {
     "data": {
      "text/plain": [
       "True"
      ]
     },
     "execution_count": 16,
     "metadata": {},
     "output_type": "execute_result"
    }
   ],
   "source": [
    "def checkNumber(arr,x):\n",
    "#     flag= False\n",
    "    if len(arr)==0:\n",
    "        return False\n",
    "    if arr[0]==x:\n",
    "        return True\n",
    "    smallarray= arr[1:]\n",
    "    output= checkNumber(smallarray,x)\n",
    "#     if output==1:\n",
    "    if output is True:\n",
    "        return True\n",
    "    else:\n",
    "        return False\n",
    "a=[9,8,10]  \n",
    "x=10\n",
    "checkNumber(a,x)\n",
    "        "
   ]
  },
  {
   "cell_type": "markdown",
   "id": "bec506cb",
   "metadata": {},
   "source": [
    "# Fistr index of number"
   ]
  },
  {
   "cell_type": "code",
   "execution_count": 17,
   "id": "230db2fa",
   "metadata": {},
   "outputs": [
    {
     "data": {
      "text/plain": [
       "6"
      ]
     },
     "execution_count": 17,
     "metadata": {},
     "output_type": "execute_result"
    }
   ],
   "source": [
    "def firstindex(a,x):\n",
    "    l=len(a)\n",
    "    if l==0:\n",
    "        return -1\n",
    "    if a[0]==x:\n",
    "        return 0\n",
    "    smallList = a[1:]\n",
    "    smallListOut=firstindex(smallList,x)\n",
    "    if smallListOut == -1:\n",
    "        return -1\n",
    "    else:\n",
    "        return smallListOut+1\n",
    "\n",
    "\n",
    "\n",
    "a=[1,2,3,4,5,6,7,8,9,7]\n",
    "x=7\n",
    "firstindex(a,x)"
   ]
  },
  {
   "cell_type": "code",
   "execution_count": 18,
   "id": "174342d8",
   "metadata": {},
   "outputs": [
    {
     "data": {
      "text/plain": [
       "6"
      ]
     },
     "execution_count": 18,
     "metadata": {},
     "output_type": "execute_result"
    }
   ],
   "source": [
    "def fistindexB(a,x,si):\n",
    "    l=len(a)\n",
    "    if si==l:\n",
    "        return -1\n",
    "    if a[si]==x:\n",
    "        return si\n",
    "    smallListoutput=fistindexB(a,x,si+1)\n",
    "    return smallListoutput\n",
    "\n",
    "a=[1,2,3,4,5,6,7,8,9,7]\n",
    "x=7\n",
    "fistindexB(a,x,0)\n",
    "\n"
   ]
  },
  {
   "cell_type": "markdown",
   "id": "d54ac2f6",
   "metadata": {},
   "source": [
    "# last index of number"
   ]
  },
  {
   "cell_type": "code",
   "execution_count": null,
   "id": "dea30f12",
   "metadata": {},
   "outputs": [],
   "source": [
    "def lastindex(a,x):\n",
    "    l=len(a)\n",
    "    if l==0:\n",
    "        return -1\n",
    "    smallList = a[1:]\n",
    "    smallListoutput=lastindex(smallList,x)\n",
    "    if smallListoutput !=-1:\n",
    "        return smallListoutput+1\n",
    "    else:\n",
    "        if a[0]==x:\n",
    "            return 0\n",
    "        else:\n",
    "            return -1\n",
    "        \n",
    "        \n",
    "a=[1,2,3,4,5,6,7,4,7,8]\n",
    "x=4\n",
    "lastindex(a,x)"
   ]
  },
  {
   "cell_type": "code",
   "execution_count": null,
   "id": "d4f56fb8",
   "metadata": {},
   "outputs": [],
   "source": [
    "def lastindexB(a,x,si):\n",
    "    l = len(a)\n",
    "    if si==l:\n",
    "        return -1\n",
    "    smallListoutput=lastindexB(a,x,si+1)\n",
    "    if smallListoutput !=-1:\n",
    "        return smallListoutput\n",
    "    else:\n",
    "        if a[si]==x:\n",
    "            return si\n",
    "        else:\n",
    "            return -1\n",
    "a=[1,2,3,4,5,6,7,4,7,8]\n",
    "x=4        \n",
    "lastindexB(a,x,0)   "
   ]
  }
 ],
 "metadata": {
  "kernelspec": {
   "display_name": "Python 3 (ipykernel)",
   "language": "python",
   "name": "python3"
  },
  "language_info": {
   "codemirror_mode": {
    "name": "ipython",
    "version": 3
   },
   "file_extension": ".py",
   "mimetype": "text/x-python",
   "name": "python",
   "nbconvert_exporter": "python",
   "pygments_lexer": "ipython3",
   "version": "3.10.9"
  }
 },
 "nbformat": 4,
 "nbformat_minor": 5
}
