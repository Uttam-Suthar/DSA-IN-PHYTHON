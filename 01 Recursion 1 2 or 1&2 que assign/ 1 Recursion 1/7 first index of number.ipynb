{
 "cells": [
  {
   "cell_type": "code",
   "execution_count": 4,
   "id": "55bd6acd",
   "metadata": {},
   "outputs": [
    {
     "data": {
      "text/plain": [
       "6"
      ]
     },
     "execution_count": 4,
     "metadata": {},
     "output_type": "execute_result"
    }
   ],
   "source": [
    "def firstindex(a,x):\n",
    "    l=len(a)\n",
    "    if l==0:\n",
    "        return -1\n",
    "    if a[0]==x:\n",
    "        return 0\n",
    "    smallList = a[1:]\n",
    "    smallListOut=firstindex(smallList,x)\n",
    "    if smallListOut == -1:\n",
    "        return -1\n",
    "    else:\n",
    "        return smallListOut+1\n",
    "\n",
    "\n",
    "\n",
    "a=[1,2,3,4,5,6,7,8,9,7]\n",
    "x=7\n",
    "firstindex(a,x)"
   ]
  },
  {
   "cell_type": "code",
   "execution_count": 5,
   "id": "abcd9812",
   "metadata": {},
   "outputs": [
    {
     "data": {
      "text/plain": [
       "6"
      ]
     },
     "execution_count": 5,
     "metadata": {},
     "output_type": "execute_result"
    }
   ],
   "source": [
    "def fistindexB(a,x,si):\n",
    "    l=len(a)\n",
    "    if si==l:\n",
    "        return -1\n",
    "    if a[si]==x:\n",
    "        return si\n",
    "    smallListoutput=fistindexB(a,x,si+1)\n",
    "    return smallListoutput\n",
    "\n",
    "a=[1,2,3,4,5,6,7,8,9,7]\n",
    "x=7\n",
    "fistindexB(a,x,0)\n",
    "\n"
   ]
  },
  {
   "cell_type": "code",
   "execution_count": null,
   "id": "d9c7346d",
   "metadata": {},
   "outputs": [],
   "source": []
  },
  {
   "cell_type": "code",
   "execution_count": null,
   "id": "045d996e",
   "metadata": {},
   "outputs": [],
   "source": []
  }
 ],
 "metadata": {
  "kernelspec": {
   "display_name": "Python 3 (ipykernel)",
   "language": "python",
   "name": "python3"
  },
  "language_info": {
   "codemirror_mode": {
    "name": "ipython",
    "version": 3
   },
   "file_extension": ".py",
   "mimetype": "text/x-python",
   "name": "python",
   "nbconvert_exporter": "python",
   "pygments_lexer": "ipython3",
   "version": "3.10.9"
  }
 },
 "nbformat": 4,
 "nbformat_minor": 5
}
