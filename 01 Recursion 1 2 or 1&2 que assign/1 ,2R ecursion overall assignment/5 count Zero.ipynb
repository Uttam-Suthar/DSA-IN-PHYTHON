{
 "cells": [
  {
   "cell_type": "code",
   "execution_count": 4,
   "id": "77c69451",
   "metadata": {},
   "outputs": [
    {
     "name": "stdout",
     "output_type": "stream",
     "text": [
      "0\n",
      "1\n"
     ]
    }
   ],
   "source": [
    "count =0\n",
    "def countZero(n):\n",
    "    global count\n",
    "#     if n>0:\n",
    "    if n==0:\n",
    "        return 1\n",
    "    if n%10==0:\n",
    "        count=count+1\n",
    "    countZero(n//10)\n",
    "    return count\n",
    "\n",
    "n=int(input())\n",
    "# n=00010204\n",
    "print(countZero(n))"
   ]
  },
  {
   "cell_type": "code",
   "execution_count": null,
   "id": "74bc8fb8",
   "metadata": {},
   "outputs": [],
   "source": []
  }
 ],
 "metadata": {
  "kernelspec": {
   "display_name": "Python 3 (ipykernel)",
   "language": "python",
   "name": "python3"
  },
  "language_info": {
   "codemirror_mode": {
    "name": "ipython",
    "version": 3
   },
   "file_extension": ".py",
   "mimetype": "text/x-python",
   "name": "python",
   "nbconvert_exporter": "python",
   "pygments_lexer": "ipython3",
   "version": "3.10.9"
  }
 },
 "nbformat": 4,
 "nbformat_minor": 5
}
