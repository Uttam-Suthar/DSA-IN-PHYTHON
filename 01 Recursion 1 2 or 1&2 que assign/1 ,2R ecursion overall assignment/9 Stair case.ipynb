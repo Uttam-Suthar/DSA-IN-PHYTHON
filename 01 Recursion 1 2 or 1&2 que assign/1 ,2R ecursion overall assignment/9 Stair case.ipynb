{
 "cells": [
  {
   "cell_type": "code",
   "execution_count": 3,
   "id": "e94107f5",
   "metadata": {},
   "outputs": [
    {
     "name": "stdout",
     "output_type": "stream",
     "text": [
      "7\n",
      "44\n"
     ]
    }
   ],
   "source": [
    "def staircase(n):\n",
    "    if n==0:\n",
    "        return 1\n",
    "    if n<0:\n",
    "        return 0\n",
    "    output= staircase(n-3)+staircase(n-2)+staircase(n-1)\n",
    "    return output\n",
    "n=int(input())\n",
    "print(staircase(n))"
   ]
  },
  {
   "cell_type": "code",
   "execution_count": 5,
   "id": "bfa1d8ef",
   "metadata": {},
   "outputs": [
    {
     "name": "stdout",
     "output_type": "stream",
     "text": [
      "4\n",
      "5\n"
     ]
    }
   ],
   "source": [
    "def staircase(n):\n",
    "    if n==0:\n",
    "        return 1\n",
    "    if n<0:\n",
    "        return 0\n",
    "    output= staircase(n-2)+staircase(n-1)\n",
    "    return output\n",
    "n=int(input())\n",
    "print(staircase(n))"
   ]
  }
 ],
 "metadata": {
  "kernelspec": {
   "display_name": "Python 3 (ipykernel)",
   "language": "python",
   "name": "python3"
  },
  "language_info": {
   "codemirror_mode": {
    "name": "ipython",
    "version": 3
   },
   "file_extension": ".py",
   "mimetype": "text/x-python",
   "name": "python",
   "nbconvert_exporter": "python",
   "pygments_lexer": "ipython3",
   "version": "3.10.9"
  }
 },
 "nbformat": 4,
 "nbformat_minor": 5
}
