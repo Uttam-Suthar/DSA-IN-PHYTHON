{
 "cells": [
  {
   "cell_type": "code",
   "execution_count": 4,
   "id": "c7eb2947",
   "metadata": {},
   "outputs": [
    {
     "name": "stdout",
     "output_type": "stream",
     "text": [
      "aaaa\n",
      "a*a*a*a\n"
     ]
    }
   ],
   "source": [
    "def printStar(str):\n",
    "    if len(str)==1:\n",
    "        return str\n",
    "    smallstr=printStar(str[1:])\n",
    "    if str[0]==str[1]:\n",
    "        return str[0]+ \"*\" + smallstr\n",
    "    return  str[0] + smallstr\n",
    "    \n",
    "str=input()\n",
    "# str=\"hello\" \n",
    "# str=\"aaaa\"\n",
    "print(printStar(str))    "
   ]
  }
 ],
 "metadata": {
  "kernelspec": {
   "display_name": "Python 3 (ipykernel)",
   "language": "python",
   "name": "python3"
  },
  "language_info": {
   "codemirror_mode": {
    "name": "ipython",
    "version": 3
   },
   "file_extension": ".py",
   "mimetype": "text/x-python",
   "name": "python",
   "nbconvert_exporter": "python",
   "pygments_lexer": "ipython3",
   "version": "3.10.9"
  }
 },
 "nbformat": 4,
 "nbformat_minor": 5
}
