{
 "cells": [
  {
   "cell_type": "code",
   "execution_count": 62,
   "id": "62306288",
   "metadata": {},
   "outputs": [
    {
     "name": "stdout",
     "output_type": "stream",
     "text": [
      "true\n"
     ]
    }
   ],
   "source": [
    "def checkAB(str):\n",
    "    if len(str)==0:\n",
    "        return True\n",
    "    \n",
    "    if str[0] ==\"a\" :\n",
    "        if len(str[1:])>1 and  str[1:3]==\"bb\":\n",
    "            return checkAB(str[3:])\n",
    "        else :   \n",
    "            return checkAB(str[1:])\n",
    "    else:\n",
    "        return False\n",
    "\n",
    "    \n",
    "# str=input()\n",
    "# str=\"abb\" \n",
    "# str=\"abababa\"\n",
    "# str=\"abbbabaaa\"\n",
    "# str=\"aa\"\n",
    "str='abbaabb'\n",
    "if checkAB(str):\n",
    "    print(\"true\")\n",
    "else:\n",
    "    print(\"false\")\n"
   ]
  },
  {
   "cell_type": "code",
   "execution_count": 63,
   "id": "2de67a51",
   "metadata": {},
   "outputs": [
    {
     "name": "stdout",
     "output_type": "stream",
     "text": [
      "abbaabb\n",
      "true\n"
     ]
    }
   ],
   "source": [
    "def check_ab(str):\n",
    "    if (len(str)==0):\n",
    "        return True\n",
    "    \n",
    "    if (str[0] == 'a'):\n",
    "        \n",
    "        if (len(str[1:])>1 and str[1:3] == 'bb'):\n",
    "            return check_ab(str[3:])\n",
    "        \n",
    "        else:\n",
    "            return check_ab(str[1:])\n",
    "        \n",
    "    else:\n",
    "        return False\n",
    "    \n",
    "\n",
    "str = input()\n",
    "if (check_ab(str)):\n",
    "    print(\"true\")\n",
    "else:\n",
    "    print(\"false\")"
   ]
  }
 ],
 "metadata": {
  "kernelspec": {
   "display_name": "Python 3 (ipykernel)",
   "language": "python",
   "name": "python3"
  },
  "language_info": {
   "codemirror_mode": {
    "name": "ipython",
    "version": 3
   },
   "file_extension": ".py",
   "mimetype": "text/x-python",
   "name": "python",
   "nbconvert_exporter": "python",
   "pygments_lexer": "ipython3",
   "version": "3.10.9"
  }
 },
 "nbformat": 4,
 "nbformat_minor": 5
}
