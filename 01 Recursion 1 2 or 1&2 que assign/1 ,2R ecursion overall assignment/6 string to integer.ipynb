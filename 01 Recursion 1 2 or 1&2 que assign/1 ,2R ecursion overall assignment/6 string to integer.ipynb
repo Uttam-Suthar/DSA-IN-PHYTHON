{
 "cells": [
  {
   "cell_type": "code",
   "execution_count": 7,
   "id": "66d90d35",
   "metadata": {},
   "outputs": [
    {
     "name": "stdout",
     "output_type": "stream",
     "text": [
      "001232\n",
      "<class 'str'>\n",
      "1232\n",
      "<class 'int'>\n"
     ]
    }
   ],
   "source": [
    "def stringTointerger(str):\n",
    "    if len(str)==1:\n",
    "        return ord(str[0])-ord('0')\n",
    "    smallstr=stringTointerger(str[1:])\n",
    "    # fist element get\n",
    "    a=ord(str[0])-ord('0')\n",
    "    output=a*(10**(len(str)-1))+smallstr\n",
    "    return output\n",
    "\n",
    "str=input()\n",
    "# print(type(str))\n",
    "print(stringTointerger(str))\n",
    "# print(type(stringTointerger(str)))"
   ]
  },
  {
   "cell_type": "code",
   "execution_count": null,
   "id": "4d0693a8",
   "metadata": {},
   "outputs": [],
   "source": [
    "str=\"1235\"\n",
    "str=\"0001231\"\n",
    "chr(ord(\"0\"))\n",
    "ord('0')\n",
    "chr(48)\n",
    "# chr(ord(str[0]))\n",
    "str[0]"
   ]
  }
 ],
 "metadata": {
  "kernelspec": {
   "display_name": "Python 3 (ipykernel)",
   "language": "python",
   "name": "python3"
  },
  "language_info": {
   "codemirror_mode": {
    "name": "ipython",
    "version": 3
   },
   "file_extension": ".py",
   "mimetype": "text/x-python",
   "name": "python",
   "nbconvert_exporter": "python",
   "pygments_lexer": "ipython3",
   "version": "3.10.9"
  }
 },
 "nbformat": 4,
 "nbformat_minor": 5
}
