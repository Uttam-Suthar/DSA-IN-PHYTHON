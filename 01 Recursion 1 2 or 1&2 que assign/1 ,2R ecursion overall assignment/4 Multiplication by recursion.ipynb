{
 "cells": [
  {
   "cell_type": "code",
   "execution_count": 4,
   "id": "6a98664a",
   "metadata": {},
   "outputs": [
    {
     "name": "stdout",
     "output_type": "stream",
     "text": [
      "0\n",
      "3\n",
      "6\n",
      "9\n",
      "12\n",
      "15\n"
     ]
    }
   ],
   "source": [
    "def multi(n,m):\n",
    "    if n==0 or m==0:\n",
    "        return 0\n",
    "    output =multi(n,m-1)\n",
    "    print(output)\n",
    "    return n+output\n",
    "    \n",
    "# n=int(input())\n",
    "# m=int(input())\n",
    "print(multi(3,5))"
   ]
  }
 ],
 "metadata": {
  "kernelspec": {
   "display_name": "Python 3 (ipykernel)",
   "language": "python",
   "name": "python3"
  },
  "language_info": {
   "codemirror_mode": {
    "name": "ipython",
    "version": 3
   },
   "file_extension": ".py",
   "mimetype": "text/x-python",
   "name": "python",
   "nbconvert_exporter": "python",
   "pygments_lexer": "ipython3",
   "version": "3.10.9"
  }
 },
 "nbformat": 4,
 "nbformat_minor": 5
}
