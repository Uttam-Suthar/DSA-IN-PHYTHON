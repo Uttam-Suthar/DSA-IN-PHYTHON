{
 "cells": [
  {
   "cell_type": "markdown",
   "id": "17050c36",
   "metadata": {},
   "source": [
    "# Geometric sum\n"
   ]
  },
  {
   "cell_type": "code",
   "execution_count": 40,
   "id": "7dfb98ca",
   "metadata": {},
   "outputs": [
    {
     "name": "stdout",
     "output_type": "stream",
     "text": [
      "3\n",
      "rec 3\n",
      "after else 3\n",
      "rec 2\n",
      "after else 2\n",
      "rec 1\n",
      "after else 1\n",
      "rec 0\n",
      "after if when n==0  0\n",
      "this is return  1\n",
      "this is sum 1\n",
      "clcu 0.5\n",
      "this is sum 1.5\n",
      "clcu 0.75\n",
      "this is sum 1.75\n",
      "clcu 0.875\n"
     ]
    },
    {
     "data": {
      "text/plain": [
       "1.875"
      ]
     },
     "execution_count": 40,
     "metadata": {},
     "output_type": "execute_result"
    }
   ],
   "source": [
    " \n",
    "def geometricSum(n):\n",
    "    print(\"rec\",n)\n",
    "    if n==0:\n",
    "        print(\"after if when n==0 \",n)\n",
    "        out=1\n",
    "        print(\"this is return \", out)\n",
    "        return out\n",
    "    else:\n",
    "        print('after else',n)\n",
    "        sum=geometricSum(n-1)\n",
    "        print(\"this is sum\",sum)\n",
    "        output=(1/2)*sum\n",
    "        print(\"clcu\",output)\n",
    "        return 1+ output\n",
    "n=int(input())\n",
    "geometricSum(n)"
   ]
  },
  {
   "cell_type": "code",
   "execution_count": 61,
   "id": "cd7d5ef8",
   "metadata": {},
   "outputs": [
    {
     "name": "stdout",
     "output_type": "stream",
     "text": [
      "3\n"
     ]
    },
    {
     "data": {
      "text/plain": [
       "1.875"
      ]
     },
     "execution_count": 61,
     "metadata": {},
     "output_type": "execute_result"
    }
   ],
   "source": [
    "def geometricSum(n):\n",
    "    if n==0:\n",
    "        return 1\n",
    "    else:\n",
    "        sum=geometricSum(n-1)\n",
    "        output=(1/2)*sum\n",
    "        return 1+ output\n",
    "n=int(input())\n",
    "geometricSum(n)"
   ]
  },
  {
   "cell_type": "code",
   "execution_count": 18,
   "id": "9f5470e0",
   "metadata": {},
   "outputs": [
    {
     "name": "stdout",
     "output_type": "stream",
     "text": [
      "3\n"
     ]
    },
    {
     "data": {
      "text/plain": [
       "1.875"
      ]
     },
     "execution_count": 18,
     "metadata": {},
     "output_type": "execute_result"
    }
   ],
   "source": [
    " \n",
    "def geometricSum(n):\n",
    "    if n==0:\n",
    "        return 1\n",
    "    else:\n",
    "        return (1/pow(2,n))+geometricSum(n-1)\n",
    "n=int(input())\n",
    "geometricSum(n)"
   ]
  },
  {
   "cell_type": "code",
   "execution_count": 81,
   "id": "ceb64c35",
   "metadata": {},
   "outputs": [
    {
     "name": "stdout",
     "output_type": "stream",
     "text": [
      "3\n",
      "1.87500\n"
     ]
    }
   ],
   "source": [
    " \n",
    "def geometricSum(n):\n",
    "    if n==0:\n",
    "        return 1\n",
    "    smallList=geometricSum(n-1)\n",
    "    return 1/(2**n)+smallList\n",
    "n=int(input())\n",
    "result=geometricSum(n)\n",
    "print(\"%.5f\"%result)"
   ]
  }
 ],
 "metadata": {
  "kernelspec": {
   "display_name": "Python 3 (ipykernel)",
   "language": "python",
   "name": "python3"
  },
  "language_info": {
   "codemirror_mode": {
    "name": "ipython",
    "version": 3
   },
   "file_extension": ".py",
   "mimetype": "text/x-python",
   "name": "python",
   "nbconvert_exporter": "python",
   "pygments_lexer": "ipython3",
   "version": "3.10.9"
  }
 },
 "nbformat": 4,
 "nbformat_minor": 5
}
