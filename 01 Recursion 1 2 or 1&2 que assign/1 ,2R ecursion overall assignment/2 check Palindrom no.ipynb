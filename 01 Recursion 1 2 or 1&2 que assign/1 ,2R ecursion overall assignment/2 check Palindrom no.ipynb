{
 "cells": [
  {
   "cell_type": "code",
   "execution_count": 2,
   "id": "015bd302",
   "metadata": {},
   "outputs": [
    {
     "name": "stdout",
     "output_type": "stream",
     "text": [
      "false\n"
     ]
    }
   ],
   "source": [
    "def palindromnum(s):\n",
    "    if len(s)<1:\n",
    "        return True\n",
    "    if s[0]==s[-1]:\n",
    "        \n",
    "        return palindromnum(s[1:-1])\n",
    "    else:\n",
    "        return False\n",
    "    \n",
    "    \n",
    "string=\"rtcecar\"\n",
    "# string=str(input())\n",
    "result=palindromnum(string)\n",
    "if result:\n",
    "    print(\"true\")\n",
    "else:\n",
    "    print(\"false\")\n",
    "    "
   ]
  },
  {
   "cell_type": "code",
   "execution_count": 8,
   "id": "38e0c982",
   "metadata": {},
   "outputs": [
    {
     "data": {
      "text/plain": [
       "'aceca'"
      ]
     },
     "execution_count": 8,
     "metadata": {},
     "output_type": "execute_result"
    }
   ],
   "source": [
    "string=\"racecar\"\n",
    "str(string)\n",
    "string[1:-1]\n",
    "# string[-1]"
   ]
  }
 ],
 "metadata": {
  "kernelspec": {
   "display_name": "Python 3 (ipykernel)",
   "language": "python",
   "name": "python3"
  },
  "language_info": {
   "codemirror_mode": {
    "name": "ipython",
    "version": 3
   },
   "file_extension": ".py",
   "mimetype": "text/x-python",
   "name": "python",
   "nbconvert_exporter": "python",
   "pygments_lexer": "ipython3",
   "version": "3.10.9"
  }
 },
 "nbformat": 4,
 "nbformat_minor": 5
}
