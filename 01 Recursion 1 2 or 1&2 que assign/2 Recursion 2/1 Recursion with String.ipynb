{
 "cells": [
  {
   "cell_type": "code",
   "execution_count": 2,
   "id": "3d9953a2",
   "metadata": {},
   "outputs": [
    {
     "data": {
      "text/plain": [
       "'daxdxxd'"
      ]
     },
     "execution_count": 2,
     "metadata": {},
     "output_type": "execute_result"
    }
   ],
   "source": [
    "def replaceChar(s,a,b):\n",
    "    if len(s)==0:\n",
    "        return s\n",
    "    smallListoutput=replaceChar(s[1:],a,b)\n",
    "    if s[0]==a:\n",
    "        return b+smallListoutput\n",
    "    else:\n",
    "        return s[0]+smallListoutput\n",
    "\n",
    "s='dacdxcd'\n",
    "replaceChar(s,'c','x')"
   ]
  }
 ],
 "metadata": {
  "kernelspec": {
   "display_name": "Python 3 (ipykernel)",
   "language": "python",
   "name": "python3"
  },
  "language_info": {
   "codemirror_mode": {
    "name": "ipython",
    "version": 3
   },
   "file_extension": ".py",
   "mimetype": "text/x-python",
   "name": "python",
   "nbconvert_exporter": "python",
   "pygments_lexer": "ipython3",
   "version": "3.10.9"
  }
 },
 "nbformat": 4,
 "nbformat_minor": 5
}
