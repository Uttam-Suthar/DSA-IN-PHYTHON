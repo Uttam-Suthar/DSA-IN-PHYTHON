{
 "cells": [
  {
   "cell_type": "markdown",
   "id": "c7eb705b",
   "metadata": {},
   "source": [
    "# Remove x"
   ]
  },
  {
   "cell_type": "code",
   "execution_count": 3,
   "id": "51259a09",
   "metadata": {},
   "outputs": [
    {
     "data": {
      "text/plain": [
       "'ab'"
      ]
     },
     "execution_count": 3,
     "metadata": {},
     "output_type": "execute_result"
    }
   ],
   "source": [
    "def removeX(string):\n",
    "    l=len(string)\n",
    "    if l==0:\n",
    "        return string\n",
    "    smalloutput=removeX(string[1:])\n",
    "    if string[0]=='x':\n",
    "        return smalloutput\n",
    "    else:\n",
    "        return string[0]+smalloutput\n",
    "s='xaxb'\n",
    "removeX(s)\n"
   ]
  },
  {
   "cell_type": "markdown",
   "id": "66a5620f",
   "metadata": {},
   "source": [
    "# Merge sort array"
   ]
  },
  {
   "cell_type": "code",
   "execution_count": 1,
   "id": "6e931647",
   "metadata": {},
   "outputs": [
    {
     "data": {
      "text/plain": [
       "[1, 3, 4, 5, 7, 9, 10, 17]"
      ]
     },
     "execution_count": 1,
     "metadata": {},
     "output_type": "execute_result"
    }
   ],
   "source": [
    "def merge(a1,a2,a):\n",
    "    i=0\n",
    "    j=0\n",
    "    k=0\n",
    "    while i<len(a1) and j<len(a2):\n",
    "        if a1[i]<a2[j]:\n",
    "            a[k]=a1[i]\n",
    "            k=k+1\n",
    "            i=i+1\n",
    "            \n",
    "        else:\n",
    "            a[k]=a2[j]\n",
    "            k=k+1\n",
    "            j=j+1\n",
    "            \n",
    "    while i<len(a1):\n",
    "        a[k]=a1[i]\n",
    "        k=k+1\n",
    "        i=i+1\n",
    "        \n",
    "    while  j<len(a2):\n",
    "        a[k]=a2[j]\n",
    "        k=k+1\n",
    "        j=j+1\n",
    "                   \n",
    "def mergeSort(a):\n",
    "    # base case\n",
    "    if len(a)==0 or len(a)==1:\n",
    "        return\n",
    "    mid=len(a)//2\n",
    "    a1=a[0:mid]\n",
    "    a2=a[mid:]\n",
    "    \n",
    "    mergeSort(a1)\n",
    "    mergeSort(a2)\n",
    "    \n",
    "    merge(a1,a2,a)\n",
    "    \n",
    "arr=[10,5,3,17,1,7,9,4]\n",
    "mergeSort(arr)\n",
    "arr"
   ]
  },
  {
   "cell_type": "markdown",
   "id": "11a8b5db",
   "metadata": {},
   "source": [
    "# Remove Duplicates Recursively"
   ]
  },
  {
   "cell_type": "code",
   "execution_count": 12,
   "id": "b265ba84",
   "metadata": {},
   "outputs": [
    {
     "data": {
      "text/plain": [
       "'abcba'"
      ]
     },
     "execution_count": 12,
     "metadata": {},
     "output_type": "execute_result"
    }
   ],
   "source": [
    "def removeConsecutiveDuplicates(string):\n",
    "    if len(string)==1:\n",
    "        return string\n",
    "    if string[0]==string[1]:\n",
    "        outputstring=removeConsecutiveDuplicates(string[1:])\n",
    "        return outputstring\n",
    "    else:\n",
    "        outputstring=removeConsecutiveDuplicates(string[1:])\n",
    "        return string[0]+outputstring\n",
    "   \n",
    "\n",
    "string = \"aabccbaa\"\n",
    "# string = input().strip()\n",
    "removeConsecutiveDuplicates(string)    "
   ]
  },
  {
   "cell_type": "markdown",
   "id": "5038bd04",
   "metadata": {},
   "source": [
    "# QUICK SOR"
   ]
  },
  {
   "cell_type": "code",
   "execution_count": 16,
   "id": "9b02d5d7",
   "metadata": {},
   "outputs": [
    {
     "data": {
      "text/plain": [
       "[1, 2, 3, 4, 5, 6, 7, 8, 9, 10]"
      ]
     },
     "execution_count": 16,
     "metadata": {},
     "output_type": "execute_result"
    }
   ],
   "source": [
    "\n",
    "def partition(a,si,ei):\n",
    "    pivote=a[si]\n",
    "    count=0\n",
    "    for i in range(si,ei+1):\n",
    "        if a[i]<pivote:\n",
    "            count=count+1\n",
    "    a[si+count],a[si]= a[si],a[si+count]    \n",
    "    pivoteindex=si+count \n",
    "    i=si\n",
    "    j=ei\n",
    "    while i<j:\n",
    "        if a[i]<pivote:\n",
    "            i=i+1\n",
    "        elif a[j]>=pivote:\n",
    "            j=j-1\n",
    "        else:\n",
    "            a[i],a[j]=a[j],a[i]\n",
    "            i=i+1\n",
    "            j=j-1\n",
    "    return  pivoteindex           \n",
    "\n",
    "def quickSort(a,si,ei):\n",
    "    if si>=ei: \n",
    "        return\n",
    "    \n",
    "\n",
    "    \n",
    "    pivoteindex=partition(a,si,ei)\n",
    "    # fisrt helf\n",
    "    quickSort(a,si,pivoteindex-1)\n",
    "    # second helf\n",
    "    quickSort(a,pivoteindex+1,ei)\n",
    "    \n",
    "a=[6,10,9,8,7,1,3,5,4,2]\n",
    "quickSort(a,0,len(a)-1)\n",
    "# print(a)\n",
    "a"
   ]
  },
  {
   "cell_type": "code",
   "execution_count": 14,
   "id": "151e8449",
   "metadata": {},
   "outputs": [
    {
     "name": "stdout",
     "output_type": "stream",
     "text": [
      "10\n",
      "6 10 9 8 7 1 3 4 5 2\n",
      "1 2 3 4 5 6 7 8 9 10\n"
     ]
    }
   ],
   "source": [
    "def quickSort(a, si, ei):\n",
    "    if si >= ei:\n",
    "        return\n",
    "    \n",
    "\n",
    "    def partition(a,si,ei):\n",
    "        pivote=a[si]\n",
    "        count=0\n",
    "        for i in range(si,ei+1):\n",
    "            if a[i]<pivote:\n",
    "                count=count+1\n",
    "        a[si+count],a[si]= a[si],a[si+count]    \n",
    "        pivoteindex=si+count \n",
    "        i=si\n",
    "        j=ei\n",
    "        while i<j:\n",
    "            if a[i]<pivote:\n",
    "                i=i+1\n",
    "            elif a[j]>=pivote:\n",
    "                j=j-1\n",
    "            else:\n",
    "                a[i],a[j]=a[j],a[i]\n",
    "                i=i+1\n",
    "                j=j-1\n",
    "        return  pivoteindex           \n",
    "\n",
    "\n",
    "    pivoteindex=partition(a,si,ei)\n",
    "    # fisrt helf\n",
    "    quickSort(a,si,pivoteindex-1)\n",
    "    # second helf\n",
    "    quickSort(a,pivoteindex+1,ei)\n",
    "    \n",
    "n=int(input())\n",
    "arr=list(int(i) for i in input().strip().split(' '))\n",
    "quickSort(arr, 0, n-1)\n",
    "print(*arr)\n"
   ]
  },
  {
   "cell_type": "markdown",
   "id": "bfb49051",
   "metadata": {},
   "source": [
    "# TOWER Hanoi"
   ]
  },
  {
   "cell_type": "code",
   "execution_count": 10,
   "id": "6dbaee3e",
   "metadata": {},
   "outputs": [
    {
     "name": "stdout",
     "output_type": "stream",
     "text": [
      "move the 1st disk s to d\n"
     ]
    }
   ],
   "source": [
    "def towerHanoi(n,a,b,c):\n",
    "    if n<1:\n",
    "        return\n",
    "    if n==1:\n",
    "        print(\"move the 1st disk\", a,\"to\" ,c)\n",
    "        return\n",
    "    towerHanoi(n-1,a,c,b)\n",
    "    print(\"move\" , n,\"th the disk from\", a, \" to\", c)\n",
    "    towerHanoi(n-1,b,a,c)\n",
    "    \n",
    "# towerHanoi(2,\"s\",\"h\",\"d\")    \n",
    "# towerHanoi(0,\"s\",\"h\",\"d\")\n",
    "towerHanoi(1,\"s\",\"h\",\"d\")\n",
    "        "
   ]
  },
  {
   "cell_type": "code",
   "execution_count": 11,
   "id": "1a7d9f26",
   "metadata": {},
   "outputs": [
    {
     "name": "stdout",
     "output_type": "stream",
     "text": [
      "3\n",
      "a c\n",
      "a b\n",
      "c b\n",
      "a c\n",
      "b a\n",
      "b c\n",
      "a c\n"
     ]
    }
   ],
   "source": [
    "def towerofhanoi(n, source, aux, dest):\n",
    "    # Please add your code here\n",
    "    # pass\n",
    "    if n<1:\n",
    "        return\n",
    "    if n==1:\n",
    "        print(source, dest)\n",
    "        return\n",
    "    towerofhanoi(n-1,source,dest,aux)\n",
    "    print( source, dest)\n",
    "    towerofhanoi(n-1,aux,source,dest)\n",
    "\n",
    "n=int(input())\n",
    "towerofhanoi(n, 'a', 'b', 'c')\n"
   ]
  },
  {
   "cell_type": "markdown",
   "id": "ec580fb9",
   "metadata": {},
   "source": [
    "# Find all the sequences of string"
   ]
  },
  {
   "cell_type": "code",
   "execution_count": 13,
   "id": "1d630d19",
   "metadata": {},
   "outputs": [
    {
     "data": {
      "text/plain": [
       "['', 'c', 'b', 'bc', 'a', 'ac', 'ab', 'abc']"
      ]
     },
     "execution_count": 13,
     "metadata": {},
     "output_type": "execute_result"
    }
   ],
   "source": [
    "def subs(s):\n",
    "    if len(s) ==0:\n",
    "        output = []\n",
    "        # Base case - empty string\n",
    "        output.append(\"\")\n",
    "        return output\n",
    "    # Starting from one till the end is the smaller string\n",
    "    smallerString = s[1:]\n",
    "    # Induction hypothesis\n",
    "    smallerOutput = subs(smallerString)\n",
    "    \n",
    "    # Now making sure that the bigger output is correct - by appending the prev ele in front of all the smaller output\n",
    "    output = []\n",
    "    # For all the ele in the smaller string\n",
    "    for sub in smallerOutput:\n",
    "        output.append(sub)\n",
    "        \n",
    "    # For the prev ele appended in front of all the smaller output\n",
    "    for sub in smallerOutput:\n",
    "        sub_with_zeroth_char = s[0] + sub\n",
    "        output.append(sub_with_zeroth_char)\n",
    "        \n",
    "    return output\n",
    "subs(\"abc\")    "
   ]
  },
  {
   "cell_type": "code",
   "execution_count": null,
   "id": "aecbaa48",
   "metadata": {},
   "outputs": [],
   "source": []
  }
 ],
 "metadata": {
  "kernelspec": {
   "display_name": "Python 3 (ipykernel)",
   "language": "python",
   "name": "python3"
  },
  "language_info": {
   "codemirror_mode": {
    "name": "ipython",
    "version": 3
   },
   "file_extension": ".py",
   "mimetype": "text/x-python",
   "name": "python",
   "nbconvert_exporter": "python",
   "pygments_lexer": "ipython3",
   "version": "3.10.9"
  }
 },
 "nbformat": 4,
 "nbformat_minor": 5
}
