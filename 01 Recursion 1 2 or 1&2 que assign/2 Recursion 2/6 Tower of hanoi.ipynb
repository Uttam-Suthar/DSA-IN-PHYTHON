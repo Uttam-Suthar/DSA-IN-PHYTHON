{
 "cells": [
  {
   "cell_type": "code",
   "execution_count": 2,
   "id": "a68a455e",
   "metadata": {},
   "outputs": [
    {
     "name": "stdout",
     "output_type": "stream",
     "text": [
      "move the 1st disk s to h\n",
      "move 2 th the disk from s  to d\n",
      "move the 1st disk h to d\n",
      "move 3 th the disk from s  to h\n",
      "move the 1st disk d to s\n",
      "move 2 th the disk from d  to h\n",
      "move the 1st disk s to h\n",
      "move 4 th the disk from s  to d\n",
      "move the 1st disk h to d\n",
      "move 2 th the disk from h  to s\n",
      "move the 1st disk d to s\n",
      "move 3 th the disk from h  to d\n",
      "move the 1st disk s to h\n",
      "move 2 th the disk from s  to d\n",
      "move the 1st disk h to d\n"
     ]
    }
   ],
   "source": [
    "def towerHanoi(n,a,b,c):\n",
    "    if n==1:\n",
    "        print(\"move the 1st disk\", a,\"to\" ,c)\n",
    "        return\n",
    "    towerHanoi(n-1,a,c,b)\n",
    "    print(\"move\" , n,\"th the disk from\", a, \" to\", c)\n",
    "    towerHanoi(n-1,b,a,c)\n",
    "    \n",
    "# towerHanoi(2,\"s\",\"h\",\"d\")    \n",
    "towerHanoi(4,\"s\",\"h\",\"d\")\n",
    "        "
   ]
  }
 ],
 "metadata": {
  "kernelspec": {
   "display_name": "Python 3 (ipykernel)",
   "language": "python",
   "name": "python3"
  },
  "language_info": {
   "codemirror_mode": {
    "name": "ipython",
    "version": 3
   },
   "file_extension": ".py",
   "mimetype": "text/x-python",
   "name": "python",
   "nbconvert_exporter": "python",
   "pygments_lexer": "ipython3",
   "version": "3.10.9"
  }
 },
 "nbformat": 4,
 "nbformat_minor": 5
}
