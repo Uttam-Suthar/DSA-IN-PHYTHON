{
 "cells": [
  {
   "cell_type": "code",
   "execution_count": 61,
   "id": "72320708",
   "metadata": {},
   "outputs": [
    {
     "data": {
      "text/plain": [
       "[1, 2, 3, 4, 5, 6, 7, 8, 9, 10]"
      ]
     },
     "execution_count": 61,
     "metadata": {},
     "output_type": "execute_result"
    }
   ],
   "source": [
    "\n",
    "def partition(a,si,ei):\n",
    "    pivote=a[si]\n",
    "    count=0\n",
    "    for i in range(si,ei+1):\n",
    "        if a[i]<pivote:\n",
    "            count=count+1\n",
    "    a[si+count],a[si]= a[si],a[si+count]    \n",
    "    pivoteindex=si+count \n",
    "    i=si\n",
    "    j=ei\n",
    "    while i<j:\n",
    "        if a[i]<pivote:\n",
    "            i=i+1\n",
    "        elif a[j]>=pivote:\n",
    "            j=j-1\n",
    "        else:\n",
    "            a[i],a[j]=a[j],a[i]\n",
    "            i=i+1\n",
    "            j=j-1\n",
    "    return  pivoteindex           \n",
    "\n",
    "def quickSort(a,si,ei):\n",
    "    if si>=ei: \n",
    "        return\n",
    "    \n",
    "\n",
    "    \n",
    "    pivoteindex=partition(a,si,ei)\n",
    "    quickSort(a,si,pivoteindex-1)\n",
    "    quickSort(a,pivoteindex+1,ei)\n",
    "    \n",
    "a=[6,10,9,8,7,1,3,5,4,2]\n",
    "quickSort(a,0,len(a)-1)\n",
    "# print(a)\n",
    "a"
   ]
  },
  {
   "cell_type": "code",
   "execution_count": 58,
   "id": "0ce1446b",
   "metadata": {},
   "outputs": [
    {
     "name": "stdout",
     "output_type": "stream",
     "text": [
      "5\n",
      "3 2 5 2 1\n",
      "1 2 2 3 5\n"
     ]
    }
   ],
   "source": [
    "def quickSort(arr, si, ei):\n",
    "    if si >= ei:\n",
    "        return\n",
    "    \n",
    "    def partition(arr, si, ei):\n",
    "        pivot = arr[si]\n",
    "        # Find no. of elemrnts smaller thank pivot\n",
    "        c = 0\n",
    "        for i in range(si, ei+1):\n",
    "            if arr[i] < pivot:\n",
    "                c +=1\n",
    "        arr[si+c],arr[si] = arr[si],arr[si+c]\n",
    "        pivot_index  = si + c\n",
    "        \n",
    "        i = si\n",
    "        j = ei\n",
    "        while i< j:\n",
    "            if (arr[i]<pivot):\n",
    "                i +=1\n",
    "            elif arr[j] >= pivot:\n",
    "                j -= 1\n",
    "            else:\n",
    "                arr[i], arr[j] = arr[j], arr[i]\n",
    "                i +=1\n",
    "                j -= 1\n",
    "        return pivot_index\n",
    "    \n",
    "    \n",
    "    pivot_index = partition(arr, si, ei)\n",
    "    # First Half\n",
    "    quickSort(arr, si, pivot_index -1)\n",
    "    # Second Half\n",
    "    quickSort(arr, pivot_index + 1, ei)\n",
    "    \n",
    "n=int(input())\n",
    "arr=list(int(i) for i in input().strip().split(' '))\n",
    "quickSort(arr, 0, n-1)\n",
    "print(*arr)\n"
   ]
  }
 ],
 "metadata": {
  "kernelspec": {
   "display_name": "Python 3 (ipykernel)",
   "language": "python",
   "name": "python3"
  },
  "language_info": {
   "codemirror_mode": {
    "name": "ipython",
    "version": 3
   },
   "file_extension": ".py",
   "mimetype": "text/x-python",
   "name": "python",
   "nbconvert_exporter": "python",
   "pygments_lexer": "ipython3",
   "version": "3.10.9"
  }
 },
 "nbformat": 4,
 "nbformat_minor": 5
}
