{
 "cells": [
  {
   "cell_type": "code",
   "execution_count": 3,
   "id": "1e381b66",
   "metadata": {},
   "outputs": [
    {
     "data": {
      "text/plain": [
       "'3.14p3.14'"
      ]
     },
     "execution_count": 3,
     "metadata": {},
     "output_type": "execute_result"
    }
   ],
   "source": [
    "def replacePi(s):\n",
    "    if len(s)==0 or len(s)==1:\n",
    "        return s\n",
    "    if s[0]=='p' and s[1]=='i':\n",
    "        smalloutput = replacePi(s[2:])\n",
    "        return '3.14' +smalloutput\n",
    "    else:\n",
    "        smalloutput = replacePi(s[1:])\n",
    "        return s[0]+smalloutput \n",
    "s='pippi'    \n",
    "replacePi(s)        "
   ]
  }
 ],
 "metadata": {
  "kernelspec": {
   "display_name": "Python 3 (ipykernel)",
   "language": "python",
   "name": "python3"
  },
  "language_info": {
   "codemirror_mode": {
    "name": "ipython",
    "version": 3
   },
   "file_extension": ".py",
   "mimetype": "text/x-python",
   "name": "python",
   "nbconvert_exporter": "python",
   "pygments_lexer": "ipython3",
   "version": "3.10.9"
  }
 },
 "nbformat": 4,
 "nbformat_minor": 5
}
