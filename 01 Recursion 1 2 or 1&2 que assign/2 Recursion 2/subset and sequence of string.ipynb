{
 "cells": [
  {
   "cell_type": "code",
   "execution_count": 16,
   "id": "71de2f90",
   "metadata": {},
   "outputs": [
    {
     "ename": "TypeError",
     "evalue": "int() argument must be a string, a bytes-like object or a real number, not 'dict'",
     "output_type": "error",
     "traceback": [
      "\u001b[1;31m---------------------------------------------------------------------------\u001b[0m",
      "\u001b[1;31mTypeError\u001b[0m                                 Traceback (most recent call last)",
      "Cell \u001b[1;32mIn[16], line 14\u001b[0m\n\u001b[0;32m     12\u001b[0m arr\u001b[38;5;241m=\u001b[39m[\u001b[38;5;241m1\u001b[39m,\u001b[38;5;241m2\u001b[39m,\u001b[38;5;241m3\u001b[39m]\n\u001b[0;32m     13\u001b[0m output\u001b[38;5;241m=\u001b[39m[]\n\u001b[1;32m---> 14\u001b[0m a\u001b[38;5;241m=\u001b[39m\u001b[38;5;28;43mint\u001b[39;49m\u001b[43m(\u001b[49m\u001b[43mans\u001b[49m\u001b[43m)\u001b[49m\n\u001b[0;32m     15\u001b[0m subsetofNum(arr,output,\u001b[38;5;241m0\u001b[39m,a)\n\u001b[0;32m     16\u001b[0m \u001b[38;5;28;01mreturn\u001b[39;00m ans\n",
      "\u001b[1;31mTypeError\u001b[0m: int() argument must be a string, a bytes-like object or a real number, not 'dict'"
     ]
    }
   ],
   "source": [
    "def subsetofNum(arr,output,index,ans):\n",
    "    if index>=len(arr):\n",
    "        ans.append(output)\n",
    "        return \n",
    "    # exclude\n",
    "    subsetofNum(arr,output,index+1,ans)\n",
    "    element=arr[index]\n",
    "    output.append(element)\n",
    "    subsetofNum(arr,output,index+1,ans)\n",
    "    return output\n",
    "\n",
    "arr=[1,2,3]\n",
    "output=[]\n",
    "ans\n",
    "subsetofNum(arr,output,0,ans)\n",
    "return ans"
   ]
  },
  {
   "cell_type": "code",
   "execution_count": 1,
   "id": "4e495b17",
   "metadata": {},
   "outputs": [
    {
     "name": "stdout",
     "output_type": "stream",
     "text": [
      "L = ['a', 'b', 'c', 'd']\n",
      "[[]]\n"
     ]
    }
   ],
   "source": [
    "def powerSet(L):\n",
    "    if len(L) == 0:\n",
    "        return [[]]\n",
    "    else:\n",
    "        return powerSet(L[:-1])\n",
    "\n",
    "L = ['a', 'b', 'c', 'd']\n",
    "print('L =', L)\n",
    "print(powerSet(L))"
   ]
  },
  {
   "cell_type": "code",
   "execution_count": 2,
   "id": "0d26088c",
   "metadata": {},
   "outputs": [
    {
     "name": "stdout",
     "output_type": "stream",
     "text": [
      "global frame = 0\n",
      "L = ['a', 'b', 'c', 'd']\n",
      "\n",
      "pre-recursive, frame 1\n",
      "L = ['a', 'b', 'c', 'd']\n",
      "\n",
      "pre-recursive, frame 2\n",
      "L = ['a', 'b', 'c']\n",
      "\n",
      "pre-recursive, frame 3\n",
      "L = ['a', 'b']\n",
      "\n",
      "pre-recursive, frame 4\n",
      "L = ['a']\n",
      "\n",
      "base case, frame 5\n",
      "[[]]\n"
     ]
    }
   ],
   "source": [
    "frame = 0\n",
    "\n",
    "def powerSet(L):\n",
    "    global frame\n",
    "    frame += 1\n",
    "    if len(L) == 0:\n",
    "        print('\\nbase case, frame', frame)\n",
    "        return [[]]\n",
    "    else:\n",
    "        print('\\npre-recursive, frame', frame)\n",
    "        print('L =', L)\n",
    "        return powerSet(L[:-1])\n",
    "\n",
    "print('global frame =', frame)\n",
    "L = ['a', 'b', 'c', 'd']\n",
    "print('L =', L)\n",
    "print(powerSet(L))"
   ]
  },
  {
   "cell_type": "code",
   "execution_count": 18,
   "id": "0833cf86",
   "metadata": {},
   "outputs": [
    {
     "name": "stdout",
     "output_type": "stream",
     "text": [
      "global frame is 0\n",
      "L = ['a', 'b', 'c']\n",
      "\n",
      "pre-recursive, frame 1\n",
      "list in this frame is  ['a', 'b', 'c']\n",
      "operator in this frame is  ['c']\n",
      "\n",
      "pre-recursive, frame 2\n",
      "list in this frame is  ['a', 'b']\n",
      "operator in this frame is  ['b']\n",
      "\n",
      "pre-recursive, frame 3\n",
      "list in this frame is  ['a']\n",
      "operator in this frame is  ['a']\n",
      "\n",
      "base case, frame is 4\n",
      "returning [[]]\n",
      "\n",
      "post-recursive, frame 3\n",
      "base in this frame is [[]]\n",
      "operated on by ['a']\n",
      "returning [[], ['a']]\n",
      "\n",
      "post-recursive, frame 2\n",
      "base in this frame is [[], ['a']]\n",
      "operated on by ['b']\n",
      "returning [[], ['a'], ['b'], ['a', 'b']]\n",
      "\n",
      "post-recursive, frame 1\n",
      "base in this frame is [[], ['a'], ['b'], ['a', 'b']]\n",
      "operated on by ['c']\n",
      "returning [[], ['a'], ['b'], ['a', 'b'], ['c'], ['a', 'c'], ['b', 'c'], ['a', 'b', 'c']]\n",
      "[[], ['a'], ['b'], ['a', 'b'], ['c'], ['a', 'c'], ['b', 'c'], ['a', 'b', 'c']]\n"
     ]
    }
   ],
   "source": [
    "frame = 0\n",
    "\n",
    "def powerSet(L):\n",
    "    global frame\n",
    "    frame += 1\n",
    "    if len(L) == 0:\n",
    "        print('\\nbase case, frame is', frame)\n",
    "        print('returning [[]]')\n",
    "        return [[]]\n",
    "    else:\n",
    "        print('\\npre-recursive, frame', frame)\n",
    "        print('list in this frame is ', L)\n",
    "        print('operator in this frame is ', L[-1:])\n",
    "        base = powerSet(L[:-1])\n",
    "        operator = L[-1:]\n",
    "        frame -= 1\n",
    "        print('\\npost-recursive, frame', frame)\n",
    "        print('base in this frame is', base)\n",
    "        print('operated on by', operator)\n",
    "        r = base + [(b + operator) for b in base]\n",
    "        print('returning', r)\n",
    "        return r\n",
    "\n",
    "print('global frame is', frame)\n",
    "L = ['a', 'b', 'c']\n",
    "print('L =', L)\n",
    "print(powerSet(L))"
   ]
  },
  {
   "cell_type": "code",
   "execution_count": 10,
   "id": "6b43d275",
   "metadata": {},
   "outputs": [],
   "source": [
    "def subs(s):\n",
    "    if len(s) ==0:\n",
    "        output = []\n",
    "        # Base case - empty string\n",
    "        output.append(\"\")\n",
    "        return output\n",
    "    # Starting from one till the end is the smaller string\n",
    "    smallerString = s[1:]\n",
    "    # Induction hypothesis\n",
    "    smallerOutput = subs(smallerString)\n",
    "    \n",
    "    # Now making sure that the bigger output is correct - by appending the prev ele in front of all the smaller output\n",
    "    output = []\n",
    "    # For all the ele in the smaller string\n",
    "    for sub in smallerOutput:\n",
    "        output.append(sub)\n",
    "        \n",
    "    # For the prev ele appended in front of all the smaller output\n",
    "    for sub in smallerOutput:\n",
    "        sub_with_zeroth_char = s[0] + sub\n",
    "        output.append(sub_with_zeroth_char)\n",
    "        \n",
    "    return output"
   ]
  },
  {
   "cell_type": "code",
   "execution_count": 21,
   "id": "84eef3e9",
   "metadata": {},
   "outputs": [
    {
     "data": {
      "text/plain": [
       "['', 'c', 'b', 'bc', 'a', 'ac', 'ab', 'abc']"
      ]
     },
     "execution_count": 21,
     "metadata": {},
     "output_type": "execute_result"
    }
   ],
   "source": [
    "subs(\"abc\")\n"
   ]
  },
  {
   "cell_type": "code",
   "execution_count": null,
   "id": "b11811d3",
   "metadata": {},
   "outputs": [],
   "source": []
  },
  {
   "cell_type": "code",
   "execution_count": 23,
   "id": "811e9307",
   "metadata": {},
   "outputs": [
    {
     "name": "stdout",
     "output_type": "stream",
     "text": [
      "[[], [1], [2], [1, 2], [3], [1, 3], [2, 3], [1, 2, 3]]\n",
      "8\n"
     ]
    }
   ],
   "source": [
    "def get_subsets(fullset):\n",
    "  listrep = list(fullset)\n",
    "  subsets = []\n",
    "  for i in range(2**len(listrep)):\n",
    "    subset = []\n",
    "    for k in range(len(listrep)):            \n",
    "      if i & 1<<k:\n",
    "        subset.append(listrep[k])\n",
    "    subsets.append(subset)        \n",
    "  return subsets\n",
    "subsets = get_subsets(set([1,2,3]))\n",
    "print(subsets)\n",
    "print(len(subsets))"
   ]
  },
  {
   "cell_type": "code",
   "execution_count": null,
   "id": "431fe328",
   "metadata": {},
   "outputs": [],
   "source": []
  }
 ],
 "metadata": {
  "kernelspec": {
   "display_name": "Python 3 (ipykernel)",
   "language": "python",
   "name": "python3"
  },
  "language_info": {
   "codemirror_mode": {
    "name": "ipython",
    "version": 3
   },
   "file_extension": ".py",
   "mimetype": "text/x-python",
   "name": "python",
   "nbconvert_exporter": "python",
   "pygments_lexer": "ipython3",
   "version": "3.10.9"
  }
 },
 "nbformat": 4,
 "nbformat_minor": 5
}
