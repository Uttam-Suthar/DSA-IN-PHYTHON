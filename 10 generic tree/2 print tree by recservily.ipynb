{
 "cells": [
  {
   "cell_type": "code",
   "execution_count": 6,
   "id": "2a2af235",
   "metadata": {},
   "outputs": [],
   "source": [
    "class TreeNode:\n",
    "    def __init__(self,data):\n",
    "        self.data=data\n",
    "        self.children=list()"
   ]
  },
  {
   "cell_type": "code",
   "execution_count": 7,
   "id": "2c6ab915",
   "metadata": {},
   "outputs": [],
   "source": [
    "def printTree(root):\n",
    "    # not a base case but an edge case\n",
    "    if root==None:\n",
    "        return\n",
    "    print(root.data)\n",
    "    for child in root.children:\n",
    "        printTree(child)"
   ]
  },
  {
   "cell_type": "code",
   "execution_count": 18,
   "id": "ca619425",
   "metadata": {},
   "outputs": [],
   "source": [
    "def printTreeDetailed(root):\n",
    "    # not a base case but an edge case\n",
    "    if root==None:\n",
    "        return\n",
    "    print(root.data,\":\",end=\"\")\n",
    "    \n",
    "    for child in root.children:\n",
    "        print(child.data,\",\",end=\"\")\n",
    "        \n",
    "    print()\n",
    "    \n",
    "    for child in root.children:\n",
    "        printTreeDetailed(child)"
   ]
  },
  {
   "cell_type": "code",
   "execution_count": 5,
   "id": "430c731a",
   "metadata": {},
   "outputs": [
    {
     "name": "stdout",
     "output_type": "stream",
     "text": [
      "5\n",
      "2\n",
      "9\n",
      "15\n",
      "8\n",
      "7\n",
      "1\n"
     ]
    }
   ],
   "source": [
    "n1=TreeNode(5)\n",
    "n2=TreeNode(2)\n",
    "n3=TreeNode(9)\n",
    "n4=TreeNode(8)\n",
    "n5=TreeNode(7)\n",
    "n6=TreeNode(15)\n",
    "n7=TreeNode(1)\n",
    "\n",
    "n1.children.append(n2)\n",
    "n1.children.append(n3)\n",
    "n1.children.append(n4)\n",
    "n1.children.append(n5)\n",
    "\n",
    "n3.children.append(n6)\n",
    "n1.children.append(n7)\n",
    "printTree(n1)"
   ]
  },
  {
   "cell_type": "code",
   "execution_count": 19,
   "id": "bc8eb406",
   "metadata": {},
   "outputs": [
    {
     "name": "stdout",
     "output_type": "stream",
     "text": [
      "5 :2 ,9 ,8 ,7 ,1 ,\n",
      "2 :\n",
      "9 :15 ,\n",
      "15 :\n",
      "8 :\n",
      "7 :\n",
      "1 :\n"
     ]
    }
   ],
   "source": [
    "n1=TreeNode(5)\n",
    "n2=TreeNode(2)\n",
    "n3=TreeNode(9)\n",
    "n4=TreeNode(8)\n",
    "n5=TreeNode(7)\n",
    "n6=TreeNode(15)\n",
    "n7=TreeNode(1)\n",
    "\n",
    "n1.children.append(n2)\n",
    "n1.children.append(n3)\n",
    "n1.children.append(n4)\n",
    "n1.children.append(n5)\n",
    "\n",
    "n3.children.append(n6)\n",
    "n1.children.append(n7)\n",
    "printTreeDetailed(n1)"
   ]
  }
 ],
 "metadata": {
  "kernelspec": {
   "display_name": "Python 3 (ipykernel)",
   "language": "python",
   "name": "python3"
  },
  "language_info": {
   "codemirror_mode": {
    "name": "ipython",
    "version": 3
   },
   "file_extension": ".py",
   "mimetype": "text/x-python",
   "name": "python",
   "nbconvert_exporter": "python",
   "pygments_lexer": "ipython3",
   "version": "3.10.9"
  }
 },
 "nbformat": 4,
 "nbformat_minor": 5
}
