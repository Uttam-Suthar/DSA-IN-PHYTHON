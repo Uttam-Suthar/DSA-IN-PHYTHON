{
 "cells": [
  {
   "cell_type": "code",
   "execution_count": 3,
   "id": "3a6667eb",
   "metadata": {},
   "outputs": [],
   "source": [
    "class TreeNode:\n",
    "    def __init__(self,data):\n",
    "        self.data=data\n",
    "        self.children=list()\n",
    "        \n",
    "        \n",
    "def printTreeDetailed(root):\n",
    "    # not a base case but an edge case\n",
    "    if root==None:\n",
    "        return\n",
    "    print(root.data,\":\",end=\"\")\n",
    "    \n",
    "    for child in root.children:\n",
    "        print(child.data,\",\",end=\"\")\n",
    "        \n",
    "    print()\n",
    "    \n",
    "    for child in root.children:\n",
    "        printTreeDetailed(child)\n",
    "        \n",
    "        \n",
    "\n",
    "        \n",
    "        \n",
    "def takeTreeInput():\n",
    "    print(\"Enter root data\")\n",
    "    rootData=int(input())\n",
    "    if rootData==-1:\n",
    "        return None\n",
    "    \n",
    "    root=TreeNode(rootData)\n",
    "    print(\"Enter no of children for\", rootData)\n",
    "    childrenCount=int(input())\n",
    "    for i in range(childrenCount):\n",
    "        child=takeTreeInput()\n",
    "        root.children.append(child)\n",
    "    return root\n",
    "\n",
    "\n",
    "def numNode(root):\n",
    "    if root == None:\n",
    "        return 0\n",
    "    \n",
    "    count=1\n",
    "    \n",
    "    for child in root.children:\n",
    "        count=count+numNode(child)\n",
    "    return count\n"
   ]
  },
  {
   "cell_type": "code",
   "execution_count": 5,
   "id": "062366d4",
   "metadata": {},
   "outputs": [
    {
     "name": "stdout",
     "output_type": "stream",
     "text": [
      "Enter root data\n",
      "5\n",
      "Enter no of children for 5\n",
      "1\n",
      "Enter root data\n",
      "4\n",
      "Enter no of children for 4\n",
      "0\n",
      "5 :4 ,\n",
      "4 :\n",
      "2\n"
     ]
    }
   ],
   "source": [
    "root=takeTreeInput()\n",
    "printTreeDetailed(root)\n",
    "\n",
    "print(numNode(root))"
   ]
  },
  {
   "cell_type": "code",
   "execution_count": 6,
   "id": "27f2c74f",
   "metadata": {},
   "outputs": [
    {
     "name": "stdout",
     "output_type": "stream",
     "text": [
      "Enter root data\n",
      "1\n",
      "Enter no of children for 1\n",
      "3\n",
      "Enter root data\n",
      "2\n",
      "Enter no of children for 2\n",
      "0\n",
      "Enter root data\n",
      "3\n",
      "Enter no of children for 3\n",
      "2\n",
      "Enter root data\n",
      "5\n",
      "Enter no of children for 5\n",
      "0\n",
      "Enter root data\n",
      "6\n",
      "Enter no of children for 6\n",
      "3\n",
      "Enter root data\n",
      "7\n",
      "Enter no of children for 7\n",
      "0\n",
      "Enter root data\n",
      "8\n",
      "Enter no of children for 8\n",
      "0\n",
      "Enter root data\n",
      "9\n",
      "Enter no of children for 9\n",
      "0\n",
      "Enter root data\n",
      "4\n",
      "Enter no of children for 4\n",
      "0\n",
      "1 :2 ,3 ,4 ,\n",
      "2 :\n",
      "3 :5 ,6 ,\n",
      "5 :\n",
      "6 :7 ,8 ,9 ,\n",
      "7 :\n",
      "8 :\n",
      "9 :\n",
      "4 :\n",
      "9\n"
     ]
    }
   ],
   "source": [
    "root=takeTreeInput()\n",
    "printTreeDetailed(root)\n",
    "\n",
    "print(numNode(root))"
   ]
  }
 ],
 "metadata": {
  "kernelspec": {
   "display_name": "Python 3 (ipykernel)",
   "language": "python",
   "name": "python3"
  },
  "language_info": {
   "codemirror_mode": {
    "name": "ipython",
    "version": 3
   },
   "file_extension": ".py",
   "mimetype": "text/x-python",
   "name": "python",
   "nbconvert_exporter": "python",
   "pygments_lexer": "ipython3",
   "version": "3.10.9"
  }
 },
 "nbformat": 4,
 "nbformat_minor": 5
}
