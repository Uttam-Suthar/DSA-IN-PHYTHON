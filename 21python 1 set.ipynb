{
 "cells": [
  {
   "cell_type": "code",
   "execution_count": 9,
   "id": "dc2ff191",
   "metadata": {},
   "outputs": [
    {
     "name": "stdout",
     "output_type": "stream",
     "text": [
      "3 3\n",
      "1 1 1 1 1 1\n",
      "1 1 1 1 1 1\n",
      "1 1 1 1 1 1\n",
      "1 1 1 \n",
      "1 1 1 \n",
      "1 1 1 \n"
     ]
    }
   ],
   "source": [
    "def setZeroes(A,n,m):\n",
    "    r1=0\n",
    "    c1=0\n",
    "    for i in range(n):\n",
    "        if(A[0][i]==0):\n",
    "            r1=1\n",
    "            # print(A[0][i],end=' ')\n",
    "            break\n",
    "    \n",
    "    for i in range(n):\n",
    "        if(A[i][0]==0):\n",
    "            c1=1\n",
    "            # print(A[i][0],end=' ')\n",
    "            break\n",
    "    for i in range(1,n):\n",
    "        for j in range(1,m):\n",
    "            if(A[i][j]==0):\n",
    "                A[i][0]=0\n",
    "                A[0][j]=0\n",
    "                # print(A[i][0],end=' ')\n",
    "                # print(A[0][j],end=' ')\n",
    "    for i in range(1,n):\n",
    "        for j in range(1,m):\n",
    "            if A[i][0]==0 or A[0][j]==0:\n",
    "                A[i][j]=0\n",
    "                # print(A[i][j],end=' ')\n",
    "\n",
    "    if(r1==1):\n",
    "        for i in range(n):\n",
    "            A[0][i]=0\n",
    "            # print(A[0][i],end=' ')\n",
    "    if(c1==1):\n",
    "        for i in range(m):\n",
    "            A[i][0]=0\n",
    "    \n",
    "    for i in range(n):\n",
    "        for j in range(m):\n",
    "            print(A[i][j],end=\" \")\n",
    "        print()\n",
    "\n",
    "    \n",
    "    \n",
    "\n",
    "\n",
    "# li=[[1,0,1],[1,1,1],[1,1,1]]\n",
    "\n",
    "# print(setZeroes(li,3,3))\n",
    "\n",
    "\n",
    "li = input().split()\n",
    "rows = int(li[0])\n",
    "cols = int(li[1])\n",
    "mat = []\n",
    "for i in range(rows):\n",
    "    row = [int(elem) for elem in input().split()]\n",
    "    mat.append(row)\n",
    "# mat = []\n",
    "setZeroes(mat,rows,cols)\n",
    "# print(mat)"
   ]
  },
  {
   "cell_type": "code",
   "execution_count": 4,
   "id": "ef3b5570",
   "metadata": {},
   "outputs": [
    {
     "name": "stdout",
     "output_type": "stream",
     "text": [
      "3 3\n",
      "3\n",
      "3\n"
     ]
    }
   ],
   "source": [
    "li = input().split()\n",
    "rows = int(li[0])\n",
    "cols = int(li[1])\n",
    "print(rows)\n",
    "print(cols)"
   ]
  },
  {
   "cell_type": "code",
   "execution_count": 8,
   "id": "2701318a",
   "metadata": {
    "scrolled": true
   },
   "outputs": [
    {
     "name": "stdout",
     "output_type": "stream",
     "text": [
      "Enter the number of rows:3 3\n"
     ]
    },
    {
     "ename": "ValueError",
     "evalue": "invalid literal for int() with base 10: '3 3'",
     "output_type": "error",
     "traceback": [
      "\u001b[1;31m---------------------------------------------------------------------------\u001b[0m",
      "\u001b[1;31mValueError\u001b[0m                                Traceback (most recent call last)",
      "Cell \u001b[1;32mIn[8], line 1\u001b[0m\n\u001b[1;32m----> 1\u001b[0m R,C \u001b[38;5;241m=\u001b[39m \u001b[38;5;28;43mint\u001b[39;49m\u001b[43m(\u001b[49m\u001b[38;5;28;43minput\u001b[39;49m\u001b[43m(\u001b[49m\u001b[38;5;124;43m\"\u001b[39;49m\u001b[38;5;124;43mEnter the number of rows:\u001b[39;49m\u001b[38;5;124;43m\"\u001b[39;49m\u001b[43m)\u001b[49m\u001b[43m)\u001b[49m\u001b[38;5;241m.\u001b[39msplit()\n\u001b[0;32m      2\u001b[0m \u001b[38;5;66;03m# C = int(input(\"Enter the number of columns:\"))\u001b[39;00m\n\u001b[0;32m      3\u001b[0m  \n\u001b[0;32m      4\u001b[0m \u001b[38;5;66;03m# Initialize matrix\u001b[39;00m\n\u001b[0;32m      5\u001b[0m matrix \u001b[38;5;241m=\u001b[39m []\n",
      "\u001b[1;31mValueError\u001b[0m: invalid literal for int() with base 10: '3 3'"
     ]
    }
   ],
   "source": [
    "R,C = int(input(\"Enter the number of rows:\")).split()\n",
    "# C = int(input(\"Enter the number of columns:\"))\n",
    " \n",
    "# Initialize matrix\n",
    "matrix = []\n",
    "print(\"Enter the entries rowwise:\")\n",
    " \n",
    "# For user input\n",
    "for i in range(R):          # A for loop for row entries\n",
    "    a =[]\n",
    "    for j in range(C):      # A for loop for column entries\n",
    "         a.append(int(input()))\n",
    "    matrix.append(a)\n",
    " \n",
    "# For printing the matrix\n",
    "for i in range(R):\n",
    "    for j in range(C):\n",
    "        print(matrix[i][j], end = \" \")\n",
    "    print()"
   ]
  },
  {
   "cell_type": "code",
   "execution_count": null,
   "id": "fd575192",
   "metadata": {},
   "outputs": [],
   "source": [
    "amazingStrings"
   ]
  },
  {
   "cell_type": "code",
   "execution_count": null,
   "id": "2b02f249",
   "metadata": {},
   "outputs": [],
   "source": [
    "def amazingStrings(first, second, third):\n",
    "    \n",
    "    # Write your code here\n",
    "    # Return a string 'YES' or 'NO' denoting the answer\n",
    "    # pass\n",
    "    sizeOfThird = len(third)\n",
    "    \n",
    "    visited = [0 for i in range(sizeOfThird)]\n",
    "\n",
    "    for i in range(len(first)):\n",
    "        temp = 0\n",
    "        for j in range(sizeOfThird):\n",
    "            if ((first[i] == third[j]) and (visited[j] == 0)):\n",
    "                visited[j] = 1\n",
    "                temp = 1\n",
    "                break\n",
    "        if temp == 0:\n",
    "            return 'NO'\n",
    "    for i in range(len(second)):\n",
    "        temp = 0\n",
    "        for j in range(sizeOfThird):\n",
    "            if ((second[i] == third[j]) and (visited[j] == 0)):\n",
    "                visited[j] = 1\n",
    "                temp = 1\n",
    "                break\n",
    "    \n",
    "        if temp == 0:\n",
    "            return 'NO'\n",
    "    \n",
    "    for i in range(sizeOfThird):\n",
    "        if (visited[i] == 0):\n",
    "            return 'NO'\n",
    "    return 'YES'"
   ]
  },
  {
   "cell_type": "code",
   "execution_count": null,
   "id": "28fcb27a",
   "metadata": {},
   "outputs": [],
   "source": [
    "binary_sum"
   ]
  },
  {
   "cell_type": "code",
   "execution_count": null,
   "id": "137b5049",
   "metadata": {},
   "outputs": [],
   "source": [
    "def binary_sum(t, test_cases):\n",
    "    for i in range(t):\n",
    "        string1 = test_cases[i][0]\n",
    "        string2 = test_cases[i][1]\n",
    "        carry = 0\n",
    "        result = \"\"\n",
    "        \n",
    "        # Pad the shorter string with leading zeros\n",
    "        if len(string1) < len(string2):\n",
    "            string1 = \"0\" * (len(string2) - len(string1)) + string1\n",
    "        else:\n",
    "            string2 = \"0\" * (len(string1) - len(string2)) + string2\n",
    "        \n",
    "        # Perform binary addition digit by digit\n",
    "        for j in range(len(string1) - 1, -1, -1):\n",
    "            bit1 = int(string1[j])\n",
    "            bit2 = int(string2[j])\n",
    "            sum = bit1 + bit2 + carry\n",
    "            \n",
    "            # Calculate sum and carry\n",
    "            if sum == 0:\n",
    "                result = \"0\" + result\n",
    "                carry = 0\n",
    "            elif sum == 1:\n",
    "                result = \"1\" + result\n",
    "                carry = 0\n",
    "            elif sum == 2:\n",
    "                result = \"0\" + result\n",
    "                carry = 1\n",
    "            else:  # sum == 3\n",
    "                result = \"1\" + result\n",
    "                carry = 1\n",
    "        \n",
    "        # If there is a final carry, add it to the result\n",
    "        if carry == 1:\n",
    "            result = \"1\" + result\n",
    "        \n",
    "        print(result)\n",
    "\n",
    "# Read input\n",
    "t = int(input())\n",
    "test_cases = []\n",
    "for _ in range(t):\n",
    "    string1 = input().strip()\n",
    "    string2 = input().strip()\n",
    "    test_cases.append((string1, string2))\n",
    "\n",
    "# Call the function to get the binary sum\n",
    "binary_sum(t, test_cases)\n"
   ]
  },
  {
   "cell_type": "code",
   "execution_count": null,
   "id": "d5c7baa6",
   "metadata": {},
   "outputs": [],
   "source": [
    "n =  int(input())\n",
    "i = 1\n",
    "while (i <= n):\n",
    "    s =1\n",
    "    while (s <= n-i):\n",
    "        print(\" \", end='')\n",
    "        s =s+ 1\n",
    "    \n",
    "    j = 1\n",
    "    p = i\n",
    "    while (j <= i):\n",
    "        print(p, end='')\n",
    "        p =p-1\n",
    "        j =j+1 \n",
    "    \n",
    "    k = 1\n",
    "    while (k <= i-1):\n",
    "        print(k+1, end='')\n",
    "        k =k+1\n",
    "    print()\n",
    "    i +=1"
   ]
  },
  {
   "cell_type": "code",
   "execution_count": null,
   "id": "c9e547e7",
   "metadata": {},
   "outputs": [],
   "source": []
  },
  {
   "cell_type": "code",
   "execution_count": 11,
   "id": "d73d62c7",
   "metadata": {},
   "outputs": [
    {
     "name": "stdout",
     "output_type": "stream",
     "text": [
      "7\n"
     ]
    }
   ],
   "source": [
    "\n",
    "import sys\n",
    "\n",
    "# def maximumSubarr(arr):\n",
    "#     if len(arr)==1:\n",
    "#         return arr[0]\n",
    "    \n",
    "#     m= len(arr)//2\n",
    "\n",
    "#     leftmax=maximumSubarr(arr[:m])\n",
    "#     rightmax=maximumSubarr(arr[m:])\n",
    "\n",
    "#     leftsum= -sys.maxsize-1\n",
    "#     rightsum=-sys.maxsize-1\n",
    "\n",
    "#     sum=0\n",
    "\n",
    "#     for i in range(m,len(arr)):\n",
    "#         sum =sum+arr[i]\n",
    "#         rightsum=max(rightsum,sum)\n",
    "#     sum=0\n",
    "#     for i in range(m-1,-1,-1):\n",
    "#         sum +=arr[i]\n",
    "#         leftsum=max(leftsum,sum)\n",
    "    \n",
    "#     allmax=leftsum+rightsum\n",
    "\n",
    "#     return max(allmax,leftmax,rightmax)\n",
    "\n",
    "# n=int(input())\n",
    "\n",
    "# arr=[int(ele) for ele in input().split()]\n",
    "\n",
    "# print(maximumSubarr(arr))\n",
    "\n",
    "\n",
    "def max_subarray_sum(arr):\n",
    "    max_sum = -sys.maxsize\n",
    "    curr_sum = 0  \n",
    "    \n",
    "    for num in arr:\n",
    "        curr_sum += num\n",
    "        if curr_sum > max_sum:\n",
    "            max_sum = curr_sum\n",
    "        \n",
    "        if curr_sum < 0:\n",
    "            curr_sum = 0\n",
    "    \n",
    "    return max_sum\n",
    "\n",
    "# Read input\n",
    "# N = int(input())\n",
    "# arr = list(map(int, input().split()))\n",
    "\n",
    "# Call the function and print the result\n",
    "arr=[-2, -3, 4, -1, -2, 1, 5 ]\n",
    "result = max_subarray_sum(arr)\n",
    "print(result)"
   ]
  },
  {
   "cell_type": "code",
   "execution_count": 12,
   "id": "368f9e10",
   "metadata": {},
   "outputs": [
    {
     "name": "stdout",
     "output_type": "stream",
     "text": [
      "5\n",
      "1234554321\n",
      "1234**4321\n",
      "123****321\n",
      "12******21\n",
      "1********1\n"
     ]
    }
   ],
   "source": [
    "\n",
    "## Read input as specified in the question.\n",
    "## Print output as specified in the question.\n",
    "# def numberStar(n):\n",
    "#     for i in range(n):\n",
    "#         for j in range(1,n+1-i):\n",
    "#             print(j,end=\"\")\n",
    "#         for k in range(i):\n",
    "#             print(\"*\",end=\"\")\n",
    "#         for s in range(i):\n",
    "#             print(\"*\",end=\"\")\n",
    "#         for j in range(n-i,0,-1):\n",
    "#             print(j,end=\"\")  \n",
    "#         print()\n",
    "\n",
    "# n= int(input())\n",
    "# numberStar(n)\n",
    "\n",
    "\n",
    "def numberStar(n):\n",
    "    for i in range(n, 0, -1):\n",
    "        for j in range(1, i + 1):\n",
    "            print(j, end='')\n",
    "        \n",
    "        for k in range(1, 2 * (n - i) + 1):\n",
    "            print('*', end='')\n",
    "        \n",
    "        for j in range(i, 0, -1):\n",
    "            print(j, end='')\n",
    "        \n",
    "        print()  \n",
    "\n",
    "n = int(input())\n",
    "\n",
    "numberStar(n)\n",
    "\n"
   ]
  },
  {
   "cell_type": "code",
   "execution_count": null,
   "id": "186c831c",
   "metadata": {},
   "outputs": [],
   "source": []
  },
  {
   "cell_type": "code",
   "execution_count": 14,
   "id": "d988d340",
   "metadata": {},
   "outputs": [
    {
     "data": {
      "text/plain": [
       "7"
      ]
     },
     "execution_count": 14,
     "metadata": {},
     "output_type": "execute_result"
    }
   ],
   "source": [
    "def findOneStrings(str):\n",
    "    # Write your code here.\n",
    "    # pass\n",
    "    # count=0\n",
    "    # temp=0\n",
    "\n",
    "    # for i in range((len(str))):\n",
    "    #     if str[i]==\"1\":\n",
    "    #         count = count+1\n",
    "    #     else:\n",
    "    #         count=0\n",
    "    #     temp +=count\n",
    "    # return temp\n",
    "\n",
    "    count = 0\n",
    "    temp = 0\n",
    "    for i in range(len(str)):\n",
    "        if str[i] == '1':\n",
    "            count += 1\n",
    "            temp += count\n",
    "        else:\n",
    "            count = 0\n",
    "    return temp\n",
    "\n",
    "\n",
    "str=\"11101\"\n",
    "findOneStrings(str)"
   ]
  },
  {
   "cell_type": "code",
   "execution_count": null,
   "id": "25e468b7",
   "metadata": {},
   "outputs": [],
   "source": []
  }
 ],
 "metadata": {
  "kernelspec": {
   "display_name": "Python 3 (ipykernel)",
   "language": "python",
   "name": "python3"
  },
  "language_info": {
   "codemirror_mode": {
    "name": "ipython",
    "version": 3
   },
   "file_extension": ".py",
   "mimetype": "text/x-python",
   "name": "python",
   "nbconvert_exporter": "python",
   "pygments_lexer": "ipython3",
   "version": "3.10.9"
  }
 },
 "nbformat": 4,
 "nbformat_minor": 5
}
